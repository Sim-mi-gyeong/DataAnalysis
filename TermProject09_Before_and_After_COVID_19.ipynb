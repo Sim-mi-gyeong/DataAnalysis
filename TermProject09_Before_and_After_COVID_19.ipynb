{
  "nbformat": 4,
  "nbformat_minor": 0,
  "metadata": {
    "colab": {
      "name": "TermProject09-Before and After COVID-19.ipynb",
      "provenance": [],
      "collapsed_sections": [],
      "authorship_tag": "ABX9TyN9RGWwIAjGquyIW+ULWSpR",
      "include_colab_link": true
    },
    "kernelspec": {
      "name": "python3",
      "display_name": "Python 3"
    },
    "language_info": {
      "name": "python"
    }
  },
  "cells": [
    {
      "cell_type": "markdown",
      "metadata": {
        "id": "view-in-github",
        "colab_type": "text"
      },
      "source": [
        "<a href=\"https://colab.research.google.com/github/Sim-mi-gyeong/DataAnalysis/blob/main/TermProject09_Before_and_After_COVID_19.ipynb\" target=\"_parent\"><img src=\"https://colab.research.google.com/assets/colab-badge.svg\" alt=\"Open In Colab\"/></a>"
      ]
    },
    {
      "cell_type": "code",
      "metadata": {
        "id": "-ZCJdlCbUUsZ"
      },
      "source": [
        "# 2020년 or 20201년 전후 코로나로 인해 국가별로 증가/감소한 요소가 존재하는가?\n",
        "# -> 이 증가/감소한 요소가 행복지수에 반영이 되었는가?\n",
        "# 특히 동아시아 국가에서"
      ],
      "execution_count": 2,
      "outputs": []
    },
    {
      "cell_type": "code",
      "metadata": {
        "id": "kvpgg1eaLtIN"
      },
      "source": [
        "import numpy as np\n",
        "import pandas as pd\n",
        "import seaborn as sns\n",
        "import matplotlib.pyplot as plt\n",
        "import warnings\n",
        "warnings.filterwarnings(\"ignore\")"
      ],
      "execution_count": 3,
      "outputs": []
    },
    {
      "cell_type": "code",
      "metadata": {
        "colab": {
          "base_uri": "https://localhost:8080/"
        },
        "id": "-1Nan1s8L8i7",
        "outputId": "3294c079-fbe9-4b45-d30b-46d440ee4ac1"
      },
      "source": [
        "from google.colab import drive\n",
        "drive.mount('/content/drive')"
      ],
      "execution_count": 4,
      "outputs": [
        {
          "output_type": "stream",
          "text": [
            "Mounted at /content/drive\n"
          ],
          "name": "stdout"
        }
      ]
    },
    {
      "cell_type": "code",
      "metadata": {
        "id": "TZ4Ko2sFL97k"
      },
      "source": [
        "df2017=pd.read_csv('/content/drive/MyDrive/dataset/2017.csv')\n",
        "df2018=pd.read_csv('/content/drive/MyDrive/dataset/2018.csv')\n",
        "df2019=pd.read_csv('/content/drive/MyDrive/dataset/2019.csv')\n",
        "df2020=pd.read_csv('/content/drive/MyDrive/dataset/2020.csv')\n",
        "df2021=pd.read_csv('/content/drive/MyDrive/dataset/2021.csv')"
      ],
      "execution_count": 5,
      "outputs": []
    },
    {
      "cell_type": "code",
      "metadata": {
        "id": "KKrSic_1MEMk"
      },
      "source": [
        "df2018['Perceptions of corruption']=df2018['Perceptions of corruption'].fillna(df2018['Perceptions of corruption'].mean())"
      ],
      "execution_count": 4,
      "outputs": []
    },
    {
      "cell_type": "code",
      "metadata": {
        "colab": {
          "base_uri": "https://localhost:8080/",
          "height": 660
        },
        "id": "IuK2cf9tNYOy",
        "outputId": "1fe2a7dd-5c9c-4abc-8fe2-01c179d7ff97"
      },
      "source": [
        "df2020"
      ],
      "execution_count": 6,
      "outputs": [
        {
          "output_type": "execute_result",
          "data": {
            "text/html": [
              "<div>\n",
              "<style scoped>\n",
              "    .dataframe tbody tr th:only-of-type {\n",
              "        vertical-align: middle;\n",
              "    }\n",
              "\n",
              "    .dataframe tbody tr th {\n",
              "        vertical-align: top;\n",
              "    }\n",
              "\n",
              "    .dataframe thead th {\n",
              "        text-align: right;\n",
              "    }\n",
              "</style>\n",
              "<table border=\"1\" class=\"dataframe\">\n",
              "  <thead>\n",
              "    <tr style=\"text-align: right;\">\n",
              "      <th></th>\n",
              "      <th>Country</th>\n",
              "      <th>Regional indicator</th>\n",
              "      <th>Score</th>\n",
              "      <th>GDP per capita</th>\n",
              "      <th>Healthy life expectancy</th>\n",
              "      <th>Freedom to make life choices</th>\n",
              "      <th>Generosity</th>\n",
              "      <th>Perceptions of corruption</th>\n",
              "    </tr>\n",
              "  </thead>\n",
              "  <tbody>\n",
              "    <tr>\n",
              "      <th>0</th>\n",
              "      <td>Afghanistan</td>\n",
              "      <td>South Asia</td>\n",
              "      <td>2.5669</td>\n",
              "      <td>2.505530</td>\n",
              "      <td>0.470367</td>\n",
              "      <td>0.525900</td>\n",
              "      <td>0.396573</td>\n",
              "      <td>-0.096429</td>\n",
              "    </tr>\n",
              "    <tr>\n",
              "      <th>1</th>\n",
              "      <td>Albania</td>\n",
              "      <td>Central and Eastern Europe</td>\n",
              "      <td>4.8827</td>\n",
              "      <td>4.772713</td>\n",
              "      <td>0.671070</td>\n",
              "      <td>0.687081</td>\n",
              "      <td>0.781994</td>\n",
              "      <td>-0.042309</td>\n",
              "    </tr>\n",
              "    <tr>\n",
              "      <th>2</th>\n",
              "      <td>Algeria</td>\n",
              "      <td>Middle East and North Africa</td>\n",
              "      <td>5.0051</td>\n",
              "      <td>4.918397</td>\n",
              "      <td>0.803385</td>\n",
              "      <td>0.659052</td>\n",
              "      <td>0.466611</td>\n",
              "      <td>-0.121105</td>\n",
              "    </tr>\n",
              "    <tr>\n",
              "      <th>3</th>\n",
              "      <td>Argentina</td>\n",
              "      <td>Latin America and Caribbean</td>\n",
              "      <td>5.9747</td>\n",
              "      <td>5.869954</td>\n",
              "      <td>0.900568</td>\n",
              "      <td>0.688038</td>\n",
              "      <td>0.831132</td>\n",
              "      <td>-0.194914</td>\n",
              "    </tr>\n",
              "    <tr>\n",
              "      <th>4</th>\n",
              "      <td>Armenia</td>\n",
              "      <td>Commonwealth of Independent States</td>\n",
              "      <td>4.6768</td>\n",
              "      <td>4.561953</td>\n",
              "      <td>0.757479</td>\n",
              "      <td>0.667507</td>\n",
              "      <td>0.712018</td>\n",
              "      <td>-0.138780</td>\n",
              "    </tr>\n",
              "    <tr>\n",
              "      <th>...</th>\n",
              "      <td>...</td>\n",
              "      <td>...</td>\n",
              "      <td>...</td>\n",
              "      <td>...</td>\n",
              "      <td>...</td>\n",
              "      <td>...</td>\n",
              "      <td>...</td>\n",
              "      <td>...</td>\n",
              "    </tr>\n",
              "    <tr>\n",
              "      <th>142</th>\n",
              "      <td>Venezuela</td>\n",
              "      <td>Latin America and Caribbean</td>\n",
              "      <td>5.0532</td>\n",
              "      <td>4.927210</td>\n",
              "      <td>0.890408</td>\n",
              "      <td>0.665053</td>\n",
              "      <td>0.623278</td>\n",
              "      <td>-0.169091</td>\n",
              "    </tr>\n",
              "    <tr>\n",
              "      <th>143</th>\n",
              "      <td>Vietnam</td>\n",
              "      <td>Southeast Asia</td>\n",
              "      <td>5.3535</td>\n",
              "      <td>5.287251</td>\n",
              "      <td>0.849987</td>\n",
              "      <td>0.679527</td>\n",
              "      <td>0.939593</td>\n",
              "      <td>-0.094533</td>\n",
              "    </tr>\n",
              "    <tr>\n",
              "      <th>144</th>\n",
              "      <td>Yemen</td>\n",
              "      <td>Middle East and North Africa</td>\n",
              "      <td>3.5274</td>\n",
              "      <td>3.421250</td>\n",
              "      <td>0.817981</td>\n",
              "      <td>0.567273</td>\n",
              "      <td>0.599920</td>\n",
              "      <td>-0.157735</td>\n",
              "    </tr>\n",
              "    <tr>\n",
              "      <th>145</th>\n",
              "      <td>Zambia</td>\n",
              "      <td>Sub-Saharan Africa</td>\n",
              "      <td>3.7594</td>\n",
              "      <td>3.640474</td>\n",
              "      <td>0.698824</td>\n",
              "      <td>0.552994</td>\n",
              "      <td>0.806500</td>\n",
              "      <td>0.078037</td>\n",
              "    </tr>\n",
              "    <tr>\n",
              "      <th>146</th>\n",
              "      <td>Zimbabwe</td>\n",
              "      <td>Sub-Saharan Africa</td>\n",
              "      <td>3.2992</td>\n",
              "      <td>3.184198</td>\n",
              "      <td>0.763093</td>\n",
              "      <td>0.556173</td>\n",
              "      <td>0.711458</td>\n",
              "      <td>-0.072064</td>\n",
              "    </tr>\n",
              "  </tbody>\n",
              "</table>\n",
              "<p>147 rows × 8 columns</p>\n",
              "</div>"
            ],
            "text/plain": [
              "         Country  ... Perceptions of corruption\n",
              "0    Afghanistan  ...                 -0.096429\n",
              "1        Albania  ...                 -0.042309\n",
              "2        Algeria  ...                 -0.121105\n",
              "3      Argentina  ...                 -0.194914\n",
              "4        Armenia  ...                 -0.138780\n",
              "..           ...  ...                       ...\n",
              "142    Venezuela  ...                 -0.169091\n",
              "143      Vietnam  ...                 -0.094533\n",
              "144        Yemen  ...                 -0.157735\n",
              "145       Zambia  ...                  0.078037\n",
              "146     Zimbabwe  ...                 -0.072064\n",
              "\n",
              "[147 rows x 8 columns]"
            ]
          },
          "metadata": {
            "tags": []
          },
          "execution_count": 6
        }
      ]
    },
    {
      "cell_type": "code",
      "metadata": {
        "id": "HUFmqaN8MHSX"
      },
      "source": [
        "col_list=['Score', 'GDP per capita', 'Healthy life expectancy', 'Freedom to make life choices', 'Generosity', 'Perceptions of corruption']\n",
        "\n",
        "mean2017=df2017[col_list].mean()\n",
        "mean2018=df2018[col_list].mean()\n",
        "mean2019=df2019[col_list].mean()\n",
        "mean2020=df2020[col_list].mean()\n",
        "mean2021=df2021[col_list].mean()\n",
        "\n",
        "# happy20_top10 = df2020.groupby('Country')['Score'].max().sort_values(ascending=False).head(10).reset_index()\n",
        "# df2020.columns_top10 = ['Country','Score']"
      ],
      "execution_count": 8,
      "outputs": []
    },
    {
      "cell_type": "code",
      "metadata": {
        "colab": {
          "base_uri": "https://localhost:8080/",
          "height": 660
        },
        "id": "oquIMhdAMZeA",
        "outputId": "e6c5913f-b36f-442f-a85b-221c811e937e"
      },
      "source": [
        "df2021"
      ],
      "execution_count": 9,
      "outputs": [
        {
          "output_type": "execute_result",
          "data": {
            "text/html": [
              "<div>\n",
              "<style scoped>\n",
              "    .dataframe tbody tr th:only-of-type {\n",
              "        vertical-align: middle;\n",
              "    }\n",
              "\n",
              "    .dataframe tbody tr th {\n",
              "        vertical-align: top;\n",
              "    }\n",
              "\n",
              "    .dataframe thead th {\n",
              "        text-align: right;\n",
              "    }\n",
              "</style>\n",
              "<table border=\"1\" class=\"dataframe\">\n",
              "  <thead>\n",
              "    <tr style=\"text-align: right;\">\n",
              "      <th></th>\n",
              "      <th>Country</th>\n",
              "      <th>Regional indicator</th>\n",
              "      <th>Score</th>\n",
              "      <th>GDP per capita</th>\n",
              "      <th>Healthy life expectancy</th>\n",
              "      <th>Freedom to make life choices</th>\n",
              "      <th>Generosity</th>\n",
              "      <th>Perceptions of corruption</th>\n",
              "    </tr>\n",
              "  </thead>\n",
              "  <tbody>\n",
              "    <tr>\n",
              "      <th>0</th>\n",
              "      <td>Afghanistan</td>\n",
              "      <td>South Asia</td>\n",
              "      <td>2.523</td>\n",
              "      <td>0.370</td>\n",
              "      <td>0.126</td>\n",
              "      <td>0.382</td>\n",
              "      <td>-0.102</td>\n",
              "      <td>0.924</td>\n",
              "    </tr>\n",
              "    <tr>\n",
              "      <th>1</th>\n",
              "      <td>Albania</td>\n",
              "      <td>Central and Eastern Europe</td>\n",
              "      <td>5.117</td>\n",
              "      <td>1.008</td>\n",
              "      <td>0.646</td>\n",
              "      <td>0.785</td>\n",
              "      <td>-0.030</td>\n",
              "      <td>0.901</td>\n",
              "    </tr>\n",
              "    <tr>\n",
              "      <th>2</th>\n",
              "      <td>Algeria</td>\n",
              "      <td>Middle East and North Africa</td>\n",
              "      <td>4.887</td>\n",
              "      <td>0.946</td>\n",
              "      <td>0.552</td>\n",
              "      <td>0.480</td>\n",
              "      <td>-0.067</td>\n",
              "      <td>0.752</td>\n",
              "    </tr>\n",
              "    <tr>\n",
              "      <th>3</th>\n",
              "      <td>Argentina</td>\n",
              "      <td>Latin America and Caribbean</td>\n",
              "      <td>5.929</td>\n",
              "      <td>1.162</td>\n",
              "      <td>0.646</td>\n",
              "      <td>0.828</td>\n",
              "      <td>-0.182</td>\n",
              "      <td>0.834</td>\n",
              "    </tr>\n",
              "    <tr>\n",
              "      <th>4</th>\n",
              "      <td>Armenia</td>\n",
              "      <td>Commonwealth of Independent States</td>\n",
              "      <td>5.283</td>\n",
              "      <td>0.996</td>\n",
              "      <td>0.585</td>\n",
              "      <td>0.825</td>\n",
              "      <td>-0.168</td>\n",
              "      <td>0.629</td>\n",
              "    </tr>\n",
              "    <tr>\n",
              "      <th>...</th>\n",
              "      <td>...</td>\n",
              "      <td>...</td>\n",
              "      <td>...</td>\n",
              "      <td>...</td>\n",
              "      <td>...</td>\n",
              "      <td>...</td>\n",
              "      <td>...</td>\n",
              "      <td>...</td>\n",
              "    </tr>\n",
              "    <tr>\n",
              "      <th>142</th>\n",
              "      <td>Venezuela</td>\n",
              "      <td>Latin America and Caribbean</td>\n",
              "      <td>4.892</td>\n",
              "      <td>0.852</td>\n",
              "      <td>0.574</td>\n",
              "      <td>0.615</td>\n",
              "      <td>-0.169</td>\n",
              "      <td>0.827</td>\n",
              "    </tr>\n",
              "    <tr>\n",
              "      <th>143</th>\n",
              "      <td>Vietnam</td>\n",
              "      <td>Southeast Asia</td>\n",
              "      <td>5.411</td>\n",
              "      <td>0.817</td>\n",
              "      <td>0.616</td>\n",
              "      <td>0.940</td>\n",
              "      <td>-0.098</td>\n",
              "      <td>0.796</td>\n",
              "    </tr>\n",
              "    <tr>\n",
              "      <th>144</th>\n",
              "      <td>Yemen</td>\n",
              "      <td>Middle East and North Africa</td>\n",
              "      <td>3.658</td>\n",
              "      <td>0.329</td>\n",
              "      <td>0.272</td>\n",
              "      <td>0.602</td>\n",
              "      <td>-0.147</td>\n",
              "      <td>0.800</td>\n",
              "    </tr>\n",
              "    <tr>\n",
              "      <th>145</th>\n",
              "      <td>Zambia</td>\n",
              "      <td>Sub-Saharan Africa</td>\n",
              "      <td>4.073</td>\n",
              "      <td>0.528</td>\n",
              "      <td>0.231</td>\n",
              "      <td>0.782</td>\n",
              "      <td>0.061</td>\n",
              "      <td>0.823</td>\n",
              "    </tr>\n",
              "    <tr>\n",
              "      <th>146</th>\n",
              "      <td>Zimbabwe</td>\n",
              "      <td>Sub-Saharan Africa</td>\n",
              "      <td>3.145</td>\n",
              "      <td>0.457</td>\n",
              "      <td>0.243</td>\n",
              "      <td>0.677</td>\n",
              "      <td>-0.047</td>\n",
              "      <td>0.821</td>\n",
              "    </tr>\n",
              "  </tbody>\n",
              "</table>\n",
              "<p>147 rows × 8 columns</p>\n",
              "</div>"
            ],
            "text/plain": [
              "         Country  ... Perceptions of corruption\n",
              "0    Afghanistan  ...                     0.924\n",
              "1        Albania  ...                     0.901\n",
              "2        Algeria  ...                     0.752\n",
              "3      Argentina  ...                     0.834\n",
              "4        Armenia  ...                     0.629\n",
              "..           ...  ...                       ...\n",
              "142    Venezuela  ...                     0.827\n",
              "143      Vietnam  ...                     0.796\n",
              "144        Yemen  ...                     0.800\n",
              "145       Zambia  ...                     0.823\n",
              "146     Zimbabwe  ...                     0.821\n",
              "\n",
              "[147 rows x 8 columns]"
            ]
          },
          "metadata": {
            "tags": []
          },
          "execution_count": 9
        }
      ]
    },
    {
      "cell_type": "code",
      "metadata": {
        "colab": {
          "base_uri": "https://localhost:8080/"
        },
        "id": "b2YHejrTMarr",
        "outputId": "339fc42a-2c32-4b0b-ef56-b591d7dae401"
      },
      "source": [
        "mean2020"
      ],
      "execution_count": 12,
      "outputs": [
        {
          "output_type": "execute_result",
          "data": {
            "text/plain": [
              "Score                           5.511924\n",
              "GDP per capita                  5.410239\n",
              "Healthy life expectancy         0.813198\n",
              "Freedom to make life choices    0.646902\n",
              "Generosity                      0.786465\n",
              "Perceptions of corruption      -0.016532\n",
              "dtype: float64"
            ]
          },
          "metadata": {
            "tags": []
          },
          "execution_count": 12
        }
      ]
    },
    {
      "cell_type": "code",
      "metadata": {
        "colab": {
          "base_uri": "https://localhost:8080/",
          "height": 231
        },
        "id": "wzwe_NdhOuDc",
        "outputId": "2f1d94af-4dce-4bec-b92c-fcf032d31fa8"
      },
      "source": [
        "df_mean=pd.DataFrame(data=[mean2017, mean2018, mean2019, mean2020, mean2021], index=[2017,2018,2019,2020,2021])\n",
        "df_mean"
      ],
      "execution_count": 13,
      "outputs": [
        {
          "output_type": "execute_result",
          "data": {
            "text/html": [
              "<div>\n",
              "<style scoped>\n",
              "    .dataframe tbody tr th:only-of-type {\n",
              "        vertical-align: middle;\n",
              "    }\n",
              "\n",
              "    .dataframe tbody tr th {\n",
              "        vertical-align: top;\n",
              "    }\n",
              "\n",
              "    .dataframe thead th {\n",
              "        text-align: right;\n",
              "    }\n",
              "</style>\n",
              "<table border=\"1\" class=\"dataframe\">\n",
              "  <thead>\n",
              "    <tr style=\"text-align: right;\">\n",
              "      <th></th>\n",
              "      <th>Score</th>\n",
              "      <th>GDP per capita</th>\n",
              "      <th>Healthy life expectancy</th>\n",
              "      <th>Freedom to make life choices</th>\n",
              "      <th>Generosity</th>\n",
              "      <th>Perceptions of corruption</th>\n",
              "    </tr>\n",
              "  </thead>\n",
              "  <tbody>\n",
              "    <tr>\n",
              "      <th>2017</th>\n",
              "      <td>5.383871</td>\n",
              "      <td>0.999573</td>\n",
              "      <td>0.561900</td>\n",
              "      <td>0.409222</td>\n",
              "      <td>0.243393</td>\n",
              "      <td>0.121671</td>\n",
              "    </tr>\n",
              "    <tr>\n",
              "      <th>2018</th>\n",
              "      <td>5.415694</td>\n",
              "      <td>0.907510</td>\n",
              "      <td>0.611143</td>\n",
              "      <td>0.457959</td>\n",
              "      <td>0.178653</td>\n",
              "      <td>0.112240</td>\n",
              "    </tr>\n",
              "    <tr>\n",
              "      <th>2019</th>\n",
              "      <td>5.456469</td>\n",
              "      <td>0.921408</td>\n",
              "      <td>0.739095</td>\n",
              "      <td>0.396728</td>\n",
              "      <td>0.181313</td>\n",
              "      <td>0.110748</td>\n",
              "    </tr>\n",
              "    <tr>\n",
              "      <th>2020</th>\n",
              "      <td>5.511924</td>\n",
              "      <td>5.410239</td>\n",
              "      <td>0.813198</td>\n",
              "      <td>0.646902</td>\n",
              "      <td>0.786465</td>\n",
              "      <td>-0.016532</td>\n",
              "    </tr>\n",
              "    <tr>\n",
              "      <th>2021</th>\n",
              "      <td>5.538054</td>\n",
              "      <td>0.975605</td>\n",
              "      <td>0.518857</td>\n",
              "      <td>0.791449</td>\n",
              "      <td>-0.015762</td>\n",
              "      <td>0.725578</td>\n",
              "    </tr>\n",
              "  </tbody>\n",
              "</table>\n",
              "</div>"
            ],
            "text/plain": [
              "         Score  GDP per capita  ...  Generosity  Perceptions of corruption\n",
              "2017  5.383871        0.999573  ...    0.243393                   0.121671\n",
              "2018  5.415694        0.907510  ...    0.178653                   0.112240\n",
              "2019  5.456469        0.921408  ...    0.181313                   0.110748\n",
              "2020  5.511924        5.410239  ...    0.786465                  -0.016532\n",
              "2021  5.538054        0.975605  ...   -0.015762                   0.725578\n",
              "\n",
              "[5 rows x 6 columns]"
            ]
          },
          "metadata": {
            "tags": []
          },
          "execution_count": 13
        }
      ]
    },
    {
      "cell_type": "code",
      "metadata": {
        "colab": {
          "base_uri": "https://localhost:8080/"
        },
        "id": "NdZ2WPWJO3ST",
        "outputId": "46f7c1bd-0e77-403b-a509-0c5c62321725"
      },
      "source": [
        "mean1719=df_mean[col_list].iloc[:3].mean()\n",
        "mean1719"
      ],
      "execution_count": 52,
      "outputs": [
        {
          "output_type": "execute_result",
          "data": {
            "text/plain": [
              "Score                           5.418678\n",
              "GDP per capita                  0.942830\n",
              "Healthy life expectancy         0.637379\n",
              "Freedom to make life choices    0.421303\n",
              "Generosity                      0.201120\n",
              "Perceptions of corruption       0.114886\n",
              "dtype: float64"
            ]
          },
          "metadata": {
            "tags": []
          },
          "execution_count": 52
        }
      ]
    },
    {
      "cell_type": "code",
      "metadata": {
        "colab": {
          "base_uri": "https://localhost:8080/"
        },
        "id": "PuLMODxBU1vI",
        "outputId": "c2a7109e-9b89-48dc-d540-e68c20d92f15"
      },
      "source": [
        "mean20_21=df_mean[col_list].iloc[4:].mean()\n",
        "mean20_21"
      ],
      "execution_count": 53,
      "outputs": [
        {
          "output_type": "execute_result",
          "data": {
            "text/plain": [
              "Score                           5.538054\n",
              "GDP per capita                  0.975605\n",
              "Healthy life expectancy         0.518857\n",
              "Freedom to make life choices    0.791449\n",
              "Generosity                     -0.015762\n",
              "Perceptions of corruption       0.725578\n",
              "dtype: float64"
            ]
          },
          "metadata": {
            "tags": []
          },
          "execution_count": 53
        }
      ]
    },
    {
      "cell_type": "code",
      "metadata": {
        "colab": {
          "base_uri": "https://localhost:8080/",
          "height": 227
        },
        "id": "LcGX-Y-AVYJW",
        "outputId": "6c3b475b-bcbb-4e7c-db02-da37eedf7988"
      },
      "source": [
        "mean_diff=pd.DataFrame(data=mean2021-mean1719)\n",
        "mean_diff"
      ],
      "execution_count": 65,
      "outputs": [
        {
          "output_type": "execute_result",
          "data": {
            "text/html": [
              "<div>\n",
              "<style scoped>\n",
              "    .dataframe tbody tr th:only-of-type {\n",
              "        vertical-align: middle;\n",
              "    }\n",
              "\n",
              "    .dataframe tbody tr th {\n",
              "        vertical-align: top;\n",
              "    }\n",
              "\n",
              "    .dataframe thead th {\n",
              "        text-align: right;\n",
              "    }\n",
              "</style>\n",
              "<table border=\"1\" class=\"dataframe\">\n",
              "  <thead>\n",
              "    <tr style=\"text-align: right;\">\n",
              "      <th></th>\n",
              "      <th>0</th>\n",
              "    </tr>\n",
              "  </thead>\n",
              "  <tbody>\n",
              "    <tr>\n",
              "      <th>Score</th>\n",
              "      <td>0.119376</td>\n",
              "    </tr>\n",
              "    <tr>\n",
              "      <th>GDP per capita</th>\n",
              "      <td>0.032775</td>\n",
              "    </tr>\n",
              "    <tr>\n",
              "      <th>Healthy life expectancy</th>\n",
              "      <td>-0.118522</td>\n",
              "    </tr>\n",
              "    <tr>\n",
              "      <th>Freedom to make life choices</th>\n",
              "      <td>0.370146</td>\n",
              "    </tr>\n",
              "    <tr>\n",
              "      <th>Generosity</th>\n",
              "      <td>-0.216881</td>\n",
              "    </tr>\n",
              "    <tr>\n",
              "      <th>Perceptions of corruption</th>\n",
              "      <td>0.610692</td>\n",
              "    </tr>\n",
              "  </tbody>\n",
              "</table>\n",
              "</div>"
            ],
            "text/plain": [
              "                                     0\n",
              "Score                         0.119376\n",
              "GDP per capita                0.032775\n",
              "Healthy life expectancy      -0.118522\n",
              "Freedom to make life choices  0.370146\n",
              "Generosity                   -0.216881\n",
              "Perceptions of corruption     0.610692"
            ]
          },
          "metadata": {
            "tags": []
          },
          "execution_count": 65
        }
      ]
    },
    {
      "cell_type": "code",
      "metadata": {
        "colab": {
          "base_uri": "https://localhost:8080/"
        },
        "id": "O0L8hTcI2pOJ",
        "outputId": "57a0917a-dcfa-47fa-84c8-a997a5592d32"
      },
      "source": [
        "mean2021.tolist()"
      ],
      "execution_count": 55,
      "outputs": [
        {
          "output_type": "execute_result",
          "data": {
            "text/plain": [
              "[5.538054421768709,\n",
              " 0.9756054421768708,\n",
              " 0.5188571428571429,\n",
              " 0.7914489795918368,\n",
              " -0.015761904761904758,\n",
              " 0.7255782312925168]"
            ]
          },
          "metadata": {
            "tags": []
          },
          "execution_count": 55
        }
      ]
    },
    {
      "cell_type": "code",
      "metadata": {
        "colab": {
          "base_uri": "https://localhost:8080/"
        },
        "id": "sEcCtvdv3k4P",
        "outputId": "961bbf6a-a8c6-4879-f6a4-fd910a6933ba"
      },
      "source": [
        "col_list"
      ],
      "execution_count": 56,
      "outputs": [
        {
          "output_type": "execute_result",
          "data": {
            "text/plain": [
              "['Score',\n",
              " 'GDP per capita',\n",
              " 'Healthy life expectancy',\n",
              " 'Freedom to make life choices',\n",
              " 'Generosity',\n",
              " 'Perceptions of corruption']"
            ]
          },
          "metadata": {
            "tags": []
          },
          "execution_count": 56
        }
      ]
    },
    {
      "cell_type": "code",
      "metadata": {
        "colab": {
          "base_uri": "https://localhost:8080/",
          "height": 418
        },
        "id": "sfyST9cB2sLW",
        "outputId": "0defac54-3012-4676-b1a7-d189ed3597a0"
      },
      "source": [
        "fig, ax=plt.subplots()\n",
        "\n",
        "width = 0.35\n",
        "index=np.arange(len(col_list))\n",
        "\n",
        "p1=ax.bar(index-width/2, mean1719.tolist(), width, label='17-19')\n",
        "p2=ax.bar(index+width/2, mean2021.tolist(), width, label='20-21')\n",
        "ax.set_xticks(index)\n",
        "ax.set_xticklabels(col_list)\n",
        "plt.xticks(rotation='vertical')\n",
        "\n",
        "ax.legend()"
      ],
      "execution_count": 64,
      "outputs": [
        {
          "output_type": "execute_result",
          "data": {
            "text/plain": [
              "<matplotlib.legend.Legend at 0x7fadb2ea74d0>"
            ]
          },
          "metadata": {
            "tags": []
          },
          "execution_count": 64
        },
        {
          "output_type": "display_data",
          "data": {
            "image/png": "[encoded data removed]",
            "text/plain": [
              "<Figure size 432x288 with 1 Axes>"
            ]
          },
          "metadata": {
            "tags": [],
            "needs_background": "light"
          }
        }
      ]
    },
    {
      "cell_type": "code",
      "metadata": {
        "colab": {
          "base_uri": "https://localhost:8080/",
          "height": 418
        },
        "id": "Yw3vZVKQdHaX",
        "outputId": "e5c6d73c-fb7f-4167-9b18-869190d2f037"
      },
      "source": [
        "fig = plt.figure(figsize=(6,4))\n",
        "\n",
        "plt.plot(mean_diff)\n",
        "plt.xticks(rotation='vertical')"
      ],
      "execution_count": 67,
      "outputs": [
        {
          "output_type": "execute_result",
          "data": {
            "text/plain": [
              "([0, 1, 2, 3, 4, 5], <a list of 6 Text major ticklabel objects>)"
            ]
          },
          "metadata": {
            "tags": []
          },
          "execution_count": 67
        },
        {
          "output_type": "display_data",
          "data": {
            "image/png": "[encoded data removed]",
            "text/plain": [
              "<Figure size 432x288 with 1 Axes>"
            ]
          },
          "metadata": {
            "tags": [],
            "needs_background": "light"
          }
        }
      ]
    },
    {
      "cell_type": "code",
      "metadata": {
        "colab": {
          "base_uri": "https://localhost:8080/",
          "height": 227
        },
        "id": "wIIN_JuyVnwo",
        "outputId": "e212f95e-24a2-4368-a9c3-813ddef33cda"
      },
      "source": [
        "mean_diff=pd.DataFrame(data=mean_diff, columns=['difference'])\n",
        "mean_diff"
      ],
      "execution_count": 19,
      "outputs": [
        {
          "output_type": "execute_result",
          "data": {
            "text/html": [
              "<div>\n",
              "<style scoped>\n",
              "    .dataframe tbody tr th:only-of-type {\n",
              "        vertical-align: middle;\n",
              "    }\n",
              "\n",
              "    .dataframe tbody tr th {\n",
              "        vertical-align: top;\n",
              "    }\n",
              "\n",
              "    .dataframe thead th {\n",
              "        text-align: right;\n",
              "    }\n",
              "</style>\n",
              "<table border=\"1\" class=\"dataframe\">\n",
              "  <thead>\n",
              "    <tr style=\"text-align: right;\">\n",
              "      <th></th>\n",
              "      <th>difference</th>\n",
              "    </tr>\n",
              "  </thead>\n",
              "  <tbody>\n",
              "    <tr>\n",
              "      <th>Score</th>\n",
              "      <td>NaN</td>\n",
              "    </tr>\n",
              "    <tr>\n",
              "      <th>GDP per capita</th>\n",
              "      <td>NaN</td>\n",
              "    </tr>\n",
              "    <tr>\n",
              "      <th>Healthy life expectancy</th>\n",
              "      <td>NaN</td>\n",
              "    </tr>\n",
              "    <tr>\n",
              "      <th>Freedom to make life choices</th>\n",
              "      <td>NaN</td>\n",
              "    </tr>\n",
              "    <tr>\n",
              "      <th>Generosity</th>\n",
              "      <td>NaN</td>\n",
              "    </tr>\n",
              "    <tr>\n",
              "      <th>Perceptions of corruption</th>\n",
              "      <td>NaN</td>\n",
              "    </tr>\n",
              "  </tbody>\n",
              "</table>\n",
              "</div>"
            ],
            "text/plain": [
              "                              difference\n",
              "Score                                NaN\n",
              "GDP per capita                       NaN\n",
              "Healthy life expectancy              NaN\n",
              "Freedom to make life choices         NaN\n",
              "Generosity                           NaN\n",
              "Perceptions of corruption            NaN"
            ]
          },
          "metadata": {
            "tags": []
          },
          "execution_count": 19
        }
      ]
    },
    {
      "cell_type": "code",
      "metadata": {
        "id": "5Y0zgaD1V0wT"
      },
      "source": [
        ""
      ],
      "execution_count": null,
      "outputs": []
    }
  ]
}