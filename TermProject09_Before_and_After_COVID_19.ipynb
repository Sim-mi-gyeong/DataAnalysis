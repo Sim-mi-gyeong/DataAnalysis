{
  "nbformat": 4,
  "nbformat_minor": 0,
  "metadata": {
    "colab": {
      "name": "TermProject09-Before and After COVID-19.ipynb",
      "provenance": [],
      "collapsed_sections": [],
      "authorship_tag": "ABX9TyPz3LqsTJEjBnreX4Qu7dVP",
      "include_colab_link": true
    },
    "kernelspec": {
      "name": "python3",
      "display_name": "Python 3"
    },
    "language_info": {
      "name": "python"
    }
  },
  "cells": [
    {
      "cell_type": "markdown",
      "metadata": {
        "id": "view-in-github",
        "colab_type": "text"
      },
      "source": [
        "<a href=\"https://colab.research.google.com/github/Sim-mi-gyeong/DataAnalysis/blob/main/TermProject09_Before_and_After_COVID_19.ipynb\" target=\"_parent\"><img src=\"https://colab.research.google.com/assets/colab-badge.svg\" alt=\"Open In Colab\"/></a>"
      ]
    },
    {
      "cell_type": "code",
      "metadata": {
        "id": "-ZCJdlCbUUsZ"
      },
      "source": [
        "# 2020년 or 20201년 전후 코로나로 인해 국가별로 증가/감소한 요소가 존재하는가?\n",
        "# -> 이 증가/감소한 요소가 행복지수에 반영이 되었는가?\n",
        "# 특히 동아시아 국가에서"
      ],
      "execution_count": 2,
      "outputs": []
    },
    {
      "cell_type": "code",
      "metadata": {
        "id": "kvpgg1eaLtIN"
      },
      "source": [
        "import numpy as np\n",
        "import pandas as pd\n",
        "import seaborn as sns\n",
        "import matplotlib.pyplot as plt\n",
        "import warnings\n",
        "warnings.filterwarnings(\"ignore\")"
      ],
      "execution_count": 3,
      "outputs": []
    },
    {
      "cell_type": "code",
      "metadata": {
        "colab": {
          "base_uri": "https://localhost:8080/"
        },
        "id": "-1Nan1s8L8i7",
        "outputId": "a9a20526-2cfa-4cb5-e3d7-eb15cadc4fb3"
      },
      "source": [
        "from google.colab import drive\n",
        "drive.mount('/content/drive')"
      ],
      "execution_count": 5,
      "outputs": [
        {
          "output_type": "stream",
          "text": [
            "Mounted at /content/drive\n"
          ],
          "name": "stdout"
        }
      ]
    },
    {
      "cell_type": "code",
      "metadata": {
        "id": "TZ4Ko2sFL97k"
      },
      "source": [
        "df2017=pd.read_csv('/content/drive/MyDrive/dataset/2017.csv')\n",
        "df2018=pd.read_csv('/content/drive/MyDrive/dataset/2018.csv')\n",
        "df2019=pd.read_csv('/content/drive/MyDrive/dataset/2019.csv')\n",
        "df2020=pd.read_csv('/content/drive/MyDrive/dataset/2020.csv')\n",
        "df2021=pd.read_csv('/content/drive/MyDrive/dataset/2021.csv')"
      ],
      "execution_count": 88,
      "outputs": []
    },
    {
      "cell_type": "code",
      "metadata": {
        "id": "KKrSic_1MEMk"
      },
      "source": [
        "df2018['Perceptions of corruption']=df2018['Perceptions of corruption'].fillna(df2018['Perceptions of corruption'].mean())"
      ],
      "execution_count": 71,
      "outputs": []
    },
    {
      "cell_type": "code",
      "metadata": {
        "colab": {
          "base_uri": "https://localhost:8080/",
          "height": 407
        },
        "id": "IuK2cf9tNYOy",
        "outputId": "a25dea76-a14b-4cd7-b444-a2d5a9538099"
      },
      "source": [
        "df2020"
      ],
      "execution_count": 72,
      "outputs": [
        {
          "output_type": "execute_result",
          "data": {
            "text/html": [
              "<div>\n",
              "<style scoped>\n",
              "    .dataframe tbody tr th:only-of-type {\n",
              "        vertical-align: middle;\n",
              "    }\n",
              "\n",
              "    .dataframe tbody tr th {\n",
              "        vertical-align: top;\n",
              "    }\n",
              "\n",
              "    .dataframe thead th {\n",
              "        text-align: right;\n",
              "    }\n",
              "</style>\n",
              "<table border=\"1\" class=\"dataframe\">\n",
              "  <thead>\n",
              "    <tr style=\"text-align: right;\">\n",
              "      <th></th>\n",
              "      <th>Country</th>\n",
              "      <th>Regional indicator</th>\n",
              "      <th>Score</th>\n",
              "      <th>GDP per capita</th>\n",
              "      <th>Healthy life expectancy</th>\n",
              "      <th>Freedom to make life choices</th>\n",
              "      <th>Generosity</th>\n",
              "      <th>Perceptions of corruption</th>\n",
              "    </tr>\n",
              "  </thead>\n",
              "  <tbody>\n",
              "    <tr>\n",
              "      <th>0</th>\n",
              "      <td>Afghanistan</td>\n",
              "      <td>South Asia</td>\n",
              "      <td>2.5669</td>\n",
              "      <td>2.505530</td>\n",
              "      <td>0.470367</td>\n",
              "      <td>0.525900</td>\n",
              "      <td>0.396573</td>\n",
              "      <td>-0.096429</td>\n",
              "    </tr>\n",
              "    <tr>\n",
              "      <th>1</th>\n",
              "      <td>Albania</td>\n",
              "      <td>Central and Eastern Europe</td>\n",
              "      <td>4.8827</td>\n",
              "      <td>4.772713</td>\n",
              "      <td>0.671070</td>\n",
              "      <td>0.687081</td>\n",
              "      <td>0.781994</td>\n",
              "      <td>-0.042309</td>\n",
              "    </tr>\n",
              "    <tr>\n",
              "      <th>2</th>\n",
              "      <td>Algeria</td>\n",
              "      <td>Middle East and North Africa</td>\n",
              "      <td>5.0051</td>\n",
              "      <td>4.918397</td>\n",
              "      <td>0.803385</td>\n",
              "      <td>0.659052</td>\n",
              "      <td>0.466611</td>\n",
              "      <td>-0.121105</td>\n",
              "    </tr>\n",
              "    <tr>\n",
              "      <th>3</th>\n",
              "      <td>Argentina</td>\n",
              "      <td>Latin America and Caribbean</td>\n",
              "      <td>5.9747</td>\n",
              "      <td>5.869954</td>\n",
              "      <td>0.900568</td>\n",
              "      <td>0.688038</td>\n",
              "      <td>0.831132</td>\n",
              "      <td>-0.194914</td>\n",
              "    </tr>\n",
              "    <tr>\n",
              "      <th>4</th>\n",
              "      <td>Armenia</td>\n",
              "      <td>Commonwealth of Independent States</td>\n",
              "      <td>4.6768</td>\n",
              "      <td>4.561953</td>\n",
              "      <td>0.757479</td>\n",
              "      <td>0.667507</td>\n",
              "      <td>0.712018</td>\n",
              "      <td>-0.138780</td>\n",
              "    </tr>\n",
              "    <tr>\n",
              "      <th>...</th>\n",
              "      <td>...</td>\n",
              "      <td>...</td>\n",
              "      <td>...</td>\n",
              "      <td>...</td>\n",
              "      <td>...</td>\n",
              "      <td>...</td>\n",
              "      <td>...</td>\n",
              "      <td>...</td>\n",
              "    </tr>\n",
              "    <tr>\n",
              "      <th>142</th>\n",
              "      <td>Venezuela</td>\n",
              "      <td>Latin America and Caribbean</td>\n",
              "      <td>5.0532</td>\n",
              "      <td>4.927210</td>\n",
              "      <td>0.890408</td>\n",
              "      <td>0.665053</td>\n",
              "      <td>0.623278</td>\n",
              "      <td>-0.169091</td>\n",
              "    </tr>\n",
              "    <tr>\n",
              "      <th>143</th>\n",
              "      <td>Vietnam</td>\n",
              "      <td>Southeast Asia</td>\n",
              "      <td>5.3535</td>\n",
              "      <td>5.287251</td>\n",
              "      <td>0.849987</td>\n",
              "      <td>0.679527</td>\n",
              "      <td>0.939593</td>\n",
              "      <td>-0.094533</td>\n",
              "    </tr>\n",
              "    <tr>\n",
              "      <th>144</th>\n",
              "      <td>Yemen</td>\n",
              "      <td>Middle East and North Africa</td>\n",
              "      <td>3.5274</td>\n",
              "      <td>3.421250</td>\n",
              "      <td>0.817981</td>\n",
              "      <td>0.567273</td>\n",
              "      <td>0.599920</td>\n",
              "      <td>-0.157735</td>\n",
              "    </tr>\n",
              "    <tr>\n",
              "      <th>145</th>\n",
              "      <td>Zambia</td>\n",
              "      <td>Sub-Saharan Africa</td>\n",
              "      <td>3.7594</td>\n",
              "      <td>3.640474</td>\n",
              "      <td>0.698824</td>\n",
              "      <td>0.552994</td>\n",
              "      <td>0.806500</td>\n",
              "      <td>0.078037</td>\n",
              "    </tr>\n",
              "    <tr>\n",
              "      <th>146</th>\n",
              "      <td>Zimbabwe</td>\n",
              "      <td>Sub-Saharan Africa</td>\n",
              "      <td>3.2992</td>\n",
              "      <td>3.184198</td>\n",
              "      <td>0.763093</td>\n",
              "      <td>0.556173</td>\n",
              "      <td>0.711458</td>\n",
              "      <td>-0.072064</td>\n",
              "    </tr>\n",
              "  </tbody>\n",
              "</table>\n",
              "<p>147 rows × 8 columns</p>\n",
              "</div>"
            ],
            "text/plain": [
              "         Country  ... Perceptions of corruption\n",
              "0    Afghanistan  ...                 -0.096429\n",
              "1        Albania  ...                 -0.042309\n",
              "2        Algeria  ...                 -0.121105\n",
              "3      Argentina  ...                 -0.194914\n",
              "4        Armenia  ...                 -0.138780\n",
              "..           ...  ...                       ...\n",
              "142    Venezuela  ...                 -0.169091\n",
              "143      Vietnam  ...                 -0.094533\n",
              "144        Yemen  ...                 -0.157735\n",
              "145       Zambia  ...                  0.078037\n",
              "146     Zimbabwe  ...                 -0.072064\n",
              "\n",
              "[147 rows x 8 columns]"
            ]
          },
          "metadata": {
            "tags": []
          },
          "execution_count": 72
        }
      ]
    },
    {
      "cell_type": "code",
      "metadata": {
        "id": "HUFmqaN8MHSX"
      },
      "source": [
        "col_list=['Score', 'GDP per capita', 'Healthy life expectancy', 'Freedom to make life choices', 'Generosity', 'Perceptions of corruption']\n",
        "\n",
        "mean2017=df2017[col_list].mean()\n",
        "mean2018=df2018[col_list].mean()\n",
        "mean2019=df2019[col_list].mean()\n",
        "mean2020=df2020[col_list].mean()\n",
        "mean2021=df2021[col_list].mean()\n",
        "\n",
        "# happy20_top10 = df2020.groupby('Country')['Score'].max().sort_values(ascending=False).head(10).reset_index()\n",
        "# df2020.columns_top10 = ['Country','Score']"
      ],
      "execution_count": 73,
      "outputs": []
    },
    {
      "cell_type": "code",
      "metadata": {
        "colab": {
          "base_uri": "https://localhost:8080/",
          "height": 407
        },
        "id": "oquIMhdAMZeA",
        "outputId": "ec0082ff-6f6c-43a9-d7a2-1d7b2eeb7827"
      },
      "source": [
        "df2021"
      ],
      "execution_count": 74,
      "outputs": [
        {
          "output_type": "execute_result",
          "data": {
            "text/html": [
              "<div>\n",
              "<style scoped>\n",
              "    .dataframe tbody tr th:only-of-type {\n",
              "        vertical-align: middle;\n",
              "    }\n",
              "\n",
              "    .dataframe tbody tr th {\n",
              "        vertical-align: top;\n",
              "    }\n",
              "\n",
              "    .dataframe thead th {\n",
              "        text-align: right;\n",
              "    }\n",
              "</style>\n",
              "<table border=\"1\" class=\"dataframe\">\n",
              "  <thead>\n",
              "    <tr style=\"text-align: right;\">\n",
              "      <th></th>\n",
              "      <th>Country</th>\n",
              "      <th>Regional indicator</th>\n",
              "      <th>Score</th>\n",
              "      <th>GDP per capita</th>\n",
              "      <th>Healthy life expectancy</th>\n",
              "      <th>Freedom to make life choices</th>\n",
              "      <th>Generosity</th>\n",
              "      <th>Perceptions of corruption</th>\n",
              "    </tr>\n",
              "  </thead>\n",
              "  <tbody>\n",
              "    <tr>\n",
              "      <th>0</th>\n",
              "      <td>Afghanistan</td>\n",
              "      <td>South Asia</td>\n",
              "      <td>2.523</td>\n",
              "      <td>0.370</td>\n",
              "      <td>0.126</td>\n",
              "      <td>0.382</td>\n",
              "      <td>-0.102</td>\n",
              "      <td>0.924</td>\n",
              "    </tr>\n",
              "    <tr>\n",
              "      <th>1</th>\n",
              "      <td>Albania</td>\n",
              "      <td>Central and Eastern Europe</td>\n",
              "      <td>5.117</td>\n",
              "      <td>1.008</td>\n",
              "      <td>0.646</td>\n",
              "      <td>0.785</td>\n",
              "      <td>-0.030</td>\n",
              "      <td>0.901</td>\n",
              "    </tr>\n",
              "    <tr>\n",
              "      <th>2</th>\n",
              "      <td>Algeria</td>\n",
              "      <td>Middle East and North Africa</td>\n",
              "      <td>4.887</td>\n",
              "      <td>0.946</td>\n",
              "      <td>0.552</td>\n",
              "      <td>0.480</td>\n",
              "      <td>-0.067</td>\n",
              "      <td>0.752</td>\n",
              "    </tr>\n",
              "    <tr>\n",
              "      <th>3</th>\n",
              "      <td>Argentina</td>\n",
              "      <td>Latin America and Caribbean</td>\n",
              "      <td>5.929</td>\n",
              "      <td>1.162</td>\n",
              "      <td>0.646</td>\n",
              "      <td>0.828</td>\n",
              "      <td>-0.182</td>\n",
              "      <td>0.834</td>\n",
              "    </tr>\n",
              "    <tr>\n",
              "      <th>4</th>\n",
              "      <td>Armenia</td>\n",
              "      <td>Commonwealth of Independent States</td>\n",
              "      <td>5.283</td>\n",
              "      <td>0.996</td>\n",
              "      <td>0.585</td>\n",
              "      <td>0.825</td>\n",
              "      <td>-0.168</td>\n",
              "      <td>0.629</td>\n",
              "    </tr>\n",
              "    <tr>\n",
              "      <th>...</th>\n",
              "      <td>...</td>\n",
              "      <td>...</td>\n",
              "      <td>...</td>\n",
              "      <td>...</td>\n",
              "      <td>...</td>\n",
              "      <td>...</td>\n",
              "      <td>...</td>\n",
              "      <td>...</td>\n",
              "    </tr>\n",
              "    <tr>\n",
              "      <th>142</th>\n",
              "      <td>Venezuela</td>\n",
              "      <td>Latin America and Caribbean</td>\n",
              "      <td>4.892</td>\n",
              "      <td>0.852</td>\n",
              "      <td>0.574</td>\n",
              "      <td>0.615</td>\n",
              "      <td>-0.169</td>\n",
              "      <td>0.827</td>\n",
              "    </tr>\n",
              "    <tr>\n",
              "      <th>143</th>\n",
              "      <td>Vietnam</td>\n",
              "      <td>Southeast Asia</td>\n",
              "      <td>5.411</td>\n",
              "      <td>0.817</td>\n",
              "      <td>0.616</td>\n",
              "      <td>0.940</td>\n",
              "      <td>-0.098</td>\n",
              "      <td>0.796</td>\n",
              "    </tr>\n",
              "    <tr>\n",
              "      <th>144</th>\n",
              "      <td>Yemen</td>\n",
              "      <td>Middle East and North Africa</td>\n",
              "      <td>3.658</td>\n",
              "      <td>0.329</td>\n",
              "      <td>0.272</td>\n",
              "      <td>0.602</td>\n",
              "      <td>-0.147</td>\n",
              "      <td>0.800</td>\n",
              "    </tr>\n",
              "    <tr>\n",
              "      <th>145</th>\n",
              "      <td>Zambia</td>\n",
              "      <td>Sub-Saharan Africa</td>\n",
              "      <td>4.073</td>\n",
              "      <td>0.528</td>\n",
              "      <td>0.231</td>\n",
              "      <td>0.782</td>\n",
              "      <td>0.061</td>\n",
              "      <td>0.823</td>\n",
              "    </tr>\n",
              "    <tr>\n",
              "      <th>146</th>\n",
              "      <td>Zimbabwe</td>\n",
              "      <td>Sub-Saharan Africa</td>\n",
              "      <td>3.145</td>\n",
              "      <td>0.457</td>\n",
              "      <td>0.243</td>\n",
              "      <td>0.677</td>\n",
              "      <td>-0.047</td>\n",
              "      <td>0.821</td>\n",
              "    </tr>\n",
              "  </tbody>\n",
              "</table>\n",
              "<p>147 rows × 8 columns</p>\n",
              "</div>"
            ],
            "text/plain": [
              "         Country  ... Perceptions of corruption\n",
              "0    Afghanistan  ...                     0.924\n",
              "1        Albania  ...                     0.901\n",
              "2        Algeria  ...                     0.752\n",
              "3      Argentina  ...                     0.834\n",
              "4        Armenia  ...                     0.629\n",
              "..           ...  ...                       ...\n",
              "142    Venezuela  ...                     0.827\n",
              "143      Vietnam  ...                     0.796\n",
              "144        Yemen  ...                     0.800\n",
              "145       Zambia  ...                     0.823\n",
              "146     Zimbabwe  ...                     0.821\n",
              "\n",
              "[147 rows x 8 columns]"
            ]
          },
          "metadata": {
            "tags": []
          },
          "execution_count": 74
        }
      ]
    },
    {
      "cell_type": "code",
      "metadata": {
        "colab": {
          "base_uri": "https://localhost:8080/"
        },
        "id": "b2YHejrTMarr",
        "outputId": "211b7b92-6504-436e-ddf4-64df86cf449f"
      },
      "source": [
        "mean2020"
      ],
      "execution_count": 75,
      "outputs": [
        {
          "output_type": "execute_result",
          "data": {
            "text/plain": [
              "Score                           5.511924\n",
              "GDP per capita                  5.410239\n",
              "Healthy life expectancy         0.813198\n",
              "Freedom to make life choices    0.646902\n",
              "Generosity                      0.786465\n",
              "Perceptions of corruption      -0.016532\n",
              "dtype: float64"
            ]
          },
          "metadata": {
            "tags": []
          },
          "execution_count": 75
        }
      ]
    },
    {
      "cell_type": "code",
      "metadata": {
        "colab": {
          "base_uri": "https://localhost:8080/",
          "height": 231
        },
        "id": "wzwe_NdhOuDc",
        "outputId": "08596118-b907-41a4-ccc0-ca73b9c6ec71"
      },
      "source": [
        "df_mean=pd.DataFrame(data=[mean2017, mean2018, mean2019, mean2020, mean2021], index=[2017,2018,2019,2020,2021])\n",
        "df_mean"
      ],
      "execution_count": 76,
      "outputs": [
        {
          "output_type": "execute_result",
          "data": {
            "text/html": [
              "<div>\n",
              "<style scoped>\n",
              "    .dataframe tbody tr th:only-of-type {\n",
              "        vertical-align: middle;\n",
              "    }\n",
              "\n",
              "    .dataframe tbody tr th {\n",
              "        vertical-align: top;\n",
              "    }\n",
              "\n",
              "    .dataframe thead th {\n",
              "        text-align: right;\n",
              "    }\n",
              "</style>\n",
              "<table border=\"1\" class=\"dataframe\">\n",
              "  <thead>\n",
              "    <tr style=\"text-align: right;\">\n",
              "      <th></th>\n",
              "      <th>Score</th>\n",
              "      <th>GDP per capita</th>\n",
              "      <th>Healthy life expectancy</th>\n",
              "      <th>Freedom to make life choices</th>\n",
              "      <th>Generosity</th>\n",
              "      <th>Perceptions of corruption</th>\n",
              "    </tr>\n",
              "  </thead>\n",
              "  <tbody>\n",
              "    <tr>\n",
              "      <th>2017</th>\n",
              "      <td>5.383871</td>\n",
              "      <td>0.999573</td>\n",
              "      <td>0.561900</td>\n",
              "      <td>0.409222</td>\n",
              "      <td>0.243393</td>\n",
              "      <td>0.121671</td>\n",
              "    </tr>\n",
              "    <tr>\n",
              "      <th>2018</th>\n",
              "      <td>5.415694</td>\n",
              "      <td>0.907510</td>\n",
              "      <td>0.611143</td>\n",
              "      <td>0.457959</td>\n",
              "      <td>0.178653</td>\n",
              "      <td>0.112240</td>\n",
              "    </tr>\n",
              "    <tr>\n",
              "      <th>2019</th>\n",
              "      <td>5.456469</td>\n",
              "      <td>0.921408</td>\n",
              "      <td>0.739095</td>\n",
              "      <td>0.396728</td>\n",
              "      <td>0.181313</td>\n",
              "      <td>0.110748</td>\n",
              "    </tr>\n",
              "    <tr>\n",
              "      <th>2020</th>\n",
              "      <td>5.511924</td>\n",
              "      <td>5.410239</td>\n",
              "      <td>0.813198</td>\n",
              "      <td>0.646902</td>\n",
              "      <td>0.786465</td>\n",
              "      <td>-0.016532</td>\n",
              "    </tr>\n",
              "    <tr>\n",
              "      <th>2021</th>\n",
              "      <td>5.538054</td>\n",
              "      <td>0.975605</td>\n",
              "      <td>0.518857</td>\n",
              "      <td>0.791449</td>\n",
              "      <td>-0.015762</td>\n",
              "      <td>0.725578</td>\n",
              "    </tr>\n",
              "  </tbody>\n",
              "</table>\n",
              "</div>"
            ],
            "text/plain": [
              "         Score  GDP per capita  ...  Generosity  Perceptions of corruption\n",
              "2017  5.383871        0.999573  ...    0.243393                   0.121671\n",
              "2018  5.415694        0.907510  ...    0.178653                   0.112240\n",
              "2019  5.456469        0.921408  ...    0.181313                   0.110748\n",
              "2020  5.511924        5.410239  ...    0.786465                  -0.016532\n",
              "2021  5.538054        0.975605  ...   -0.015762                   0.725578\n",
              "\n",
              "[5 rows x 6 columns]"
            ]
          },
          "metadata": {
            "tags": []
          },
          "execution_count": 76
        }
      ]
    },
    {
      "cell_type": "code",
      "metadata": {
        "colab": {
          "base_uri": "https://localhost:8080/"
        },
        "id": "NdZ2WPWJO3ST",
        "outputId": "2ba7fe7f-a5e4-4fd1-833e-bd38ddd27af6"
      },
      "source": [
        "mean1719=df_mean[col_list].iloc[:3].mean()\n",
        "mean1719"
      ],
      "execution_count": 77,
      "outputs": [
        {
          "output_type": "execute_result",
          "data": {
            "text/plain": [
              "Score                           5.418678\n",
              "GDP per capita                  0.942830\n",
              "Healthy life expectancy         0.637379\n",
              "Freedom to make life choices    0.421303\n",
              "Generosity                      0.201120\n",
              "Perceptions of corruption       0.114886\n",
              "dtype: float64"
            ]
          },
          "metadata": {
            "tags": []
          },
          "execution_count": 77
        }
      ]
    },
    {
      "cell_type": "code",
      "metadata": {
        "colab": {
          "base_uri": "https://localhost:8080/"
        },
        "id": "PuLMODxBU1vI",
        "outputId": "ffa2ac66-4a28-42dc-d158-9c19cc3320ba"
      },
      "source": [
        "mean20_21=df_mean[col_list].iloc[4:].mean()\n",
        "mean20_21"
      ],
      "execution_count": 78,
      "outputs": [
        {
          "output_type": "execute_result",
          "data": {
            "text/plain": [
              "Score                           5.538054\n",
              "GDP per capita                  0.975605\n",
              "Healthy life expectancy         0.518857\n",
              "Freedom to make life choices    0.791449\n",
              "Generosity                     -0.015762\n",
              "Perceptions of corruption       0.725578\n",
              "dtype: float64"
            ]
          },
          "metadata": {
            "tags": []
          },
          "execution_count": 78
        }
      ]
    },
    {
      "cell_type": "code",
      "metadata": {
        "colab": {
          "base_uri": "https://localhost:8080/",
          "height": 227
        },
        "id": "LcGX-Y-AVYJW",
        "outputId": "7e535b7b-e6ab-4d1a-e06b-6df237757db6"
      },
      "source": [
        "mean_diff=pd.DataFrame(data=mean2021-mean1719)\n",
        "mean_diff"
      ],
      "execution_count": 79,
      "outputs": [
        {
          "output_type": "execute_result",
          "data": {
            "text/html": [
              "<div>\n",
              "<style scoped>\n",
              "    .dataframe tbody tr th:only-of-type {\n",
              "        vertical-align: middle;\n",
              "    }\n",
              "\n",
              "    .dataframe tbody tr th {\n",
              "        vertical-align: top;\n",
              "    }\n",
              "\n",
              "    .dataframe thead th {\n",
              "        text-align: right;\n",
              "    }\n",
              "</style>\n",
              "<table border=\"1\" class=\"dataframe\">\n",
              "  <thead>\n",
              "    <tr style=\"text-align: right;\">\n",
              "      <th></th>\n",
              "      <th>0</th>\n",
              "    </tr>\n",
              "  </thead>\n",
              "  <tbody>\n",
              "    <tr>\n",
              "      <th>Score</th>\n",
              "      <td>0.119376</td>\n",
              "    </tr>\n",
              "    <tr>\n",
              "      <th>GDP per capita</th>\n",
              "      <td>0.032775</td>\n",
              "    </tr>\n",
              "    <tr>\n",
              "      <th>Healthy life expectancy</th>\n",
              "      <td>-0.118522</td>\n",
              "    </tr>\n",
              "    <tr>\n",
              "      <th>Freedom to make life choices</th>\n",
              "      <td>0.370146</td>\n",
              "    </tr>\n",
              "    <tr>\n",
              "      <th>Generosity</th>\n",
              "      <td>-0.216881</td>\n",
              "    </tr>\n",
              "    <tr>\n",
              "      <th>Perceptions of corruption</th>\n",
              "      <td>0.610692</td>\n",
              "    </tr>\n",
              "  </tbody>\n",
              "</table>\n",
              "</div>"
            ],
            "text/plain": [
              "                                     0\n",
              "Score                         0.119376\n",
              "GDP per capita                0.032775\n",
              "Healthy life expectancy      -0.118522\n",
              "Freedom to make life choices  0.370146\n",
              "Generosity                   -0.216881\n",
              "Perceptions of corruption     0.610692"
            ]
          },
          "metadata": {
            "tags": []
          },
          "execution_count": 79
        }
      ]
    },
    {
      "cell_type": "code",
      "metadata": {
        "colab": {
          "base_uri": "https://localhost:8080/"
        },
        "id": "O0L8hTcI2pOJ",
        "outputId": "47bf4279-d430-49e5-c252-18af570d88a4"
      },
      "source": [
        "mean2021.tolist()"
      ],
      "execution_count": 80,
      "outputs": [
        {
          "output_type": "execute_result",
          "data": {
            "text/plain": [
              "[5.538054421768709,\n",
              " 0.9756054421768708,\n",
              " 0.5188571428571429,\n",
              " 0.7914489795918368,\n",
              " -0.015761904761904758,\n",
              " 0.7255782312925168]"
            ]
          },
          "metadata": {
            "tags": []
          },
          "execution_count": 80
        }
      ]
    },
    {
      "cell_type": "code",
      "metadata": {
        "colab": {
          "base_uri": "https://localhost:8080/"
        },
        "id": "sEcCtvdv3k4P",
        "outputId": "3e3477b6-564b-4495-d712-59fa411b6ae5"
      },
      "source": [
        "col_list"
      ],
      "execution_count": 81,
      "outputs": [
        {
          "output_type": "execute_result",
          "data": {
            "text/plain": [
              "['Score',\n",
              " 'GDP per capita',\n",
              " 'Healthy life expectancy',\n",
              " 'Freedom to make life choices',\n",
              " 'Generosity',\n",
              " 'Perceptions of corruption']"
            ]
          },
          "metadata": {
            "tags": []
          },
          "execution_count": 81
        }
      ]
    },
    {
      "cell_type": "code",
      "metadata": {
        "colab": {
          "base_uri": "https://localhost:8080/",
          "height": 418
        },
        "id": "sfyST9cB2sLW",
        "outputId": "741ab782-71d6-4bea-cd23-13d5b4a76adf"
      },
      "source": [
        "fig, ax=plt.subplots()\n",
        "\n",
        "width = 0.35\n",
        "index=np.arange(len(col_list))\n",
        "\n",
        "p1=ax.bar(index-width/2, mean1719.tolist(), width, label='17-19')\n",
        "p2=ax.bar(index+width/2, mean2021.tolist(), width, label='20-21')\n",
        "ax.set_xticks(index)\n",
        "ax.set_xticklabels(col_list)\n",
        "plt.xticks(rotation='vertical')\n",
        "\n",
        "ax.legend()\n",
        "\n",
        "# 2017~2019 평균 data 값 분포와 2020~2021 평균 data 값의 분포"
      ],
      "execution_count": 82,
      "outputs": [
        {
          "output_type": "execute_result",
          "data": {
            "text/plain": [
              "<matplotlib.legend.Legend at 0x7f3805842fd0>"
            ]
          },
          "metadata": {
            "tags": []
          },
          "execution_count": 82
        },
        {
          "output_type": "display_data",
          "data": {
            "image/png": "[encoded data removed]",
            "text/plain": [
              "<Figure size 432x288 with 1 Axes>"
            ]
          },
          "metadata": {
            "tags": [],
            "needs_background": "light"
          }
        }
      ]
    },
    {
      "cell_type": "code",
      "metadata": {
        "colab": {
          "base_uri": "https://localhost:8080/",
          "height": 418
        },
        "id": "Yw3vZVKQdHaX",
        "outputId": "3147ded2-4341-4683-d58e-8f8979d98b14"
      },
      "source": [
        "fig = plt.figure(figsize=(6,4))\n",
        "\n",
        "plt.plot(mean_diff)\n",
        "plt.xticks(rotation='vertical')"
      ],
      "execution_count": 83,
      "outputs": [
        {
          "output_type": "execute_result",
          "data": {
            "text/plain": [
              "([0, 1, 2, 3, 4, 5], <a list of 6 Text major ticklabel objects>)"
            ]
          },
          "metadata": {
            "tags": []
          },
          "execution_count": 83
        },
        {
          "output_type": "display_data",
          "data": {
            "image/png": "[encoded data removed]",
            "text/plain": [
              "<Figure size 432x288 with 1 Axes>"
            ]
          },
          "metadata": {
            "tags": [],
            "needs_background": "light"
          }
        }
      ]
    },
    {
      "cell_type": "code",
      "metadata": {
        "colab": {
          "base_uri": "https://localhost:8080/",
          "height": 417
        },
        "id": "PEdyEYmTLj3o",
        "outputId": "0862fdf4-152b-46df-ff67-15463c0a9507"
      },
      "source": [
        "fig, ax=plt.subplots()\n",
        "\n",
        "mean_diff=mean2021-mean1719\n",
        "# 2021-1719 이므로 양수:2021이 더 큰 값, 음수:2021이 더 작은 값\n",
        "ax.bar(index, mean_diff.tolist(), label='diffence', facecolor='tan')\n",
        "ax.set_title('17-19 & 20-21 Difference')\n",
        "ax.set_xticks(index)\n",
        "ax.set_xticklabels(col_list)\n",
        "\n",
        "plt.xticks(rotation='vertical')\n",
        "plt.grid()\n",
        "plt.legend()\n",
        "plt.show()\n",
        "\n",
        "# Happiness Score가 오히려 2021 시기에 증가\n",
        "# -> 코로나와 같은 세계적 재해가 행복 지수에 영향을 주지 않았음을 확인 가능"
      ],
      "execution_count": 84,
      "outputs": [
        {
          "output_type": "display_data",
          "data": {
            "image/png": "[encoded data removed]",
            "text/plain": [
              "<Figure size 432x288 with 1 Axes>"
            ]
          },
          "metadata": {
            "tags": [],
            "needs_background": "light"
          }
        }
      ]
    },
    {
      "cell_type": "code",
      "metadata": {
        "colab": {
          "base_uri": "https://localhost:8080/",
          "height": 364
        },
        "id": "5Y0zgaD1V0wT",
        "outputId": "24b3cfff-ffbf-44fd-b6ac-f10d666c579a"
      },
      "source": [
        "# East_Asia\n",
        "East_Asia2017=df2017[df2017['Regional indicator']=='East Asia']\n",
        "East_Asia2017\n",
        "\n",
        "East_Asia2018=df2018[df2018['Regional indicator']=='East Asia']\n",
        "East_Asia2018\n",
        "\n",
        "East_Asia2019=df2017[df2019['Regional indicator']=='East Asia']\n",
        "East_Asia2019\n",
        "\n",
        "East_Asia2020=df2020[df2020['Regional indicator']=='East Asia']\n",
        "East_Asia2020\n",
        "\n",
        "East_Asia2021=df2021[df2021['Regional indicator']=='East Asia']\n",
        "East_Asia2021"
      ],
      "execution_count": 85,
      "outputs": [
        {
          "output_type": "execute_result",
          "data": {
            "text/html": [
              "<div>\n",
              "<style scoped>\n",
              "    .dataframe tbody tr th:only-of-type {\n",
              "        vertical-align: middle;\n",
              "    }\n",
              "\n",
              "    .dataframe tbody tr th {\n",
              "        vertical-align: top;\n",
              "    }\n",
              "\n",
              "    .dataframe thead th {\n",
              "        text-align: right;\n",
              "    }\n",
              "</style>\n",
              "<table border=\"1\" class=\"dataframe\">\n",
              "  <thead>\n",
              "    <tr style=\"text-align: right;\">\n",
              "      <th></th>\n",
              "      <th>Country</th>\n",
              "      <th>Regional indicator</th>\n",
              "      <th>Score</th>\n",
              "      <th>GDP per capita</th>\n",
              "      <th>Healthy life expectancy</th>\n",
              "      <th>Freedom to make life choices</th>\n",
              "      <th>Generosity</th>\n",
              "      <th>Perceptions of corruption</th>\n",
              "    </tr>\n",
              "  </thead>\n",
              "  <tbody>\n",
              "    <tr>\n",
              "      <th>25</th>\n",
              "      <td>China</td>\n",
              "      <td>East Asia</td>\n",
              "      <td>5.339</td>\n",
              "      <td>1.061</td>\n",
              "      <td>0.665</td>\n",
              "      <td>0.904</td>\n",
              "      <td>-0.146</td>\n",
              "      <td>0.755</td>\n",
              "    </tr>\n",
              "    <tr>\n",
              "      <th>52</th>\n",
              "      <td>Hong Kong S.A.R. of China</td>\n",
              "      <td>East Asia</td>\n",
              "      <td>5.477</td>\n",
              "      <td>1.525</td>\n",
              "      <td>0.893</td>\n",
              "      <td>0.717</td>\n",
              "      <td>0.067</td>\n",
              "      <td>0.403</td>\n",
              "    </tr>\n",
              "    <tr>\n",
              "      <th>64</th>\n",
              "      <td>Japan</td>\n",
              "      <td>East Asia</td>\n",
              "      <td>5.940</td>\n",
              "      <td>1.389</td>\n",
              "      <td>0.838</td>\n",
              "      <td>0.796</td>\n",
              "      <td>-0.258</td>\n",
              "      <td>0.638</td>\n",
              "    </tr>\n",
              "    <tr>\n",
              "      <th>88</th>\n",
              "      <td>Mongolia</td>\n",
              "      <td>East Asia</td>\n",
              "      <td>5.677</td>\n",
              "      <td>0.966</td>\n",
              "      <td>0.442</td>\n",
              "      <td>0.708</td>\n",
              "      <td>0.116</td>\n",
              "      <td>0.856</td>\n",
              "    </tr>\n",
              "    <tr>\n",
              "      <th>121</th>\n",
              "      <td>South Korea</td>\n",
              "      <td>East Asia</td>\n",
              "      <td>5.845</td>\n",
              "      <td>1.403</td>\n",
              "      <td>0.801</td>\n",
              "      <td>0.672</td>\n",
              "      <td>-0.083</td>\n",
              "      <td>0.727</td>\n",
              "    </tr>\n",
              "    <tr>\n",
              "      <th>127</th>\n",
              "      <td>Taiwan</td>\n",
              "      <td>East Asia</td>\n",
              "      <td>6.584</td>\n",
              "      <td>1.480</td>\n",
              "      <td>0.665</td>\n",
              "      <td>0.784</td>\n",
              "      <td>-0.070</td>\n",
              "      <td>0.721</td>\n",
              "    </tr>\n",
              "  </tbody>\n",
              "</table>\n",
              "</div>"
            ],
            "text/plain": [
              "                       Country  ... Perceptions of corruption\n",
              "25                       China  ...                     0.755\n",
              "52   Hong Kong S.A.R. of China  ...                     0.403\n",
              "64                       Japan  ...                     0.638\n",
              "88                    Mongolia  ...                     0.856\n",
              "121                South Korea  ...                     0.727\n",
              "127                     Taiwan  ...                     0.721\n",
              "\n",
              "[6 rows x 8 columns]"
            ]
          },
          "metadata": {
            "tags": []
          },
          "execution_count": 85
        }
      ]
    },
    {
      "cell_type": "code",
      "metadata": {
        "colab": {
          "base_uri": "https://localhost:8080/",
          "height": 314
        },
        "id": "5TDiJX5octG6",
        "outputId": "adeaf631-e68a-4884-d509-b8ad470f2f99"
      },
      "source": [
        "East_Asia2017"
      ],
      "execution_count": 86,
      "outputs": [
        {
          "output_type": "execute_result",
          "data": {
            "text/html": [
              "<div>\n",
              "<style scoped>\n",
              "    .dataframe tbody tr th:only-of-type {\n",
              "        vertical-align: middle;\n",
              "    }\n",
              "\n",
              "    .dataframe tbody tr th {\n",
              "        vertical-align: top;\n",
              "    }\n",
              "\n",
              "    .dataframe thead th {\n",
              "        text-align: right;\n",
              "    }\n",
              "</style>\n",
              "<table border=\"1\" class=\"dataframe\">\n",
              "  <thead>\n",
              "    <tr style=\"text-align: right;\">\n",
              "      <th></th>\n",
              "      <th>Country</th>\n",
              "      <th>Regional indicator</th>\n",
              "      <th>Score</th>\n",
              "      <th>GDP per capita</th>\n",
              "      <th>Healthy life expectancy</th>\n",
              "      <th>Freedom to make life choices</th>\n",
              "      <th>Generosity</th>\n",
              "      <th>Perceptions of corruption</th>\n",
              "    </tr>\n",
              "  </thead>\n",
              "  <tbody>\n",
              "    <tr>\n",
              "      <th>25</th>\n",
              "      <td>Chad</td>\n",
              "      <td>East Asia</td>\n",
              "      <td>3.936</td>\n",
              "      <td>0.438013</td>\n",
              "      <td>0.041135</td>\n",
              "      <td>0.162342</td>\n",
              "      <td>0.216114</td>\n",
              "      <td>0.053582</td>\n",
              "    </tr>\n",
              "    <tr>\n",
              "      <th>52</th>\n",
              "      <td>Hong Kong S.A.R., China</td>\n",
              "      <td>East Asia</td>\n",
              "      <td>5.472</td>\n",
              "      <td>1.551675</td>\n",
              "      <td>0.943062</td>\n",
              "      <td>0.490969</td>\n",
              "      <td>0.374466</td>\n",
              "      <td>0.293934</td>\n",
              "    </tr>\n",
              "    <tr>\n",
              "      <th>64</th>\n",
              "      <td>Japan</td>\n",
              "      <td>East Asia</td>\n",
              "      <td>5.920</td>\n",
              "      <td>1.416915</td>\n",
              "      <td>0.913476</td>\n",
              "      <td>0.505626</td>\n",
              "      <td>0.120573</td>\n",
              "      <td>0.163761</td>\n",
              "    </tr>\n",
              "    <tr>\n",
              "      <th>88</th>\n",
              "      <td>Montenegro</td>\n",
              "      <td>East Asia</td>\n",
              "      <td>5.237</td>\n",
              "      <td>1.121129</td>\n",
              "      <td>0.667465</td>\n",
              "      <td>0.194989</td>\n",
              "      <td>0.197911</td>\n",
              "      <td>0.088174</td>\n",
              "    </tr>\n",
              "    <tr>\n",
              "      <th>121</th>\n",
              "      <td>Spain</td>\n",
              "      <td>East Asia</td>\n",
              "      <td>6.403</td>\n",
              "      <td>1.384398</td>\n",
              "      <td>0.888961</td>\n",
              "      <td>0.408781</td>\n",
              "      <td>0.190134</td>\n",
              "      <td>0.070914</td>\n",
              "    </tr>\n",
              "    <tr>\n",
              "      <th>127</th>\n",
              "      <td>Taiwan</td>\n",
              "      <td>East Asia</td>\n",
              "      <td>6.422</td>\n",
              "      <td>1.433627</td>\n",
              "      <td>0.793984</td>\n",
              "      <td>0.361467</td>\n",
              "      <td>0.258360</td>\n",
              "      <td>0.063829</td>\n",
              "    </tr>\n",
              "  </tbody>\n",
              "</table>\n",
              "</div>"
            ],
            "text/plain": [
              "                     Country  ... Perceptions of corruption\n",
              "25                      Chad  ...                  0.053582\n",
              "52   Hong Kong S.A.R., China  ...                  0.293934\n",
              "64                     Japan  ...                  0.163761\n",
              "88                Montenegro  ...                  0.088174\n",
              "121                    Spain  ...                  0.070914\n",
              "127                   Taiwan  ...                  0.063829\n",
              "\n",
              "[6 rows x 8 columns]"
            ]
          },
          "metadata": {
            "tags": []
          },
          "execution_count": 86
        }
      ]
    },
    {
      "cell_type": "code",
      "metadata": {
        "colab": {
          "base_uri": "https://localhost:8080/",
          "height": 331
        },
        "id": "3IzpUhILc4Uf",
        "outputId": "2789a2f8-08ed-4a70-b85a-8fcba1968457"
      },
      "source": [
        "East_Asia2018"
      ],
      "execution_count": 89,
      "outputs": [
        {
          "output_type": "execute_result",
          "data": {
            "text/html": [
              "<div>\n",
              "<style scoped>\n",
              "    .dataframe tbody tr th:only-of-type {\n",
              "        vertical-align: middle;\n",
              "    }\n",
              "\n",
              "    .dataframe tbody tr th {\n",
              "        vertical-align: top;\n",
              "    }\n",
              "\n",
              "    .dataframe thead th {\n",
              "        text-align: right;\n",
              "    }\n",
              "</style>\n",
              "<table border=\"1\" class=\"dataframe\">\n",
              "  <thead>\n",
              "    <tr style=\"text-align: right;\">\n",
              "      <th></th>\n",
              "      <th>Country</th>\n",
              "      <th>Regional indicator</th>\n",
              "      <th>Score</th>\n",
              "      <th>GDP per capita</th>\n",
              "      <th>Healthy life expectancy</th>\n",
              "      <th>Freedom to make life choices</th>\n",
              "      <th>Generosity</th>\n",
              "      <th>Perceptions of corruption</th>\n",
              "    </tr>\n",
              "  </thead>\n",
              "  <tbody>\n",
              "    <tr>\n",
              "      <th>25</th>\n",
              "      <td>Chad</td>\n",
              "      <td>East Asia</td>\n",
              "      <td>4.301</td>\n",
              "      <td>0.358</td>\n",
              "      <td>0.053</td>\n",
              "      <td>0.189</td>\n",
              "      <td>0.181</td>\n",
              "      <td>0.060</td>\n",
              "    </tr>\n",
              "    <tr>\n",
              "      <th>52</th>\n",
              "      <td>Hong Kong</td>\n",
              "      <td>East Asia</td>\n",
              "      <td>5.430</td>\n",
              "      <td>1.405</td>\n",
              "      <td>1.030</td>\n",
              "      <td>0.524</td>\n",
              "      <td>0.246</td>\n",
              "      <td>0.291</td>\n",
              "    </tr>\n",
              "    <tr>\n",
              "      <th>64</th>\n",
              "      <td>Japan</td>\n",
              "      <td>East Asia</td>\n",
              "      <td>5.915</td>\n",
              "      <td>1.294</td>\n",
              "      <td>0.988</td>\n",
              "      <td>0.553</td>\n",
              "      <td>0.079</td>\n",
              "      <td>0.150</td>\n",
              "    </tr>\n",
              "    <tr>\n",
              "      <th>88</th>\n",
              "      <td>Mongolia</td>\n",
              "      <td>East Asia</td>\n",
              "      <td>5.125</td>\n",
              "      <td>0.914</td>\n",
              "      <td>0.575</td>\n",
              "      <td>0.395</td>\n",
              "      <td>0.253</td>\n",
              "      <td>0.032</td>\n",
              "    </tr>\n",
              "    <tr>\n",
              "      <th>121</th>\n",
              "      <td>South Korea</td>\n",
              "      <td>East Asia</td>\n",
              "      <td>5.875</td>\n",
              "      <td>1.266</td>\n",
              "      <td>0.955</td>\n",
              "      <td>0.244</td>\n",
              "      <td>0.175</td>\n",
              "      <td>0.051</td>\n",
              "    </tr>\n",
              "    <tr>\n",
              "      <th>127</th>\n",
              "      <td>Taiwan</td>\n",
              "      <td>East Asia</td>\n",
              "      <td>6.441</td>\n",
              "      <td>1.365</td>\n",
              "      <td>0.857</td>\n",
              "      <td>0.418</td>\n",
              "      <td>0.151</td>\n",
              "      <td>0.078</td>\n",
              "    </tr>\n",
              "  </tbody>\n",
              "</table>\n",
              "</div>"
            ],
            "text/plain": [
              "         Country Regional indicator  ...  Generosity  Perceptions of corruption\n",
              "25          Chad          East Asia  ...       0.181                      0.060\n",
              "52     Hong Kong          East Asia  ...       0.246                      0.291\n",
              "64         Japan          East Asia  ...       0.079                      0.150\n",
              "88      Mongolia          East Asia  ...       0.253                      0.032\n",
              "121  South Korea          East Asia  ...       0.175                      0.051\n",
              "127       Taiwan          East Asia  ...       0.151                      0.078\n",
              "\n",
              "[6 rows x 8 columns]"
            ]
          },
          "metadata": {
            "tags": []
          },
          "execution_count": 89
        }
      ]
    },
    {
      "cell_type": "code",
      "metadata": {
        "colab": {
          "base_uri": "https://localhost:8080/",
          "height": 314
        },
        "id": "KAHeoHMyc_2d",
        "outputId": "bddb0a3a-1ffb-4ce2-9874-421124591973"
      },
      "source": [
        "East_Asia2019"
      ],
      "execution_count": 68,
      "outputs": [
        {
          "output_type": "execute_result",
          "data": {
            "text/html": [
              "<div>\n",
              "<style scoped>\n",
              "    .dataframe tbody tr th:only-of-type {\n",
              "        vertical-align: middle;\n",
              "    }\n",
              "\n",
              "    .dataframe tbody tr th {\n",
              "        vertical-align: top;\n",
              "    }\n",
              "\n",
              "    .dataframe thead th {\n",
              "        text-align: right;\n",
              "    }\n",
              "</style>\n",
              "<table border=\"1\" class=\"dataframe\">\n",
              "  <thead>\n",
              "    <tr style=\"text-align: right;\">\n",
              "      <th></th>\n",
              "      <th>Country</th>\n",
              "      <th>Regional indicator</th>\n",
              "      <th>Score</th>\n",
              "      <th>GDP per capita</th>\n",
              "      <th>Healthy life expectancy</th>\n",
              "      <th>Freedom to make life choices</th>\n",
              "      <th>Generosity</th>\n",
              "      <th>Perceptions of corruption</th>\n",
              "    </tr>\n",
              "  </thead>\n",
              "  <tbody>\n",
              "    <tr>\n",
              "      <th>25</th>\n",
              "      <td>Chad</td>\n",
              "      <td>East Asia</td>\n",
              "      <td>3.936</td>\n",
              "      <td>0.438013</td>\n",
              "      <td>0.041135</td>\n",
              "      <td>0.162342</td>\n",
              "      <td>0.216114</td>\n",
              "      <td>0.053582</td>\n",
              "    </tr>\n",
              "    <tr>\n",
              "      <th>52</th>\n",
              "      <td>Hong Kong S.A.R., China</td>\n",
              "      <td>East Asia</td>\n",
              "      <td>5.472</td>\n",
              "      <td>1.551675</td>\n",
              "      <td>0.943062</td>\n",
              "      <td>0.490969</td>\n",
              "      <td>0.374466</td>\n",
              "      <td>0.293934</td>\n",
              "    </tr>\n",
              "    <tr>\n",
              "      <th>64</th>\n",
              "      <td>Japan</td>\n",
              "      <td>East Asia</td>\n",
              "      <td>5.920</td>\n",
              "      <td>1.416915</td>\n",
              "      <td>0.913476</td>\n",
              "      <td>0.505626</td>\n",
              "      <td>0.120573</td>\n",
              "      <td>0.163761</td>\n",
              "    </tr>\n",
              "    <tr>\n",
              "      <th>88</th>\n",
              "      <td>Montenegro</td>\n",
              "      <td>East Asia</td>\n",
              "      <td>5.237</td>\n",
              "      <td>1.121129</td>\n",
              "      <td>0.667465</td>\n",
              "      <td>0.194989</td>\n",
              "      <td>0.197911</td>\n",
              "      <td>0.088174</td>\n",
              "    </tr>\n",
              "    <tr>\n",
              "      <th>121</th>\n",
              "      <td>Spain</td>\n",
              "      <td>East Asia</td>\n",
              "      <td>6.403</td>\n",
              "      <td>1.384398</td>\n",
              "      <td>0.888961</td>\n",
              "      <td>0.408781</td>\n",
              "      <td>0.190134</td>\n",
              "      <td>0.070914</td>\n",
              "    </tr>\n",
              "    <tr>\n",
              "      <th>127</th>\n",
              "      <td>Taiwan</td>\n",
              "      <td>East Asia</td>\n",
              "      <td>6.422</td>\n",
              "      <td>1.433627</td>\n",
              "      <td>0.793984</td>\n",
              "      <td>0.361467</td>\n",
              "      <td>0.258360</td>\n",
              "      <td>0.063829</td>\n",
              "    </tr>\n",
              "  </tbody>\n",
              "</table>\n",
              "</div>"
            ],
            "text/plain": [
              "                     Country  ... Perceptions of corruption\n",
              "25                      Chad  ...                  0.053582\n",
              "52   Hong Kong S.A.R., China  ...                  0.293934\n",
              "64                     Japan  ...                  0.163761\n",
              "88                Montenegro  ...                  0.088174\n",
              "121                    Spain  ...                  0.070914\n",
              "127                   Taiwan  ...                  0.063829\n",
              "\n",
              "[6 rows x 8 columns]"
            ]
          },
          "metadata": {
            "tags": []
          },
          "execution_count": 68
        }
      ]
    },
    {
      "cell_type": "code",
      "metadata": {
        "colab": {
          "base_uri": "https://localhost:8080/",
          "height": 364
        },
        "id": "nZSTiUOgdCU4",
        "outputId": "c03bf424-67b8-4246-fb9e-5d6ec90bae54"
      },
      "source": [
        "East_Asia2020"
      ],
      "execution_count": 69,
      "outputs": [
        {
          "output_type": "execute_result",
          "data": {
            "text/html": [
              "<div>\n",
              "<style scoped>\n",
              "    .dataframe tbody tr th:only-of-type {\n",
              "        vertical-align: middle;\n",
              "    }\n",
              "\n",
              "    .dataframe tbody tr th {\n",
              "        vertical-align: top;\n",
              "    }\n",
              "\n",
              "    .dataframe thead th {\n",
              "        text-align: right;\n",
              "    }\n",
              "</style>\n",
              "<table border=\"1\" class=\"dataframe\">\n",
              "  <thead>\n",
              "    <tr style=\"text-align: right;\">\n",
              "      <th></th>\n",
              "      <th>Country</th>\n",
              "      <th>Regional indicator</th>\n",
              "      <th>Score</th>\n",
              "      <th>GDP per capita</th>\n",
              "      <th>Healthy life expectancy</th>\n",
              "      <th>Freedom to make life choices</th>\n",
              "      <th>Generosity</th>\n",
              "      <th>Perceptions of corruption</th>\n",
              "    </tr>\n",
              "  </thead>\n",
              "  <tbody>\n",
              "    <tr>\n",
              "      <th>25</th>\n",
              "      <td>China</td>\n",
              "      <td>East Asia</td>\n",
              "      <td>5.1239</td>\n",
              "      <td>5.073133</td>\n",
              "      <td>0.798761</td>\n",
              "      <td>0.692892</td>\n",
              "      <td>0.898518</td>\n",
              "      <td>-0.181426</td>\n",
              "    </tr>\n",
              "    <tr>\n",
              "      <th>52</th>\n",
              "      <td>Hong Kong S.A.R. of China</td>\n",
              "      <td>East Asia</td>\n",
              "      <td>5.5104</td>\n",
              "      <td>5.420203</td>\n",
              "      <td>0.845969</td>\n",
              "      <td>0.767717</td>\n",
              "      <td>0.779834</td>\n",
              "      <td>0.134980</td>\n",
              "    </tr>\n",
              "    <tr>\n",
              "      <th>64</th>\n",
              "      <td>Japan</td>\n",
              "      <td>East Asia</td>\n",
              "      <td>5.8708</td>\n",
              "      <td>5.789672</td>\n",
              "      <td>0.883546</td>\n",
              "      <td>0.750010</td>\n",
              "      <td>0.809961</td>\n",
              "      <td>-0.246910</td>\n",
              "    </tr>\n",
              "    <tr>\n",
              "      <th>88</th>\n",
              "      <td>Mongolia</td>\n",
              "      <td>East Asia</td>\n",
              "      <td>5.4562</td>\n",
              "      <td>5.377186</td>\n",
              "      <td>0.937142</td>\n",
              "      <td>0.623045</td>\n",
              "      <td>0.693351</td>\n",
              "      <td>0.098094</td>\n",
              "    </tr>\n",
              "    <tr>\n",
              "      <th>121</th>\n",
              "      <td>South Korea</td>\n",
              "      <td>East Asia</td>\n",
              "      <td>5.8724</td>\n",
              "      <td>5.785993</td>\n",
              "      <td>0.799387</td>\n",
              "      <td>0.736027</td>\n",
              "      <td>0.612965</td>\n",
              "      <td>-0.043404</td>\n",
              "    </tr>\n",
              "    <tr>\n",
              "      <th>127</th>\n",
              "      <td>Taiwan</td>\n",
              "      <td>East Asia</td>\n",
              "      <td>6.4554</td>\n",
              "      <td>6.378686</td>\n",
              "      <td>0.894309</td>\n",
              "      <td>0.696000</td>\n",
              "      <td>0.771530</td>\n",
              "      <td>-0.073199</td>\n",
              "    </tr>\n",
              "  </tbody>\n",
              "</table>\n",
              "</div>"
            ],
            "text/plain": [
              "                       Country  ... Perceptions of corruption\n",
              "25                       China  ...                 -0.181426\n",
              "52   Hong Kong S.A.R. of China  ...                  0.134980\n",
              "64                       Japan  ...                 -0.246910\n",
              "88                    Mongolia  ...                  0.098094\n",
              "121                South Korea  ...                 -0.043404\n",
              "127                     Taiwan  ...                 -0.073199\n",
              "\n",
              "[6 rows x 8 columns]"
            ]
          },
          "metadata": {
            "tags": []
          },
          "execution_count": 69
        }
      ]
    },
    {
      "cell_type": "code",
      "metadata": {
        "colab": {
          "base_uri": "https://localhost:8080/"
        },
        "id": "S_ePJcITZtjT",
        "outputId": "250eb6bb-71ec-4059-ed51-9d0e0c2be832"
      },
      "source": [
        "num_East_Asia=len(East_Asia2017)\n",
        "num_East_Asia"
      ],
      "execution_count": 56,
      "outputs": [
        {
          "output_type": "execute_result",
          "data": {
            "text/plain": [
              "6"
            ]
          },
          "metadata": {
            "tags": []
          },
          "execution_count": 56
        }
      ]
    },
    {
      "cell_type": "code",
      "metadata": {
        "colab": {
          "base_uri": "https://localhost:8080/",
          "height": 367
        },
        "id": "yJckNX98aUw0",
        "outputId": "6285d83d-0e7d-47d8-d8f0-049cb07c0bb4"
      },
      "source": [
        "East_Asia1719=pd.DataFrame(data=[East_Asia2017, East_Asia2018, East_Asia2019])\n",
        "# pd.DataFrame(data=[mean2017, mean2018, mean2019, mean2020, mean2021], index=[2017,2018,2019,2020,2021])\n",
        "# 동아시아 국가들 내에서 국가명 다른 거 통일시키기"
      ],
      "execution_count": 65,
      "outputs": [
        {
          "output_type": "error",
          "ename": "ValueError",
          "evalue": "ignored",
          "traceback": [
            "\u001b[0;31m---------------------------------------------------------------------------\u001b[0m",
            "\u001b[0;31mValueError\u001b[0m                                Traceback (most recent call last)",
            "\u001b[0;32m<ipython-input-65-8f637647ee44>\u001b[0m in \u001b[0;36m<module>\u001b[0;34m()\u001b[0m\n\u001b[0;32m----> 1\u001b[0;31m \u001b[0mEast_Asia1719\u001b[0m\u001b[0;34m=\u001b[0m\u001b[0mpd\u001b[0m\u001b[0;34m.\u001b[0m\u001b[0mDataFrame\u001b[0m\u001b[0;34m(\u001b[0m\u001b[0mdata\u001b[0m\u001b[0;34m=\u001b[0m\u001b[0;34m[\u001b[0m\u001b[0mEast_Asia2017\u001b[0m\u001b[0;34m,\u001b[0m \u001b[0mEast_Asia2018\u001b[0m\u001b[0;34m,\u001b[0m \u001b[0mEast_Asia2019\u001b[0m\u001b[0;34m]\u001b[0m\u001b[0;34m)\u001b[0m\u001b[0;34m\u001b[0m\u001b[0;34m\u001b[0m\u001b[0m\n\u001b[0m\u001b[1;32m      2\u001b[0m \u001b[0;31m# pd.DataFrame(data=[mean2017, mean2018, mean2019, mean2020, mean2021], index=[2017,2018,2019,2020,2021])\u001b[0m\u001b[0;34m\u001b[0m\u001b[0;34m\u001b[0m\u001b[0;34m\u001b[0m\u001b[0m\n",
            "\u001b[0;32m/usr/local/lib/python3.7/dist-packages/pandas/core/frame.py\u001b[0m in \u001b[0;36m__init__\u001b[0;34m(self, data, index, columns, dtype, copy)\u001b[0m\n\u001b[1;32m    521\u001b[0m                     \u001b[0mmgr\u001b[0m \u001b[0;34m=\u001b[0m \u001b[0marrays_to_mgr\u001b[0m\u001b[0;34m(\u001b[0m\u001b[0marrays\u001b[0m\u001b[0;34m,\u001b[0m \u001b[0mcolumns\u001b[0m\u001b[0;34m,\u001b[0m \u001b[0mindex\u001b[0m\u001b[0;34m,\u001b[0m \u001b[0mcolumns\u001b[0m\u001b[0;34m,\u001b[0m \u001b[0mdtype\u001b[0m\u001b[0;34m=\u001b[0m\u001b[0mdtype\u001b[0m\u001b[0;34m)\u001b[0m\u001b[0;34m\u001b[0m\u001b[0;34m\u001b[0m\u001b[0m\n\u001b[1;32m    522\u001b[0m                 \u001b[0;32melse\u001b[0m\u001b[0;34m:\u001b[0m\u001b[0;34m\u001b[0m\u001b[0;34m\u001b[0m\u001b[0m\n\u001b[0;32m--> 523\u001b[0;31m                     \u001b[0mmgr\u001b[0m \u001b[0;34m=\u001b[0m \u001b[0minit_ndarray\u001b[0m\u001b[0;34m(\u001b[0m\u001b[0mdata\u001b[0m\u001b[0;34m,\u001b[0m \u001b[0mindex\u001b[0m\u001b[0;34m,\u001b[0m \u001b[0mcolumns\u001b[0m\u001b[0;34m,\u001b[0m \u001b[0mdtype\u001b[0m\u001b[0;34m=\u001b[0m\u001b[0mdtype\u001b[0m\u001b[0;34m,\u001b[0m \u001b[0mcopy\u001b[0m\u001b[0;34m=\u001b[0m\u001b[0mcopy\u001b[0m\u001b[0;34m)\u001b[0m\u001b[0;34m\u001b[0m\u001b[0;34m\u001b[0m\u001b[0m\n\u001b[0m\u001b[1;32m    524\u001b[0m             \u001b[0;32melse\u001b[0m\u001b[0;34m:\u001b[0m\u001b[0;34m\u001b[0m\u001b[0;34m\u001b[0m\u001b[0m\n\u001b[1;32m    525\u001b[0m                 \u001b[0mmgr\u001b[0m \u001b[0;34m=\u001b[0m \u001b[0minit_dict\u001b[0m\u001b[0;34m(\u001b[0m\u001b[0;34m{\u001b[0m\u001b[0;34m}\u001b[0m\u001b[0;34m,\u001b[0m \u001b[0mindex\u001b[0m\u001b[0;34m,\u001b[0m \u001b[0mcolumns\u001b[0m\u001b[0;34m,\u001b[0m \u001b[0mdtype\u001b[0m\u001b[0;34m=\u001b[0m\u001b[0mdtype\u001b[0m\u001b[0;34m)\u001b[0m\u001b[0;34m\u001b[0m\u001b[0;34m\u001b[0m\u001b[0m\n",
            "\u001b[0;32m/usr/local/lib/python3.7/dist-packages/pandas/core/internals/construction.py\u001b[0m in \u001b[0;36minit_ndarray\u001b[0;34m(values, index, columns, dtype, copy)\u001b[0m\n\u001b[1;32m    188\u001b[0m     \u001b[0;31m# by definition an array here\u001b[0m\u001b[0;34m\u001b[0m\u001b[0;34m\u001b[0m\u001b[0;34m\u001b[0m\u001b[0m\n\u001b[1;32m    189\u001b[0m     \u001b[0;31m# the dtypes will be coerced to a single dtype\u001b[0m\u001b[0;34m\u001b[0m\u001b[0;34m\u001b[0m\u001b[0;34m\u001b[0m\u001b[0m\n\u001b[0;32m--> 190\u001b[0;31m     \u001b[0mvalues\u001b[0m \u001b[0;34m=\u001b[0m \u001b[0m_prep_ndarray\u001b[0m\u001b[0;34m(\u001b[0m\u001b[0mvalues\u001b[0m\u001b[0;34m,\u001b[0m \u001b[0mcopy\u001b[0m\u001b[0;34m=\u001b[0m\u001b[0mcopy\u001b[0m\u001b[0;34m)\u001b[0m\u001b[0;34m\u001b[0m\u001b[0;34m\u001b[0m\u001b[0m\n\u001b[0m\u001b[1;32m    191\u001b[0m \u001b[0;34m\u001b[0m\u001b[0m\n\u001b[1;32m    192\u001b[0m     \u001b[0;32mif\u001b[0m \u001b[0mdtype\u001b[0m \u001b[0;32mis\u001b[0m \u001b[0;32mnot\u001b[0m \u001b[0;32mNone\u001b[0m\u001b[0;34m:\u001b[0m\u001b[0;34m\u001b[0m\u001b[0;34m\u001b[0m\u001b[0m\n",
            "\u001b[0;32m/usr/local/lib/python3.7/dist-packages/pandas/core/internals/construction.py\u001b[0m in \u001b[0;36m_prep_ndarray\u001b[0;34m(values, copy)\u001b[0m\n\u001b[1;32m    322\u001b[0m         \u001b[0mvalues\u001b[0m \u001b[0;34m=\u001b[0m \u001b[0mvalues\u001b[0m\u001b[0;34m.\u001b[0m\u001b[0mreshape\u001b[0m\u001b[0;34m(\u001b[0m\u001b[0;34m(\u001b[0m\u001b[0mvalues\u001b[0m\u001b[0;34m.\u001b[0m\u001b[0mshape\u001b[0m\u001b[0;34m[\u001b[0m\u001b[0;36m0\u001b[0m\u001b[0;34m]\u001b[0m\u001b[0;34m,\u001b[0m \u001b[0;36m1\u001b[0m\u001b[0;34m)\u001b[0m\u001b[0;34m)\u001b[0m\u001b[0;34m\u001b[0m\u001b[0;34m\u001b[0m\u001b[0m\n\u001b[1;32m    323\u001b[0m     \u001b[0;32melif\u001b[0m \u001b[0mvalues\u001b[0m\u001b[0;34m.\u001b[0m\u001b[0mndim\u001b[0m \u001b[0;34m!=\u001b[0m \u001b[0;36m2\u001b[0m\u001b[0;34m:\u001b[0m\u001b[0;34m\u001b[0m\u001b[0;34m\u001b[0m\u001b[0m\n\u001b[0;32m--> 324\u001b[0;31m         \u001b[0;32mraise\u001b[0m \u001b[0mValueError\u001b[0m\u001b[0;34m(\u001b[0m\u001b[0;34mf\"Must pass 2-d input. shape={values.shape}\"\u001b[0m\u001b[0;34m)\u001b[0m\u001b[0;34m\u001b[0m\u001b[0;34m\u001b[0m\u001b[0m\n\u001b[0m\u001b[1;32m    325\u001b[0m \u001b[0;34m\u001b[0m\u001b[0m\n\u001b[1;32m    326\u001b[0m     \u001b[0;32mreturn\u001b[0m \u001b[0mvalues\u001b[0m\u001b[0;34m\u001b[0m\u001b[0;34m\u001b[0m\u001b[0m\n",
            "\u001b[0;31mValueError\u001b[0m: Must pass 2-d input. shape=(3, 6, 8)"
          ]
        }
      ]
    },
    {
      "cell_type": "code",
      "metadata": {
        "id": "mCBP6_msbRPG"
      },
      "source": [
        ""
      ],
      "execution_count": null,
      "outputs": []
    }
  ]
}