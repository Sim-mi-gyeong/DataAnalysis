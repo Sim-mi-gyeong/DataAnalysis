{
  "nbformat": 4,
  "nbformat_minor": 0,
  "metadata": {
    "colab": {
      "name": "TermProject05-Korea's Ranking.ipynb",
      "provenance": [],
      "collapsed_sections": [],
      "authorship_tag": "ABX9TyO1q+NeDW0mXdtnI2Ly0SI+",
      "include_colab_link": true
    },
    "kernelspec": {
      "name": "python3",
      "display_name": "Python 3"
    },
    "language_info": {
      "name": "python"
    }
  },
  "cells": [
    {
      "cell_type": "markdown",
      "metadata": {
        "id": "view-in-github",
        "colab_type": "text"
      },
      "source": [
        "<a href=\"https://colab.research.google.com/github/Sim-mi-gyeong/DataAnalysis/blob/main/TermProject05_Korea's_Ranking.ipynb\" target=\"_parent\"><img src=\"https://colab.research.google.com/assets/colab-badge.svg\" alt=\"Open In Colab\"/></a>"
      ]
    },
    {
      "cell_type": "code",
      "metadata": {
        "id": "7RXkzEjp0oen"
      },
      "source": [
        "import numpy as np\n",
        "import pandas as pd\n",
        "import seaborn as sns\n",
        "import matplotlib.pyplot as plt\n",
        "import plotly.graph_objs as go\n",
        "\n",
        "import warnings\n",
        "warnings.filterwarnings(\"ignore\")"
      ],
      "execution_count": 1,
      "outputs": []
    },
    {
      "cell_type": "code",
      "metadata": {
        "colab": {
          "base_uri": "https://localhost:8080/"
        },
        "id": "CBNxiwh507If",
        "outputId": "37d2d9da-a7f9-4520-9c4c-8279a14fbad9"
      },
      "source": [
        "from google.colab import drive\n",
        "drive.mount('/content/drive')"
      ],
      "execution_count": 2,
      "outputs": [
        {
          "output_type": "stream",
          "text": [
            "Mounted at /content/drive\n"
          ],
          "name": "stdout"
        }
      ]
    },
    {
      "cell_type": "code",
      "metadata": {
        "id": "x2p-2k0308Sz"
      },
      "source": [
        "# 각각의 csv파일을 불러와 df20__ 값에 저장\n",
        "df2017=pd.read_csv('/content/drive/MyDrive/dataset/2017.csv')\n",
        "df2018=pd.read_csv('/content/drive/MyDrive/dataset/2018.csv')\n",
        "df2019=pd.read_csv('/content/drive/MyDrive/dataset/2019.csv')\n",
        "df2020=pd.read_csv('/content/drive/MyDrive/dataset/2020.csv')\n",
        "df2021=pd.read_csv('/content/drive/MyDrive/dataset/2021.csv')"
      ],
      "execution_count": 3,
      "outputs": []
    },
    {
      "cell_type": "code",
      "metadata": {
        "id": "_uLbM9z91C7V"
      },
      "source": [
        "# 2018년 데이터 중 결측값을 해당 column의 평균값으로 대체\n",
        "df2018['Perceptions of corruption']=df2018['Perceptions of corruption'].fillna(df2018['Perceptions of corruption'].mean())"
      ],
      "execution_count": 4,
      "outputs": []
    },
    {
      "cell_type": "code",
      "metadata": {
        "id": "FY01-Mi71FRT"
      },
      "source": [
        "# 각 연도별 DataFrame에 해당 연도에 따른 Year Column 추가\n",
        "df2017['Year']=2017\n",
        "df2018['Year']=2018\n",
        "df2019['Year']=2019\n",
        "df2020['Year']=2020\n",
        "df2021['Year']=2021"
      ],
      "execution_count": 5,
      "outputs": []
    },
    {
      "cell_type": "code",
      "metadata": {
        "id": "2J9rahqb4XJX"
      },
      "source": [
        "# 각 연도별 DataFrame을 Score에 따른 내림차순으로(Score가 높은 순으로) 정렬\n",
        "\n",
        "df2017=df2017.sort_values(by='Score', ascending=False)\n",
        "df2018=df2018.sort_values(by='Score', ascending=False)\n",
        "df2019=df2019.sort_values(by='Score', ascending=False)\n",
        "df2020=df2020.sort_values(by='Score', ascending=False)\n",
        "df2021=df2021.sort_values(by='Score', ascending=False)"
      ],
      "execution_count": 20,
      "outputs": []
    },
    {
      "cell_type": "code",
      "metadata": {
        "colab": {
          "base_uri": "https://localhost:8080/"
        },
        "id": "z2N_7X_W5xAv",
        "outputId": "5c4a0d47-36ed-4e23-f1e0-5def32533db5"
      },
      "source": [
        "# 각 연도별 DataFrame에서 County가 South Korea인 행을 추출하고, 그 행에서 Score 값을 KoreaScore20__에 저장\n",
        "\n",
        "KoreaScore2017=float(df2017[df2017['Country']=='South Korea']['Score'])\n",
        "KoreaScore2017\n",
        "\n",
        "KoreaScore2018=float(df2018[df2018['Country']=='South Korea']['Score'])\n",
        "KoreaScore2018\n",
        "\n",
        "KoreaScore2019=float(df2019[df2019['Country']=='South Korea']['Score'])\n",
        "KoreaScore2019\n",
        "\n",
        "KoreaScore2020=float(df2020[df2020['Country']=='South Korea']['Score'])\n",
        "KoreaScore2020\n",
        "\n",
        "KoreaScore2021=float(df2021[df2021['Country']=='South Korea']['Score'])\n",
        "KoreaScore2021"
      ],
      "execution_count": 10,
      "outputs": [
        {
          "output_type": "execute_result",
          "data": {
            "text/plain": [
              "5.845"
            ]
          },
          "metadata": {
            "tags": []
          },
          "execution_count": 10
        }
      ]
    },
    {
      "cell_type": "code",
      "metadata": {
        "colab": {
          "base_uri": "https://localhost:8080/"
        },
        "id": "J-JmYlmc7K5O",
        "outputId": "c2791ae0-faa5-4dfc-e56c-47942800ac63"
      },
      "source": [
        "# 각 연도별 DataFrame에서 전체 국가의 Score값을 numpy array로 반환하여 Score20__에 저장\n",
        "\n",
        "Score2017=np.array(df2017['Score'])\n",
        "Score2017\n",
        "\n",
        "Score2018=np.array(df2018['Score'])\n",
        "Score2018\n",
        "\n",
        "Score2019=np.array(df2019['Score'])\n",
        "Score2019\n",
        "\n",
        "Score2020=np.array(df2020['Score'])\n",
        "Score2020\n",
        "\n",
        "Score2021=np.array(df2021['Score'])\n",
        "Score2021"
      ],
      "execution_count": 23,
      "outputs": [
        {
          "output_type": "execute_result",
          "data": {
            "text/plain": [
              "array([7.842, 7.62 , 7.571, 7.554, 7.464, 7.392, 7.363, 7.324, 7.277,\n",
              "       7.268, 7.183, 7.157, 7.155, 7.103, 7.085, 7.069, 7.064, 6.965,\n",
              "       6.951, 6.834, 6.69 , 6.647, 6.602, 6.584, 6.561, 6.494, 6.491,\n",
              "       6.483, 6.461, 6.435, 6.431, 6.377, 6.372, 6.331, 6.33 , 6.317,\n",
              "       6.309, 6.255, 6.223, 6.189, 6.18 , 6.179, 6.172, 6.166, 6.152,\n",
              "       6.14 , 6.106, 6.078, 6.061, 6.049, 6.032, 6.012, 5.992, 5.985,\n",
              "       5.972, 5.94 , 5.929, 5.929, 5.919, 5.882, 5.88 , 5.845, 5.84 ,\n",
              "       5.813, 5.766, 5.764, 5.744, 5.723, 5.716, 5.677, 5.653, 5.581,\n",
              "       5.545, 5.536, 5.534, 5.477, 5.477, 5.466, 5.411, 5.41 , 5.384,\n",
              "       5.345, 5.342, 5.339, 5.306, 5.283, 5.269, 5.266, 5.171, 5.142,\n",
              "       5.132, 5.117, 5.088, 5.074, 5.066, 5.045, 5.025, 4.984, 4.956,\n",
              "       4.948, 4.934, 4.918, 4.892, 4.891, 4.887, 4.875, 4.854, 4.852,\n",
              "       4.834, 4.83 , 4.794, 4.759, 4.723, 4.721, 4.636, 4.625, 4.607,\n",
              "       4.596, 4.584, 4.574, 4.517, 4.426, 4.395, 4.355, 4.325, 4.283,\n",
              "       4.275, 4.227, 4.208, 4.107, 4.073, 3.849, 3.819, 3.775, 3.658,\n",
              "       3.623, 3.615, 3.6  , 3.512, 3.467, 3.415, 3.145, 2.523])"
            ]
          },
          "metadata": {
            "tags": []
          },
          "execution_count": 23
        }
      ]
    },
    {
      "cell_type": "code",
      "metadata": {
        "colab": {
          "base_uri": "https://localhost:8080/"
        },
        "id": "NQz8OgtN7ND5",
        "outputId": "15c2f232-6064-481f-ba6f-13f7cff5f327"
      },
      "source": [
        "# 전체 국가의 Score값을 numpy array로 반환한 Score20__ 에서 각 연도별로 한국의 Score값의 인덱스를 Score 순위로 정의\n",
        "\n",
        "KoreaRank2017=np.where(Score2017==KoreaScore2017)[0][0]\n",
        "KoreaRank2017\n",
        "\n",
        "KoreaRank2018=np.where(Score2018==KoreaScore2018)[0][0]\n",
        "KoreaRank2018\n",
        "\n",
        "KoreaRank2019=np.where(Score2019==KoreaScore2019)[0][0]\n",
        "KoreaRank2019\n",
        "\n",
        "KoreaRank2020=np.where(Score2020==KoreaScore2020)[0][0]\n",
        "KoreaRank2020\n",
        "\n",
        "KoreaRank2021=np.where(Score2021==KoreaScore2021)[0][0]\n",
        "KoreaRank2021"
      ],
      "execution_count": 13,
      "outputs": [
        {
          "output_type": "execute_result",
          "data": {
            "text/plain": [
              "61"
            ]
          },
          "metadata": {
            "tags": []
          },
          "execution_count": 13
        }
      ]
    },
    {
      "cell_type": "code",
      "metadata": {
        "colab": {
          "base_uri": "https://localhost:8080/"
        },
        "id": "aVL9ny_2_EyT",
        "outputId": "db7a9fba-cfa8-4040-a9d3-e2450bbabfff"
      },
      "source": [
        "# 우리나라의 연도별 Happiness Score 순위 리스트\n",
        "\n",
        "KoreaRankList=[KoreaRank2017, KoreaRank2018, KoreaRank2019, KoreaRank2020, KoreaRank2021]\n",
        "KoreaRankList"
      ],
      "execution_count": 14,
      "outputs": [
        {
          "output_type": "execute_result",
          "data": {
            "text/plain": [
              "[51, 53, 51, 59, 61]"
            ]
          },
          "metadata": {
            "tags": []
          },
          "execution_count": 14
        }
      ]
    },
    {
      "cell_type": "code",
      "metadata": {
        "colab": {
          "base_uri": "https://localhost:8080/"
        },
        "id": "XXzNc6zY8I0_",
        "outputId": "721f80a4-7b83-4e22-85d7-84234f2e38a3"
      },
      "source": [
        "# 우리나라의 연도별 Happiness Score의 상위 퍼센트(백분위)를 구하기 위해 \"(우리나라의 순위/전체 국가의 수)*100\"을 계산하여 KoreaPercent20__에 저장\n",
        "# cnt는 전체 국가의 수와 같음\n",
        "\n",
        "cnt=len(df2017['Score'])\n",
        "\n",
        "KoreaPercent2017=round((KoreaRank2017/cnt)*100,3)\n",
        "KoreaPercent2017\n",
        "\n",
        "KoreaPercent2018=round((KoreaRank2018/cnt)*100,3)\n",
        "KoreaPercent2018\n",
        "\n",
        "KoreaPercent2019=round((KoreaRank2019/cnt)*100,3)\n",
        "KoreaPercent2019\n",
        "\n",
        "KoreaPercent2020=round((KoreaRank2020/cnt)*100,3)\n",
        "KoreaPercent2020\n",
        "\n",
        "KoreaPercent2021=round((KoreaRank2021/cnt)*100,3)\n",
        "KoreaPercent2021"
      ],
      "execution_count": 25,
      "outputs": [
        {
          "output_type": "execute_result",
          "data": {
            "text/plain": [
              "42.657"
            ]
          },
          "metadata": {
            "tags": []
          },
          "execution_count": 25
        }
      ]
    },
    {
      "cell_type": "code",
      "metadata": {
        "colab": {
          "base_uri": "https://localhost:8080/"
        },
        "id": "Iy4_3OlY89Mz",
        "outputId": "3d35bcbd-f55f-4e5a-bf4b-8c215feb877b"
      },
      "source": [
        "# 우리나라의 연도별 Happiness Score의 상위 퍼센트(백분위) 리스트\n",
        "\n",
        "KoreaPercentList=[KoreaPercent2017, KoreaPercent2018, KoreaPercent2019, KoreaPercent2020, KoreaPercent2021]\n",
        "KoreaPercentList"
      ],
      "execution_count": 27,
      "outputs": [
        {
          "output_type": "execute_result",
          "data": {
            "text/plain": [
              "[35.664, 37.063, 35.664, 41.259, 42.657]"
            ]
          },
          "metadata": {
            "tags": []
          },
          "execution_count": 27
        }
      ]
    },
    {
      "cell_type": "code",
      "metadata": {
        "colab": {
          "base_uri": "https://localhost:8080/",
          "height": 298
        },
        "id": "-HjsTmx-_AXu",
        "outputId": "4aa9faf5-6bbd-43b6-cf3c-d364b8731019"
      },
      "source": [
        "# 우리나라의 연도별 Happiness Score의 순위 변화를 line plot으로 나타냄\n",
        "\n",
        "fig=plt.figure(figsize=(6,4))\n",
        "\n",
        "plt.plot([2017,2018,2019,2020,2021], KoreaRankList, 'orange')\n",
        "plt.title(\"Korea Happiness Score Rank 2017-2021\", fontsize=12)\n",
        "plt.xlabel('Year', fontsize=12)\n",
        "plt.ylabel('Rank', fontsize=12)\n",
        "plt.grid()\n",
        "plt.show()"
      ],
      "execution_count": 41,
      "outputs": [
        {
          "output_type": "display_data",
          "data": {
            "image/png": "[encoded data removed]",
            "text/plain": [
              "<Figure size 432x288 with 1 Axes>"
            ]
          },
          "metadata": {
            "tags": [],
            "needs_background": "light"
          }
        }
      ]
    },
    {
      "cell_type": "code",
      "metadata": {
        "colab": {
          "base_uri": "https://localhost:8080/",
          "height": 298
        },
        "id": "u2_Y-jRt-XV8",
        "outputId": "cef26141-53de-4507-82bb-3dfef26f3ad4"
      },
      "source": [
        "# 우리나라의 연도별 Happiness Score의 상위 백분위 변화를 line plot으로 나타냄\n",
        "\n",
        "fig=plt.figure(figsize=(6,4))\n",
        "\n",
        "plt.plot([2017,2018,2019,2020,2021], KoreaPercentList, 'orange')\n",
        "plt.title(\"Korea Happiness Score Percentage 2017-2021\", fontsize=12)\n",
        "plt.xlabel('Year', fontsize=12)\n",
        "plt.ylabel('Percenrt Rank', fontsize=12)\n",
        "plt.grid()\n",
        "plt.show()\n",
        "\n",
        "# 상위 백분위는 순위에 따라 결정되는 값이므로 우리나라의 연도별 Happiness Score의 순위 그래프와 동일한 형태"
      ],
      "execution_count": 42,
      "outputs": [
        {
          "output_type": "display_data",
          "data": {
            "image/png": "[encoded data removed]",
            "text/plain": [
              "<Figure size 432x288 with 1 Axes>"
            ]
          },
          "metadata": {
            "tags": [],
            "needs_background": "light"
          }
        }
      ]
    }
  ]
}