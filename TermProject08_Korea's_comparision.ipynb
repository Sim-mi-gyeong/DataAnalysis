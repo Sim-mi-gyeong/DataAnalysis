{
  "nbformat": 4,
  "nbformat_minor": 0,
  "metadata": {
    "colab": {
      "name": "TermProject08-Korea's comparision.ipynb",
      "provenance": [],
      "collapsed_sections": [],
      "authorship_tag": "ABX9TyMTxnMxhPKyM6qQ/7e48FSR",
      "include_colab_link": true
    },
    "kernelspec": {
      "name": "python3",
      "display_name": "Python 3"
    },
    "language_info": {
      "name": "python"
    }
  },
  "cells": [
    {
      "cell_type": "markdown",
      "metadata": {
        "id": "view-in-github",
        "colab_type": "text"
      },
      "source": [
        "<a href=\"https://colab.research.google.com/github/Sim-mi-gyeong/DataAnalysis/blob/main/TermProject08_Korea's_comparision.ipynb\" target=\"_parent\"><img src=\"https://colab.research.google.com/assets/colab-badge.svg\" alt=\"Open In Colab\"/></a>"
      ]
    },
    {
      "cell_type": "code",
      "metadata": {
        "id": "DloCBU44HYRa"
      },
      "source": [
        "import numpy as np\n",
        "import pandas as pd\n",
        "import seaborn as sns\n",
        "import matplotlib.pyplot as plt\n",
        "import warnings\n",
        "warnings.filterwarnings(\"ignore\")"
      ],
      "execution_count": 1,
      "outputs": []
    },
    {
      "cell_type": "code",
      "metadata": {
        "colab": {
          "base_uri": "https://localhost:8080/"
        },
        "id": "GQGnnorIHZDe",
        "outputId": "bf0fe4a4-447a-46eb-a822-8e4ce90b244e"
      },
      "source": [
        "from google.colab import drive\n",
        "drive.mount('/content/drive')"
      ],
      "execution_count": 2,
      "outputs": [
        {
          "output_type": "stream",
          "text": [
            "Mounted at /content/drive\n"
          ],
          "name": "stdout"
        }
      ]
    },
    {
      "cell_type": "code",
      "metadata": {
        "id": "F5AWhYYLHa6g"
      },
      "source": [
        "df2017=pd.read_csv('/content/drive/MyDrive/dataset/2017.csv')\n",
        "df2018=pd.read_csv('/content/drive/MyDrive/dataset/2018.csv')\n",
        "df2019=pd.read_csv('/content/drive/MyDrive/dataset/2019.csv')\n",
        "df2020=pd.read_csv('/content/drive/MyDrive/dataset/2020.csv')\n",
        "df2021=pd.read_csv('/content/drive/MyDrive/dataset/2021.csv')"
      ],
      "execution_count": 22,
      "outputs": []
    },
    {
      "cell_type": "code",
      "metadata": {
        "id": "GZsYcacMHjVJ"
      },
      "source": [
        "df2018['Perceptions of corruption']=df2018['Perceptions of corruption'].fillna(df2018['Perceptions of corruption'].mean())"
      ],
      "execution_count": 23,
      "outputs": []
    },
    {
      "cell_type": "code",
      "metadata": {
        "colab": {
          "base_uri": "https://localhost:8080/"
        },
        "id": "xCLOezFiIFmi",
        "outputId": "f6906999-cf23-458f-8bb1-acf07b7c3231"
      },
      "source": [
        "df2018.isnull().sum()"
      ],
      "execution_count": 24,
      "outputs": [
        {
          "output_type": "execute_result",
          "data": {
            "text/plain": [
              "Country                         0\n",
              "Regional indicator              0\n",
              "Score                           0\n",
              "GDP per capita                  0\n",
              "Healthy life expectancy         0\n",
              "Freedom to make life choices    0\n",
              "Generosity                      0\n",
              "Perceptions of corruption       0\n",
              "dtype: int64"
            ]
          },
          "metadata": {
            "tags": []
          },
          "execution_count": 24
        }
      ]
    },
    {
      "cell_type": "code",
      "metadata": {
        "colab": {
          "base_uri": "https://localhost:8080/",
          "height": 660
        },
        "id": "mGeuTJhNIG3x",
        "outputId": "5e800135-27b8-41c7-81d1-2ee8bcccec5a"
      },
      "source": [
        "df2017['Year']=2017\n",
        "df2018['Year']=2018\n",
        "df2019['Year']=2019\n",
        "df2020['Year']=2020\n",
        "df2021['Year']=2021\n",
        "\n",
        "df=df2017.append([df2018, df2019, df2020, df2021])\n",
        "df"
      ],
      "execution_count": 25,
      "outputs": [
        {
          "output_type": "execute_result",
          "data": {
            "text/html": [
              "<div>\n",
              "<style scoped>\n",
              "    .dataframe tbody tr th:only-of-type {\n",
              "        vertical-align: middle;\n",
              "    }\n",
              "\n",
              "    .dataframe tbody tr th {\n",
              "        vertical-align: top;\n",
              "    }\n",
              "\n",
              "    .dataframe thead th {\n",
              "        text-align: right;\n",
              "    }\n",
              "</style>\n",
              "<table border=\"1\" class=\"dataframe\">\n",
              "  <thead>\n",
              "    <tr style=\"text-align: right;\">\n",
              "      <th></th>\n",
              "      <th>Country</th>\n",
              "      <th>Regional indicator</th>\n",
              "      <th>Score</th>\n",
              "      <th>GDP per capita</th>\n",
              "      <th>Healthy life expectancy</th>\n",
              "      <th>Freedom to make life choices</th>\n",
              "      <th>Generosity</th>\n",
              "      <th>Perceptions of corruption</th>\n",
              "      <th>Year</th>\n",
              "    </tr>\n",
              "  </thead>\n",
              "  <tbody>\n",
              "    <tr>\n",
              "      <th>0</th>\n",
              "      <td>Afghanistan</td>\n",
              "      <td>South Asia</td>\n",
              "      <td>3.794</td>\n",
              "      <td>0.401477</td>\n",
              "      <td>0.180747</td>\n",
              "      <td>0.106180</td>\n",
              "      <td>0.311871</td>\n",
              "      <td>0.061158</td>\n",
              "      <td>2017</td>\n",
              "    </tr>\n",
              "    <tr>\n",
              "      <th>1</th>\n",
              "      <td>Albania</td>\n",
              "      <td>Central and Eastern Europe</td>\n",
              "      <td>4.644</td>\n",
              "      <td>0.996193</td>\n",
              "      <td>0.731160</td>\n",
              "      <td>0.381499</td>\n",
              "      <td>0.201313</td>\n",
              "      <td>0.039864</td>\n",
              "      <td>2017</td>\n",
              "    </tr>\n",
              "    <tr>\n",
              "      <th>2</th>\n",
              "      <td>Algeria</td>\n",
              "      <td>Middle East and North Africa</td>\n",
              "      <td>5.872</td>\n",
              "      <td>1.091864</td>\n",
              "      <td>0.617585</td>\n",
              "      <td>0.233336</td>\n",
              "      <td>0.069437</td>\n",
              "      <td>0.146096</td>\n",
              "      <td>2017</td>\n",
              "    </tr>\n",
              "    <tr>\n",
              "      <th>3</th>\n",
              "      <td>Angola</td>\n",
              "      <td>Latin America and Caribbean</td>\n",
              "      <td>3.795</td>\n",
              "      <td>0.858428</td>\n",
              "      <td>0.049869</td>\n",
              "      <td>0.000000</td>\n",
              "      <td>0.097926</td>\n",
              "      <td>0.069720</td>\n",
              "      <td>2017</td>\n",
              "    </tr>\n",
              "    <tr>\n",
              "      <th>4</th>\n",
              "      <td>Argentina</td>\n",
              "      <td>Commonwealth of Independent States</td>\n",
              "      <td>6.599</td>\n",
              "      <td>1.185295</td>\n",
              "      <td>0.695137</td>\n",
              "      <td>0.494519</td>\n",
              "      <td>0.109457</td>\n",
              "      <td>0.059740</td>\n",
              "      <td>2017</td>\n",
              "    </tr>\n",
              "    <tr>\n",
              "      <th>...</th>\n",
              "      <td>...</td>\n",
              "      <td>...</td>\n",
              "      <td>...</td>\n",
              "      <td>...</td>\n",
              "      <td>...</td>\n",
              "      <td>...</td>\n",
              "      <td>...</td>\n",
              "      <td>...</td>\n",
              "      <td>...</td>\n",
              "    </tr>\n",
              "    <tr>\n",
              "      <th>142</th>\n",
              "      <td>Venezuela</td>\n",
              "      <td>Latin America and Caribbean</td>\n",
              "      <td>4.892</td>\n",
              "      <td>0.852000</td>\n",
              "      <td>0.574000</td>\n",
              "      <td>0.615000</td>\n",
              "      <td>-0.169000</td>\n",
              "      <td>0.827000</td>\n",
              "      <td>2021</td>\n",
              "    </tr>\n",
              "    <tr>\n",
              "      <th>143</th>\n",
              "      <td>Vietnam</td>\n",
              "      <td>Southeast Asia</td>\n",
              "      <td>5.411</td>\n",
              "      <td>0.817000</td>\n",
              "      <td>0.616000</td>\n",
              "      <td>0.940000</td>\n",
              "      <td>-0.098000</td>\n",
              "      <td>0.796000</td>\n",
              "      <td>2021</td>\n",
              "    </tr>\n",
              "    <tr>\n",
              "      <th>144</th>\n",
              "      <td>Yemen</td>\n",
              "      <td>Middle East and North Africa</td>\n",
              "      <td>3.658</td>\n",
              "      <td>0.329000</td>\n",
              "      <td>0.272000</td>\n",
              "      <td>0.602000</td>\n",
              "      <td>-0.147000</td>\n",
              "      <td>0.800000</td>\n",
              "      <td>2021</td>\n",
              "    </tr>\n",
              "    <tr>\n",
              "      <th>145</th>\n",
              "      <td>Zambia</td>\n",
              "      <td>Sub-Saharan Africa</td>\n",
              "      <td>4.073</td>\n",
              "      <td>0.528000</td>\n",
              "      <td>0.231000</td>\n",
              "      <td>0.782000</td>\n",
              "      <td>0.061000</td>\n",
              "      <td>0.823000</td>\n",
              "      <td>2021</td>\n",
              "    </tr>\n",
              "    <tr>\n",
              "      <th>146</th>\n",
              "      <td>Zimbabwe</td>\n",
              "      <td>Sub-Saharan Africa</td>\n",
              "      <td>3.145</td>\n",
              "      <td>0.457000</td>\n",
              "      <td>0.243000</td>\n",
              "      <td>0.677000</td>\n",
              "      <td>-0.047000</td>\n",
              "      <td>0.821000</td>\n",
              "      <td>2021</td>\n",
              "    </tr>\n",
              "  </tbody>\n",
              "</table>\n",
              "<p>735 rows × 9 columns</p>\n",
              "</div>"
            ],
            "text/plain": [
              "         Country  ...  Year\n",
              "0    Afghanistan  ...  2017\n",
              "1        Albania  ...  2017\n",
              "2        Algeria  ...  2017\n",
              "3         Angola  ...  2017\n",
              "4      Argentina  ...  2017\n",
              "..           ...  ...   ...\n",
              "142    Venezuela  ...  2021\n",
              "143      Vietnam  ...  2021\n",
              "144        Yemen  ...  2021\n",
              "145       Zambia  ...  2021\n",
              "146     Zimbabwe  ...  2021\n",
              "\n",
              "[735 rows x 9 columns]"
            ]
          },
          "metadata": {
            "tags": []
          },
          "execution_count": 25
        }
      ]
    },
    {
      "cell_type": "code",
      "metadata": {
        "colab": {
          "base_uri": "https://localhost:8080/",
          "height": 367
        },
        "id": "ytzHbDJ_IKo2",
        "outputId": "8ac696aa-5910-49e3-dc97-bc30ecbb3a3a"
      },
      "source": [
        "df_Korea=df[df['Country']=='South Korea']\n",
        "df_Korea"
      ],
      "execution_count": 26,
      "outputs": [
        {
          "output_type": "execute_result",
          "data": {
            "text/html": [
              "<div>\n",
              "<style scoped>\n",
              "    .dataframe tbody tr th:only-of-type {\n",
              "        vertical-align: middle;\n",
              "    }\n",
              "\n",
              "    .dataframe tbody tr th {\n",
              "        vertical-align: top;\n",
              "    }\n",
              "\n",
              "    .dataframe thead th {\n",
              "        text-align: right;\n",
              "    }\n",
              "</style>\n",
              "<table border=\"1\" class=\"dataframe\">\n",
              "  <thead>\n",
              "    <tr style=\"text-align: right;\">\n",
              "      <th></th>\n",
              "      <th>Country</th>\n",
              "      <th>Regional indicator</th>\n",
              "      <th>Score</th>\n",
              "      <th>GDP per capita</th>\n",
              "      <th>Healthy life expectancy</th>\n",
              "      <th>Freedom to make life choices</th>\n",
              "      <th>Generosity</th>\n",
              "      <th>Perceptions of corruption</th>\n",
              "      <th>Year</th>\n",
              "    </tr>\n",
              "  </thead>\n",
              "  <tbody>\n",
              "    <tr>\n",
              "      <th>120</th>\n",
              "      <td>South Korea</td>\n",
              "      <td>Sub-Saharan Africa</td>\n",
              "      <td>5.8380</td>\n",
              "      <td>1.401678</td>\n",
              "      <td>0.900214</td>\n",
              "      <td>0.257922</td>\n",
              "      <td>0.206674</td>\n",
              "      <td>0.063283</td>\n",
              "      <td>2017</td>\n",
              "    </tr>\n",
              "    <tr>\n",
              "      <th>121</th>\n",
              "      <td>South Korea</td>\n",
              "      <td>East Asia</td>\n",
              "      <td>5.8750</td>\n",
              "      <td>1.266000</td>\n",
              "      <td>0.955000</td>\n",
              "      <td>0.244000</td>\n",
              "      <td>0.175000</td>\n",
              "      <td>0.051000</td>\n",
              "      <td>2018</td>\n",
              "    </tr>\n",
              "    <tr>\n",
              "      <th>121</th>\n",
              "      <td>South Korea</td>\n",
              "      <td>East Asia</td>\n",
              "      <td>5.8950</td>\n",
              "      <td>1.301000</td>\n",
              "      <td>1.036000</td>\n",
              "      <td>0.159000</td>\n",
              "      <td>0.175000</td>\n",
              "      <td>0.056000</td>\n",
              "      <td>2019</td>\n",
              "    </tr>\n",
              "    <tr>\n",
              "      <th>121</th>\n",
              "      <td>South Korea</td>\n",
              "      <td>East Asia</td>\n",
              "      <td>5.8724</td>\n",
              "      <td>5.785993</td>\n",
              "      <td>0.799387</td>\n",
              "      <td>0.736027</td>\n",
              "      <td>0.612965</td>\n",
              "      <td>-0.043404</td>\n",
              "      <td>2020</td>\n",
              "    </tr>\n",
              "    <tr>\n",
              "      <th>121</th>\n",
              "      <td>South Korea</td>\n",
              "      <td>East Asia</td>\n",
              "      <td>5.8450</td>\n",
              "      <td>1.403000</td>\n",
              "      <td>0.801000</td>\n",
              "      <td>0.672000</td>\n",
              "      <td>-0.083000</td>\n",
              "      <td>0.727000</td>\n",
              "      <td>2021</td>\n",
              "    </tr>\n",
              "  </tbody>\n",
              "</table>\n",
              "</div>"
            ],
            "text/plain": [
              "         Country  Regional indicator  ...  Perceptions of corruption  Year\n",
              "120  South Korea  Sub-Saharan Africa  ...                   0.063283  2017\n",
              "121  South Korea           East Asia  ...                   0.051000  2018\n",
              "121  South Korea           East Asia  ...                   0.056000  2019\n",
              "121  South Korea           East Asia  ...                  -0.043404  2020\n",
              "121  South Korea           East Asia  ...                   0.727000  2021\n",
              "\n",
              "[5 rows x 9 columns]"
            ]
          },
          "metadata": {
            "tags": []
          },
          "execution_count": 26
        }
      ]
    },
    {
      "cell_type": "code",
      "metadata": {
        "colab": {
          "base_uri": "https://localhost:8080/"
        },
        "id": "XwyjPOqGIZW6",
        "outputId": "bb57f516-2a9c-415a-8a2f-24389b4bce90"
      },
      "source": [
        "df2017['Score'].mean(), df2017['GDP per capita'].mean(), df2017['Healthy life expectancy'].mean() ,df2017['Freedom to make life choices'].mean(), df2017['Generosity'].mean(), df2017['Perceptions of corruption'].mean()\n",
        "#df2017['GDP per capita'].mean()\n",
        "#df2017['Healthy life expectancy'].mean()\n",
        "#df2017['Freedom to make life choices'].mean()\n",
        "#df2017['Generosity'].mean()\n",
        "#df2017['Perceptions of corruption'].mean()"
      ],
      "execution_count": 27,
      "outputs": [
        {
          "output_type": "execute_result",
          "data": {
            "text/plain": [
              "(5.383870742761899,\n",
              " 0.9995728654693878,\n",
              " 0.5618997115918367,\n",
              " 0.40922195661224486,\n",
              " 0.24339263817687087,\n",
              " 0.12167143994557825)"
            ]
          },
          "metadata": {
            "tags": []
          },
          "execution_count": 27
        }
      ]
    },
    {
      "cell_type": "code",
      "metadata": {
        "colab": {
          "base_uri": "https://localhost:8080/"
        },
        "id": "cxICmqphJBI1",
        "outputId": "4085ca15-8cee-4a77-e9c9-977ccb12ea64"
      },
      "source": [
        "mean2017=df2017.iloc[:,:-1].mean()\n",
        "mean2017"
      ],
      "execution_count": 28,
      "outputs": [
        {
          "output_type": "execute_result",
          "data": {
            "text/plain": [
              "Score                           5.383871\n",
              "GDP per capita                  0.999573\n",
              "Healthy life expectancy         0.561900\n",
              "Freedom to make life choices    0.409222\n",
              "Generosity                      0.243393\n",
              "Perceptions of corruption       0.121671\n",
              "dtype: float64"
            ]
          },
          "metadata": {
            "tags": []
          },
          "execution_count": 28
        }
      ]
    },
    {
      "cell_type": "code",
      "metadata": {
        "colab": {
          "base_uri": "https://localhost:8080/"
        },
        "id": "2xVeNBkBKv--",
        "outputId": "da8ab21c-318c-43ae-ea04-2a29220569b6"
      },
      "source": [
        "mean2018=df2018.iloc[:,:-1].mean()\n",
        "mean2018"
      ],
      "execution_count": 29,
      "outputs": [
        {
          "output_type": "execute_result",
          "data": {
            "text/plain": [
              "Score                           5.415694\n",
              "GDP per capita                  0.907510\n",
              "Healthy life expectancy         0.611143\n",
              "Freedom to make life choices    0.457959\n",
              "Generosity                      0.178653\n",
              "Perceptions of corruption       0.112240\n",
              "dtype: float64"
            ]
          },
          "metadata": {
            "tags": []
          },
          "execution_count": 29
        }
      ]
    },
    {
      "cell_type": "code",
      "metadata": {
        "colab": {
          "base_uri": "https://localhost:8080/"
        },
        "id": "2VWC480OLBrw",
        "outputId": "5276743e-355a-4315-f6c5-5943ecc2280e"
      },
      "source": [
        "mean2019=df2019.iloc[:,:-1].mean()\n",
        "mean2019"
      ],
      "execution_count": 30,
      "outputs": [
        {
          "output_type": "execute_result",
          "data": {
            "text/plain": [
              "Score                           5.456469\n",
              "GDP per capita                  0.921408\n",
              "Healthy life expectancy         0.739095\n",
              "Freedom to make life choices    0.396728\n",
              "Generosity                      0.181313\n",
              "Perceptions of corruption       0.110748\n",
              "dtype: float64"
            ]
          },
          "metadata": {
            "tags": []
          },
          "execution_count": 30
        }
      ]
    },
    {
      "cell_type": "code",
      "metadata": {
        "colab": {
          "base_uri": "https://localhost:8080/"
        },
        "id": "wc5xp97yLDAC",
        "outputId": "26840770-080d-47d0-fc11-f760affa6dbf"
      },
      "source": [
        "mean2020=df2020.iloc[:,:-1].mean()\n",
        "mean2020"
      ],
      "execution_count": 31,
      "outputs": [
        {
          "output_type": "execute_result",
          "data": {
            "text/plain": [
              "Score                           5.511924\n",
              "GDP per capita                  5.410239\n",
              "Healthy life expectancy         0.813198\n",
              "Freedom to make life choices    0.646902\n",
              "Generosity                      0.786465\n",
              "Perceptions of corruption      -0.016532\n",
              "dtype: float64"
            ]
          },
          "metadata": {
            "tags": []
          },
          "execution_count": 31
        }
      ]
    },
    {
      "cell_type": "code",
      "metadata": {
        "colab": {
          "base_uri": "https://localhost:8080/"
        },
        "id": "1e-k-RGxLEU1",
        "outputId": "05d2aa27-f9e1-462c-b775-ae83f5cfc379"
      },
      "source": [
        "mean2021=df2021.iloc[:,:-1].mean()\n",
        "mean2021"
      ],
      "execution_count": 32,
      "outputs": [
        {
          "output_type": "execute_result",
          "data": {
            "text/plain": [
              "Score                           5.538054\n",
              "GDP per capita                  0.975605\n",
              "Healthy life expectancy         0.518857\n",
              "Freedom to make life choices    0.791449\n",
              "Generosity                     -0.015762\n",
              "Perceptions of corruption       0.725578\n",
              "dtype: float64"
            ]
          },
          "metadata": {
            "tags": []
          },
          "execution_count": 32
        }
      ]
    },
    {
      "cell_type": "code",
      "metadata": {
        "colab": {
          "base_uri": "https://localhost:8080/",
          "height": 660
        },
        "id": "tcvI2v8CLFik",
        "outputId": "c1b71502-dfe0-4e0b-d987-c691c2fc484b"
      },
      "source": [
        "df2020\n",
        "# 2020에서 Freedom to make life choices-> column 수정"
      ],
      "execution_count": 33,
      "outputs": [
        {
          "output_type": "execute_result",
          "data": {
            "text/html": [
              "<div>\n",
              "<style scoped>\n",
              "    .dataframe tbody tr th:only-of-type {\n",
              "        vertical-align: middle;\n",
              "    }\n",
              "\n",
              "    .dataframe tbody tr th {\n",
              "        vertical-align: top;\n",
              "    }\n",
              "\n",
              "    .dataframe thead th {\n",
              "        text-align: right;\n",
              "    }\n",
              "</style>\n",
              "<table border=\"1\" class=\"dataframe\">\n",
              "  <thead>\n",
              "    <tr style=\"text-align: right;\">\n",
              "      <th></th>\n",
              "      <th>Country</th>\n",
              "      <th>Regional indicator</th>\n",
              "      <th>Score</th>\n",
              "      <th>GDP per capita</th>\n",
              "      <th>Healthy life expectancy</th>\n",
              "      <th>Freedom to make life choices</th>\n",
              "      <th>Generosity</th>\n",
              "      <th>Perceptions of corruption</th>\n",
              "      <th>Year</th>\n",
              "    </tr>\n",
              "  </thead>\n",
              "  <tbody>\n",
              "    <tr>\n",
              "      <th>0</th>\n",
              "      <td>Afghanistan</td>\n",
              "      <td>South Asia</td>\n",
              "      <td>2.5669</td>\n",
              "      <td>2.505530</td>\n",
              "      <td>0.470367</td>\n",
              "      <td>0.525900</td>\n",
              "      <td>0.396573</td>\n",
              "      <td>-0.096429</td>\n",
              "      <td>2020</td>\n",
              "    </tr>\n",
              "    <tr>\n",
              "      <th>1</th>\n",
              "      <td>Albania</td>\n",
              "      <td>Central and Eastern Europe</td>\n",
              "      <td>4.8827</td>\n",
              "      <td>4.772713</td>\n",
              "      <td>0.671070</td>\n",
              "      <td>0.687081</td>\n",
              "      <td>0.781994</td>\n",
              "      <td>-0.042309</td>\n",
              "      <td>2020</td>\n",
              "    </tr>\n",
              "    <tr>\n",
              "      <th>2</th>\n",
              "      <td>Algeria</td>\n",
              "      <td>Middle East and North Africa</td>\n",
              "      <td>5.0051</td>\n",
              "      <td>4.918397</td>\n",
              "      <td>0.803385</td>\n",
              "      <td>0.659052</td>\n",
              "      <td>0.466611</td>\n",
              "      <td>-0.121105</td>\n",
              "      <td>2020</td>\n",
              "    </tr>\n",
              "    <tr>\n",
              "      <th>3</th>\n",
              "      <td>Argentina</td>\n",
              "      <td>Latin America and Caribbean</td>\n",
              "      <td>5.9747</td>\n",
              "      <td>5.869954</td>\n",
              "      <td>0.900568</td>\n",
              "      <td>0.688038</td>\n",
              "      <td>0.831132</td>\n",
              "      <td>-0.194914</td>\n",
              "      <td>2020</td>\n",
              "    </tr>\n",
              "    <tr>\n",
              "      <th>4</th>\n",
              "      <td>Armenia</td>\n",
              "      <td>Commonwealth of Independent States</td>\n",
              "      <td>4.6768</td>\n",
              "      <td>4.561953</td>\n",
              "      <td>0.757479</td>\n",
              "      <td>0.667507</td>\n",
              "      <td>0.712018</td>\n",
              "      <td>-0.138780</td>\n",
              "      <td>2020</td>\n",
              "    </tr>\n",
              "    <tr>\n",
              "      <th>...</th>\n",
              "      <td>...</td>\n",
              "      <td>...</td>\n",
              "      <td>...</td>\n",
              "      <td>...</td>\n",
              "      <td>...</td>\n",
              "      <td>...</td>\n",
              "      <td>...</td>\n",
              "      <td>...</td>\n",
              "      <td>...</td>\n",
              "    </tr>\n",
              "    <tr>\n",
              "      <th>142</th>\n",
              "      <td>Venezuela</td>\n",
              "      <td>Latin America and Caribbean</td>\n",
              "      <td>5.0532</td>\n",
              "      <td>4.927210</td>\n",
              "      <td>0.890408</td>\n",
              "      <td>0.665053</td>\n",
              "      <td>0.623278</td>\n",
              "      <td>-0.169091</td>\n",
              "      <td>2020</td>\n",
              "    </tr>\n",
              "    <tr>\n",
              "      <th>143</th>\n",
              "      <td>Vietnam</td>\n",
              "      <td>Southeast Asia</td>\n",
              "      <td>5.3535</td>\n",
              "      <td>5.287251</td>\n",
              "      <td>0.849987</td>\n",
              "      <td>0.679527</td>\n",
              "      <td>0.939593</td>\n",
              "      <td>-0.094533</td>\n",
              "      <td>2020</td>\n",
              "    </tr>\n",
              "    <tr>\n",
              "      <th>144</th>\n",
              "      <td>Yemen</td>\n",
              "      <td>Middle East and North Africa</td>\n",
              "      <td>3.5274</td>\n",
              "      <td>3.421250</td>\n",
              "      <td>0.817981</td>\n",
              "      <td>0.567273</td>\n",
              "      <td>0.599920</td>\n",
              "      <td>-0.157735</td>\n",
              "      <td>2020</td>\n",
              "    </tr>\n",
              "    <tr>\n",
              "      <th>145</th>\n",
              "      <td>Zambia</td>\n",
              "      <td>Sub-Saharan Africa</td>\n",
              "      <td>3.7594</td>\n",
              "      <td>3.640474</td>\n",
              "      <td>0.698824</td>\n",
              "      <td>0.552994</td>\n",
              "      <td>0.806500</td>\n",
              "      <td>0.078037</td>\n",
              "      <td>2020</td>\n",
              "    </tr>\n",
              "    <tr>\n",
              "      <th>146</th>\n",
              "      <td>Zimbabwe</td>\n",
              "      <td>Sub-Saharan Africa</td>\n",
              "      <td>3.2992</td>\n",
              "      <td>3.184198</td>\n",
              "      <td>0.763093</td>\n",
              "      <td>0.556173</td>\n",
              "      <td>0.711458</td>\n",
              "      <td>-0.072064</td>\n",
              "      <td>2020</td>\n",
              "    </tr>\n",
              "  </tbody>\n",
              "</table>\n",
              "<p>147 rows × 9 columns</p>\n",
              "</div>"
            ],
            "text/plain": [
              "         Country  ...  Year\n",
              "0    Afghanistan  ...  2020\n",
              "1        Albania  ...  2020\n",
              "2        Algeria  ...  2020\n",
              "3      Argentina  ...  2020\n",
              "4        Armenia  ...  2020\n",
              "..           ...  ...   ...\n",
              "142    Venezuela  ...  2020\n",
              "143      Vietnam  ...  2020\n",
              "144        Yemen  ...  2020\n",
              "145       Zambia  ...  2020\n",
              "146     Zimbabwe  ...  2020\n",
              "\n",
              "[147 rows x 9 columns]"
            ]
          },
          "metadata": {
            "tags": []
          },
          "execution_count": 33
        }
      ]
    },
    {
      "cell_type": "code",
      "metadata": {
        "id": "T8iB4_ERLM3a"
      },
      "source": [
        "df_mean=pd.DataFrame(data=[mean2017, mean2018, mean2019, mean2020, mean2021], index=[2017, 2018, 2019, 2020, 2021])"
      ],
      "execution_count": 97,
      "outputs": []
    },
    {
      "cell_type": "code",
      "metadata": {
        "colab": {
          "base_uri": "https://localhost:8080/"
        },
        "id": "SpbCmSCHIEOo",
        "outputId": "a0e54ce1-b045-4b00-80b4-bc63d8f48a2d"
      },
      "source": [
        "# pd.DataFrame(df_mean.iloc[0]).transpose()\n",
        "df_mean.loc[2017]"
      ],
      "execution_count": 98,
      "outputs": [
        {
          "output_type": "execute_result",
          "data": {
            "text/plain": [
              "Score                           5.383871\n",
              "GDP per capita                  0.999573\n",
              "Healthy life expectancy         0.561900\n",
              "Freedom to make life choices    0.409222\n",
              "Generosity                      0.243393\n",
              "Perceptions of corruption       0.121671\n",
              "Name: 2017, dtype: float64"
            ]
          },
          "metadata": {
            "tags": []
          },
          "execution_count": 98
        }
      ]
    },
    {
      "cell_type": "code",
      "metadata": {
        "colab": {
          "base_uri": "https://localhost:8080/"
        },
        "id": "S8D_6wiWRXck",
        "outputId": "26e39cfc-622d-455b-dda5-882e888e4e55"
      },
      "source": [
        "type(df_mean.loc[2017])"
      ],
      "execution_count": 74,
      "outputs": [
        {
          "output_type": "execute_result",
          "data": {
            "text/plain": [
              "pandas.core.series.Series"
            ]
          },
          "metadata": {
            "tags": []
          },
          "execution_count": 74
        }
      ]
    },
    {
      "cell_type": "code",
      "metadata": {
        "id": "kHVq166px5r7"
      },
      "source": [
        "df_mean=pd.DataFrame(data=[mean2017, mean2018, mean2019, mean2020, mean2021])"
      ],
      "execution_count": 86,
      "outputs": []
    },
    {
      "cell_type": "code",
      "metadata": {
        "id": "CNZfiTf2x83k"
      },
      "source": [
        "df_mean['Year']=[2017, 2018, 2019, 2020, 2021]"
      ],
      "execution_count": 87,
      "outputs": []
    },
    {
      "cell_type": "code",
      "metadata": {
        "colab": {
          "base_uri": "https://localhost:8080/",
          "height": 231
        },
        "id": "AV9gmDIhMLq6",
        "outputId": "54208154-a955-4776-a939-77d31ed2a2ef"
      },
      "source": [
        "df_mean"
      ],
      "execution_count": 49,
      "outputs": [
        {
          "output_type": "execute_result",
          "data": {
            "text/html": [
              "<div>\n",
              "<style scoped>\n",
              "    .dataframe tbody tr th:only-of-type {\n",
              "        vertical-align: middle;\n",
              "    }\n",
              "\n",
              "    .dataframe tbody tr th {\n",
              "        vertical-align: top;\n",
              "    }\n",
              "\n",
              "    .dataframe thead th {\n",
              "        text-align: right;\n",
              "    }\n",
              "</style>\n",
              "<table border=\"1\" class=\"dataframe\">\n",
              "  <thead>\n",
              "    <tr style=\"text-align: right;\">\n",
              "      <th></th>\n",
              "      <th>Score</th>\n",
              "      <th>GDP per capita</th>\n",
              "      <th>Healthy life expectancy</th>\n",
              "      <th>Freedom to make life choices</th>\n",
              "      <th>Generosity</th>\n",
              "      <th>Perceptions of corruption</th>\n",
              "      <th>Year</th>\n",
              "    </tr>\n",
              "  </thead>\n",
              "  <tbody>\n",
              "    <tr>\n",
              "      <th>0</th>\n",
              "      <td>5.383871</td>\n",
              "      <td>0.999573</td>\n",
              "      <td>0.561900</td>\n",
              "      <td>0.409222</td>\n",
              "      <td>0.243393</td>\n",
              "      <td>0.121671</td>\n",
              "      <td>2017</td>\n",
              "    </tr>\n",
              "    <tr>\n",
              "      <th>1</th>\n",
              "      <td>5.415694</td>\n",
              "      <td>0.907510</td>\n",
              "      <td>0.611143</td>\n",
              "      <td>0.457959</td>\n",
              "      <td>0.178653</td>\n",
              "      <td>0.112240</td>\n",
              "      <td>2018</td>\n",
              "    </tr>\n",
              "    <tr>\n",
              "      <th>2</th>\n",
              "      <td>5.456469</td>\n",
              "      <td>0.921408</td>\n",
              "      <td>0.739095</td>\n",
              "      <td>0.396728</td>\n",
              "      <td>0.181313</td>\n",
              "      <td>0.110748</td>\n",
              "      <td>2019</td>\n",
              "    </tr>\n",
              "    <tr>\n",
              "      <th>3</th>\n",
              "      <td>5.511924</td>\n",
              "      <td>5.410239</td>\n",
              "      <td>0.813198</td>\n",
              "      <td>0.646902</td>\n",
              "      <td>0.786465</td>\n",
              "      <td>-0.016532</td>\n",
              "      <td>2020</td>\n",
              "    </tr>\n",
              "    <tr>\n",
              "      <th>4</th>\n",
              "      <td>5.538054</td>\n",
              "      <td>0.975605</td>\n",
              "      <td>0.518857</td>\n",
              "      <td>0.791449</td>\n",
              "      <td>-0.015762</td>\n",
              "      <td>0.725578</td>\n",
              "      <td>2021</td>\n",
              "    </tr>\n",
              "  </tbody>\n",
              "</table>\n",
              "</div>"
            ],
            "text/plain": [
              "      Score  GDP per capita  ...  Perceptions of corruption  Year\n",
              "0  5.383871        0.999573  ...                   0.121671  2017\n",
              "1  5.415694        0.907510  ...                   0.112240  2018\n",
              "2  5.456469        0.921408  ...                   0.110748  2019\n",
              "3  5.511924        5.410239  ...                  -0.016532  2020\n",
              "4  5.538054        0.975605  ...                   0.725578  2021\n",
              "\n",
              "[5 rows x 7 columns]"
            ]
          },
          "metadata": {
            "tags": []
          },
          "execution_count": 49
        }
      ]
    },
    {
      "cell_type": "code",
      "metadata": {
        "colab": {
          "base_uri": "https://localhost:8080/",
          "height": 367
        },
        "id": "JXLA9xzGMm5T",
        "outputId": "d8cf83db-b3f7-45ab-e565-3dbc23817acb"
      },
      "source": [
        "df_Korea"
      ],
      "execution_count": 36,
      "outputs": [
        {
          "output_type": "execute_result",
          "data": {
            "text/html": [
              "<div>\n",
              "<style scoped>\n",
              "    .dataframe tbody tr th:only-of-type {\n",
              "        vertical-align: middle;\n",
              "    }\n",
              "\n",
              "    .dataframe tbody tr th {\n",
              "        vertical-align: top;\n",
              "    }\n",
              "\n",
              "    .dataframe thead th {\n",
              "        text-align: right;\n",
              "    }\n",
              "</style>\n",
              "<table border=\"1\" class=\"dataframe\">\n",
              "  <thead>\n",
              "    <tr style=\"text-align: right;\">\n",
              "      <th></th>\n",
              "      <th>Country</th>\n",
              "      <th>Regional indicator</th>\n",
              "      <th>Score</th>\n",
              "      <th>GDP per capita</th>\n",
              "      <th>Healthy life expectancy</th>\n",
              "      <th>Freedom to make life choices</th>\n",
              "      <th>Generosity</th>\n",
              "      <th>Perceptions of corruption</th>\n",
              "      <th>Year</th>\n",
              "    </tr>\n",
              "  </thead>\n",
              "  <tbody>\n",
              "    <tr>\n",
              "      <th>120</th>\n",
              "      <td>South Korea</td>\n",
              "      <td>Sub-Saharan Africa</td>\n",
              "      <td>5.8380</td>\n",
              "      <td>1.401678</td>\n",
              "      <td>0.900214</td>\n",
              "      <td>0.257922</td>\n",
              "      <td>0.206674</td>\n",
              "      <td>0.063283</td>\n",
              "      <td>2017</td>\n",
              "    </tr>\n",
              "    <tr>\n",
              "      <th>121</th>\n",
              "      <td>South Korea</td>\n",
              "      <td>East Asia</td>\n",
              "      <td>5.8750</td>\n",
              "      <td>1.266000</td>\n",
              "      <td>0.955000</td>\n",
              "      <td>0.244000</td>\n",
              "      <td>0.175000</td>\n",
              "      <td>0.051000</td>\n",
              "      <td>2018</td>\n",
              "    </tr>\n",
              "    <tr>\n",
              "      <th>121</th>\n",
              "      <td>South Korea</td>\n",
              "      <td>East Asia</td>\n",
              "      <td>5.8950</td>\n",
              "      <td>1.301000</td>\n",
              "      <td>1.036000</td>\n",
              "      <td>0.159000</td>\n",
              "      <td>0.175000</td>\n",
              "      <td>0.056000</td>\n",
              "      <td>2019</td>\n",
              "    </tr>\n",
              "    <tr>\n",
              "      <th>121</th>\n",
              "      <td>South Korea</td>\n",
              "      <td>East Asia</td>\n",
              "      <td>5.8724</td>\n",
              "      <td>5.785993</td>\n",
              "      <td>0.799387</td>\n",
              "      <td>0.736027</td>\n",
              "      <td>0.612965</td>\n",
              "      <td>-0.043404</td>\n",
              "      <td>2020</td>\n",
              "    </tr>\n",
              "    <tr>\n",
              "      <th>121</th>\n",
              "      <td>South Korea</td>\n",
              "      <td>East Asia</td>\n",
              "      <td>5.8450</td>\n",
              "      <td>1.403000</td>\n",
              "      <td>0.801000</td>\n",
              "      <td>0.672000</td>\n",
              "      <td>-0.083000</td>\n",
              "      <td>0.727000</td>\n",
              "      <td>2021</td>\n",
              "    </tr>\n",
              "  </tbody>\n",
              "</table>\n",
              "</div>"
            ],
            "text/plain": [
              "         Country  Regional indicator  ...  Perceptions of corruption  Year\n",
              "120  South Korea  Sub-Saharan Africa  ...                   0.063283  2017\n",
              "121  South Korea           East Asia  ...                   0.051000  2018\n",
              "121  South Korea           East Asia  ...                   0.056000  2019\n",
              "121  South Korea           East Asia  ...                  -0.043404  2020\n",
              "121  South Korea           East Asia  ...                   0.727000  2021\n",
              "\n",
              "[5 rows x 9 columns]"
            ]
          },
          "metadata": {
            "tags": []
          },
          "execution_count": 36
        }
      ]
    },
    {
      "cell_type": "code",
      "metadata": {
        "colab": {
          "base_uri": "https://localhost:8080/",
          "height": 181
        },
        "id": "Y1-U0qyHM943",
        "outputId": "892d3827-41e1-4868-8f82-01dd6382598f"
      },
      "source": [
        "df_Korea2017=df_Korea[df_Korea['Year']==2017]\n",
        "df_Korea2017"
      ],
      "execution_count": 37,
      "outputs": [
        {
          "output_type": "execute_result",
          "data": {
            "text/html": [
              "<div>\n",
              "<style scoped>\n",
              "    .dataframe tbody tr th:only-of-type {\n",
              "        vertical-align: middle;\n",
              "    }\n",
              "\n",
              "    .dataframe tbody tr th {\n",
              "        vertical-align: top;\n",
              "    }\n",
              "\n",
              "    .dataframe thead th {\n",
              "        text-align: right;\n",
              "    }\n",
              "</style>\n",
              "<table border=\"1\" class=\"dataframe\">\n",
              "  <thead>\n",
              "    <tr style=\"text-align: right;\">\n",
              "      <th></th>\n",
              "      <th>Country</th>\n",
              "      <th>Regional indicator</th>\n",
              "      <th>Score</th>\n",
              "      <th>GDP per capita</th>\n",
              "      <th>Healthy life expectancy</th>\n",
              "      <th>Freedom to make life choices</th>\n",
              "      <th>Generosity</th>\n",
              "      <th>Perceptions of corruption</th>\n",
              "      <th>Year</th>\n",
              "    </tr>\n",
              "  </thead>\n",
              "  <tbody>\n",
              "    <tr>\n",
              "      <th>120</th>\n",
              "      <td>South Korea</td>\n",
              "      <td>Sub-Saharan Africa</td>\n",
              "      <td>5.838</td>\n",
              "      <td>1.401678</td>\n",
              "      <td>0.900214</td>\n",
              "      <td>0.257922</td>\n",
              "      <td>0.206674</td>\n",
              "      <td>0.063283</td>\n",
              "      <td>2017</td>\n",
              "    </tr>\n",
              "  </tbody>\n",
              "</table>\n",
              "</div>"
            ],
            "text/plain": [
              "         Country  Regional indicator  ...  Perceptions of corruption  Year\n",
              "120  South Korea  Sub-Saharan Africa  ...                   0.063283  2017\n",
              "\n",
              "[1 rows x 9 columns]"
            ]
          },
          "metadata": {
            "tags": []
          },
          "execution_count": 37
        }
      ]
    },
    {
      "cell_type": "code",
      "metadata": {
        "colab": {
          "base_uri": "https://localhost:8080/"
        },
        "id": "k2WvfRIRNKNh",
        "outputId": "41abc782-6981-4360-f80e-4d56bcc6a396"
      },
      "source": [
        "df_Korea2017['Score']"
      ],
      "execution_count": 38,
      "outputs": [
        {
          "output_type": "execute_result",
          "data": {
            "text/plain": [
              "120    5.838\n",
              "Name: Score, dtype: float64"
            ]
          },
          "metadata": {
            "tags": []
          },
          "execution_count": 38
        }
      ]
    },
    {
      "cell_type": "code",
      "metadata": {
        "colab": {
          "base_uri": "https://localhost:8080/",
          "height": 418
        },
        "id": "OGSUKqwrG4-A",
        "outputId": "7dbc5cb4-e3cc-41ed-fbe0-128f2ef3a1da"
      },
      "source": [
        "sns.barplot(data=df_mean)\n",
        "plt.xticks(rotation='vertical')"
      ],
      "execution_count": 92,
      "outputs": [
        {
          "output_type": "execute_result",
          "data": {
            "text/plain": [
              "(array([0, 1, 2, 3, 4, 5]), <a list of 6 Text major ticklabel objects>)"
            ]
          },
          "metadata": {
            "tags": []
          },
          "execution_count": 92
        },
        {
          "output_type": "display_data",
          "data": {
            "image/png": "[encoded data removed]",
            "text/plain": [
              "<Figure size 432x288 with 1 Axes>"
            ]
          },
          "metadata": {
            "tags": [],
            "needs_background": "light"
          }
        }
      ]
    },
    {
      "cell_type": "code",
      "metadata": {
        "colab": {
          "base_uri": "https://localhost:8080/",
          "height": 418
        },
        "id": "aToMKHHAUifr",
        "outputId": "16409e5b-af65-432c-b1e6-0100531d9077"
      },
      "source": [
        "sns.barplot(data=df_Korea)\n",
        "plt.xticks(rotation='vertical')"
      ],
      "execution_count": 93,
      "outputs": [
        {
          "output_type": "execute_result",
          "data": {
            "text/plain": [
              "(array([0, 1, 2, 3, 4, 5, 6]), <a list of 7 Text major ticklabel objects>)"
            ]
          },
          "metadata": {
            "tags": []
          },
          "execution_count": 93
        },
        {
          "output_type": "display_data",
          "data": {
            "image/png": "[encoded data removed]",
            "text/plain": [
              "<Figure size 432x288 with 1 Axes>"
            ]
          },
          "metadata": {
            "tags": [],
            "needs_background": "light"
          }
        }
      ]
    },
    {
      "cell_type": "code",
      "metadata": {
        "colab": {
          "base_uri": "https://localhost:8080/",
          "height": 1000
        },
        "id": "Mx5CESuIWQ2u",
        "outputId": "529ba857-1b47-43fa-888f-3b024ba80a0d"
      },
      "source": [
        "labels=[2017,2018,2019,2020,2021]\n",
        "\n",
        "ax=df_mean.plot.barh(rot=0)\n",
        "ax.set_yticklabels(labels)\n",
        "ax.set_yticklabels(ax.get_yticklabels(), fontsize=20)\n",
        "fig = plt.gcf()\n",
        "fig.set_size_inches(20,25)\n",
        "\n",
        "ax=df_Korea.drop('Year', axis=1).plot.barh(rot=0)\n",
        "ax.set_yticklabels(labels)\n",
        "ax.set_yticklabels(ax.get_yticklabels(), fontsize=20)\n",
        "fig = plt.gcf()\n",
        "fig.set_size_inches(20,25)\n",
        "\n",
        "ax=df_Korea.drop('Year', axis=1).plot.barh()\n",
        "\n",
        "plt.show()\n"
      ],
      "execution_count": 111,
      "outputs": [
        {
          "output_type": "display_data",
          "data": {
            "image/png": "[encoded data removed]",
            "text/plain": [
              "<Figure size 1440x1800 with 1 Axes>"
            ]
          },
          "metadata": {
            "tags": [],
            "needs_background": "light"
          }
        },
        {
          "output_type": "display_data",
          "data": {
            "image/png": "[encoded data removed]",
            "text/plain": [
              "<Figure size 1440x1800 with 1 Axes>"
            ]
          },
          "metadata": {
            "tags": [],
            "needs_background": "light"
          }
        }
      ]
    },
    {
      "cell_type": "code",
      "metadata": {
        "colab": {
          "base_uri": "https://localhost:8080/",
          "height": 231
        },
        "id": "MoLO_edxh_NT",
        "outputId": "a138dd6d-1593-4125-9d18-239f9229e915"
      },
      "source": [
        "df_mean"
      ],
      "execution_count": 122,
      "outputs": [
        {
          "output_type": "execute_result",
          "data": {
            "text/html": [
              "<div>\n",
              "<style scoped>\n",
              "    .dataframe tbody tr th:only-of-type {\n",
              "        vertical-align: middle;\n",
              "    }\n",
              "\n",
              "    .dataframe tbody tr th {\n",
              "        vertical-align: top;\n",
              "    }\n",
              "\n",
              "    .dataframe thead th {\n",
              "        text-align: right;\n",
              "    }\n",
              "</style>\n",
              "<table border=\"1\" class=\"dataframe\">\n",
              "  <thead>\n",
              "    <tr style=\"text-align: right;\">\n",
              "      <th></th>\n",
              "      <th>Score</th>\n",
              "      <th>GDP per capita</th>\n",
              "      <th>Healthy life expectancy</th>\n",
              "      <th>Freedom to make life choices</th>\n",
              "      <th>Generosity</th>\n",
              "      <th>Perceptions of corruption</th>\n",
              "    </tr>\n",
              "  </thead>\n",
              "  <tbody>\n",
              "    <tr>\n",
              "      <th>2017</th>\n",
              "      <td>5.383871</td>\n",
              "      <td>0.999573</td>\n",
              "      <td>0.561900</td>\n",
              "      <td>0.409222</td>\n",
              "      <td>0.243393</td>\n",
              "      <td>0.121671</td>\n",
              "    </tr>\n",
              "    <tr>\n",
              "      <th>2018</th>\n",
              "      <td>5.415694</td>\n",
              "      <td>0.907510</td>\n",
              "      <td>0.611143</td>\n",
              "      <td>0.457959</td>\n",
              "      <td>0.178653</td>\n",
              "      <td>0.112240</td>\n",
              "    </tr>\n",
              "    <tr>\n",
              "      <th>2019</th>\n",
              "      <td>5.456469</td>\n",
              "      <td>0.921408</td>\n",
              "      <td>0.739095</td>\n",
              "      <td>0.396728</td>\n",
              "      <td>0.181313</td>\n",
              "      <td>0.110748</td>\n",
              "    </tr>\n",
              "    <tr>\n",
              "      <th>2020</th>\n",
              "      <td>5.511924</td>\n",
              "      <td>5.410239</td>\n",
              "      <td>0.813198</td>\n",
              "      <td>0.646902</td>\n",
              "      <td>0.786465</td>\n",
              "      <td>-0.016532</td>\n",
              "    </tr>\n",
              "    <tr>\n",
              "      <th>2021</th>\n",
              "      <td>5.538054</td>\n",
              "      <td>0.975605</td>\n",
              "      <td>0.518857</td>\n",
              "      <td>0.791449</td>\n",
              "      <td>-0.015762</td>\n",
              "      <td>0.725578</td>\n",
              "    </tr>\n",
              "  </tbody>\n",
              "</table>\n",
              "</div>"
            ],
            "text/plain": [
              "         Score  GDP per capita  ...  Generosity  Perceptions of corruption\n",
              "2017  5.383871        0.999573  ...    0.243393                   0.121671\n",
              "2018  5.415694        0.907510  ...    0.178653                   0.112240\n",
              "2019  5.456469        0.921408  ...    0.181313                   0.110748\n",
              "2020  5.511924        5.410239  ...    0.786465                  -0.016532\n",
              "2021  5.538054        0.975605  ...   -0.015762                   0.725578\n",
              "\n",
              "[5 rows x 6 columns]"
            ]
          },
          "metadata": {
            "tags": []
          },
          "execution_count": 122
        }
      ]
    },
    {
      "cell_type": "code",
      "metadata": {
        "colab": {
          "base_uri": "https://localhost:8080/",
          "height": 231
        },
        "id": "Waz0kyLjlPgp",
        "outputId": "6f413abc-e4f1-4455-e3de-5689d0bb15dc"
      },
      "source": [
        "df_mean=pd.DataFrame(data=[mean2017, mean2018, mean2019, mean2020, mean2021], index=[120,121,121,121,121])\n",
        "# df_mean['Year']=[2017, 2018, 2019, 2020, 2021]\n",
        "df_mean"
      ],
      "execution_count": 155,
      "outputs": [
        {
          "output_type": "execute_result",
          "data": {
            "text/html": [
              "<div>\n",
              "<style scoped>\n",
              "    .dataframe tbody tr th:only-of-type {\n",
              "        vertical-align: middle;\n",
              "    }\n",
              "\n",
              "    .dataframe tbody tr th {\n",
              "        vertical-align: top;\n",
              "    }\n",
              "\n",
              "    .dataframe thead th {\n",
              "        text-align: right;\n",
              "    }\n",
              "</style>\n",
              "<table border=\"1\" class=\"dataframe\">\n",
              "  <thead>\n",
              "    <tr style=\"text-align: right;\">\n",
              "      <th></th>\n",
              "      <th>Score</th>\n",
              "      <th>GDP per capita</th>\n",
              "      <th>Healthy life expectancy</th>\n",
              "      <th>Freedom to make life choices</th>\n",
              "      <th>Generosity</th>\n",
              "      <th>Perceptions of corruption</th>\n",
              "    </tr>\n",
              "  </thead>\n",
              "  <tbody>\n",
              "    <tr>\n",
              "      <th>120</th>\n",
              "      <td>5.383871</td>\n",
              "      <td>0.999573</td>\n",
              "      <td>0.561900</td>\n",
              "      <td>0.409222</td>\n",
              "      <td>0.243393</td>\n",
              "      <td>0.121671</td>\n",
              "    </tr>\n",
              "    <tr>\n",
              "      <th>121</th>\n",
              "      <td>5.415694</td>\n",
              "      <td>0.907510</td>\n",
              "      <td>0.611143</td>\n",
              "      <td>0.457959</td>\n",
              "      <td>0.178653</td>\n",
              "      <td>0.112240</td>\n",
              "    </tr>\n",
              "    <tr>\n",
              "      <th>121</th>\n",
              "      <td>5.456469</td>\n",
              "      <td>0.921408</td>\n",
              "      <td>0.739095</td>\n",
              "      <td>0.396728</td>\n",
              "      <td>0.181313</td>\n",
              "      <td>0.110748</td>\n",
              "    </tr>\n",
              "    <tr>\n",
              "      <th>121</th>\n",
              "      <td>5.511924</td>\n",
              "      <td>5.410239</td>\n",
              "      <td>0.813198</td>\n",
              "      <td>0.646902</td>\n",
              "      <td>0.786465</td>\n",
              "      <td>-0.016532</td>\n",
              "    </tr>\n",
              "    <tr>\n",
              "      <th>121</th>\n",
              "      <td>5.538054</td>\n",
              "      <td>0.975605</td>\n",
              "      <td>0.518857</td>\n",
              "      <td>0.791449</td>\n",
              "      <td>-0.015762</td>\n",
              "      <td>0.725578</td>\n",
              "    </tr>\n",
              "  </tbody>\n",
              "</table>\n",
              "</div>"
            ],
            "text/plain": [
              "        Score  GDP per capita  ...  Generosity  Perceptions of corruption\n",
              "120  5.383871        0.999573  ...    0.243393                   0.121671\n",
              "121  5.415694        0.907510  ...    0.178653                   0.112240\n",
              "121  5.456469        0.921408  ...    0.181313                   0.110748\n",
              "121  5.511924        5.410239  ...    0.786465                  -0.016532\n",
              "121  5.538054        0.975605  ...   -0.015762                   0.725578\n",
              "\n",
              "[5 rows x 6 columns]"
            ]
          },
          "metadata": {
            "tags": []
          },
          "execution_count": 155
        }
      ]
    },
    {
      "cell_type": "code",
      "metadata": {
        "colab": {
          "base_uri": "https://localhost:8080/",
          "height": 231
        },
        "id": "6svgoNl-oKpd",
        "outputId": "19735eff-204e-4a0c-cc6f-739169ffab48"
      },
      "source": [
        "df_Korea=df_Korea.drop(['Year'], axis=1)\n",
        "df_Korea"
      ],
      "execution_count": 173,
      "outputs": [
        {
          "output_type": "execute_result",
          "data": {
            "text/html": [
              "<div>\n",
              "<style scoped>\n",
              "    .dataframe tbody tr th:only-of-type {\n",
              "        vertical-align: middle;\n",
              "    }\n",
              "\n",
              "    .dataframe tbody tr th {\n",
              "        vertical-align: top;\n",
              "    }\n",
              "\n",
              "    .dataframe thead th {\n",
              "        text-align: right;\n",
              "    }\n",
              "</style>\n",
              "<table border=\"1\" class=\"dataframe\">\n",
              "  <thead>\n",
              "    <tr style=\"text-align: right;\">\n",
              "      <th></th>\n",
              "      <th>Score</th>\n",
              "      <th>GDP per capita</th>\n",
              "      <th>Healthy life expectancy</th>\n",
              "      <th>Freedom to make life choices</th>\n",
              "      <th>Generosity</th>\n",
              "      <th>Perceptions of corruption</th>\n",
              "    </tr>\n",
              "  </thead>\n",
              "  <tbody>\n",
              "    <tr>\n",
              "      <th>120</th>\n",
              "      <td>5.8380</td>\n",
              "      <td>1.401678</td>\n",
              "      <td>0.900214</td>\n",
              "      <td>0.257922</td>\n",
              "      <td>0.206674</td>\n",
              "      <td>0.063283</td>\n",
              "    </tr>\n",
              "    <tr>\n",
              "      <th>121</th>\n",
              "      <td>5.8750</td>\n",
              "      <td>1.266000</td>\n",
              "      <td>0.955000</td>\n",
              "      <td>0.244000</td>\n",
              "      <td>0.175000</td>\n",
              "      <td>0.051000</td>\n",
              "    </tr>\n",
              "    <tr>\n",
              "      <th>121</th>\n",
              "      <td>5.8950</td>\n",
              "      <td>1.301000</td>\n",
              "      <td>1.036000</td>\n",
              "      <td>0.159000</td>\n",
              "      <td>0.175000</td>\n",
              "      <td>0.056000</td>\n",
              "    </tr>\n",
              "    <tr>\n",
              "      <th>121</th>\n",
              "      <td>5.8724</td>\n",
              "      <td>5.785993</td>\n",
              "      <td>0.799387</td>\n",
              "      <td>0.736027</td>\n",
              "      <td>0.612965</td>\n",
              "      <td>-0.043404</td>\n",
              "    </tr>\n",
              "    <tr>\n",
              "      <th>121</th>\n",
              "      <td>5.8450</td>\n",
              "      <td>1.403000</td>\n",
              "      <td>0.801000</td>\n",
              "      <td>0.672000</td>\n",
              "      <td>-0.083000</td>\n",
              "      <td>0.727000</td>\n",
              "    </tr>\n",
              "  </tbody>\n",
              "</table>\n",
              "</div>"
            ],
            "text/plain": [
              "      Score  GDP per capita  ...  Generosity  Perceptions of corruption\n",
              "120  5.8380        1.401678  ...    0.206674                   0.063283\n",
              "121  5.8750        1.266000  ...    0.175000                   0.051000\n",
              "121  5.8950        1.301000  ...    0.175000                   0.056000\n",
              "121  5.8724        5.785993  ...    0.612965                  -0.043404\n",
              "121  5.8450        1.403000  ...   -0.083000                   0.727000\n",
              "\n",
              "[5 rows x 6 columns]"
            ]
          },
          "metadata": {
            "tags": []
          },
          "execution_count": 173
        }
      ]
    },
    {
      "cell_type": "code",
      "metadata": {
        "colab": {
          "base_uri": "https://localhost:8080/",
          "height": 231
        },
        "id": "o8yw0sqFpMPN",
        "outputId": "7d468c65-eac3-40fb-854c-547943db97a4"
      },
      "source": [
        "df_Korea[df_Korea>df_mean]"
      ],
      "execution_count": 174,
      "outputs": [
        {
          "output_type": "execute_result",
          "data": {
            "text/html": [
              "<div>\n",
              "<style scoped>\n",
              "    .dataframe tbody tr th:only-of-type {\n",
              "        vertical-align: middle;\n",
              "    }\n",
              "\n",
              "    .dataframe tbody tr th {\n",
              "        vertical-align: top;\n",
              "    }\n",
              "\n",
              "    .dataframe thead th {\n",
              "        text-align: right;\n",
              "    }\n",
              "</style>\n",
              "<table border=\"1\" class=\"dataframe\">\n",
              "  <thead>\n",
              "    <tr style=\"text-align: right;\">\n",
              "      <th></th>\n",
              "      <th>Score</th>\n",
              "      <th>GDP per capita</th>\n",
              "      <th>Healthy life expectancy</th>\n",
              "      <th>Freedom to make life choices</th>\n",
              "      <th>Generosity</th>\n",
              "      <th>Perceptions of corruption</th>\n",
              "    </tr>\n",
              "  </thead>\n",
              "  <tbody>\n",
              "    <tr>\n",
              "      <th>120</th>\n",
              "      <td>5.8380</td>\n",
              "      <td>1.401678</td>\n",
              "      <td>0.900214</td>\n",
              "      <td>NaN</td>\n",
              "      <td>NaN</td>\n",
              "      <td>NaN</td>\n",
              "    </tr>\n",
              "    <tr>\n",
              "      <th>121</th>\n",
              "      <td>5.8750</td>\n",
              "      <td>1.266000</td>\n",
              "      <td>0.955000</td>\n",
              "      <td>NaN</td>\n",
              "      <td>NaN</td>\n",
              "      <td>NaN</td>\n",
              "    </tr>\n",
              "    <tr>\n",
              "      <th>121</th>\n",
              "      <td>5.8950</td>\n",
              "      <td>1.301000</td>\n",
              "      <td>1.036000</td>\n",
              "      <td>NaN</td>\n",
              "      <td>NaN</td>\n",
              "      <td>NaN</td>\n",
              "    </tr>\n",
              "    <tr>\n",
              "      <th>121</th>\n",
              "      <td>5.8724</td>\n",
              "      <td>5.785993</td>\n",
              "      <td>NaN</td>\n",
              "      <td>0.736027</td>\n",
              "      <td>NaN</td>\n",
              "      <td>NaN</td>\n",
              "    </tr>\n",
              "    <tr>\n",
              "      <th>121</th>\n",
              "      <td>5.8450</td>\n",
              "      <td>1.403000</td>\n",
              "      <td>0.801000</td>\n",
              "      <td>NaN</td>\n",
              "      <td>NaN</td>\n",
              "      <td>0.727</td>\n",
              "    </tr>\n",
              "  </tbody>\n",
              "</table>\n",
              "</div>"
            ],
            "text/plain": [
              "      Score  GDP per capita  ...  Generosity  Perceptions of corruption\n",
              "120  5.8380        1.401678  ...         NaN                        NaN\n",
              "121  5.8750        1.266000  ...         NaN                        NaN\n",
              "121  5.8950        1.301000  ...         NaN                        NaN\n",
              "121  5.8724        5.785993  ...         NaN                        NaN\n",
              "121  5.8450        1.403000  ...         NaN                      0.727\n",
              "\n",
              "[5 rows x 6 columns]"
            ]
          },
          "metadata": {
            "tags": []
          },
          "execution_count": 174
        }
      ]
    },
    {
      "cell_type": "code",
      "metadata": {
        "colab": {
          "base_uri": "https://localhost:8080/",
          "height": 418
        },
        "id": "sLEXSr3npVQX",
        "outputId": "2327dab7-6e78-4bbf-9c7a-60c193b39e6e"
      },
      "source": [
        "sns.barplot(data=df_Korea[df_Korea>df_mean])\n",
        "plt.xticks(rotation='vertical')"
      ],
      "execution_count": 177,
      "outputs": [
        {
          "output_type": "execute_result",
          "data": {
            "text/plain": [
              "(array([0, 1, 2, 3, 4, 5]), <a list of 6 Text major ticklabel objects>)"
            ]
          },
          "metadata": {
            "tags": []
          },
          "execution_count": 177
        },
        {
          "output_type": "display_data",
          "data": {
            "image/png": "[encoded data removed]",
            "text/plain": [
              "<Figure size 432x288 with 1 Axes>"
            ]
          },
          "metadata": {
            "tags": [],
            "needs_background": "light"
          }
        }
      ]
    },
    {
      "cell_type": "code",
      "metadata": {
        "colab": {
          "base_uri": "https://localhost:8080/",
          "height": 592
        },
        "id": "FYT4gbF6vUm4",
        "outputId": "382a906a-8719-488b-ed9a-8b03d2b7fa0a"
      },
      "source": [
        "# df_Korea의 각 항목 값이 df_mean보다 큰 값에 대한 그래프 출력\n",
        "\n",
        "ax=df_Korea[df_Korea>df_mean].plot.barh(rot=0)\n",
        "ax.set_yticklabels(labels)\n",
        "ax.set_yticklabels(ax.get_yticklabels(), fontsize=15)\n",
        "fig = plt.gcf()\n",
        "fig.set_size_inches(5,10)\n",
        "\n",
        "plt.show()"
      ],
      "execution_count": 183,
      "outputs": [
        {
          "output_type": "display_data",
          "data": {
            "image/png": "[encoded data removed]",
            "text/plain": [
              "<Figure size 360x720 with 1 Axes>"
            ]
          },
          "metadata": {
            "tags": [],
            "needs_background": "light"
          }
        }
      ]
    },
    {
      "cell_type": "code",
      "metadata": {
        "id": "wqdgZQh4MeeE"
      },
      "source": [
        "import plotly.graph_objs as go"
      ],
      "execution_count": 25,
      "outputs": []
    }
  ]
}