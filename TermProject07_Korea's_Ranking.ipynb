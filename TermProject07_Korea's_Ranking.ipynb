{
  "nbformat": 4,
  "nbformat_minor": 0,
  "metadata": {
    "colab": {
      "name": "TermProject07-Korea's Ranking.ipynb",
      "provenance": [],
      "collapsed_sections": [],
      "authorship_tag": "ABX9TyOiZsqWZHOmi3SpTcfAI/Zw",
      "include_colab_link": true
    },
    "kernelspec": {
      "name": "python3",
      "display_name": "Python 3"
    },
    "language_info": {
      "name": "python"
    }
  },
  "cells": [
    {
      "cell_type": "markdown",
      "metadata": {
        "id": "view-in-github",
        "colab_type": "text"
      },
      "source": [
        "<a href=\"https://colab.research.google.com/github/Sim-mi-gyeong/DataAnalysis/blob/main/TermProject07_Korea's_Ranking.ipynb\" target=\"_parent\"><img src=\"https://colab.research.google.com/assets/colab-badge.svg\" alt=\"Open In Colab\"/></a>"
      ]
    },
    {
      "cell_type": "code",
      "metadata": {
        "id": "7RXkzEjp0oen"
      },
      "source": [
        "import numpy as np\n",
        "import pandas as pd\n",
        "import seaborn as sns\n",
        "import matplotlib.pyplot as plt\n",
        "import warnings\n",
        "warnings.filterwarnings(\"ignore\")"
      ],
      "execution_count": 1,
      "outputs": []
    },
    {
      "cell_type": "code",
      "metadata": {
        "colab": {
          "base_uri": "https://localhost:8080/"
        },
        "id": "CBNxiwh507If",
        "outputId": "0fcd1658-555f-4305-b9bf-dd9361816c22"
      },
      "source": [
        "from google.colab import drive\n",
        "drive.mount('/content/drive')"
      ],
      "execution_count": 2,
      "outputs": [
        {
          "output_type": "stream",
          "text": [
            "Mounted at /content/drive\n"
          ],
          "name": "stdout"
        }
      ]
    },
    {
      "cell_type": "code",
      "metadata": {
        "id": "x2p-2k0308Sz"
      },
      "source": [
        "df2017=pd.read_csv('/content/drive/MyDrive/dataset/2017.csv')\n",
        "df2018=pd.read_csv('/content/drive/MyDrive/dataset/2018.csv')\n",
        "df2019=pd.read_csv('/content/drive/MyDrive/dataset/2019.csv')\n",
        "df2020=pd.read_csv('/content/drive/MyDrive/dataset/2020.csv')\n",
        "df2021=pd.read_csv('/content/drive/MyDrive/dataset/2021.csv')"
      ],
      "execution_count": 20,
      "outputs": []
    },
    {
      "cell_type": "code",
      "metadata": {
        "id": "_uLbM9z91C7V"
      },
      "source": [
        "df2018['Perceptions of corruption']=df2018['Perceptions of corruption'].fillna(df2018['Perceptions of corruption'].mean())"
      ],
      "execution_count": 21,
      "outputs": []
    },
    {
      "cell_type": "code",
      "metadata": {
        "id": "FY01-Mi71FRT"
      },
      "source": [
        "df2017['Year']=2017\n",
        "df2018['Year']=2018\n",
        "df2019['Year']=2019\n",
        "df2020['Year']=2020\n",
        "df2021['Year']=2021\n",
        "\n",
        "# df=df2017.append([df2018, df2019, df2020, df2021])\n",
        "# df"
      ],
      "execution_count": 22,
      "outputs": []
    },
    {
      "cell_type": "code",
      "metadata": {
        "colab": {
          "base_uri": "https://localhost:8080/"
        },
        "id": "2_0QmJxs36jG",
        "outputId": "1730da14-a2ca-483e-fc6f-8a6b266e46b4"
      },
      "source": [
        "cnt=len(df2017['Score'])\n",
        "cnt"
      ],
      "execution_count": 23,
      "outputs": [
        {
          "output_type": "execute_result",
          "data": {
            "text/plain": [
              "147"
            ]
          },
          "metadata": {
            "tags": []
          },
          "execution_count": 23
        }
      ]
    },
    {
      "cell_type": "code",
      "metadata": {
        "id": "2J9rahqb4XJX"
      },
      "source": [
        "df2017=df2017.sort_values(by='Score', ascending=False)\n",
        "df2018=df2018.sort_values(by='Score', ascending=False)\n",
        "df2019=df2019.sort_values(by='Score', ascending=False)\n",
        "df2020=df2020.sort_values(by='Score', ascending=False)\n",
        "df2021=df2021.sort_values(by='Score', ascending=False)"
      ],
      "execution_count": 24,
      "outputs": []
    },
    {
      "cell_type": "code",
      "metadata": {
        "colab": {
          "base_uri": "https://localhost:8080/",
          "height": 181
        },
        "id": "2yHz7gAE4Y4x",
        "outputId": "e74675fa-33fb-4e87-fbf3-5e3eac8d888c"
      },
      "source": [
        "df2017[df2017['Country']=='South Korea']"
      ],
      "execution_count": 28,
      "outputs": [
        {
          "output_type": "execute_result",
          "data": {
            "text/html": [
              "<div>\n",
              "<style scoped>\n",
              "    .dataframe tbody tr th:only-of-type {\n",
              "        vertical-align: middle;\n",
              "    }\n",
              "\n",
              "    .dataframe tbody tr th {\n",
              "        vertical-align: top;\n",
              "    }\n",
              "\n",
              "    .dataframe thead th {\n",
              "        text-align: right;\n",
              "    }\n",
              "</style>\n",
              "<table border=\"1\" class=\"dataframe\">\n",
              "  <thead>\n",
              "    <tr style=\"text-align: right;\">\n",
              "      <th></th>\n",
              "      <th>Country</th>\n",
              "      <th>Regional indicator</th>\n",
              "      <th>Score</th>\n",
              "      <th>GDP per capita</th>\n",
              "      <th>Healthy life expectancy</th>\n",
              "      <th>Freedom to make life choices</th>\n",
              "      <th>Generosity</th>\n",
              "      <th>Perceptions of corruption</th>\n",
              "      <th>Year</th>\n",
              "    </tr>\n",
              "  </thead>\n",
              "  <tbody>\n",
              "    <tr>\n",
              "      <th>120</th>\n",
              "      <td>South Korea</td>\n",
              "      <td>Sub-Saharan Africa</td>\n",
              "      <td>5.838</td>\n",
              "      <td>1.401678</td>\n",
              "      <td>0.900214</td>\n",
              "      <td>0.257922</td>\n",
              "      <td>0.206674</td>\n",
              "      <td>0.063283</td>\n",
              "      <td>2017</td>\n",
              "    </tr>\n",
              "  </tbody>\n",
              "</table>\n",
              "</div>"
            ],
            "text/plain": [
              "         Country  Regional indicator  ...  Perceptions of corruption  Year\n",
              "120  South Korea  Sub-Saharan Africa  ...                   0.063283  2017\n",
              "\n",
              "[1 rows x 9 columns]"
            ]
          },
          "metadata": {
            "tags": []
          },
          "execution_count": 28
        }
      ]
    },
    {
      "cell_type": "code",
      "metadata": {
        "colab": {
          "base_uri": "https://localhost:8080/"
        },
        "id": "RAna3Sp71MqD",
        "outputId": "59c943d2-73c1-40ec-bddd-6fcfcf3f9c39"
      },
      "source": [
        "type((df2017['Country']=='South Korea').tolist())"
      ],
      "execution_count": 33,
      "outputs": [
        {
          "output_type": "execute_result",
          "data": {
            "text/plain": [
              "list"
            ]
          },
          "metadata": {
            "tags": []
          },
          "execution_count": 33
        }
      ]
    },
    {
      "cell_type": "code",
      "metadata": {
        "colab": {
          "base_uri": "https://localhost:8080/"
        },
        "id": "z2N_7X_W5xAv",
        "outputId": "ec8ff16b-cd1d-4667-e55f-9c5798b875b5"
      },
      "source": [
        "KoreaScore2017=float(df2017[df2017['Country']=='South Korea']['Score'])\n",
        "KoreaScore2017\n",
        "\n",
        "KoreaScore2018=float(df2018[df2018['Country']=='South Korea']['Score'])\n",
        "KoreaScore2018\n",
        "\n",
        "KoreaScore2019=float(df2019[df2019['Country']=='South Korea']['Score'])\n",
        "KoreaScore2019\n",
        "\n",
        "KoreaScore2020=float(df2020[df2020['Country']=='South Korea']['Score'])\n",
        "KoreaScore2020\n",
        "\n",
        "KoreaScore2021=float(df2021[df2021['Country']=='South Korea']['Score'])\n",
        "KoreaScore2021"
      ],
      "execution_count": 60,
      "outputs": [
        {
          "output_type": "execute_result",
          "data": {
            "text/plain": [
              "5.845"
            ]
          },
          "metadata": {
            "tags": []
          },
          "execution_count": 60
        }
      ]
    },
    {
      "cell_type": "code",
      "metadata": {
        "colab": {
          "base_uri": "https://localhost:8080/"
        },
        "id": "y3BHxn7W1LVj",
        "outputId": "91d04088-8843-40f0-8a84-18920d3816ea"
      },
      "source": [
        "df[df['Country']=='South Korea']['Score']"
      ],
      "execution_count": 7,
      "outputs": [
        {
          "output_type": "execute_result",
          "data": {
            "text/plain": [
              "120    5.8380\n",
              "121    5.8750\n",
              "121    5.8950\n",
              "121    5.8724\n",
              "121    5.8450\n",
              "Name: Score, dtype: float64"
            ]
          },
          "metadata": {
            "tags": []
          },
          "execution_count": 7
        }
      ]
    },
    {
      "cell_type": "code",
      "metadata": {
        "colab": {
          "base_uri": "https://localhost:8080/"
        },
        "id": "J-JmYlmc7K5O",
        "outputId": "4f5f4d99-6bf1-428f-9216-145bb479e341"
      },
      "source": [
        "Score2017=np.array(df2017['Score'])\n",
        "Score2017\n",
        "\n",
        "Score2018=np.array(df2018['Score'])\n",
        "Score2018\n",
        "\n",
        "Score2019=np.array(df2019['Score'])\n",
        "Score2019\n",
        "\n",
        "Score2020=np.array(df2020['Score'])\n",
        "Score2020\n",
        "\n",
        "Score2021=np.array(df2021['Score'])\n",
        "Score2021"
      ],
      "execution_count": 61,
      "outputs": [
        {
          "output_type": "execute_result",
          "data": {
            "text/plain": [
              "array([7.842, 7.62 , 7.571, 7.554, 7.464, 7.392, 7.363, 7.324, 7.277,\n",
              "       7.268, 7.183, 7.157, 7.155, 7.103, 7.085, 7.069, 7.064, 6.965,\n",
              "       6.951, 6.834, 6.69 , 6.647, 6.602, 6.584, 6.561, 6.494, 6.491,\n",
              "       6.483, 6.461, 6.435, 6.431, 6.377, 6.372, 6.331, 6.33 , 6.317,\n",
              "       6.309, 6.255, 6.223, 6.189, 6.18 , 6.179, 6.172, 6.166, 6.152,\n",
              "       6.14 , 6.106, 6.078, 6.061, 6.049, 6.032, 6.012, 5.992, 5.985,\n",
              "       5.972, 5.94 , 5.929, 5.929, 5.919, 5.882, 5.88 , 5.845, 5.84 ,\n",
              "       5.813, 5.766, 5.764, 5.744, 5.723, 5.716, 5.677, 5.653, 5.581,\n",
              "       5.545, 5.536, 5.534, 5.477, 5.477, 5.466, 5.411, 5.41 , 5.384,\n",
              "       5.345, 5.342, 5.339, 5.306, 5.283, 5.269, 5.266, 5.171, 5.142,\n",
              "       5.132, 5.117, 5.088, 5.074, 5.066, 5.051, 5.045, 5.03 , 5.025,\n",
              "       4.984, 4.956, 4.948, 4.934, 4.918, 4.892, 4.891, 4.887, 4.875,\n",
              "       4.854, 4.852, 4.834, 4.83 , 4.794, 4.759, 4.723, 4.721, 4.636,\n",
              "       4.625, 4.607, 4.596, 4.584, 4.574, 4.517, 4.426, 4.395, 4.355,\n",
              "       4.325, 4.308, 4.289, 4.283, 4.275, 4.227, 4.208, 4.107, 4.073,\n",
              "       3.849, 3.819, 3.775, 3.658, 3.623, 3.615, 3.6  , 3.512, 3.467,\n",
              "       3.415, 3.145, 2.523])"
            ]
          },
          "metadata": {
            "tags": []
          },
          "execution_count": 61
        }
      ]
    },
    {
      "cell_type": "code",
      "metadata": {
        "colab": {
          "base_uri": "https://localhost:8080/"
        },
        "id": "NQz8OgtN7ND5",
        "outputId": "b9e799f9-4325-4aca-9856-80b983d83c0c"
      },
      "source": [
        "KoreaRank2017=np.where(Score2017==KoreaScore2017)[0][0]\n",
        "KoreaRank2017\n",
        "\n",
        "KoreaRank2018=np.where(Score2018==KoreaScore2018)[0][0]\n",
        "KoreaRank2018\n",
        "\n",
        "KoreaRank2019=np.where(Score2019==KoreaScore2019)[0][0]\n",
        "KoreaRank2019\n",
        "\n",
        "KoreaRank2020=np.where(Score2020==KoreaScore2020)[0][0]\n",
        "KoreaRank2020\n",
        "\n",
        "KoreaRank2021=np.where(Score2021==KoreaScore2021)[0][0]\n",
        "KoreaRank2021"
      ],
      "execution_count": 62,
      "outputs": [
        {
          "output_type": "execute_result",
          "data": {
            "text/plain": [
              "61"
            ]
          },
          "metadata": {
            "tags": []
          },
          "execution_count": 62
        }
      ]
    },
    {
      "cell_type": "code",
      "metadata": {
        "colab": {
          "base_uri": "https://localhost:8080/"
        },
        "id": "aVL9ny_2_EyT",
        "outputId": "540a9a17-95c7-4957-89d2-9bae0e78093d"
      },
      "source": [
        "KoreaRankList=[KoreaRank2017, KoreaRank2018, KoreaRank2019, KoreaRank2020, KoreaRank2021]\n",
        "KoreaRankList"
      ],
      "execution_count": 75,
      "outputs": [
        {
          "output_type": "execute_result",
          "data": {
            "text/plain": [
              "[52, 54, 51, 59, 61]"
            ]
          },
          "metadata": {
            "tags": []
          },
          "execution_count": 75
        }
      ]
    },
    {
      "cell_type": "code",
      "metadata": {
        "colab": {
          "base_uri": "https://localhost:8080/"
        },
        "id": "XXzNc6zY8I0_",
        "outputId": "066ff576-c95c-42cf-c8b5-53e20454be78"
      },
      "source": [
        "KoreaPercent2017=round((KoreaRank2017/cnt)*100,3)\n",
        "KoreaPercent2017\n",
        "\n",
        "KoreaPercent2018=round((KoreaRank2018/cnt)*100,3)\n",
        "KoreaPercent2018\n",
        "\n",
        "KoreaPercent2019=round((KoreaRank2019/cnt)*100,3)\n",
        "KoreaPercent2019\n",
        "\n",
        "KoreaPercent2020=round((KoreaRank2020/cnt)*100,3)\n",
        "KoreaPercent2020\n",
        "\n",
        "KoreaPercent2021=round((KoreaRank2021/cnt)*100,3)\n",
        "KoreaPercent2021"
      ],
      "execution_count": 63,
      "outputs": [
        {
          "output_type": "execute_result",
          "data": {
            "text/plain": [
              "41.497"
            ]
          },
          "metadata": {
            "tags": []
          },
          "execution_count": 63
        }
      ]
    },
    {
      "cell_type": "code",
      "metadata": {
        "colab": {
          "base_uri": "https://localhost:8080/"
        },
        "id": "Iy4_3OlY89Mz",
        "outputId": "62d96656-21ae-406a-98d8-963a842cc638"
      },
      "source": [
        "KoreaPercentList=[KoreaPercent2017, KoreaPercent2018, KoreaPercent2019, KoreaPercent2020, KoreaPercent2021]\n",
        "KoreaPercentList"
      ],
      "execution_count": 65,
      "outputs": [
        {
          "output_type": "execute_result",
          "data": {
            "text/plain": [
              "[35.374, 36.735, 34.694, 40.136, 41.497]"
            ]
          },
          "metadata": {
            "tags": []
          },
          "execution_count": 65
        }
      ]
    },
    {
      "cell_type": "code",
      "metadata": {
        "colab": {
          "base_uri": "https://localhost:8080/",
          "height": 298
        },
        "id": "-HjsTmx-_AXu",
        "outputId": "185264ac-a8bd-41f5-bcd7-79a8ac6468b8"
      },
      "source": [
        "fig=plt.figure(figsize=(6,4))\n",
        "\n",
        "plt.plot([2017,2018,2019,2020,2021], KoreaRankList, 'go--')\n",
        "plt.title(\"Korea Happiness Score Rank 2017-2021\", fontsize=12)\n",
        "plt.xlabel('Year', fontsize=12)\n",
        "plt.ylabel('Rank', fontsize=12)\n",
        "plt.show()"
      ],
      "execution_count": 94,
      "outputs": [
        {
          "output_type": "display_data",
          "data": {
            "image/png": "[encoded data removed]",
            "text/plain": [
              "<Figure size 432x288 with 1 Axes>"
            ]
          },
          "metadata": {
            "tags": [],
            "needs_background": "light"
          }
        }
      ]
    },
    {
      "cell_type": "code",
      "metadata": {
        "colab": {
          "base_uri": "https://localhost:8080/",
          "height": 298
        },
        "id": "u2_Y-jRt-XV8",
        "outputId": "fbb0df56-3013-4a95-ada2-7c73bcd0c434"
      },
      "source": [
        "fig=plt.figure(figsize=(6,4))\n",
        "\n",
        "plt.plot([2017,2018,2019,2020,2021], KoreaPercentList, 'go--')\n",
        "plt.title(\"Korea Happiness Score Percentage 2017-2021\", fontsize=12)\n",
        "plt.xlabel('Year', fontsize=12)\n",
        "plt.ylabel('Percenrt Rank', fontsize=12)\n",
        "plt.show()"
      ],
      "execution_count": 95,
      "outputs": [
        {
          "output_type": "display_data",
          "data": {
            "image/png": "[encoded data removed]",
            "text/plain": [
              "<Figure size 432x288 with 1 Axes>"
            ]
          },
          "metadata": {
            "tags": [],
            "needs_background": "light"
          }
        }
      ]
    },
    {
      "cell_type": "code",
      "metadata": {
        "id": "Iw0CLjF2-ls9"
      },
      "source": [
        ""
      ],
      "execution_count": null,
      "outputs": []
    }
  ]
}