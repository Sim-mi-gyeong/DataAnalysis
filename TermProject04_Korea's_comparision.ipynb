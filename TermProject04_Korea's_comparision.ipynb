{
  "nbformat": 4,
  "nbformat_minor": 0,
  "metadata": {
    "colab": {
      "name": "TermProject04-Korea's comparision.ipynb",
      "provenance": [],
      "collapsed_sections": [],
      "authorship_tag": "ABX9TyNhZvgzAPWja18CnaYS9sD7",
      "include_colab_link": true
    },
    "kernelspec": {
      "name": "python3",
      "display_name": "Python 3"
    },
    "language_info": {
      "name": "python"
    }
  },
  "cells": [
    {
      "cell_type": "markdown",
      "metadata": {
        "id": "view-in-github",
        "colab_type": "text"
      },
      "source": [
        "<a href=\"https://colab.research.google.com/github/Sim-mi-gyeong/DataAnalysis/blob/main/TermProject04_Korea's_comparision.ipynb\" target=\"_parent\"><img src=\"https://colab.research.google.com/assets/colab-badge.svg\" alt=\"Open In Colab\"/></a>"
      ]
    },
    {
      "cell_type": "code",
      "metadata": {
        "id": "DloCBU44HYRa"
      },
      "source": [
        "import numpy as np\n",
        "import pandas as pd\n",
        "import seaborn as sns\n",
        "import matplotlib.pyplot as plt\n",
        "import warnings\n",
        "warnings.filterwarnings(\"ignore\")"
      ],
      "execution_count": 1,
      "outputs": []
    },
    {
      "cell_type": "code",
      "metadata": {
        "colab": {
          "base_uri": "https://localhost:8080/"
        },
        "id": "GQGnnorIHZDe",
        "outputId": "16c680b1-5787-4b13-af49-d0c6230e917d"
      },
      "source": [
        "from google.colab import drive\n",
        "drive.mount('/content/drive')"
      ],
      "execution_count": 2,
      "outputs": [
        {
          "output_type": "stream",
          "text": [
            "Mounted at /content/drive\n"
          ],
          "name": "stdout"
        }
      ]
    },
    {
      "cell_type": "code",
      "metadata": {
        "id": "F5AWhYYLHa6g"
      },
      "source": [
        "df2017=pd.read_csv('/content/drive/MyDrive/dataset/2017.csv')\n",
        "df2018=pd.read_csv('/content/drive/MyDrive/dataset/2018.csv')\n",
        "df2019=pd.read_csv('/content/drive/MyDrive/dataset/2019.csv')\n",
        "df2020=pd.read_csv('/content/drive/MyDrive/dataset/2020.csv')\n",
        "df2021=pd.read_csv('/content/drive/MyDrive/dataset/2021.csv')"
      ],
      "execution_count": 123,
      "outputs": []
    },
    {
      "cell_type": "code",
      "metadata": {
        "id": "GZsYcacMHjVJ"
      },
      "source": [
        "df2018['Perceptions of corruption']=df2018['Perceptions of corruption'].fillna(df2018['Perceptions of corruption'].mean())"
      ],
      "execution_count": 124,
      "outputs": []
    },
    {
      "cell_type": "code",
      "metadata": {
        "colab": {
          "base_uri": "https://localhost:8080/"
        },
        "id": "xCLOezFiIFmi",
        "outputId": "3be1c3c7-7f3a-45c2-c67f-1788d7f7dd6c"
      },
      "source": [
        "df2018.isnull().sum()"
      ],
      "execution_count": 125,
      "outputs": [
        {
          "output_type": "execute_result",
          "data": {
            "text/plain": [
              "Country                         0\n",
              "Regional indicator              0\n",
              "Score                           0\n",
              "GDP per capita                  0\n",
              "Healthy life expectancy         0\n",
              "Freedom to make life choices    0\n",
              "Generosity                      0\n",
              "Perceptions of corruption       0\n",
              "dtype: int64"
            ]
          },
          "metadata": {
            "tags": []
          },
          "execution_count": 125
        }
      ]
    },
    {
      "cell_type": "code",
      "metadata": {
        "colab": {
          "base_uri": "https://localhost:8080/",
          "height": 670
        },
        "id": "mGeuTJhNIG3x",
        "outputId": "84d44a63-cfd3-435a-8956-0690d241525d"
      },
      "source": [
        "df2017['Year']=2017\n",
        "df2018['Year']=2018\n",
        "df2019['Year']=2019\n",
        "df2020['Year']=2020\n",
        "df2021['Year']=2021\n",
        "\n",
        "df=df2017.append([df2018, df2019, df2020, df2021])\n",
        "df"
      ],
      "execution_count": 126,
      "outputs": [
        {
          "output_type": "execute_result",
          "data": {
            "text/html": [
              "<div>\n",
              "<style scoped>\n",
              "    .dataframe tbody tr th:only-of-type {\n",
              "        vertical-align: middle;\n",
              "    }\n",
              "\n",
              "    .dataframe tbody tr th {\n",
              "        vertical-align: top;\n",
              "    }\n",
              "\n",
              "    .dataframe thead th {\n",
              "        text-align: right;\n",
              "    }\n",
              "</style>\n",
              "<table border=\"1\" class=\"dataframe\">\n",
              "  <thead>\n",
              "    <tr style=\"text-align: right;\">\n",
              "      <th></th>\n",
              "      <th>Country</th>\n",
              "      <th>Regional indicator</th>\n",
              "      <th>Score</th>\n",
              "      <th>GDP per capita</th>\n",
              "      <th>Healthy life expectancy</th>\n",
              "      <th>Freedom to make life choices</th>\n",
              "      <th>Generosity</th>\n",
              "      <th>Perceptions of corruption</th>\n",
              "      <th>Year</th>\n",
              "    </tr>\n",
              "  </thead>\n",
              "  <tbody>\n",
              "    <tr>\n",
              "      <th>0</th>\n",
              "      <td>Afghanistan</td>\n",
              "      <td>South Asia</td>\n",
              "      <td>3.794</td>\n",
              "      <td>0.401477</td>\n",
              "      <td>0.180747</td>\n",
              "      <td>0.106180</td>\n",
              "      <td>0.311871</td>\n",
              "      <td>0.061158</td>\n",
              "      <td>2017</td>\n",
              "    </tr>\n",
              "    <tr>\n",
              "      <th>1</th>\n",
              "      <td>Albania</td>\n",
              "      <td>Central and Eastern Europe</td>\n",
              "      <td>4.644</td>\n",
              "      <td>0.996193</td>\n",
              "      <td>0.731160</td>\n",
              "      <td>0.381499</td>\n",
              "      <td>0.201313</td>\n",
              "      <td>0.039864</td>\n",
              "      <td>2017</td>\n",
              "    </tr>\n",
              "    <tr>\n",
              "      <th>2</th>\n",
              "      <td>Algeria</td>\n",
              "      <td>Middle East and North Africa</td>\n",
              "      <td>5.872</td>\n",
              "      <td>1.091864</td>\n",
              "      <td>0.617585</td>\n",
              "      <td>0.233336</td>\n",
              "      <td>0.069437</td>\n",
              "      <td>0.146096</td>\n",
              "      <td>2017</td>\n",
              "    </tr>\n",
              "    <tr>\n",
              "      <th>3</th>\n",
              "      <td>Argentina</td>\n",
              "      <td>Latin America and Caribbean</td>\n",
              "      <td>6.599</td>\n",
              "      <td>1.185295</td>\n",
              "      <td>0.695137</td>\n",
              "      <td>0.494519</td>\n",
              "      <td>0.109457</td>\n",
              "      <td>0.059740</td>\n",
              "      <td>2017</td>\n",
              "    </tr>\n",
              "    <tr>\n",
              "      <th>4</th>\n",
              "      <td>Armenia</td>\n",
              "      <td>Commonwealth of Independent States</td>\n",
              "      <td>4.376</td>\n",
              "      <td>0.900597</td>\n",
              "      <td>0.637524</td>\n",
              "      <td>0.198303</td>\n",
              "      <td>0.083488</td>\n",
              "      <td>0.026674</td>\n",
              "      <td>2017</td>\n",
              "    </tr>\n",
              "    <tr>\n",
              "      <th>...</th>\n",
              "      <td>...</td>\n",
              "      <td>...</td>\n",
              "      <td>...</td>\n",
              "      <td>...</td>\n",
              "      <td>...</td>\n",
              "      <td>...</td>\n",
              "      <td>...</td>\n",
              "      <td>...</td>\n",
              "      <td>...</td>\n",
              "    </tr>\n",
              "    <tr>\n",
              "      <th>138</th>\n",
              "      <td>Venezuela</td>\n",
              "      <td>Latin America and Caribbean</td>\n",
              "      <td>4.892</td>\n",
              "      <td>0.852000</td>\n",
              "      <td>0.574000</td>\n",
              "      <td>0.615000</td>\n",
              "      <td>-0.169000</td>\n",
              "      <td>0.827000</td>\n",
              "      <td>2021</td>\n",
              "    </tr>\n",
              "    <tr>\n",
              "      <th>139</th>\n",
              "      <td>Vietnam</td>\n",
              "      <td>Southeast Asia</td>\n",
              "      <td>5.411</td>\n",
              "      <td>0.817000</td>\n",
              "      <td>0.616000</td>\n",
              "      <td>0.940000</td>\n",
              "      <td>-0.098000</td>\n",
              "      <td>0.796000</td>\n",
              "      <td>2021</td>\n",
              "    </tr>\n",
              "    <tr>\n",
              "      <th>140</th>\n",
              "      <td>Yemen</td>\n",
              "      <td>Middle East and North Africa</td>\n",
              "      <td>3.658</td>\n",
              "      <td>0.329000</td>\n",
              "      <td>0.272000</td>\n",
              "      <td>0.602000</td>\n",
              "      <td>-0.147000</td>\n",
              "      <td>0.800000</td>\n",
              "      <td>2021</td>\n",
              "    </tr>\n",
              "    <tr>\n",
              "      <th>141</th>\n",
              "      <td>Zambia</td>\n",
              "      <td>Sub-Saharan Africa</td>\n",
              "      <td>4.073</td>\n",
              "      <td>0.528000</td>\n",
              "      <td>0.231000</td>\n",
              "      <td>0.782000</td>\n",
              "      <td>0.061000</td>\n",
              "      <td>0.823000</td>\n",
              "      <td>2021</td>\n",
              "    </tr>\n",
              "    <tr>\n",
              "      <th>142</th>\n",
              "      <td>Zimbabwe</td>\n",
              "      <td>Sub-Saharan Africa</td>\n",
              "      <td>3.145</td>\n",
              "      <td>0.457000</td>\n",
              "      <td>0.243000</td>\n",
              "      <td>0.677000</td>\n",
              "      <td>-0.047000</td>\n",
              "      <td>0.821000</td>\n",
              "      <td>2021</td>\n",
              "    </tr>\n",
              "  </tbody>\n",
              "</table>\n",
              "<p>715 rows × 9 columns</p>\n",
              "</div>"
            ],
            "text/plain": [
              "         Country  ...  Year\n",
              "0    Afghanistan  ...  2017\n",
              "1        Albania  ...  2017\n",
              "2        Algeria  ...  2017\n",
              "3      Argentina  ...  2017\n",
              "4        Armenia  ...  2017\n",
              "..           ...  ...   ...\n",
              "138    Venezuela  ...  2021\n",
              "139      Vietnam  ...  2021\n",
              "140        Yemen  ...  2021\n",
              "141       Zambia  ...  2021\n",
              "142     Zimbabwe  ...  2021\n",
              "\n",
              "[715 rows x 9 columns]"
            ]
          },
          "metadata": {
            "tags": []
          },
          "execution_count": 126
        }
      ]
    },
    {
      "cell_type": "code",
      "metadata": {
        "colab": {
          "base_uri": "https://localhost:8080/",
          "height": 356
        },
        "id": "ytzHbDJ_IKo2",
        "outputId": "f36896f6-ad32-4ada-b565-679e7cc55954"
      },
      "source": [
        "df_Korea=df[df['Country']=='South Korea']\n",
        "df_Korea"
      ],
      "execution_count": 127,
      "outputs": [
        {
          "output_type": "execute_result",
          "data": {
            "text/html": [
              "<div>\n",
              "<style scoped>\n",
              "    .dataframe tbody tr th:only-of-type {\n",
              "        vertical-align: middle;\n",
              "    }\n",
              "\n",
              "    .dataframe tbody tr th {\n",
              "        vertical-align: top;\n",
              "    }\n",
              "\n",
              "    .dataframe thead th {\n",
              "        text-align: right;\n",
              "    }\n",
              "</style>\n",
              "<table border=\"1\" class=\"dataframe\">\n",
              "  <thead>\n",
              "    <tr style=\"text-align: right;\">\n",
              "      <th></th>\n",
              "      <th>Country</th>\n",
              "      <th>Regional indicator</th>\n",
              "      <th>Score</th>\n",
              "      <th>GDP per capita</th>\n",
              "      <th>Healthy life expectancy</th>\n",
              "      <th>Freedom to make life choices</th>\n",
              "      <th>Generosity</th>\n",
              "      <th>Perceptions of corruption</th>\n",
              "      <th>Year</th>\n",
              "    </tr>\n",
              "  </thead>\n",
              "  <tbody>\n",
              "    <tr>\n",
              "      <th>118</th>\n",
              "      <td>South Korea</td>\n",
              "      <td>East Asia</td>\n",
              "      <td>5.8380</td>\n",
              "      <td>1.401678</td>\n",
              "      <td>0.900214</td>\n",
              "      <td>0.257922</td>\n",
              "      <td>0.206674</td>\n",
              "      <td>0.063283</td>\n",
              "      <td>2017</td>\n",
              "    </tr>\n",
              "    <tr>\n",
              "      <th>118</th>\n",
              "      <td>South Korea</td>\n",
              "      <td>East Asia</td>\n",
              "      <td>5.8750</td>\n",
              "      <td>1.266000</td>\n",
              "      <td>0.955000</td>\n",
              "      <td>0.244000</td>\n",
              "      <td>0.175000</td>\n",
              "      <td>0.051000</td>\n",
              "      <td>2018</td>\n",
              "    </tr>\n",
              "    <tr>\n",
              "      <th>118</th>\n",
              "      <td>South Korea</td>\n",
              "      <td>East Asia</td>\n",
              "      <td>5.8950</td>\n",
              "      <td>1.301000</td>\n",
              "      <td>1.036000</td>\n",
              "      <td>0.159000</td>\n",
              "      <td>0.175000</td>\n",
              "      <td>0.056000</td>\n",
              "      <td>2019</td>\n",
              "    </tr>\n",
              "    <tr>\n",
              "      <th>118</th>\n",
              "      <td>South Korea</td>\n",
              "      <td>East Asia</td>\n",
              "      <td>5.8724</td>\n",
              "      <td>5.785993</td>\n",
              "      <td>0.799387</td>\n",
              "      <td>0.736027</td>\n",
              "      <td>0.612965</td>\n",
              "      <td>-0.043404</td>\n",
              "      <td>2020</td>\n",
              "    </tr>\n",
              "    <tr>\n",
              "      <th>118</th>\n",
              "      <td>South Korea</td>\n",
              "      <td>East Asia</td>\n",
              "      <td>5.8450</td>\n",
              "      <td>1.403000</td>\n",
              "      <td>0.801000</td>\n",
              "      <td>0.672000</td>\n",
              "      <td>-0.083000</td>\n",
              "      <td>0.727000</td>\n",
              "      <td>2021</td>\n",
              "    </tr>\n",
              "  </tbody>\n",
              "</table>\n",
              "</div>"
            ],
            "text/plain": [
              "         Country Regional indicator  ...  Perceptions of corruption  Year\n",
              "118  South Korea          East Asia  ...                   0.063283  2017\n",
              "118  South Korea          East Asia  ...                   0.051000  2018\n",
              "118  South Korea          East Asia  ...                   0.056000  2019\n",
              "118  South Korea          East Asia  ...                  -0.043404  2020\n",
              "118  South Korea          East Asia  ...                   0.727000  2021\n",
              "\n",
              "[5 rows x 9 columns]"
            ]
          },
          "metadata": {
            "tags": []
          },
          "execution_count": 127
        }
      ]
    },
    {
      "cell_type": "code",
      "metadata": {
        "colab": {
          "base_uri": "https://localhost:8080/"
        },
        "id": "XwyjPOqGIZW6",
        "outputId": "f82879c8-8128-4218-9d42-e73fead3f85e"
      },
      "source": [
        "df2017['Score'].mean(), df2017['GDP per capita'].mean(), df2017['Healthy life expectancy'].mean() ,df2017['Freedom to make life choices'].mean(), df2017['Generosity'].mean(), df2017['Perceptions of corruption'].mean()\n",
        "#df2017['GDP per capita'].mean()\n",
        "#df2017['Healthy life expectancy'].mean()\n",
        "#df2017['Freedom to make life choices'].mean()\n",
        "#df2017['Generosity'].mean()\n",
        "#df2017['Perceptions of corruption'].mean()\n",
        "\n",
        "# 한국의 5년간(2017~2021) 각 요소별 평균"
      ],
      "execution_count": 128,
      "outputs": [
        {
          "output_type": "execute_result",
          "data": {
            "text/plain": [
              "(5.413125870118876,\n",
              " 1.0051338314825176,\n",
              " 0.5685856154265734,\n",
              " 0.4161649157342657,\n",
              " 0.24311045106293716,\n",
              " 0.12222521408391611)"
            ]
          },
          "metadata": {
            "tags": []
          },
          "execution_count": 128
        }
      ]
    },
    {
      "cell_type": "code",
      "metadata": {
        "colab": {
          "base_uri": "https://localhost:8080/"
        },
        "id": "cxICmqphJBI1",
        "outputId": "fefd2533-923c-4516-f93f-3238ee3d861a"
      },
      "source": [
        "mean2017=df2017.iloc[:,:-1].mean()\n",
        "mean2017"
      ],
      "execution_count": 129,
      "outputs": [
        {
          "output_type": "execute_result",
          "data": {
            "text/plain": [
              "Score                           5.413126\n",
              "GDP per capita                  1.005134\n",
              "Healthy life expectancy         0.568586\n",
              "Freedom to make life choices    0.416165\n",
              "Generosity                      0.243110\n",
              "Perceptions of corruption       0.122225\n",
              "dtype: float64"
            ]
          },
          "metadata": {
            "tags": []
          },
          "execution_count": 129
        }
      ]
    },
    {
      "cell_type": "code",
      "metadata": {
        "colab": {
          "base_uri": "https://localhost:8080/"
        },
        "id": "2xVeNBkBKv--",
        "outputId": "3d43f0ea-79ec-463f-e5c3-571d9d0c2c86"
      },
      "source": [
        "mean2018=df2018.iloc[:,:-1].mean()\n",
        "mean2018"
      ],
      "execution_count": 130,
      "outputs": [
        {
          "output_type": "execute_result",
          "data": {
            "text/plain": [
              "Score                           5.442455\n",
              "GDP per capita                  0.912294\n",
              "Healthy life expectancy         0.616189\n",
              "Freedom to make life choices    0.461629\n",
              "Generosity                      0.177580\n",
              "Perceptions of corruption       0.112106\n",
              "dtype: float64"
            ]
          },
          "metadata": {
            "tags": []
          },
          "execution_count": 130
        }
      ]
    },
    {
      "cell_type": "code",
      "metadata": {
        "colab": {
          "base_uri": "https://localhost:8080/"
        },
        "id": "2VWC480OLBrw",
        "outputId": "1be8ba26-c878-40ea-e9df-90a558c7267c"
      },
      "source": [
        "mean2019=df2019.iloc[:,:-1].mean()\n",
        "mean2019"
      ],
      "execution_count": 131,
      "outputs": [
        {
          "output_type": "execute_result",
          "data": {
            "text/plain": [
              "Score                           5.486741\n",
              "GDP per capita                  0.932098\n",
              "Healthy life expectancy         0.749392\n",
              "Freedom to make life choices    0.398147\n",
              "Generosity                      0.180203\n",
              "Perceptions of corruption       0.110042\n",
              "dtype: float64"
            ]
          },
          "metadata": {
            "tags": []
          },
          "execution_count": 131
        }
      ]
    },
    {
      "cell_type": "code",
      "metadata": {
        "colab": {
          "base_uri": "https://localhost:8080/"
        },
        "id": "wc5xp97yLDAC",
        "outputId": "8172e716-5e31-4a9e-8cba-2925edf2b733"
      },
      "source": [
        "mean2020=df2020.iloc[:,:-1].mean()\n",
        "mean2020"
      ],
      "execution_count": 132,
      "outputs": [
        {
          "output_type": "execute_result",
          "data": {
            "text/plain": [
              "Score                           5.538580\n",
              "GDP per capita                  5.437659\n",
              "Healthy life expectancy         0.816179\n",
              "Freedom to make life choices    0.649455\n",
              "Generosity                      0.788641\n",
              "Perceptions of corruption      -0.019410\n",
              "dtype: float64"
            ]
          },
          "metadata": {
            "tags": []
          },
          "execution_count": 132
        }
      ]
    },
    {
      "cell_type": "code",
      "metadata": {
        "colab": {
          "base_uri": "https://localhost:8080/"
        },
        "id": "1e-k-RGxLEU1",
        "outputId": "34e742b9-bf2b-4b24-b994-bdb434c78f53"
      },
      "source": [
        "mean2021=df2021.iloc[:,:-1].mean()\n",
        "mean2021"
      ],
      "execution_count": 133,
      "outputs": [
        {
          "output_type": "execute_result",
          "data": {
            "text/plain": [
              "Score                           5.562350\n",
              "GDP per capita                  0.985329\n",
              "Healthy life expectancy         0.527126\n",
              "Freedom to make life choices    0.793993\n",
              "Generosity                     -0.019308\n",
              "Perceptions of corruption       0.725643\n",
              "dtype: float64"
            ]
          },
          "metadata": {
            "tags": []
          },
          "execution_count": 133
        }
      ]
    },
    {
      "cell_type": "code",
      "metadata": {
        "colab": {
          "base_uri": "https://localhost:8080/",
          "height": 670
        },
        "id": "tcvI2v8CLFik",
        "outputId": "e784820b-c758-4018-cd55-db63a97babd3"
      },
      "source": [
        "df2020\n",
        "# 2020에서 Freedom to make life choices-> column 수정"
      ],
      "execution_count": 134,
      "outputs": [
        {
          "output_type": "execute_result",
          "data": {
            "text/html": [
              "<div>\n",
              "<style scoped>\n",
              "    .dataframe tbody tr th:only-of-type {\n",
              "        vertical-align: middle;\n",
              "    }\n",
              "\n",
              "    .dataframe tbody tr th {\n",
              "        vertical-align: top;\n",
              "    }\n",
              "\n",
              "    .dataframe thead th {\n",
              "        text-align: right;\n",
              "    }\n",
              "</style>\n",
              "<table border=\"1\" class=\"dataframe\">\n",
              "  <thead>\n",
              "    <tr style=\"text-align: right;\">\n",
              "      <th></th>\n",
              "      <th>Country</th>\n",
              "      <th>Regional indicator</th>\n",
              "      <th>Score</th>\n",
              "      <th>GDP per capita</th>\n",
              "      <th>Healthy life expectancy</th>\n",
              "      <th>Freedom to make life choices</th>\n",
              "      <th>Generosity</th>\n",
              "      <th>Perceptions of corruption</th>\n",
              "      <th>Year</th>\n",
              "    </tr>\n",
              "  </thead>\n",
              "  <tbody>\n",
              "    <tr>\n",
              "      <th>0</th>\n",
              "      <td>Afghanistan</td>\n",
              "      <td>South Asia</td>\n",
              "      <td>2.5669</td>\n",
              "      <td>2.505530</td>\n",
              "      <td>0.470367</td>\n",
              "      <td>0.525900</td>\n",
              "      <td>0.396573</td>\n",
              "      <td>-0.096429</td>\n",
              "      <td>2020</td>\n",
              "    </tr>\n",
              "    <tr>\n",
              "      <th>1</th>\n",
              "      <td>Albania</td>\n",
              "      <td>Central and Eastern Europe</td>\n",
              "      <td>4.8827</td>\n",
              "      <td>4.772713</td>\n",
              "      <td>0.671070</td>\n",
              "      <td>0.687081</td>\n",
              "      <td>0.781994</td>\n",
              "      <td>-0.042309</td>\n",
              "      <td>2020</td>\n",
              "    </tr>\n",
              "    <tr>\n",
              "      <th>2</th>\n",
              "      <td>Algeria</td>\n",
              "      <td>Middle East and North Africa</td>\n",
              "      <td>5.0051</td>\n",
              "      <td>4.918397</td>\n",
              "      <td>0.803385</td>\n",
              "      <td>0.659052</td>\n",
              "      <td>0.466611</td>\n",
              "      <td>-0.121105</td>\n",
              "      <td>2020</td>\n",
              "    </tr>\n",
              "    <tr>\n",
              "      <th>3</th>\n",
              "      <td>Argentina</td>\n",
              "      <td>Latin America and Caribbean</td>\n",
              "      <td>5.9747</td>\n",
              "      <td>5.869954</td>\n",
              "      <td>0.900568</td>\n",
              "      <td>0.688038</td>\n",
              "      <td>0.831132</td>\n",
              "      <td>-0.194914</td>\n",
              "      <td>2020</td>\n",
              "    </tr>\n",
              "    <tr>\n",
              "      <th>4</th>\n",
              "      <td>Armenia</td>\n",
              "      <td>Commonwealth of Independent States</td>\n",
              "      <td>4.6768</td>\n",
              "      <td>4.561953</td>\n",
              "      <td>0.757479</td>\n",
              "      <td>0.667507</td>\n",
              "      <td>0.712018</td>\n",
              "      <td>-0.138780</td>\n",
              "      <td>2020</td>\n",
              "    </tr>\n",
              "    <tr>\n",
              "      <th>...</th>\n",
              "      <td>...</td>\n",
              "      <td>...</td>\n",
              "      <td>...</td>\n",
              "      <td>...</td>\n",
              "      <td>...</td>\n",
              "      <td>...</td>\n",
              "      <td>...</td>\n",
              "      <td>...</td>\n",
              "      <td>...</td>\n",
              "    </tr>\n",
              "    <tr>\n",
              "      <th>138</th>\n",
              "      <td>Venezuela</td>\n",
              "      <td>Latin America and Caribbean</td>\n",
              "      <td>5.0532</td>\n",
              "      <td>4.927210</td>\n",
              "      <td>0.890408</td>\n",
              "      <td>0.665053</td>\n",
              "      <td>0.623278</td>\n",
              "      <td>-0.169091</td>\n",
              "      <td>2020</td>\n",
              "    </tr>\n",
              "    <tr>\n",
              "      <th>139</th>\n",
              "      <td>Vietnam</td>\n",
              "      <td>Southeast Asia</td>\n",
              "      <td>5.3535</td>\n",
              "      <td>5.287251</td>\n",
              "      <td>0.849987</td>\n",
              "      <td>0.679527</td>\n",
              "      <td>0.939593</td>\n",
              "      <td>-0.094533</td>\n",
              "      <td>2020</td>\n",
              "    </tr>\n",
              "    <tr>\n",
              "      <th>140</th>\n",
              "      <td>Yemen</td>\n",
              "      <td>Middle East and North Africa</td>\n",
              "      <td>3.5274</td>\n",
              "      <td>3.421250</td>\n",
              "      <td>0.817981</td>\n",
              "      <td>0.567273</td>\n",
              "      <td>0.599920</td>\n",
              "      <td>-0.157735</td>\n",
              "      <td>2020</td>\n",
              "    </tr>\n",
              "    <tr>\n",
              "      <th>141</th>\n",
              "      <td>Zambia</td>\n",
              "      <td>Sub-Saharan Africa</td>\n",
              "      <td>3.7594</td>\n",
              "      <td>3.640474</td>\n",
              "      <td>0.698824</td>\n",
              "      <td>0.552994</td>\n",
              "      <td>0.806500</td>\n",
              "      <td>0.078037</td>\n",
              "      <td>2020</td>\n",
              "    </tr>\n",
              "    <tr>\n",
              "      <th>142</th>\n",
              "      <td>Zimbabwe</td>\n",
              "      <td>Sub-Saharan Africa</td>\n",
              "      <td>3.2992</td>\n",
              "      <td>3.184198</td>\n",
              "      <td>0.763093</td>\n",
              "      <td>0.556173</td>\n",
              "      <td>0.711458</td>\n",
              "      <td>-0.072064</td>\n",
              "      <td>2020</td>\n",
              "    </tr>\n",
              "  </tbody>\n",
              "</table>\n",
              "<p>143 rows × 9 columns</p>\n",
              "</div>"
            ],
            "text/plain": [
              "         Country  ...  Year\n",
              "0    Afghanistan  ...  2020\n",
              "1        Albania  ...  2020\n",
              "2        Algeria  ...  2020\n",
              "3      Argentina  ...  2020\n",
              "4        Armenia  ...  2020\n",
              "..           ...  ...   ...\n",
              "138    Venezuela  ...  2020\n",
              "139      Vietnam  ...  2020\n",
              "140        Yemen  ...  2020\n",
              "141       Zambia  ...  2020\n",
              "142     Zimbabwe  ...  2020\n",
              "\n",
              "[143 rows x 9 columns]"
            ]
          },
          "metadata": {
            "tags": []
          },
          "execution_count": 134
        }
      ]
    },
    {
      "cell_type": "code",
      "metadata": {
        "colab": {
          "base_uri": "https://localhost:8080/",
          "height": 234
        },
        "id": "kHVq166px5r7",
        "outputId": "c0a2ca1b-0435-493e-f444-bd6e020e199c"
      },
      "source": [
        "df_mean=pd.DataFrame(data=[mean2017, mean2018, mean2019, mean2020, mean2021])\n",
        "df_mean['Year']=[2017, 2018, 2019, 2020, 2021]\n",
        "df_mean"
      ],
      "execution_count": 136,
      "outputs": [
        {
          "output_type": "execute_result",
          "data": {
            "text/html": [
              "<div>\n",
              "<style scoped>\n",
              "    .dataframe tbody tr th:only-of-type {\n",
              "        vertical-align: middle;\n",
              "    }\n",
              "\n",
              "    .dataframe tbody tr th {\n",
              "        vertical-align: top;\n",
              "    }\n",
              "\n",
              "    .dataframe thead th {\n",
              "        text-align: right;\n",
              "    }\n",
              "</style>\n",
              "<table border=\"1\" class=\"dataframe\">\n",
              "  <thead>\n",
              "    <tr style=\"text-align: right;\">\n",
              "      <th></th>\n",
              "      <th>Score</th>\n",
              "      <th>GDP per capita</th>\n",
              "      <th>Healthy life expectancy</th>\n",
              "      <th>Freedom to make life choices</th>\n",
              "      <th>Generosity</th>\n",
              "      <th>Perceptions of corruption</th>\n",
              "      <th>Year</th>\n",
              "    </tr>\n",
              "  </thead>\n",
              "  <tbody>\n",
              "    <tr>\n",
              "      <th>0</th>\n",
              "      <td>5.413126</td>\n",
              "      <td>1.005134</td>\n",
              "      <td>0.568586</td>\n",
              "      <td>0.416165</td>\n",
              "      <td>0.243110</td>\n",
              "      <td>0.122225</td>\n",
              "      <td>2017</td>\n",
              "    </tr>\n",
              "    <tr>\n",
              "      <th>1</th>\n",
              "      <td>5.442455</td>\n",
              "      <td>0.912294</td>\n",
              "      <td>0.616189</td>\n",
              "      <td>0.461629</td>\n",
              "      <td>0.177580</td>\n",
              "      <td>0.112106</td>\n",
              "      <td>2018</td>\n",
              "    </tr>\n",
              "    <tr>\n",
              "      <th>2</th>\n",
              "      <td>5.486741</td>\n",
              "      <td>0.932098</td>\n",
              "      <td>0.749392</td>\n",
              "      <td>0.398147</td>\n",
              "      <td>0.180203</td>\n",
              "      <td>0.110042</td>\n",
              "      <td>2019</td>\n",
              "    </tr>\n",
              "    <tr>\n",
              "      <th>3</th>\n",
              "      <td>5.538580</td>\n",
              "      <td>5.437659</td>\n",
              "      <td>0.816179</td>\n",
              "      <td>0.649455</td>\n",
              "      <td>0.788641</td>\n",
              "      <td>-0.019410</td>\n",
              "      <td>2020</td>\n",
              "    </tr>\n",
              "    <tr>\n",
              "      <th>4</th>\n",
              "      <td>5.562350</td>\n",
              "      <td>0.985329</td>\n",
              "      <td>0.527126</td>\n",
              "      <td>0.793993</td>\n",
              "      <td>-0.019308</td>\n",
              "      <td>0.725643</td>\n",
              "      <td>2021</td>\n",
              "    </tr>\n",
              "  </tbody>\n",
              "</table>\n",
              "</div>"
            ],
            "text/plain": [
              "      Score  GDP per capita  ...  Perceptions of corruption  Year\n",
              "0  5.413126        1.005134  ...                   0.122225  2017\n",
              "1  5.442455        0.912294  ...                   0.112106  2018\n",
              "2  5.486741        0.932098  ...                   0.110042  2019\n",
              "3  5.538580        5.437659  ...                  -0.019410  2020\n",
              "4  5.562350        0.985329  ...                   0.725643  2021\n",
              "\n",
              "[5 rows x 7 columns]"
            ]
          },
          "metadata": {
            "tags": []
          },
          "execution_count": 136
        }
      ]
    },
    {
      "cell_type": "code",
      "metadata": {
        "colab": {
          "base_uri": "https://localhost:8080/",
          "height": 167
        },
        "id": "Y1-U0qyHM943",
        "outputId": "f6ef0c96-7b7b-4ae4-99d1-78fe66268517"
      },
      "source": [
        "df_Korea2017=df_Korea[df_Korea['Year']==2017]\n",
        "df_Korea2017"
      ],
      "execution_count": 139,
      "outputs": [
        {
          "output_type": "execute_result",
          "data": {
            "text/html": [
              "<div>\n",
              "<style scoped>\n",
              "    .dataframe tbody tr th:only-of-type {\n",
              "        vertical-align: middle;\n",
              "    }\n",
              "\n",
              "    .dataframe tbody tr th {\n",
              "        vertical-align: top;\n",
              "    }\n",
              "\n",
              "    .dataframe thead th {\n",
              "        text-align: right;\n",
              "    }\n",
              "</style>\n",
              "<table border=\"1\" class=\"dataframe\">\n",
              "  <thead>\n",
              "    <tr style=\"text-align: right;\">\n",
              "      <th></th>\n",
              "      <th>Country</th>\n",
              "      <th>Regional indicator</th>\n",
              "      <th>Score</th>\n",
              "      <th>GDP per capita</th>\n",
              "      <th>Healthy life expectancy</th>\n",
              "      <th>Freedom to make life choices</th>\n",
              "      <th>Generosity</th>\n",
              "      <th>Perceptions of corruption</th>\n",
              "      <th>Year</th>\n",
              "    </tr>\n",
              "  </thead>\n",
              "  <tbody>\n",
              "    <tr>\n",
              "      <th>118</th>\n",
              "      <td>South Korea</td>\n",
              "      <td>East Asia</td>\n",
              "      <td>5.838</td>\n",
              "      <td>1.401678</td>\n",
              "      <td>0.900214</td>\n",
              "      <td>0.257922</td>\n",
              "      <td>0.206674</td>\n",
              "      <td>0.063283</td>\n",
              "      <td>2017</td>\n",
              "    </tr>\n",
              "  </tbody>\n",
              "</table>\n",
              "</div>"
            ],
            "text/plain": [
              "         Country Regional indicator  ...  Perceptions of corruption  Year\n",
              "118  South Korea          East Asia  ...                   0.063283  2017\n",
              "\n",
              "[1 rows x 9 columns]"
            ]
          },
          "metadata": {
            "tags": []
          },
          "execution_count": 139
        }
      ]
    },
    {
      "cell_type": "code",
      "metadata": {
        "colab": {
          "base_uri": "https://localhost:8080/",
          "height": 985
        },
        "id": "Mx5CESuIWQ2u",
        "outputId": "56dff70f-3645-4489-d507-24dd9da91b8a"
      },
      "source": [
        "labels=[2017,2018,2019,2020,2021]\n",
        "# [0.5, 1.0, 1.5, 2.0, 2.5, 3.0, 3.5, 4.0, 4.5, 5.0, 5.5, 6.0]\n",
        "\n",
        "ax=df_mean.drop('Year', axis=1).plot.barh(rot=0)\n",
        "ax.set_yticklabels(labels)\n",
        "ax.set_yticklabels(ax.get_yticklabels(), fontsize=10)\n",
        "ax.axvline(0, color='gray', linewidth=.5)\n",
        "fig = plt.gcf()\n",
        "fig.set_size_inches(6,8)\n",
        "plt.title('Average of each element by year in all countries', fontsize=15)\n",
        "\n",
        "ax=df_Korea.drop('Year', axis=1).plot.barh(rot=0)\n",
        "ax.set_yticklabels(labels)\n",
        "ax.set_yticklabels(ax.get_yticklabels(), fontsize=10)\n",
        "ax.axvline(0, color='gray', linewidth=.5)\n",
        "fig = plt.gcf()\n",
        "fig.set_size_inches(6,8)\n",
        "plt.title('Average of each element by year in Korea', fontsize=15)\n",
        "\n",
        "# ax=df_Korea.drop('Year', axis=1).plot.barh(rot=0)\n",
        "\n",
        "plt.show()\n"
      ],
      "execution_count": 141,
      "outputs": [
        {
          "output_type": "display_data",
          "data": {
            "image/png": "[encoded data removed]",
            "text/plain": [
              "<Figure size 432x576 with 1 Axes>"
            ]
          },
          "metadata": {
            "tags": [],
            "needs_background": "light"
          }
        },
        {
          "output_type": "display_data",
          "data": {
            "image/png": "[encoded data removed]",
            "text/plain": [
              "<Figure size 432x576 with 1 Axes>"
            ]
          },
          "metadata": {
            "tags": [],
            "needs_background": "light"
          }
        }
      ]
    },
    {
      "cell_type": "code",
      "metadata": {
        "colab": {
          "base_uri": "https://localhost:8080/",
          "height": 234
        },
        "id": "6svgoNl-oKpd",
        "outputId": "8e0ca4e0-f42d-4f76-aaaf-47d7aaad3014"
      },
      "source": [
        "# df_Korea=df_Korea.drop(['Year'], axis=1)\n",
        "df_Korea=df_Korea.drop(['Regional indicator'], axis=1)\n",
        "df_Korea=df_Korea.drop(['Country'], axis=1)\n",
        "df_Korea"
      ],
      "execution_count": 143,
      "outputs": [
        {
          "output_type": "execute_result",
          "data": {
            "text/html": [
              "<div>\n",
              "<style scoped>\n",
              "    .dataframe tbody tr th:only-of-type {\n",
              "        vertical-align: middle;\n",
              "    }\n",
              "\n",
              "    .dataframe tbody tr th {\n",
              "        vertical-align: top;\n",
              "    }\n",
              "\n",
              "    .dataframe thead th {\n",
              "        text-align: right;\n",
              "    }\n",
              "</style>\n",
              "<table border=\"1\" class=\"dataframe\">\n",
              "  <thead>\n",
              "    <tr style=\"text-align: right;\">\n",
              "      <th></th>\n",
              "      <th>Score</th>\n",
              "      <th>GDP per capita</th>\n",
              "      <th>Healthy life expectancy</th>\n",
              "      <th>Freedom to make life choices</th>\n",
              "      <th>Generosity</th>\n",
              "      <th>Perceptions of corruption</th>\n",
              "      <th>Year</th>\n",
              "    </tr>\n",
              "  </thead>\n",
              "  <tbody>\n",
              "    <tr>\n",
              "      <th>118</th>\n",
              "      <td>5.8380</td>\n",
              "      <td>1.401678</td>\n",
              "      <td>0.900214</td>\n",
              "      <td>0.257922</td>\n",
              "      <td>0.206674</td>\n",
              "      <td>0.063283</td>\n",
              "      <td>2017</td>\n",
              "    </tr>\n",
              "    <tr>\n",
              "      <th>118</th>\n",
              "      <td>5.8750</td>\n",
              "      <td>1.266000</td>\n",
              "      <td>0.955000</td>\n",
              "      <td>0.244000</td>\n",
              "      <td>0.175000</td>\n",
              "      <td>0.051000</td>\n",
              "      <td>2018</td>\n",
              "    </tr>\n",
              "    <tr>\n",
              "      <th>118</th>\n",
              "      <td>5.8950</td>\n",
              "      <td>1.301000</td>\n",
              "      <td>1.036000</td>\n",
              "      <td>0.159000</td>\n",
              "      <td>0.175000</td>\n",
              "      <td>0.056000</td>\n",
              "      <td>2019</td>\n",
              "    </tr>\n",
              "    <tr>\n",
              "      <th>118</th>\n",
              "      <td>5.8724</td>\n",
              "      <td>5.785993</td>\n",
              "      <td>0.799387</td>\n",
              "      <td>0.736027</td>\n",
              "      <td>0.612965</td>\n",
              "      <td>-0.043404</td>\n",
              "      <td>2020</td>\n",
              "    </tr>\n",
              "    <tr>\n",
              "      <th>118</th>\n",
              "      <td>5.8450</td>\n",
              "      <td>1.403000</td>\n",
              "      <td>0.801000</td>\n",
              "      <td>0.672000</td>\n",
              "      <td>-0.083000</td>\n",
              "      <td>0.727000</td>\n",
              "      <td>2021</td>\n",
              "    </tr>\n",
              "  </tbody>\n",
              "</table>\n",
              "</div>"
            ],
            "text/plain": [
              "      Score  GDP per capita  ...  Perceptions of corruption  Year\n",
              "118  5.8380        1.401678  ...                   0.063283  2017\n",
              "118  5.8750        1.266000  ...                   0.051000  2018\n",
              "118  5.8950        1.301000  ...                   0.056000  2019\n",
              "118  5.8724        5.785993  ...                  -0.043404  2020\n",
              "118  5.8450        1.403000  ...                   0.727000  2021\n",
              "\n",
              "[5 rows x 7 columns]"
            ]
          },
          "metadata": {
            "tags": []
          },
          "execution_count": 143
        }
      ]
    },
    {
      "cell_type": "code",
      "metadata": {
        "colab": {
          "base_uri": "https://localhost:8080/"
        },
        "id": "7QKxbCvVvYuv",
        "outputId": "2f058712-67dd-40dd-aec6-ad3c26304adb"
      },
      "source": [
        "col_list=['Score', 'GDP per capita', 'Healthy life expectancy', 'Freedom to make life choices', 'Generosity', 'Perceptions of corruption']\n",
        "col_list"
      ],
      "execution_count": 145,
      "outputs": [
        {
          "output_type": "execute_result",
          "data": {
            "text/plain": [
              "['Score',\n",
              " 'GDP per capita',\n",
              " 'Healthy life expectancy',\n",
              " 'Freedom to make life choices',\n",
              " 'Generosity',\n",
              " 'Perceptions of corruption']"
            ]
          },
          "metadata": {
            "tags": []
          },
          "execution_count": 145
        }
      ]
    },
    {
      "cell_type": "code",
      "metadata": {
        "colab": {
          "base_uri": "https://localhost:8080/"
        },
        "id": "rWAbruzk1lL2",
        "outputId": "25b6e548-65e0-46d4-fb32-bec7c7f93c8c"
      },
      "source": [
        "# diff: df_Korea의 각 항목 값과 df_mean의 차이\n",
        "\n",
        "diff=(df_Korea.iloc[:,:-1].values)-(df_mean.iloc[:, :-1].values)\n",
        "diff"
      ],
      "execution_count": 148,
      "outputs": [
        {
          "output_type": "execute_result",
          "data": {
            "text/plain": [
              "array([[ 0.42487395,  0.39654461,  0.33162846, -0.15824325, -0.03643608,\n",
              "        -0.05894255],\n",
              "       [ 0.43254545,  0.35370629,  0.33881119, -0.21762937, -0.00258042,\n",
              "        -0.06110563],\n",
              "       [ 0.40825874,  0.3689021 ,  0.28660839, -0.23914685, -0.0052028 ,\n",
              "        -0.05404196],\n",
              "       [ 0.33381939,  0.34833449, -0.01679135,  0.08657259, -0.17567542,\n",
              "        -0.02399403],\n",
              "       [ 0.28265035,  0.41767133,  0.27387413, -0.12199301, -0.06369231,\n",
              "         0.00135664]])"
            ]
          },
          "metadata": {
            "tags": []
          },
          "execution_count": 148
        }
      ]
    },
    {
      "cell_type": "code",
      "metadata": {
        "colab": {
          "base_uri": "https://localhost:8080/",
          "height": 234
        },
        "id": "19mNqPIk1y78",
        "outputId": "52a77ac5-1976-4122-faa9-b7b9f853ffa4"
      },
      "source": [
        "# diff에 대한 DataFrame 만들기\n",
        "\n",
        "df_diff=pd.DataFrame(data=diff, index=[2017, 2018,2019, 2020, 2021], columns=col_list)\n",
        "#df_diff['Year']=[2017,2018,2019,2020,2021]\n",
        "df_diff"
      ],
      "execution_count": 149,
      "outputs": [
        {
          "output_type": "execute_result",
          "data": {
            "text/html": [
              "<div>\n",
              "<style scoped>\n",
              "    .dataframe tbody tr th:only-of-type {\n",
              "        vertical-align: middle;\n",
              "    }\n",
              "\n",
              "    .dataframe tbody tr th {\n",
              "        vertical-align: top;\n",
              "    }\n",
              "\n",
              "    .dataframe thead th {\n",
              "        text-align: right;\n",
              "    }\n",
              "</style>\n",
              "<table border=\"1\" class=\"dataframe\">\n",
              "  <thead>\n",
              "    <tr style=\"text-align: right;\">\n",
              "      <th></th>\n",
              "      <th>Score</th>\n",
              "      <th>GDP per capita</th>\n",
              "      <th>Healthy life expectancy</th>\n",
              "      <th>Freedom to make life choices</th>\n",
              "      <th>Generosity</th>\n",
              "      <th>Perceptions of corruption</th>\n",
              "    </tr>\n",
              "  </thead>\n",
              "  <tbody>\n",
              "    <tr>\n",
              "      <th>2017</th>\n",
              "      <td>0.424874</td>\n",
              "      <td>0.396545</td>\n",
              "      <td>0.331628</td>\n",
              "      <td>-0.158243</td>\n",
              "      <td>-0.036436</td>\n",
              "      <td>-0.058943</td>\n",
              "    </tr>\n",
              "    <tr>\n",
              "      <th>2018</th>\n",
              "      <td>0.432545</td>\n",
              "      <td>0.353706</td>\n",
              "      <td>0.338811</td>\n",
              "      <td>-0.217629</td>\n",
              "      <td>-0.002580</td>\n",
              "      <td>-0.061106</td>\n",
              "    </tr>\n",
              "    <tr>\n",
              "      <th>2019</th>\n",
              "      <td>0.408259</td>\n",
              "      <td>0.368902</td>\n",
              "      <td>0.286608</td>\n",
              "      <td>-0.239147</td>\n",
              "      <td>-0.005203</td>\n",
              "      <td>-0.054042</td>\n",
              "    </tr>\n",
              "    <tr>\n",
              "      <th>2020</th>\n",
              "      <td>0.333819</td>\n",
              "      <td>0.348334</td>\n",
              "      <td>-0.016791</td>\n",
              "      <td>0.086573</td>\n",
              "      <td>-0.175675</td>\n",
              "      <td>-0.023994</td>\n",
              "    </tr>\n",
              "    <tr>\n",
              "      <th>2021</th>\n",
              "      <td>0.282650</td>\n",
              "      <td>0.417671</td>\n",
              "      <td>0.273874</td>\n",
              "      <td>-0.121993</td>\n",
              "      <td>-0.063692</td>\n",
              "      <td>0.001357</td>\n",
              "    </tr>\n",
              "  </tbody>\n",
              "</table>\n",
              "</div>"
            ],
            "text/plain": [
              "         Score  GDP per capita  ...  Generosity  Perceptions of corruption\n",
              "2017  0.424874        0.396545  ...   -0.036436                  -0.058943\n",
              "2018  0.432545        0.353706  ...   -0.002580                  -0.061106\n",
              "2019  0.408259        0.368902  ...   -0.005203                  -0.054042\n",
              "2020  0.333819        0.348334  ...   -0.175675                  -0.023994\n",
              "2021  0.282650        0.417671  ...   -0.063692                   0.001357\n",
              "\n",
              "[5 rows x 6 columns]"
            ]
          },
          "metadata": {
            "tags": []
          },
          "execution_count": 149
        }
      ]
    },
    {
      "cell_type": "code",
      "metadata": {
        "colab": {
          "base_uri": "https://localhost:8080/",
          "height": 517
        },
        "id": "sdDHl7lg4KAv",
        "outputId": "0bfe7d8e-d996-4321-eaa1-1281870f5c8f"
      },
      "source": [
        "# df_diff: df_Korea의 각 항목 값과 df_mean의 차이\n",
        "# df_diff: 한국과 전세계 각 요소의 연간 평균 차이\n",
        "\n",
        "ax=df_diff.plot.barh(rot=0)\n",
        "ax.set_yticklabels(labels)\n",
        "ax.set_yticklabels(ax.get_yticklabels(), fontsize=10)\n",
        "ax.axvline(0, color='gray', linewidth=.5)\n",
        "fig = plt.gcf()\n",
        "fig.set_size_inches(6,8)\n",
        "plt.title('All Country and Korea difference of elements each year ', fontsize=13)"
      ],
      "execution_count": 150,
      "outputs": [
        {
          "output_type": "execute_result",
          "data": {
            "text/plain": [
              "Text(0.5, 1.0, 'All Country and Korea difference of elements each year ')"
            ]
          },
          "metadata": {
            "tags": []
          },
          "execution_count": 150
        },
        {
          "output_type": "display_data",
          "data": {
            "image/png": "[encoded data removed]",
            "text/plain": [
              "<Figure size 432x576 with 1 Axes>"
            ]
          },
          "metadata": {
            "tags": [],
            "needs_background": "light"
          }
        }
      ]
    },
    {
      "cell_type": "code",
      "metadata": {
        "colab": {
          "base_uri": "https://localhost:8080/",
          "height": 523
        },
        "id": "-Zbjv2l_3Iob",
        "outputId": "f760b90a-9603-4d8a-83bc-1dca407ff5f1"
      },
      "source": [
        "# 연도에 따른 각 요소별 한국-전세계 차이에 대한 scatter 분포\n",
        "\n",
        "sns.catplot(data=df_diff)\n",
        "plt.xticks(rotation='vertical')"
      ],
      "execution_count": 152,
      "outputs": [
        {
          "output_type": "execute_result",
          "data": {
            "text/plain": [
              "(array([0, 1, 2, 3, 4, 5]), <a list of 6 Text major ticklabel objects>)"
            ]
          },
          "metadata": {
            "tags": []
          },
          "execution_count": 152
        },
        {
          "output_type": "display_data",
          "data": {
            "image/png": "[encoded data removed]",
            "text/plain": [
              "<Figure size 360x360 with 1 Axes>"
            ]
          },
          "metadata": {
            "tags": [],
            "needs_background": "light"
          }
        }
      ]
    },
    {
      "cell_type": "code",
      "metadata": {
        "id": "sO15hm1M8DTz"
      },
      "source": [
        ""
      ],
      "execution_count": null,
      "outputs": []
    }
  ]
}