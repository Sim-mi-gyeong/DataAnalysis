{
  "nbformat": 4,
  "nbformat_minor": 0,
  "metadata": {
    "colab": {
      "name": "TermProject12-Before and After COVID-19.ipynb",
      "provenance": [],
      "collapsed_sections": [],
      "authorship_tag": "ABX9TyNQ0Swy/W+KtI/935KNpQvb",
      "include_colab_link": true
    },
    "kernelspec": {
      "name": "python3",
      "display_name": "Python 3"
    },
    "language_info": {
      "name": "python"
    }
  },
  "cells": [
    {
      "cell_type": "markdown",
      "metadata": {
        "id": "view-in-github",
        "colab_type": "text"
      },
      "source": [
        "<a href=\"https://colab.research.google.com/github/Sim-mi-gyeong/DataAnalysis/blob/main/TermProject12_Before_and_After_COVID_19.ipynb\" target=\"_parent\"><img src=\"https://colab.research.google.com/assets/colab-badge.svg\" alt=\"Open In Colab\"/></a>"
      ]
    },
    {
      "cell_type": "code",
      "metadata": {
        "id": "jWgmrHuA65bx"
      },
      "source": [
        "# 2020년 전후 (코로나로 인해) 전체 국가에서 증가/감소한 요소가 존재하는가?/Happiness Score에 변화가 있는가?\n",
        "# 특히, 동아시아 국가의 2020년 전후 Happiness Score의 변화는 다른 국가들에 비해 어떠한가?"
      ],
      "execution_count": 1,
      "outputs": []
    },
    {
      "cell_type": "code",
      "metadata": {
        "id": "kvpgg1eaLtIN"
      },
      "source": [
        "import numpy as np\n",
        "import pandas as pd\n",
        "import seaborn as sns\n",
        "import matplotlib.pyplot as plt\n",
        "import plotly.graph_objs as go\n",
        "\n",
        "import warnings\n",
        "warnings.filterwarnings(\"ignore\")"
      ],
      "execution_count": 2,
      "outputs": []
    },
    {
      "cell_type": "code",
      "metadata": {
        "colab": {
          "base_uri": "https://localhost:8080/"
        },
        "id": "-1Nan1s8L8i7",
        "outputId": "a9358304-d5b4-4a32-f3a1-e38370f9295d"
      },
      "source": [
        "from google.colab import drive\n",
        "drive.mount('/content/drive')"
      ],
      "execution_count": 3,
      "outputs": [
        {
          "output_type": "stream",
          "text": [
            "Mounted at /content/drive\n"
          ],
          "name": "stdout"
        }
      ]
    },
    {
      "cell_type": "code",
      "metadata": {
        "id": "TZ4Ko2sFL97k"
      },
      "source": [
        "# 각각의 csv파일을 불러와 df20__ 값에 저장\n",
        "df2017=pd.read_csv('/content/drive/MyDrive/dataset/2017.csv')\n",
        "df2018=pd.read_csv('/content/drive/MyDrive/dataset/2018.csv')\n",
        "df2019=pd.read_csv('/content/drive/MyDrive/dataset/2019.csv')\n",
        "df2020=pd.read_csv('/content/drive/MyDrive/dataset/2020.csv')\n",
        "df2021=pd.read_csv('/content/drive/MyDrive/dataset/2021.csv')"
      ],
      "execution_count": 4,
      "outputs": []
    },
    {
      "cell_type": "code",
      "metadata": {
        "id": "KKrSic_1MEMk"
      },
      "source": [
        "# 2018년 데이터 중 결측값을 해당 column의 평균값으로 대체\n",
        "df2018['Perceptions of corruption']=df2018['Perceptions of corruption'].fillna(df2018['Perceptions of corruption'].mean())"
      ],
      "execution_count": 5,
      "outputs": []
    },
    {
      "cell_type": "code",
      "metadata": {
        "id": "HUFmqaN8MHSX"
      },
      "source": [
        "# 각각의 column 요소에 따라 전체 국가에 대한 연도별 평균값을 mean20__에 저장\n",
        "\n",
        "col_list=['Score', 'GDP per capita', 'Healthy life expectancy', 'Freedom to make life choices', 'Generosity', 'Perceptions of corruption']\n",
        "\n",
        "mean2017=df2017[col_list].mean()\n",
        "mean2018=df2018[col_list].mean()\n",
        "mean2019=df2019[col_list].mean()\n",
        "mean2020=df2020[col_list].mean()\n",
        "mean2021=df2021[col_list].mean()\n",
        "\n",
        "# happy20_top10 = df2020.groupby('Country')['Score'].max().sort_values(ascending=False).head(10).reset_index()\n",
        "# df2020.columns_top10 = ['Country','Score']"
      ],
      "execution_count": 6,
      "outputs": []
    },
    {
      "cell_type": "code",
      "metadata": {
        "colab": {
          "base_uri": "https://localhost:8080/",
          "height": 194
        },
        "id": "wzwe_NdhOuDc",
        "outputId": "5111077d-9614-4fc4-adbc-58abd02d3d57"
      },
      "source": [
        "# mean20__의 값을 df_mean으로 병합 -> df_mean: 연도별 전체 국가의 각 요소별 평균\n",
        "\n",
        "df_mean=pd.DataFrame(data=[mean2017, mean2018, mean2019, mean2020, mean2021], index=[2017,2018,2019,2020,2021])\n",
        "df_mean"
      ],
      "execution_count": 7,
      "outputs": [
        {
          "output_type": "execute_result",
          "data": {
            "text/html": [
              "<div>\n",
              "<style scoped>\n",
              "    .dataframe tbody tr th:only-of-type {\n",
              "        vertical-align: middle;\n",
              "    }\n",
              "\n",
              "    .dataframe tbody tr th {\n",
              "        vertical-align: top;\n",
              "    }\n",
              "\n",
              "    .dataframe thead th {\n",
              "        text-align: right;\n",
              "    }\n",
              "</style>\n",
              "<table border=\"1\" class=\"dataframe\">\n",
              "  <thead>\n",
              "    <tr style=\"text-align: right;\">\n",
              "      <th></th>\n",
              "      <th>Score</th>\n",
              "      <th>GDP per capita</th>\n",
              "      <th>Healthy life expectancy</th>\n",
              "      <th>Freedom to make life choices</th>\n",
              "      <th>Generosity</th>\n",
              "      <th>Perceptions of corruption</th>\n",
              "    </tr>\n",
              "  </thead>\n",
              "  <tbody>\n",
              "    <tr>\n",
              "      <th>2017</th>\n",
              "      <td>5.413126</td>\n",
              "      <td>1.005134</td>\n",
              "      <td>0.568586</td>\n",
              "      <td>0.416165</td>\n",
              "      <td>0.243110</td>\n",
              "      <td>0.122225</td>\n",
              "    </tr>\n",
              "    <tr>\n",
              "      <th>2018</th>\n",
              "      <td>5.442455</td>\n",
              "      <td>0.912294</td>\n",
              "      <td>0.616189</td>\n",
              "      <td>0.461629</td>\n",
              "      <td>0.177580</td>\n",
              "      <td>0.112106</td>\n",
              "    </tr>\n",
              "    <tr>\n",
              "      <th>2019</th>\n",
              "      <td>5.486741</td>\n",
              "      <td>0.932098</td>\n",
              "      <td>0.749392</td>\n",
              "      <td>0.398147</td>\n",
              "      <td>0.180203</td>\n",
              "      <td>0.110042</td>\n",
              "    </tr>\n",
              "    <tr>\n",
              "      <th>2020</th>\n",
              "      <td>5.538580</td>\n",
              "      <td>5.437659</td>\n",
              "      <td>0.816179</td>\n",
              "      <td>0.649455</td>\n",
              "      <td>0.788641</td>\n",
              "      <td>-0.019410</td>\n",
              "    </tr>\n",
              "    <tr>\n",
              "      <th>2021</th>\n",
              "      <td>5.562350</td>\n",
              "      <td>0.985329</td>\n",
              "      <td>0.527126</td>\n",
              "      <td>0.793993</td>\n",
              "      <td>-0.019308</td>\n",
              "      <td>0.725643</td>\n",
              "    </tr>\n",
              "  </tbody>\n",
              "</table>\n",
              "</div>"
            ],
            "text/plain": [
              "         Score  GDP per capita  ...  Generosity  Perceptions of corruption\n",
              "2017  5.413126        1.005134  ...    0.243110                   0.122225\n",
              "2018  5.442455        0.912294  ...    0.177580                   0.112106\n",
              "2019  5.486741        0.932098  ...    0.180203                   0.110042\n",
              "2020  5.538580        5.437659  ...    0.788641                  -0.019410\n",
              "2021  5.562350        0.985329  ...   -0.019308                   0.725643\n",
              "\n",
              "[5 rows x 6 columns]"
            ]
          },
          "metadata": {
            "tags": []
          },
          "execution_count": 7
        }
      ]
    },
    {
      "cell_type": "code",
      "metadata": {
        "colab": {
          "base_uri": "https://localhost:8080/"
        },
        "id": "NdZ2WPWJO3ST",
        "outputId": "908d70cc-831d-4307-9661-a990689836ed"
      },
      "source": [
        "# 2017~2019년도(COVID-19 전) 전체 국가의 각 요소별 평균\n",
        "\n",
        "mean1719=df_mean[col_list].iloc[:3].mean()\n",
        "mean1719"
      ],
      "execution_count": 8,
      "outputs": [
        {
          "output_type": "execute_result",
          "data": {
            "text/plain": [
              "Score                           5.447441\n",
              "GDP per capita                  0.949842\n",
              "Healthy life expectancy         0.644722\n",
              "Freedom to make life choices    0.425314\n",
              "Generosity                      0.200298\n",
              "Perceptions of corruption       0.114791\n",
              "dtype: float64"
            ]
          },
          "metadata": {
            "tags": []
          },
          "execution_count": 8
        }
      ]
    },
    {
      "cell_type": "code",
      "metadata": {
        "colab": {
          "base_uri": "https://localhost:8080/"
        },
        "id": "PuLMODxBU1vI",
        "outputId": "9cf35ecf-b77a-4a67-ceea-c113900c5386"
      },
      "source": [
        "# 2020~2021년도(COVID-19 후) 전체 국가의 각 요소별 평균\n",
        "\n",
        "mean20_21=df_mean[col_list].iloc[4:].mean()\n",
        "mean20_21"
      ],
      "execution_count": 9,
      "outputs": [
        {
          "output_type": "execute_result",
          "data": {
            "text/plain": [
              "Score                           5.562350\n",
              "GDP per capita                  0.985329\n",
              "Healthy life expectancy         0.527126\n",
              "Freedom to make life choices    0.793993\n",
              "Generosity                     -0.019308\n",
              "Perceptions of corruption       0.725643\n",
              "dtype: float64"
            ]
          },
          "metadata": {
            "tags": []
          },
          "execution_count": 9
        }
      ]
    },
    {
      "cell_type": "code",
      "metadata": {
        "colab": {
          "base_uri": "https://localhost:8080/",
          "height": 223
        },
        "id": "LcGX-Y-AVYJW",
        "outputId": "93e4a32d-f9ce-4811-9370-013ed02cbc3b"
      },
      "source": [
        "# COVID-19 전과 후의 각 요소별 평균 차이(변화량)\n",
        "\n",
        "mean_diff=pd.DataFrame(data=mean2021-mean1719)\n",
        "mean_diff"
      ],
      "execution_count": 10,
      "outputs": [
        {
          "output_type": "execute_result",
          "data": {
            "text/html": [
              "<div>\n",
              "<style scoped>\n",
              "    .dataframe tbody tr th:only-of-type {\n",
              "        vertical-align: middle;\n",
              "    }\n",
              "\n",
              "    .dataframe tbody tr th {\n",
              "        vertical-align: top;\n",
              "    }\n",
              "\n",
              "    .dataframe thead th {\n",
              "        text-align: right;\n",
              "    }\n",
              "</style>\n",
              "<table border=\"1\" class=\"dataframe\">\n",
              "  <thead>\n",
              "    <tr style=\"text-align: right;\">\n",
              "      <th></th>\n",
              "      <th>0</th>\n",
              "    </tr>\n",
              "  </thead>\n",
              "  <tbody>\n",
              "    <tr>\n",
              "      <th>Score</th>\n",
              "      <td>0.114909</td>\n",
              "    </tr>\n",
              "    <tr>\n",
              "      <th>GDP per capita</th>\n",
              "      <td>0.035487</td>\n",
              "    </tr>\n",
              "    <tr>\n",
              "      <th>Healthy life expectancy</th>\n",
              "      <td>-0.117596</td>\n",
              "    </tr>\n",
              "    <tr>\n",
              "      <th>Freedom to make life choices</th>\n",
              "      <td>0.368679</td>\n",
              "    </tr>\n",
              "    <tr>\n",
              "      <th>Generosity</th>\n",
              "      <td>-0.219606</td>\n",
              "    </tr>\n",
              "    <tr>\n",
              "      <th>Perceptions of corruption</th>\n",
              "      <td>0.610852</td>\n",
              "    </tr>\n",
              "  </tbody>\n",
              "</table>\n",
              "</div>"
            ],
            "text/plain": [
              "                                     0\n",
              "Score                         0.114909\n",
              "GDP per capita                0.035487\n",
              "Healthy life expectancy      -0.117596\n",
              "Freedom to make life choices  0.368679\n",
              "Generosity                   -0.219606\n",
              "Perceptions of corruption     0.610852"
            ]
          },
          "metadata": {
            "tags": []
          },
          "execution_count": 10
        }
      ]
    },
    {
      "cell_type": "code",
      "metadata": {
        "colab": {
          "base_uri": "https://localhost:8080/"
        },
        "id": "sEcCtvdv3k4P",
        "outputId": "286fa197-3c26-450c-ad25-f18968284374"
      },
      "source": [
        "# 평균에 대한 계산을 한 요소의 이름\n",
        "col_list"
      ],
      "execution_count": 11,
      "outputs": [
        {
          "output_type": "execute_result",
          "data": {
            "text/plain": [
              "['Score',\n",
              " 'GDP per capita',\n",
              " 'Healthy life expectancy',\n",
              " 'Freedom to make life choices',\n",
              " 'Generosity',\n",
              " 'Perceptions of corruption']"
            ]
          },
          "metadata": {
            "tags": []
          },
          "execution_count": 11
        }
      ]
    },
    {
      "cell_type": "code",
      "metadata": {
        "colab": {
          "base_uri": "https://localhost:8080/",
          "height": 417
        },
        "id": "sfyST9cB2sLW",
        "outputId": "0020a93f-93e5-4612-e5ad-e576570ae270"
      },
      "source": [
        "# 2017~2019 평균 data 값 분포와 2020~2021 평균 data 값(요소별 평균)의 분포\n",
        "\n",
        "fig, ax=plt.subplots()\n",
        "\n",
        "width = 0.35\n",
        "index=np.arange(len(col_list))\n",
        "\n",
        "p1=ax.bar(index-width/2, mean1719.tolist(), width, label='17-19', color='orange')\n",
        "p2=ax.bar(index+width/2, mean2021.tolist(), width, label='20-21', color='skyblue')\n",
        "ax.set_xticks(index)\n",
        "ax.set_xticklabels(col_list)\n",
        "ax.set_title(\"17-19 & 20-21 Average cloumn values in all countries\")\n",
        "plt.xticks(rotation='vertical')\n",
        "\n",
        "ax.legend()\n",
        "plt.grid()\n",
        "plt.show()"
      ],
      "execution_count": 12,
      "outputs": [
        {
          "output_type": "display_data",
          "data": {
            "image/png": "[encoded data removed]",
            "text/plain": [
              "<Figure size 432x288 with 1 Axes>"
            ]
          },
          "metadata": {
            "tags": [],
            "needs_background": "light"
          }
        }
      ]
    },
    {
      "cell_type": "code",
      "metadata": {
        "colab": {
          "base_uri": "https://localhost:8080/",
          "height": 417
        },
        "id": "PEdyEYmTLj3o",
        "outputId": "64cf0102-b44a-4b96-b334-c1a5df1ccf6f"
      },
      "source": [
        "# 전체 국가의 2020년 전후 각 column 값의 변화(20-21에 대한 17-19의 차이)\n",
        "\n",
        "fig, ax=plt.subplots()\n",
        "\n",
        "mean_diff=mean2021-mean1719\n",
        "# 2021-1719 이므로 양수:2021이 더 큰 값, 음수:2021이 더 작은 값\n",
        "ax.bar(index, mean_diff.tolist(), label='diffence', facecolor='tan')\n",
        "ax.set_title('17-19 & 20-21 Difference of column value in all countries')\n",
        "ax.set_xticks(index)\n",
        "ax.set_xticklabels(col_list)\n",
        "plt.xticks(rotation='vertical')\n",
        "plt.grid()\n",
        "plt.legend()\n",
        "plt.show()\n",
        "\n",
        "# Happiness Score가 오히려 2021 시기에 증가\n",
        "# -> 코로나와 같은 세계적 재해가 행복 지수에 영향을 주지 않았음을 확인 가능"
      ],
      "execution_count": 13,
      "outputs": [
        {
          "output_type": "display_data",
          "data": {
            "image/png": "[encoded data removed]",
            "text/plain": [
              "<Figure size 432x288 with 1 Axes>"
            ]
          },
          "metadata": {
            "tags": [],
            "needs_background": "light"
          }
        }
      ]
    },
    {
      "cell_type": "code",
      "metadata": {
        "colab": {
          "base_uri": "https://localhost:8080/",
          "height": 223
        },
        "id": "5Y0zgaD1V0wT",
        "outputId": "01d78729-a0bc-43df-94e0-033d2cb08da5"
      },
      "source": [
        "# East_Asia 국가에 해당하는 row 출력\n",
        "\n",
        "East_Asia2017=df2017[df2017['Regional indicator']=='East Asia']\n",
        "East_Asia2017\n",
        "\n",
        "East_Asia2018=df2018[df2018['Regional indicator']=='East Asia']\n",
        "East_Asia2018\n",
        "\n",
        "East_Asia2019=df2017[df2019['Regional indicator']=='East Asia']\n",
        "East_Asia2019\n",
        "\n",
        "East_Asia2020=df2020[df2020['Regional indicator']=='East Asia']\n",
        "East_Asia2020\n",
        "\n",
        "East_Asia2021=df2021[df2021['Regional indicator']=='East Asia']\n",
        "East_Asia2021"
      ],
      "execution_count": 14,
      "outputs": [
        {
          "output_type": "execute_result",
          "data": {
            "text/html": [
              "<div>\n",
              "<style scoped>\n",
              "    .dataframe tbody tr th:only-of-type {\n",
              "        vertical-align: middle;\n",
              "    }\n",
              "\n",
              "    .dataframe tbody tr th {\n",
              "        vertical-align: top;\n",
              "    }\n",
              "\n",
              "    .dataframe thead th {\n",
              "        text-align: right;\n",
              "    }\n",
              "</style>\n",
              "<table border=\"1\" class=\"dataframe\">\n",
              "  <thead>\n",
              "    <tr style=\"text-align: right;\">\n",
              "      <th></th>\n",
              "      <th>Country</th>\n",
              "      <th>Regional indicator</th>\n",
              "      <th>Score</th>\n",
              "      <th>GDP per capita</th>\n",
              "      <th>Healthy life expectancy</th>\n",
              "      <th>Freedom to make life choices</th>\n",
              "      <th>Generosity</th>\n",
              "      <th>Perceptions of corruption</th>\n",
              "    </tr>\n",
              "  </thead>\n",
              "  <tbody>\n",
              "    <tr>\n",
              "      <th>25</th>\n",
              "      <td>China</td>\n",
              "      <td>East Asia</td>\n",
              "      <td>5.339</td>\n",
              "      <td>1.061</td>\n",
              "      <td>0.665</td>\n",
              "      <td>0.904</td>\n",
              "      <td>-0.146</td>\n",
              "      <td>0.755</td>\n",
              "    </tr>\n",
              "    <tr>\n",
              "      <th>50</th>\n",
              "      <td>Hong Kong S.A.R. of China</td>\n",
              "      <td>East Asia</td>\n",
              "      <td>5.477</td>\n",
              "      <td>1.525</td>\n",
              "      <td>0.893</td>\n",
              "      <td>0.717</td>\n",
              "      <td>0.067</td>\n",
              "      <td>0.403</td>\n",
              "    </tr>\n",
              "    <tr>\n",
              "      <th>62</th>\n",
              "      <td>Japan</td>\n",
              "      <td>East Asia</td>\n",
              "      <td>5.940</td>\n",
              "      <td>1.389</td>\n",
              "      <td>0.838</td>\n",
              "      <td>0.796</td>\n",
              "      <td>-0.258</td>\n",
              "      <td>0.638</td>\n",
              "    </tr>\n",
              "    <tr>\n",
              "      <th>85</th>\n",
              "      <td>Mongolia</td>\n",
              "      <td>East Asia</td>\n",
              "      <td>5.677</td>\n",
              "      <td>0.966</td>\n",
              "      <td>0.442</td>\n",
              "      <td>0.708</td>\n",
              "      <td>0.116</td>\n",
              "      <td>0.856</td>\n",
              "    </tr>\n",
              "    <tr>\n",
              "      <th>118</th>\n",
              "      <td>South Korea</td>\n",
              "      <td>East Asia</td>\n",
              "      <td>5.845</td>\n",
              "      <td>1.403</td>\n",
              "      <td>0.801</td>\n",
              "      <td>0.672</td>\n",
              "      <td>-0.083</td>\n",
              "      <td>0.727</td>\n",
              "    </tr>\n",
              "    <tr>\n",
              "      <th>123</th>\n",
              "      <td>Taiwan</td>\n",
              "      <td>East Asia</td>\n",
              "      <td>6.584</td>\n",
              "      <td>1.480</td>\n",
              "      <td>0.665</td>\n",
              "      <td>0.784</td>\n",
              "      <td>-0.070</td>\n",
              "      <td>0.721</td>\n",
              "    </tr>\n",
              "  </tbody>\n",
              "</table>\n",
              "</div>"
            ],
            "text/plain": [
              "                       Country  ... Perceptions of corruption\n",
              "25                       China  ...                     0.755\n",
              "50   Hong Kong S.A.R. of China  ...                     0.403\n",
              "62                       Japan  ...                     0.638\n",
              "85                    Mongolia  ...                     0.856\n",
              "118                South Korea  ...                     0.727\n",
              "123                     Taiwan  ...                     0.721\n",
              "\n",
              "[6 rows x 8 columns]"
            ]
          },
          "metadata": {
            "tags": []
          },
          "execution_count": 14
        }
      ]
    },
    {
      "cell_type": "code",
      "metadata": {
        "colab": {
          "base_uri": "https://localhost:8080/"
        },
        "id": "S_ePJcITZtjT",
        "outputId": "80e94414-0554-418a-bab7-f7e176057b86"
      },
      "source": [
        "# 동아시아 지역에 속하는 국가의 수 = 6개 국가\n",
        "\n",
        "num_East_Asia=len(East_Asia2017)\n",
        "num_East_Asia"
      ],
      "execution_count": 15,
      "outputs": [
        {
          "output_type": "execute_result",
          "data": {
            "text/plain": [
              "6"
            ]
          },
          "metadata": {
            "tags": []
          },
          "execution_count": 15
        }
      ]
    },
    {
      "cell_type": "code",
      "metadata": {
        "id": "Uvq2vKihQNZO"
      },
      "source": [
        "# 각 연도별 동아시아 국가의 Happiness Score 평균\n",
        "\n",
        "East_Asia2017_mean=East_Asia2017['Score'].mean()\n",
        "East_Asia2018_mean=East_Asia2018['Score'].mean()\n",
        "East_Asia2019_mean=East_Asia2019['Score'].mean()\n",
        "\n",
        "East_Asia2020_mean=East_Asia2020['Score'].mean()\n",
        "East_Asia2021_mean=East_Asia2021['Score'].mean()"
      ],
      "execution_count": 16,
      "outputs": []
    },
    {
      "cell_type": "code",
      "metadata": {
        "colab": {
          "base_uri": "https://localhost:8080/"
        },
        "id": "ECS0YLZ5QnCb",
        "outputId": "9fc847d2-9e68-4a9a-8db5-2c45502283c8"
      },
      "source": [
        "# 동아시아 국가의 Happiness Score 평균의  2017~2019년과 2020~2021년에 대한 평균 \n",
        "\n",
        "East_Asia_mean_1719=np.mean([East_Asia2017_mean, East_Asia2018_mean, East_Asia2019_mean])\n",
        "East_Asia_mean_2021=np.mean([East_Asia2020_mean, East_Asia2021_mean])\n",
        "\n",
        "print(\"East_Asia_mean_1719: \", East_Asia_mean_1719)\n",
        "print(\"East_Asia_mean_2021: \", East_Asia_mean_2021)"
      ],
      "execution_count": 17,
      "outputs": [
        {
          "output_type": "stream",
          "text": [
            "East_Asia_mean_1719:  5.655111070777779\n",
            "East_Asia_mean_2021:  5.762591641083333\n"
          ],
          "name": "stdout"
        }
      ]
    },
    {
      "cell_type": "code",
      "metadata": {
        "colab": {
          "base_uri": "https://localhost:8080/",
          "height": 337
        },
        "id": "40ka9XbdRY5W",
        "outputId": "86338ee7-3d14-4424-b9e4-be931694838c"
      },
      "source": [
        "# 동아시아 국가의 2020년 전후 Happiness Sccore 변화\n",
        "\n",
        "fig, ax=plt.subplots(figsize=(8,5))\n",
        "\n",
        "ax.bar(['2017-2019', '2020-2021'], [East_Asia_mean_1719, East_Asia_mean_2021], width=0.6, color='tan')\n",
        "ax.set_yticks(([0.5, 1.0, 1.5, 2.0, 2.5, 3.0, 3.5, 4.0, 4.5, 5.0, 5.5, 6.0]))\n",
        "ax.axhline(East_Asia_mean_1719, color='red', linewidth=1.5)\n",
        "ax.set_title(\"East_Asia's Happiness Score gap Before and after COVID-19\", fontsize=14)\n",
        "\n",
        "plt.grid()\n",
        "plt.show()\n",
        "\n",
        "# 동아시아 국가에 한정되어서도, 2017~2019년에 비해 2020~2021년에 오히려 Happiness Score가 증가했음을 알 수 있음"
      ],
      "execution_count": 18,
      "outputs": [
        {
          "output_type": "display_data",
          "data": {
            "image/png": "[encoded data removed]",
            "text/plain": [
              "<Figure size 576x360 with 1 Axes>"
            ]
          },
          "metadata": {
            "tags": [],
            "needs_background": "light"
          }
        }
      ]
    },
    {
      "cell_type": "code",
      "metadata": {
        "colab": {
          "base_uri": "https://localhost:8080/"
        },
        "id": "gUjzblDGP1hf",
        "outputId": "1e8d0bf6-ce34-440f-d694-c3934570f3fe"
      },
      "source": [
        "# All_Country_diff: 전체 국가의 2020년 전후 Happiness Score 차이\n",
        "# East_Asia_diff:동아시아 국가의 2020년 전후 Happiness Score 차이\n",
        "# Score_Difference: 동아시아 국가에 대한 전체 국가와의 2020년 전후 Happiness Score 차이 \n",
        "\n",
        "All_country_diff=mean_diff.loc['Score']\n",
        "East_Asia_diff=(East_Asia_mean_2021)-(East_Asia_mean_1719)\n",
        "Score_Difference=(East_Asia_diff)-(All_country_diff)\n",
        "print(\"All_country_diff Score: \", All_country_diff)\n",
        "print(\"East_Asia_diff Score: \", East_Asia_diff)\n",
        "print(\"Score Difference: \", Score_Difference)"
      ],
      "execution_count": 19,
      "outputs": [
        {
          "output_type": "stream",
          "text": [
            "All_country_diff Score:  0.11490909224475665\n",
            "East_Asia_diff Score:  0.10748057030555369\n",
            "Score Difference:  -0.007428521939202959\n"
          ],
          "name": "stdout"
        }
      ]
    },
    {
      "cell_type": "code",
      "metadata": {
        "colab": {
          "base_uri": "https://localhost:8080/",
          "height": 391
        },
        "id": "4v7ySoJHdF1D",
        "outputId": "32208de1-7ae9-48a1-98df-1173527399b8"
      },
      "source": [
        "# 2020년 전후 전체 국가와 동아시아 국가에 대한 Happiness Score 증감 크기 비교\n",
        "\n",
        "fig, ax=plt.subplots(figsize=(9,6))\n",
        "plt.grid()\n",
        "ax.bar(['All_country', 'East_Asia'], [All_country_diff, East_Asia_diff], width=0.6, color='tan')\n",
        "ax.set_ylim(0.01, 0.13)\n",
        "ax.set_xticks(['All_country', 'East_Asia'])\n",
        "ax.set_title(\"All_country & East_Asia Happiness Score gap Before and after COVID-19\")\n",
        "ax.axhline(East_Asia_diff, color='red', linewidth=1.5)\n",
        "\n",
        "plt.show()\n",
        "\n",
        "# 동아시아 국가에서 Happiness Score에 대한 큰 변화가 없음을 알 수 있다.(오히려 전체 국가의 평균보다 못 미치는 수준)"
      ],
      "execution_count": 20,
      "outputs": [
        {
          "output_type": "display_data",
          "data": {
            "image/png": "[encoded data removed]",
            "text/plain": [
              "<Figure size 648x432 with 1 Axes>"
            ]
          },
          "metadata": {
            "tags": [],
            "needs_background": "light"
          }
        }
      ]
    }
  ]
}