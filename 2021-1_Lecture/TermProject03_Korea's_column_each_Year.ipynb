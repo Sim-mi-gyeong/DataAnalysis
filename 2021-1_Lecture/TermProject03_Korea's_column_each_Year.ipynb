{
  "nbformat": 4,
  "nbformat_minor": 0,
  "metadata": {
    "colab": {
      "name": "TermProject03-Korea's column each Year.ipynb",
      "provenance": [],
      "collapsed_sections": [],
      "authorship_tag": "ABX9TyMV/9YPfRcrT2VCaf+x6oJ8",
      "include_colab_link": true
    },
    "kernelspec": {
      "name": "python3",
      "display_name": "Python 3"
    },
    "language_info": {
      "name": "python"
    }
  },
  "cells": [
    {
      "cell_type": "markdown",
      "metadata": {
        "id": "view-in-github",
        "colab_type": "text"
      },
      "source": [
        "<a href=\"https://colab.research.google.com/github/Sim-mi-gyeong/DataAnalysis/blob/main/TermProject03_Korea's_column_each_Year.ipynb\" target=\"_parent\"><img src=\"https://colab.research.google.com/assets/colab-badge.svg\" alt=\"Open In Colab\"/></a>"
      ]
    },
    {
      "cell_type": "code",
      "metadata": {
        "colab": {
          "base_uri": "https://localhost:8080/"
        },
        "id": "X5IANKD6bw_y",
        "outputId": "07795540-3016-4fe0-b435-68c134d2799f"
      },
      "source": [
        "pip install plotly"
      ],
      "execution_count": null,
      "outputs": [
        {
          "output_type": "stream",
          "text": [
            "Requirement already satisfied: plotly in /usr/local/lib/python3.7/dist-packages (4.4.1)\n",
            "Requirement already satisfied: six in /usr/local/lib/python3.7/dist-packages (from plotly) (1.15.0)\n",
            "Requirement already satisfied: retrying>=1.3.3 in /usr/local/lib/python3.7/dist-packages (from plotly) (1.3.3)\n"
          ],
          "name": "stdout"
        }
      ]
    },
    {
      "cell_type": "code",
      "metadata": {
        "id": "Djxg2KXXwJEu"
      },
      "source": [
        "import numpy as np\n",
        "import pandas as pd\n",
        "import seaborn as sns\n",
        "import matplotlib.pyplot as plt\n",
        "import plotly\n",
        "import plotly.graph_objs as go\n",
        "\n",
        "import warnings\n",
        "warnings.filterwarnings(\"ignore\")"
      ],
      "execution_count": 1,
      "outputs": []
    },
    {
      "cell_type": "code",
      "metadata": {
        "colab": {
          "base_uri": "https://localhost:8080/"
        },
        "id": "qoS2xZXHwJvM",
        "outputId": "42269d92-d8bf-4b0f-b803-d3a4abd253a9"
      },
      "source": [
        "from google.colab import drive\n",
        "drive.mount('/content/drive')"
      ],
      "execution_count": 2,
      "outputs": [
        {
          "output_type": "stream",
          "text": [
            "Mounted at /content/drive\n"
          ],
          "name": "stdout"
        }
      ]
    },
    {
      "cell_type": "code",
      "metadata": {
        "id": "cr1HehhhwLP-"
      },
      "source": [
        "# 각각의 csv파일을 불러와 df20__ 값에 저장\n",
        "df2017=pd.read_csv('/content/drive/MyDrive/dataset/2017.csv')\n",
        "df2018=pd.read_csv('/content/drive/MyDrive/dataset/2018.csv')\n",
        "df2019=pd.read_csv('/content/drive/MyDrive/dataset/2019.csv')\n",
        "df2020=pd.read_csv('/content/drive/MyDrive/dataset/2020.csv')\n",
        "df2021=pd.read_csv('/content/drive/MyDrive/dataset/2021.csv')"
      ],
      "execution_count": 3,
      "outputs": []
    },
    {
      "cell_type": "code",
      "metadata": {
        "id": "QLVXSXZZwQ-R"
      },
      "source": [
        "# 2018년 데이터 중 결측값을 해당 column의 평균값으로 대체\n",
        "df2018['Perceptions of corruption']=df2018['Perceptions of corruption'].fillna(df2018['Perceptions of corruption'].mean())"
      ],
      "execution_count": 37,
      "outputs": []
    },
    {
      "cell_type": "code",
      "metadata": {
        "colab": {
          "base_uri": "https://localhost:8080/"
        },
        "id": "nL7a5iH1waqy",
        "outputId": "8f5959e4-ec32-4341-e6f1-87dfec54c79c"
      },
      "source": [
        "df2018.isnull().sum()"
      ],
      "execution_count": 5,
      "outputs": [
        {
          "output_type": "execute_result",
          "data": {
            "text/plain": [
              "Country                         0\n",
              "Regional indicator              0\n",
              "Score                           0\n",
              "GDP per capita                  0\n",
              "Healthy life expectancy         0\n",
              "Freedom to make life choices    0\n",
              "Generosity                      0\n",
              "Perceptions of corruption       0\n",
              "dtype: int64"
            ]
          },
          "metadata": {
            "tags": []
          },
          "execution_count": 5
        }
      ]
    },
    {
      "cell_type": "code",
      "metadata": {
        "colab": {
          "base_uri": "https://localhost:8080/",
          "height": 399
        },
        "id": "qfcHKy1BwcJv",
        "outputId": "83edf125-4543-490a-bd8a-f9ef599b8beb"
      },
      "source": [
        "# 각 연도별 DataFrame에 해당 연도에 따른 Year Column 추가\n",
        "df2017['Year']=2017\n",
        "df2018['Year']=2018\n",
        "df2019['Year']=2019\n",
        "df2020['Year']=2020\n",
        "df2021['Year']=2021\n",
        "\n",
        "# 5개년 DataFrame 병합\n",
        "df=df2017.append([df2018, df2019, df2020, df2021])\n",
        "df"
      ],
      "execution_count": 6,
      "outputs": [
        {
          "output_type": "execute_result",
          "data": {
            "text/html": [
              "<div>\n",
              "<style scoped>\n",
              "    .dataframe tbody tr th:only-of-type {\n",
              "        vertical-align: middle;\n",
              "    }\n",
              "\n",
              "    .dataframe tbody tr th {\n",
              "        vertical-align: top;\n",
              "    }\n",
              "\n",
              "    .dataframe thead th {\n",
              "        text-align: right;\n",
              "    }\n",
              "</style>\n",
              "<table border=\"1\" class=\"dataframe\">\n",
              "  <thead>\n",
              "    <tr style=\"text-align: right;\">\n",
              "      <th></th>\n",
              "      <th>Country</th>\n",
              "      <th>Regional indicator</th>\n",
              "      <th>Score</th>\n",
              "      <th>GDP per capita</th>\n",
              "      <th>Healthy life expectancy</th>\n",
              "      <th>Freedom to make life choices</th>\n",
              "      <th>Generosity</th>\n",
              "      <th>Perceptions of corruption</th>\n",
              "      <th>Year</th>\n",
              "    </tr>\n",
              "  </thead>\n",
              "  <tbody>\n",
              "    <tr>\n",
              "      <th>0</th>\n",
              "      <td>Afghanistan</td>\n",
              "      <td>South Asia</td>\n",
              "      <td>3.794</td>\n",
              "      <td>0.401477</td>\n",
              "      <td>0.180747</td>\n",
              "      <td>0.106180</td>\n",
              "      <td>0.311871</td>\n",
              "      <td>0.061158</td>\n",
              "      <td>2017</td>\n",
              "    </tr>\n",
              "    <tr>\n",
              "      <th>1</th>\n",
              "      <td>Albania</td>\n",
              "      <td>Central and Eastern Europe</td>\n",
              "      <td>4.644</td>\n",
              "      <td>0.996193</td>\n",
              "      <td>0.731160</td>\n",
              "      <td>0.381499</td>\n",
              "      <td>0.201313</td>\n",
              "      <td>0.039864</td>\n",
              "      <td>2017</td>\n",
              "    </tr>\n",
              "    <tr>\n",
              "      <th>2</th>\n",
              "      <td>Algeria</td>\n",
              "      <td>Middle East and North Africa</td>\n",
              "      <td>5.872</td>\n",
              "      <td>1.091864</td>\n",
              "      <td>0.617585</td>\n",
              "      <td>0.233336</td>\n",
              "      <td>0.069437</td>\n",
              "      <td>0.146096</td>\n",
              "      <td>2017</td>\n",
              "    </tr>\n",
              "    <tr>\n",
              "      <th>3</th>\n",
              "      <td>Argentina</td>\n",
              "      <td>Latin America and Caribbean</td>\n",
              "      <td>6.599</td>\n",
              "      <td>1.185295</td>\n",
              "      <td>0.695137</td>\n",
              "      <td>0.494519</td>\n",
              "      <td>0.109457</td>\n",
              "      <td>0.059740</td>\n",
              "      <td>2017</td>\n",
              "    </tr>\n",
              "    <tr>\n",
              "      <th>4</th>\n",
              "      <td>Armenia</td>\n",
              "      <td>Commonwealth of Independent States</td>\n",
              "      <td>4.376</td>\n",
              "      <td>0.900597</td>\n",
              "      <td>0.637524</td>\n",
              "      <td>0.198303</td>\n",
              "      <td>0.083488</td>\n",
              "      <td>0.026674</td>\n",
              "      <td>2017</td>\n",
              "    </tr>\n",
              "    <tr>\n",
              "      <th>...</th>\n",
              "      <td>...</td>\n",
              "      <td>...</td>\n",
              "      <td>...</td>\n",
              "      <td>...</td>\n",
              "      <td>...</td>\n",
              "      <td>...</td>\n",
              "      <td>...</td>\n",
              "      <td>...</td>\n",
              "      <td>...</td>\n",
              "    </tr>\n",
              "    <tr>\n",
              "      <th>138</th>\n",
              "      <td>Venezuela</td>\n",
              "      <td>Latin America and Caribbean</td>\n",
              "      <td>4.892</td>\n",
              "      <td>0.852000</td>\n",
              "      <td>0.574000</td>\n",
              "      <td>0.615000</td>\n",
              "      <td>-0.169000</td>\n",
              "      <td>0.827000</td>\n",
              "      <td>2021</td>\n",
              "    </tr>\n",
              "    <tr>\n",
              "      <th>139</th>\n",
              "      <td>Vietnam</td>\n",
              "      <td>Southeast Asia</td>\n",
              "      <td>5.411</td>\n",
              "      <td>0.817000</td>\n",
              "      <td>0.616000</td>\n",
              "      <td>0.940000</td>\n",
              "      <td>-0.098000</td>\n",
              "      <td>0.796000</td>\n",
              "      <td>2021</td>\n",
              "    </tr>\n",
              "    <tr>\n",
              "      <th>140</th>\n",
              "      <td>Yemen</td>\n",
              "      <td>Middle East and North Africa</td>\n",
              "      <td>3.658</td>\n",
              "      <td>0.329000</td>\n",
              "      <td>0.272000</td>\n",
              "      <td>0.602000</td>\n",
              "      <td>-0.147000</td>\n",
              "      <td>0.800000</td>\n",
              "      <td>2021</td>\n",
              "    </tr>\n",
              "    <tr>\n",
              "      <th>141</th>\n",
              "      <td>Zambia</td>\n",
              "      <td>Sub-Saharan Africa</td>\n",
              "      <td>4.073</td>\n",
              "      <td>0.528000</td>\n",
              "      <td>0.231000</td>\n",
              "      <td>0.782000</td>\n",
              "      <td>0.061000</td>\n",
              "      <td>0.823000</td>\n",
              "      <td>2021</td>\n",
              "    </tr>\n",
              "    <tr>\n",
              "      <th>142</th>\n",
              "      <td>Zimbabwe</td>\n",
              "      <td>Sub-Saharan Africa</td>\n",
              "      <td>3.145</td>\n",
              "      <td>0.457000</td>\n",
              "      <td>0.243000</td>\n",
              "      <td>0.677000</td>\n",
              "      <td>-0.047000</td>\n",
              "      <td>0.821000</td>\n",
              "      <td>2021</td>\n",
              "    </tr>\n",
              "  </tbody>\n",
              "</table>\n",
              "<p>715 rows × 9 columns</p>\n",
              "</div>"
            ],
            "text/plain": [
              "         Country  ...  Year\n",
              "0    Afghanistan  ...  2017\n",
              "1        Albania  ...  2017\n",
              "2        Algeria  ...  2017\n",
              "3      Argentina  ...  2017\n",
              "4        Armenia  ...  2017\n",
              "..           ...  ...   ...\n",
              "138    Venezuela  ...  2021\n",
              "139      Vietnam  ...  2021\n",
              "140        Yemen  ...  2021\n",
              "141       Zambia  ...  2021\n",
              "142     Zimbabwe  ...  2021\n",
              "\n",
              "[715 rows x 9 columns]"
            ]
          },
          "metadata": {
            "tags": []
          },
          "execution_count": 6
        }
      ]
    },
    {
      "cell_type": "code",
      "metadata": {
        "colab": {
          "base_uri": "https://localhost:8080/",
          "height": 194
        },
        "id": "loyF3Caxwnab",
        "outputId": "b515dfbe-ca47-456f-da4e-905085683a1c"
      },
      "source": [
        "# 전체 국가 중 한국의 row를 추출하여 df_Korea에 저장\n",
        "df_Korea=df[df['Country']=='South Korea']\n",
        "df_Korea"
      ],
      "execution_count": 39,
      "outputs": [
        {
          "output_type": "execute_result",
          "data": {
            "text/html": [
              "<div>\n",
              "<style scoped>\n",
              "    .dataframe tbody tr th:only-of-type {\n",
              "        vertical-align: middle;\n",
              "    }\n",
              "\n",
              "    .dataframe tbody tr th {\n",
              "        vertical-align: top;\n",
              "    }\n",
              "\n",
              "    .dataframe thead th {\n",
              "        text-align: right;\n",
              "    }\n",
              "</style>\n",
              "<table border=\"1\" class=\"dataframe\">\n",
              "  <thead>\n",
              "    <tr style=\"text-align: right;\">\n",
              "      <th></th>\n",
              "      <th>Country</th>\n",
              "      <th>Regional indicator</th>\n",
              "      <th>Score</th>\n",
              "      <th>GDP per capita</th>\n",
              "      <th>Healthy life expectancy</th>\n",
              "      <th>Freedom to make life choices</th>\n",
              "      <th>Generosity</th>\n",
              "      <th>Perceptions of corruption</th>\n",
              "      <th>Year</th>\n",
              "    </tr>\n",
              "  </thead>\n",
              "  <tbody>\n",
              "    <tr>\n",
              "      <th>118</th>\n",
              "      <td>South Korea</td>\n",
              "      <td>East Asia</td>\n",
              "      <td>5.8380</td>\n",
              "      <td>1.401678</td>\n",
              "      <td>0.900214</td>\n",
              "      <td>0.257922</td>\n",
              "      <td>0.206674</td>\n",
              "      <td>0.063283</td>\n",
              "      <td>2017</td>\n",
              "    </tr>\n",
              "    <tr>\n",
              "      <th>118</th>\n",
              "      <td>South Korea</td>\n",
              "      <td>East Asia</td>\n",
              "      <td>5.8750</td>\n",
              "      <td>1.266000</td>\n",
              "      <td>0.955000</td>\n",
              "      <td>0.244000</td>\n",
              "      <td>0.175000</td>\n",
              "      <td>0.051000</td>\n",
              "      <td>2018</td>\n",
              "    </tr>\n",
              "    <tr>\n",
              "      <th>118</th>\n",
              "      <td>South Korea</td>\n",
              "      <td>East Asia</td>\n",
              "      <td>5.8950</td>\n",
              "      <td>1.301000</td>\n",
              "      <td>1.036000</td>\n",
              "      <td>0.159000</td>\n",
              "      <td>0.175000</td>\n",
              "      <td>0.056000</td>\n",
              "      <td>2019</td>\n",
              "    </tr>\n",
              "    <tr>\n",
              "      <th>118</th>\n",
              "      <td>South Korea</td>\n",
              "      <td>East Asia</td>\n",
              "      <td>5.8724</td>\n",
              "      <td>5.785993</td>\n",
              "      <td>0.799387</td>\n",
              "      <td>0.736027</td>\n",
              "      <td>0.612965</td>\n",
              "      <td>-0.043404</td>\n",
              "      <td>2020</td>\n",
              "    </tr>\n",
              "    <tr>\n",
              "      <th>118</th>\n",
              "      <td>South Korea</td>\n",
              "      <td>East Asia</td>\n",
              "      <td>5.8450</td>\n",
              "      <td>1.403000</td>\n",
              "      <td>0.801000</td>\n",
              "      <td>0.672000</td>\n",
              "      <td>-0.083000</td>\n",
              "      <td>0.727000</td>\n",
              "      <td>2021</td>\n",
              "    </tr>\n",
              "  </tbody>\n",
              "</table>\n",
              "</div>"
            ],
            "text/plain": [
              "         Country Regional indicator  ...  Perceptions of corruption  Year\n",
              "118  South Korea          East Asia  ...                   0.063283  2017\n",
              "118  South Korea          East Asia  ...                   0.051000  2018\n",
              "118  South Korea          East Asia  ...                   0.056000  2019\n",
              "118  South Korea          East Asia  ...                  -0.043404  2020\n",
              "118  South Korea          East Asia  ...                   0.727000  2021\n",
              "\n",
              "[5 rows x 9 columns]"
            ]
          },
          "metadata": {
            "tags": []
          },
          "execution_count": 39
        }
      ]
    },
    {
      "cell_type": "code",
      "metadata": {
        "id": "4FLcqWUbNfY9"
      },
      "source": [
        "from plotly.offline import init_notebook_mode, iplot, plot\n",
        "import plotly.graph_objs as go\n",
        "import plotly.express as px"
      ],
      "execution_count": 9,
      "outputs": []
    },
    {
      "cell_type": "code",
      "metadata": {
        "colab": {
          "base_uri": "https://localhost:8080/",
          "height": 1000
        },
        "id": "EDzxvs1H03Xm",
        "outputId": "11ed738d-7a00-4e48-c9f8-f064850fbb58"
      },
      "source": [
        "sns.relplot(data=df_Korea, kind='line', x='Year', y='Score', height=4, color='orange')\n",
        "sns.relplot(data=df_Korea, kind='line', x='Year', y='GDP per capita', height=4, color='orange')\n",
        "sns.relplot(data=df_Korea, kind='line', x='Year', y='Healthy life expectancy', height=4, color='orange')\n",
        "sns.relplot(data=df_Korea, kind='line', x='Year', y='Freedom to make life choices', height=4, color='orange')\n",
        "sns.relplot(data=df_Korea, kind='line', x='Year', y='Generosity', height=4, color='orange')\n",
        "sns.relplot(data=df_Korea, kind='line', x='Year', y='Perceptions of corruption', height=4, color='orange')\n"
      ],
      "execution_count": 10,
      "outputs": [
        {
          "output_type": "execute_result",
          "data": {
            "text/plain": [
              "<seaborn.axisgrid.FacetGrid at 0x7fa7926db750>"
            ]
          },
          "metadata": {
            "tags": []
          },
          "execution_count": 10
        },
        {
          "output_type": "display_data",
          "data": {
            "image/png": "[encoded data removed]",
            "text/plain": [
              "<Figure size 288x288 with 1 Axes>"
            ]
          },
          "metadata": {
            "tags": [],
            "needs_background": "light"
          }
        },
        {
          "output_type": "display_data",
          "data": {
            "image/png": "[encoded data removed]",
            "text/plain": [
              "<Figure size 288x288 with 1 Axes>"
            ]
          },
          "metadata": {
            "tags": [],
            "needs_background": "light"
          }
        },
        {
          "output_type": "display_data",
          "data": {
            "image/png": "[encoded data removed]",
            "text/plain": [
              "<Figure size 288x288 with 1 Axes>"
            ]
          },
          "metadata": {
            "tags": [],
            "needs_background": "light"
          }
        },
        {
          "output_type": "display_data",
          "data": {
            "image/png": "[encoded data removed]",
            "text/plain": [
              "<Figure size 288x288 with 1 Axes>"
            ]
          },
          "metadata": {
            "tags": [],
            "needs_background": "light"
          }
        },
        {
          "output_type": "display_data",
          "data": {
            "image/png": "[encoded data removed]",
            "text/plain": [
              "<Figure size 288x288 with 1 Axes>"
            ]
          },
          "metadata": {
            "tags": [],
            "needs_background": "light"
          }
        },
        {
          "output_type": "display_data",
          "data": {
            "image/png": "[encoded data removed]",
            "text/plain": [
              "<Figure size 288x288 with 1 Axes>"
            ]
          },
          "metadata": {
            "tags": [],
            "needs_background": "light"
          }
        }
      ]
    },
    {
      "cell_type": "code",
      "metadata": {
        "colab": {
          "base_uri": "https://localhost:8080/",
          "height": 542
        },
        "id": "fnyo72SXg9on",
        "outputId": "956d81a8-7da2-40b3-e40b-acfcd3d235d0"
      },
      "source": [
        "# 한국의 연도별 각 Column값을 line plot으로 표시\n",
        "plot1=go.Scatter(x=df_Korea['Year'],\n",
        "                 y=df_Korea['Score'],\n",
        "                 mode='lines+markers',\n",
        "                 name='Score',\n",
        "                 marker=dict(color='skyblue', size=5),\n",
        "                 text=df_Korea.Year)\n",
        "\n",
        "plot2=go.Scatter(x=df_Korea['Year'],\n",
        "                 y=df_Korea['GDP per capita'],\n",
        "                 mode='lines+markers',\n",
        "                 name='GDP per capita',\n",
        "                 marker=dict(color='orange', size=5),\n",
        "                 text=df_Korea.Year)\n",
        "\n",
        "plot3=go.Scatter(x=df_Korea['Year'],\n",
        "                 y=df_Korea['Healthy life expectancy'],\n",
        "                 mode='lines+markers',\n",
        "                 name='Healthy life expectancy',\n",
        "                 marker=dict(color='green', size=5),\n",
        "                 text=df_Korea.Year)\n",
        "\n",
        "plot4=go.Scatter(x=df_Korea['Year'],\n",
        "                 y=df_Korea['Freedom to make life choices'],\n",
        "                 mode='lines+markers',\n",
        "                 name='Freedom to make life choices',\n",
        "                 marker=dict(color='pink', size=5),\n",
        "                 text=df_Korea.Year)\n",
        "\n",
        "plot5=go.Scatter(x=df_Korea['Year'],\n",
        "                 y=df_Korea['Generosity'],\n",
        "                 mode='lines+markers',\n",
        "                 name='Generosity',\n",
        "                 marker=dict(color='yellow', size=5),\n",
        "                 text=df_Korea.Year)\n",
        "\n",
        "\n",
        "plot6=go.Scatter(x=df_Korea['Year'],\n",
        "                 y=df_Korea['Perceptions of corruption'],\n",
        "                 mode='lines+markers',\n",
        "                 name='Perceptions of corruption',\n",
        "                 marker=dict(color='red', size=5),\n",
        "                 text=df_Korea.Year)\n",
        "\n",
        "data=[plot1, plot2, plot3, plot4, plot5, plot6]\n",
        "layout = go.Layout(title=\"Korea's Column Values according to the year(2017-2021)\", xaxis=dict(title='Year'), yaxis=dict(title='Value'), titlefont=dict(size=17, color='tan'))\n",
        "go.Layout()\n",
        "fig=dict(data=data, layout=layout)\n",
        "iplot(fig)"
      ],
      "execution_count": 43,
      "outputs": [
        {
          "output_type": "display_data",
          "data": {
            "text/html": [
              "<html>\n",
              "<head><meta charset=\"utf-8\" /></head>\n",
              "<body>\n",
              "    <div>\n",
              "            <script src=\"https://cdnjs.cloudflare.com/ajax/libs/mathjax/2.7.5/MathJax.js?config=TeX-AMS-MML_SVG\"></script><script type=\"text/javascript\">if (window.MathJax) {MathJax.Hub.Config({SVG: {font: \"STIX-Web\"}});}</script>\n",
              "                <script type=\"text/javascript\">window.PlotlyConfig = {MathJaxConfig: 'local'};</script>\n",
              "        <script src=\"https://cdn.plot.ly/plotly-latest.min.js\"></script>    \n",
              "            <div id=\"34390622-0628-4596-b5e8-844a89071d95\" class=\"plotly-graph-div\" style=\"height:525px; width:100%;\"></div>\n",
              "            <script type=\"text/javascript\">\n",
              "                \n",
              "                    window.PLOTLYENV=window.PLOTLYENV || {};\n",
              "                    \n",
              "                if (document.getElementById(\"34390622-0628-4596-b5e8-844a89071d95\")) {\n",
              "                    Plotly.newPlot(\n",
              "                        '34390622-0628-4596-b5e8-844a89071d95',\n",
              "                        [{\"marker\": {\"color\": \"skyblue\", \"size\": 5}, \"mode\": \"lines+markers\", \"name\": \"Score\", \"text\": [2017.0, 2018.0, 2019.0, 2020.0, 2021.0], \"type\": \"scatter\", \"x\": [2017, 2018, 2019, 2020, 2021], \"y\": [5.837999821, 5.875, 5.895, 5.872399807000001, 5.845]}, {\"marker\": {\"color\": \"orange\", \"size\": 5}, \"mode\": \"lines+markers\", \"name\": \"GDP per capita\", \"text\": [2017.0, 2018.0, 2019.0, 2020.0, 2021.0], \"type\": \"scatter\", \"x\": [2017, 2018, 2019, 2020, 2021], \"y\": [1.4016784430000002, 1.266, 1.301, 5.785993099, 1.403]}, {\"marker\": {\"color\": \"green\", \"size\": 5}, \"mode\": \"lines+markers\", \"name\": \"Healthy life expectancy\", \"text\": [2017.0, 2018.0, 2019.0, 2020.0, 2021.0], \"type\": \"scatter\", \"x\": [2017, 2018, 2019, 2020, 2021], \"y\": [0.9002140759999999, 0.955, 1.036, 0.7993871570000001, 0.8009999999999999]}, {\"marker\": {\"color\": \"pink\", \"size\": 5}, \"mode\": \"lines+markers\", \"name\": \"Freedom to make life choices\", \"text\": [2017.0, 2018.0, 2019.0, 2020.0, 2021.0], \"type\": \"scatter\", \"x\": [2017, 2018, 2019, 2020, 2021], \"y\": [0.257921666, 0.244, 0.159, 0.736027298, 0.672]}, {\"marker\": {\"color\": \"yellow\", \"size\": 5}, \"mode\": \"lines+markers\", \"name\": \"Generosity\", \"text\": [2017.0, 2018.0, 2019.0, 2020.0, 2021.0], \"type\": \"scatter\", \"x\": [2017, 2018, 2019, 2020, 2021], \"y\": [0.206674367, 0.175, 0.175, 0.6129651070000001, -0.083]}, {\"marker\": {\"color\": \"red\", \"size\": 5}, \"mode\": \"lines+markers\", \"name\": \"Perceptions of corruption\", \"text\": [2017.0, 2018.0, 2019.0, 2020.0, 2021.0], \"type\": \"scatter\", \"x\": [2017, 2018, 2019, 2020, 2021], \"y\": [0.063282669, 0.051, 0.055999999999999994, -0.043404032, 0.727]}],\n",
              "                        {\"template\": {\"data\": {\"bar\": [{\"error_x\": {\"color\": \"#2a3f5f\"}, \"error_y\": {\"color\": \"#2a3f5f\"}, \"marker\": {\"line\": {\"color\": \"#E5ECF6\", \"width\": 0.5}}, \"type\": \"bar\"}], \"barpolar\": [{\"marker\": {\"line\": {\"color\": \"#E5ECF6\", \"width\": 0.5}}, \"type\": \"barpolar\"}], \"carpet\": [{\"aaxis\": {\"endlinecolor\": \"#2a3f5f\", \"gridcolor\": \"white\", \"linecolor\": \"white\", \"minorgridcolor\": \"white\", \"startlinecolor\": \"#2a3f5f\"}, \"baxis\": {\"endlinecolor\": \"#2a3f5f\", \"gridcolor\": \"white\", \"linecolor\": \"white\", \"minorgridcolor\": \"white\", \"startlinecolor\": \"#2a3f5f\"}, \"type\": \"carpet\"}], \"choropleth\": [{\"colorbar\": {\"outlinewidth\": 0, \"ticks\": \"\"}, \"type\": \"choropleth\"}], \"contour\": [{\"colorbar\": {\"outlinewidth\": 0, \"ticks\": \"\"}, \"colorscale\": [[0.0, \"#0d0887\"], [0.1111111111111111, \"#46039f\"], [0.2222222222222222, \"#7201a8\"], [0.3333333333333333, \"#9c179e\"], [0.4444444444444444, \"#bd3786\"], [0.5555555555555556, \"#d8576b\"], [0.6666666666666666, \"#ed7953\"], [0.7777777777777778, \"#fb9f3a\"], [0.8888888888888888, \"#fdca26\"], [1.0, \"#f0f921\"]], \"type\": \"contour\"}], \"contourcarpet\": [{\"colorbar\": {\"outlinewidth\": 0, \"ticks\": \"\"}, \"type\": \"contourcarpet\"}], \"heatmap\": [{\"colorbar\": {\"outlinewidth\": 0, \"ticks\": \"\"}, \"colorscale\": [[0.0, \"#0d0887\"], [0.1111111111111111, \"#46039f\"], [0.2222222222222222, \"#7201a8\"], [0.3333333333333333, \"#9c179e\"], [0.4444444444444444, \"#bd3786\"], [0.5555555555555556, \"#d8576b\"], [0.6666666666666666, \"#ed7953\"], [0.7777777777777778, \"#fb9f3a\"], [0.8888888888888888, \"#fdca26\"], [1.0, \"#f0f921\"]], \"type\": \"heatmap\"}], \"heatmapgl\": [{\"colorbar\": {\"outlinewidth\": 0, \"ticks\": \"\"}, \"colorscale\": [[0.0, \"#0d0887\"], [0.1111111111111111, \"#46039f\"], [0.2222222222222222, \"#7201a8\"], [0.3333333333333333, \"#9c179e\"], [0.4444444444444444, \"#bd3786\"], [0.5555555555555556, \"#d8576b\"], [0.6666666666666666, \"#ed7953\"], [0.7777777777777778, \"#fb9f3a\"], [0.8888888888888888, \"#fdca26\"], [1.0, \"#f0f921\"]], \"type\": \"heatmapgl\"}], \"histogram\": [{\"marker\": {\"colorbar\": {\"outlinewidth\": 0, \"ticks\": \"\"}}, \"type\": \"histogram\"}], \"histogram2d\": [{\"colorbar\": {\"outlinewidth\": 0, \"ticks\": \"\"}, \"colorscale\": [[0.0, \"#0d0887\"], [0.1111111111111111, \"#46039f\"], [0.2222222222222222, \"#7201a8\"], [0.3333333333333333, \"#9c179e\"], [0.4444444444444444, \"#bd3786\"], [0.5555555555555556, \"#d8576b\"], [0.6666666666666666, \"#ed7953\"], [0.7777777777777778, \"#fb9f3a\"], [0.8888888888888888, \"#fdca26\"], [1.0, \"#f0f921\"]], \"type\": \"histogram2d\"}], \"histogram2dcontour\": [{\"colorbar\": {\"outlinewidth\": 0, \"ticks\": \"\"}, \"colorscale\": [[0.0, \"#0d0887\"], [0.1111111111111111, \"#46039f\"], [0.2222222222222222, \"#7201a8\"], [0.3333333333333333, \"#9c179e\"], [0.4444444444444444, \"#bd3786\"], [0.5555555555555556, \"#d8576b\"], [0.6666666666666666, \"#ed7953\"], [0.7777777777777778, \"#fb9f3a\"], [0.8888888888888888, \"#fdca26\"], [1.0, \"#f0f921\"]], \"type\": \"histogram2dcontour\"}], \"mesh3d\": [{\"colorbar\": {\"outlinewidth\": 0, \"ticks\": \"\"}, \"type\": \"mesh3d\"}], \"parcoords\": [{\"line\": {\"colorbar\": {\"outlinewidth\": 0, \"ticks\": \"\"}}, \"type\": \"parcoords\"}], \"pie\": [{\"automargin\": true, \"type\": \"pie\"}], \"scatter\": [{\"marker\": {\"colorbar\": {\"outlinewidth\": 0, \"ticks\": \"\"}}, \"type\": \"scatter\"}], \"scatter3d\": [{\"line\": {\"colorbar\": {\"outlinewidth\": 0, \"ticks\": \"\"}}, \"marker\": {\"colorbar\": {\"outlinewidth\": 0, \"ticks\": \"\"}}, \"type\": \"scatter3d\"}], \"scattercarpet\": [{\"marker\": {\"colorbar\": {\"outlinewidth\": 0, \"ticks\": \"\"}}, \"type\": \"scattercarpet\"}], \"scattergeo\": [{\"marker\": {\"colorbar\": {\"outlinewidth\": 0, \"ticks\": \"\"}}, \"type\": \"scattergeo\"}], \"scattergl\": [{\"marker\": {\"colorbar\": {\"outlinewidth\": 0, \"ticks\": \"\"}}, \"type\": \"scattergl\"}], \"scattermapbox\": [{\"marker\": {\"colorbar\": {\"outlinewidth\": 0, \"ticks\": \"\"}}, \"type\": \"scattermapbox\"}], \"scatterpolar\": [{\"marker\": {\"colorbar\": {\"outlinewidth\": 0, \"ticks\": \"\"}}, \"type\": \"scatterpolar\"}], \"scatterpolargl\": [{\"marker\": {\"colorbar\": {\"outlinewidth\": 0, \"ticks\": \"\"}}, \"type\": \"scatterpolargl\"}], \"scatterternary\": [{\"marker\": {\"colorbar\": {\"outlinewidth\": 0, \"ticks\": \"\"}}, \"type\": \"scatterternary\"}], \"surface\": [{\"colorbar\": {\"outlinewidth\": 0, \"ticks\": \"\"}, \"colorscale\": [[0.0, \"#0d0887\"], [0.1111111111111111, \"#46039f\"], [0.2222222222222222, \"#7201a8\"], [0.3333333333333333, \"#9c179e\"], [0.4444444444444444, \"#bd3786\"], [0.5555555555555556, \"#d8576b\"], [0.6666666666666666, \"#ed7953\"], [0.7777777777777778, \"#fb9f3a\"], [0.8888888888888888, \"#fdca26\"], [1.0, \"#f0f921\"]], \"type\": \"surface\"}], \"table\": [{\"cells\": {\"fill\": {\"color\": \"#EBF0F8\"}, \"line\": {\"color\": \"white\"}}, \"header\": {\"fill\": {\"color\": \"#C8D4E3\"}, \"line\": {\"color\": \"white\"}}, \"type\": \"table\"}]}, \"layout\": {\"annotationdefaults\": {\"arrowcolor\": \"#2a3f5f\", \"arrowhead\": 0, \"arrowwidth\": 1}, \"coloraxis\": {\"colorbar\": {\"outlinewidth\": 0, \"ticks\": \"\"}}, \"colorscale\": {\"diverging\": [[0, \"#8e0152\"], [0.1, \"#c51b7d\"], [0.2, \"#de77ae\"], [0.3, \"#f1b6da\"], [0.4, \"#fde0ef\"], [0.5, \"#f7f7f7\"], [0.6, \"#e6f5d0\"], [0.7, \"#b8e186\"], [0.8, \"#7fbc41\"], [0.9, \"#4d9221\"], [1, \"#276419\"]], \"sequential\": [[0.0, \"#0d0887\"], [0.1111111111111111, \"#46039f\"], [0.2222222222222222, \"#7201a8\"], [0.3333333333333333, \"#9c179e\"], [0.4444444444444444, \"#bd3786\"], [0.5555555555555556, \"#d8576b\"], [0.6666666666666666, \"#ed7953\"], [0.7777777777777778, \"#fb9f3a\"], [0.8888888888888888, \"#fdca26\"], [1.0, \"#f0f921\"]], \"sequentialminus\": [[0.0, \"#0d0887\"], [0.1111111111111111, \"#46039f\"], [0.2222222222222222, \"#7201a8\"], [0.3333333333333333, \"#9c179e\"], [0.4444444444444444, \"#bd3786\"], [0.5555555555555556, \"#d8576b\"], [0.6666666666666666, \"#ed7953\"], [0.7777777777777778, \"#fb9f3a\"], [0.8888888888888888, \"#fdca26\"], [1.0, \"#f0f921\"]]}, \"colorway\": [\"#636efa\", \"#EF553B\", \"#00cc96\", \"#ab63fa\", \"#FFA15A\", \"#19d3f3\", \"#FF6692\", \"#B6E880\", \"#FF97FF\", \"#FECB52\"], \"font\": {\"color\": \"#2a3f5f\"}, \"geo\": {\"bgcolor\": \"white\", \"lakecolor\": \"white\", \"landcolor\": \"#E5ECF6\", \"showlakes\": true, \"showland\": true, \"subunitcolor\": \"white\"}, \"hoverlabel\": {\"align\": \"left\"}, \"hovermode\": \"closest\", \"mapbox\": {\"style\": \"light\"}, \"paper_bgcolor\": \"white\", \"plot_bgcolor\": \"#E5ECF6\", \"polar\": {\"angularaxis\": {\"gridcolor\": \"white\", \"linecolor\": \"white\", \"ticks\": \"\"}, \"bgcolor\": \"#E5ECF6\", \"radialaxis\": {\"gridcolor\": \"white\", \"linecolor\": \"white\", \"ticks\": \"\"}}, \"scene\": {\"xaxis\": {\"backgroundcolor\": \"#E5ECF6\", \"gridcolor\": \"white\", \"gridwidth\": 2, \"linecolor\": \"white\", \"showbackground\": true, \"ticks\": \"\", \"zerolinecolor\": \"white\"}, \"yaxis\": {\"backgroundcolor\": \"#E5ECF6\", \"gridcolor\": \"white\", \"gridwidth\": 2, \"linecolor\": \"white\", \"showbackground\": true, \"ticks\": \"\", \"zerolinecolor\": \"white\"}, \"zaxis\": {\"backgroundcolor\": \"#E5ECF6\", \"gridcolor\": \"white\", \"gridwidth\": 2, \"linecolor\": \"white\", \"showbackground\": true, \"ticks\": \"\", \"zerolinecolor\": \"white\"}}, \"shapedefaults\": {\"line\": {\"color\": \"#2a3f5f\"}}, \"ternary\": {\"aaxis\": {\"gridcolor\": \"white\", \"linecolor\": \"white\", \"ticks\": \"\"}, \"baxis\": {\"gridcolor\": \"white\", \"linecolor\": \"white\", \"ticks\": \"\"}, \"bgcolor\": \"#E5ECF6\", \"caxis\": {\"gridcolor\": \"white\", \"linecolor\": \"white\", \"ticks\": \"\"}}, \"title\": {\"x\": 0.05}, \"xaxis\": {\"automargin\": true, \"gridcolor\": \"white\", \"linecolor\": \"white\", \"ticks\": \"\", \"title\": {\"standoff\": 15}, \"zerolinecolor\": \"white\", \"zerolinewidth\": 2}, \"yaxis\": {\"automargin\": true, \"gridcolor\": \"white\", \"linecolor\": \"white\", \"ticks\": \"\", \"title\": {\"standoff\": 15}, \"zerolinecolor\": \"white\", \"zerolinewidth\": 2}}}, \"title\": {\"font\": {\"color\": \"tan\", \"size\": 17}, \"text\": \"Korea's Column Values according to the year(2017-2021)\"}, \"xaxis\": {\"title\": {\"text\": \"Year\"}}, \"yaxis\": {\"title\": {\"text\": \"Value\"}}},\n",
              "                        {\"responsive\": true}\n",
              "                    ).then(function(){\n",
              "                            \n",
              "var gd = document.getElementById('34390622-0628-4596-b5e8-844a89071d95');\n",
              "var x = new MutationObserver(function (mutations, observer) {{\n",
              "        var display = window.getComputedStyle(gd).display;\n",
              "        if (!display || display === 'none') {{\n",
              "            console.log([gd, 'removed!']);\n",
              "            Plotly.purge(gd);\n",
              "            observer.disconnect();\n",
              "        }}\n",
              "}});\n",
              "\n",
              "// Listen for the removal of the full notebook cells\n",
              "var notebookContainer = gd.closest('#notebook-container');\n",
              "if (notebookContainer) {{\n",
              "    x.observe(notebookContainer, {childList: true});\n",
              "}}\n",
              "\n",
              "// Listen for the clearing of the current output cell\n",
              "var outputEl = gd.closest('.output');\n",
              "if (outputEl) {{\n",
              "    x.observe(outputEl, {childList: true});\n",
              "}}\n",
              "\n",
              "                        })\n",
              "                };\n",
              "                \n",
              "            </script>\n",
              "        </div>\n",
              "</body>\n",
              "</html>"
            ]
          },
          "metadata": {
            "tags": []
          }
        }
      ]
    }
  ]
}