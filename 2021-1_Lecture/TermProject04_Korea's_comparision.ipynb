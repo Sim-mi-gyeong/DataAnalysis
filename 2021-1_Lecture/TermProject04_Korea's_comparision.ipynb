{
  "nbformat": 4,
  "nbformat_minor": 0,
  "metadata": {
    "colab": {
      "name": "TermProject04-Korea's comparision.ipynb",
      "provenance": [],
      "collapsed_sections": [],
      "authorship_tag": "ABX9TyP5/ZfdNJfHFVetzhjkaiJw",
      "include_colab_link": true
    },
    "kernelspec": {
      "name": "python3",
      "display_name": "Python 3"
    },
    "language_info": {
      "name": "python"
    }
  },
  "cells": [
    {
      "cell_type": "markdown",
      "metadata": {
        "id": "view-in-github",
        "colab_type": "text"
      },
      "source": [
        "<a href=\"https://colab.research.google.com/github/Sim-mi-gyeong/DataAnalysis/blob/main/TermProject04_Korea's_comparision.ipynb\" target=\"_parent\"><img src=\"https://colab.research.google.com/assets/colab-badge.svg\" alt=\"Open In Colab\"/></a>"
      ]
    },
    {
      "cell_type": "code",
      "metadata": {
        "id": "DloCBU44HYRa"
      },
      "source": [
        "import numpy as np\n",
        "import pandas as pd\n",
        "import seaborn as sns\n",
        "import matplotlib.pyplot as plt\n",
        "import plotly\n",
        "import plotly.graph_objs as go\n",
        "\n",
        "import warnings\n",
        "warnings.filterwarnings(\"ignore\")"
      ],
      "execution_count": 1,
      "outputs": []
    },
    {
      "cell_type": "code",
      "metadata": {
        "colab": {
          "base_uri": "https://localhost:8080/"
        },
        "id": "GQGnnorIHZDe",
        "outputId": "56b248a4-a14d-4cfa-9ae4-b1fc4f47e1d3"
      },
      "source": [
        "from google.colab import drive\n",
        "drive.mount('/content/drive')"
      ],
      "execution_count": 2,
      "outputs": [
        {
          "output_type": "stream",
          "text": [
            "Mounted at /content/drive\n"
          ],
          "name": "stdout"
        }
      ]
    },
    {
      "cell_type": "code",
      "metadata": {
        "id": "F5AWhYYLHa6g"
      },
      "source": [
        "# 각각의 csv파일을 불러와 df20__ 값에 저장\n",
        "df2017=pd.read_csv('/content/drive/MyDrive/dataset/2017.csv')\n",
        "df2018=pd.read_csv('/content/drive/MyDrive/dataset/2018.csv')\n",
        "df2019=pd.read_csv('/content/drive/MyDrive/dataset/2019.csv')\n",
        "df2020=pd.read_csv('/content/drive/MyDrive/dataset/2020.csv')\n",
        "df2021=pd.read_csv('/content/drive/MyDrive/dataset/2021.csv')"
      ],
      "execution_count": 3,
      "outputs": []
    },
    {
      "cell_type": "code",
      "metadata": {
        "id": "GZsYcacMHjVJ"
      },
      "source": [
        "# 2018년 데이터 중 결측값을 해당 column의 평균값으로 대체\n",
        "df2018['Perceptions of corruption']=df2018['Perceptions of corruption'].fillna(df2018['Perceptions of corruption'].mean())"
      ],
      "execution_count": 4,
      "outputs": []
    },
    {
      "cell_type": "code",
      "metadata": {
        "colab": {
          "base_uri": "https://localhost:8080/"
        },
        "id": "xCLOezFiIFmi",
        "outputId": "b80ddf87-0cce-4e65-ca84-01b6673dddb3"
      },
      "source": [
        "df2018.isnull().sum()"
      ],
      "execution_count": 5,
      "outputs": [
        {
          "output_type": "execute_result",
          "data": {
            "text/plain": [
              "Country                         0\n",
              "Regional indicator              0\n",
              "Score                           0\n",
              "GDP per capita                  0\n",
              "Healthy life expectancy         0\n",
              "Freedom to make life choices    0\n",
              "Generosity                      0\n",
              "Perceptions of corruption       0\n",
              "dtype: int64"
            ]
          },
          "metadata": {
            "tags": []
          },
          "execution_count": 5
        }
      ]
    },
    {
      "cell_type": "code",
      "metadata": {
        "colab": {
          "base_uri": "https://localhost:8080/",
          "height": 399
        },
        "id": "mGeuTJhNIG3x",
        "outputId": "aa850332-db62-40b8-bbce-2281a7e2466d"
      },
      "source": [
        "# 각 연도별 DataFrame에 해당 연도에 따른 Year Column 추가\n",
        "df2017['Year']=2017\n",
        "df2018['Year']=2018\n",
        "df2019['Year']=2019\n",
        "df2020['Year']=2020\n",
        "df2021['Year']=2021\n",
        "\n",
        "# 5개년 DataFrame 병합\n",
        "df=df2017.append([df2018, df2019, df2020, df2021])\n",
        "df"
      ],
      "execution_count": 10,
      "outputs": [
        {
          "output_type": "execute_result",
          "data": {
            "text/html": [
              "<div>\n",
              "<style scoped>\n",
              "    .dataframe tbody tr th:only-of-type {\n",
              "        vertical-align: middle;\n",
              "    }\n",
              "\n",
              "    .dataframe tbody tr th {\n",
              "        vertical-align: top;\n",
              "    }\n",
              "\n",
              "    .dataframe thead th {\n",
              "        text-align: right;\n",
              "    }\n",
              "</style>\n",
              "<table border=\"1\" class=\"dataframe\">\n",
              "  <thead>\n",
              "    <tr style=\"text-align: right;\">\n",
              "      <th></th>\n",
              "      <th>Country</th>\n",
              "      <th>Regional indicator</th>\n",
              "      <th>Score</th>\n",
              "      <th>GDP per capita</th>\n",
              "      <th>Healthy life expectancy</th>\n",
              "      <th>Freedom to make life choices</th>\n",
              "      <th>Generosity</th>\n",
              "      <th>Perceptions of corruption</th>\n",
              "      <th>Year</th>\n",
              "    </tr>\n",
              "  </thead>\n",
              "  <tbody>\n",
              "    <tr>\n",
              "      <th>0</th>\n",
              "      <td>Afghanistan</td>\n",
              "      <td>South Asia</td>\n",
              "      <td>3.794</td>\n",
              "      <td>0.401477</td>\n",
              "      <td>0.180747</td>\n",
              "      <td>0.106180</td>\n",
              "      <td>0.311871</td>\n",
              "      <td>0.061158</td>\n",
              "      <td>2017</td>\n",
              "    </tr>\n",
              "    <tr>\n",
              "      <th>1</th>\n",
              "      <td>Albania</td>\n",
              "      <td>Central and Eastern Europe</td>\n",
              "      <td>4.644</td>\n",
              "      <td>0.996193</td>\n",
              "      <td>0.731160</td>\n",
              "      <td>0.381499</td>\n",
              "      <td>0.201313</td>\n",
              "      <td>0.039864</td>\n",
              "      <td>2017</td>\n",
              "    </tr>\n",
              "    <tr>\n",
              "      <th>2</th>\n",
              "      <td>Algeria</td>\n",
              "      <td>Middle East and North Africa</td>\n",
              "      <td>5.872</td>\n",
              "      <td>1.091864</td>\n",
              "      <td>0.617585</td>\n",
              "      <td>0.233336</td>\n",
              "      <td>0.069437</td>\n",
              "      <td>0.146096</td>\n",
              "      <td>2017</td>\n",
              "    </tr>\n",
              "    <tr>\n",
              "      <th>3</th>\n",
              "      <td>Argentina</td>\n",
              "      <td>Latin America and Caribbean</td>\n",
              "      <td>6.599</td>\n",
              "      <td>1.185295</td>\n",
              "      <td>0.695137</td>\n",
              "      <td>0.494519</td>\n",
              "      <td>0.109457</td>\n",
              "      <td>0.059740</td>\n",
              "      <td>2017</td>\n",
              "    </tr>\n",
              "    <tr>\n",
              "      <th>4</th>\n",
              "      <td>Armenia</td>\n",
              "      <td>Commonwealth of Independent States</td>\n",
              "      <td>4.376</td>\n",
              "      <td>0.900597</td>\n",
              "      <td>0.637524</td>\n",
              "      <td>0.198303</td>\n",
              "      <td>0.083488</td>\n",
              "      <td>0.026674</td>\n",
              "      <td>2017</td>\n",
              "    </tr>\n",
              "    <tr>\n",
              "      <th>...</th>\n",
              "      <td>...</td>\n",
              "      <td>...</td>\n",
              "      <td>...</td>\n",
              "      <td>...</td>\n",
              "      <td>...</td>\n",
              "      <td>...</td>\n",
              "      <td>...</td>\n",
              "      <td>...</td>\n",
              "      <td>...</td>\n",
              "    </tr>\n",
              "    <tr>\n",
              "      <th>138</th>\n",
              "      <td>Venezuela</td>\n",
              "      <td>Latin America and Caribbean</td>\n",
              "      <td>4.892</td>\n",
              "      <td>0.852000</td>\n",
              "      <td>0.574000</td>\n",
              "      <td>0.615000</td>\n",
              "      <td>-0.169000</td>\n",
              "      <td>0.827000</td>\n",
              "      <td>2021</td>\n",
              "    </tr>\n",
              "    <tr>\n",
              "      <th>139</th>\n",
              "      <td>Vietnam</td>\n",
              "      <td>Southeast Asia</td>\n",
              "      <td>5.411</td>\n",
              "      <td>0.817000</td>\n",
              "      <td>0.616000</td>\n",
              "      <td>0.940000</td>\n",
              "      <td>-0.098000</td>\n",
              "      <td>0.796000</td>\n",
              "      <td>2021</td>\n",
              "    </tr>\n",
              "    <tr>\n",
              "      <th>140</th>\n",
              "      <td>Yemen</td>\n",
              "      <td>Middle East and North Africa</td>\n",
              "      <td>3.658</td>\n",
              "      <td>0.329000</td>\n",
              "      <td>0.272000</td>\n",
              "      <td>0.602000</td>\n",
              "      <td>-0.147000</td>\n",
              "      <td>0.800000</td>\n",
              "      <td>2021</td>\n",
              "    </tr>\n",
              "    <tr>\n",
              "      <th>141</th>\n",
              "      <td>Zambia</td>\n",
              "      <td>Sub-Saharan Africa</td>\n",
              "      <td>4.073</td>\n",
              "      <td>0.528000</td>\n",
              "      <td>0.231000</td>\n",
              "      <td>0.782000</td>\n",
              "      <td>0.061000</td>\n",
              "      <td>0.823000</td>\n",
              "      <td>2021</td>\n",
              "    </tr>\n",
              "    <tr>\n",
              "      <th>142</th>\n",
              "      <td>Zimbabwe</td>\n",
              "      <td>Sub-Saharan Africa</td>\n",
              "      <td>3.145</td>\n",
              "      <td>0.457000</td>\n",
              "      <td>0.243000</td>\n",
              "      <td>0.677000</td>\n",
              "      <td>-0.047000</td>\n",
              "      <td>0.821000</td>\n",
              "      <td>2021</td>\n",
              "    </tr>\n",
              "  </tbody>\n",
              "</table>\n",
              "<p>715 rows × 9 columns</p>\n",
              "</div>"
            ],
            "text/plain": [
              "         Country  ...  Year\n",
              "0    Afghanistan  ...  2017\n",
              "1        Albania  ...  2017\n",
              "2        Algeria  ...  2017\n",
              "3      Argentina  ...  2017\n",
              "4        Armenia  ...  2017\n",
              "..           ...  ...   ...\n",
              "138    Venezuela  ...  2021\n",
              "139      Vietnam  ...  2021\n",
              "140        Yemen  ...  2021\n",
              "141       Zambia  ...  2021\n",
              "142     Zimbabwe  ...  2021\n",
              "\n",
              "[715 rows x 9 columns]"
            ]
          },
          "metadata": {
            "tags": []
          },
          "execution_count": 10
        }
      ]
    },
    {
      "cell_type": "code",
      "metadata": {
        "colab": {
          "base_uri": "https://localhost:8080/",
          "height": 194
        },
        "id": "ytzHbDJ_IKo2",
        "outputId": "a17ee94d-1d44-4d7c-904b-a5fbf170eda8"
      },
      "source": [
        "# 전체 국가 중 한국의 row를 추출하여 df_Korea에 저장\n",
        "df_Korea=df[df['Country']=='South Korea']\n",
        "df_Korea"
      ],
      "execution_count": 11,
      "outputs": [
        {
          "output_type": "execute_result",
          "data": {
            "text/html": [
              "<div>\n",
              "<style scoped>\n",
              "    .dataframe tbody tr th:only-of-type {\n",
              "        vertical-align: middle;\n",
              "    }\n",
              "\n",
              "    .dataframe tbody tr th {\n",
              "        vertical-align: top;\n",
              "    }\n",
              "\n",
              "    .dataframe thead th {\n",
              "        text-align: right;\n",
              "    }\n",
              "</style>\n",
              "<table border=\"1\" class=\"dataframe\">\n",
              "  <thead>\n",
              "    <tr style=\"text-align: right;\">\n",
              "      <th></th>\n",
              "      <th>Country</th>\n",
              "      <th>Regional indicator</th>\n",
              "      <th>Score</th>\n",
              "      <th>GDP per capita</th>\n",
              "      <th>Healthy life expectancy</th>\n",
              "      <th>Freedom to make life choices</th>\n",
              "      <th>Generosity</th>\n",
              "      <th>Perceptions of corruption</th>\n",
              "      <th>Year</th>\n",
              "    </tr>\n",
              "  </thead>\n",
              "  <tbody>\n",
              "    <tr>\n",
              "      <th>118</th>\n",
              "      <td>South Korea</td>\n",
              "      <td>East Asia</td>\n",
              "      <td>5.8380</td>\n",
              "      <td>1.401678</td>\n",
              "      <td>0.900214</td>\n",
              "      <td>0.257922</td>\n",
              "      <td>0.206674</td>\n",
              "      <td>0.063283</td>\n",
              "      <td>2017</td>\n",
              "    </tr>\n",
              "    <tr>\n",
              "      <th>118</th>\n",
              "      <td>South Korea</td>\n",
              "      <td>East Asia</td>\n",
              "      <td>5.8750</td>\n",
              "      <td>1.266000</td>\n",
              "      <td>0.955000</td>\n",
              "      <td>0.244000</td>\n",
              "      <td>0.175000</td>\n",
              "      <td>0.051000</td>\n",
              "      <td>2018</td>\n",
              "    </tr>\n",
              "    <tr>\n",
              "      <th>118</th>\n",
              "      <td>South Korea</td>\n",
              "      <td>East Asia</td>\n",
              "      <td>5.8950</td>\n",
              "      <td>1.301000</td>\n",
              "      <td>1.036000</td>\n",
              "      <td>0.159000</td>\n",
              "      <td>0.175000</td>\n",
              "      <td>0.056000</td>\n",
              "      <td>2019</td>\n",
              "    </tr>\n",
              "    <tr>\n",
              "      <th>118</th>\n",
              "      <td>South Korea</td>\n",
              "      <td>East Asia</td>\n",
              "      <td>5.8724</td>\n",
              "      <td>5.785993</td>\n",
              "      <td>0.799387</td>\n",
              "      <td>0.736027</td>\n",
              "      <td>0.612965</td>\n",
              "      <td>-0.043404</td>\n",
              "      <td>2020</td>\n",
              "    </tr>\n",
              "    <tr>\n",
              "      <th>118</th>\n",
              "      <td>South Korea</td>\n",
              "      <td>East Asia</td>\n",
              "      <td>5.8450</td>\n",
              "      <td>1.403000</td>\n",
              "      <td>0.801000</td>\n",
              "      <td>0.672000</td>\n",
              "      <td>-0.083000</td>\n",
              "      <td>0.727000</td>\n",
              "      <td>2021</td>\n",
              "    </tr>\n",
              "  </tbody>\n",
              "</table>\n",
              "</div>"
            ],
            "text/plain": [
              "         Country Regional indicator  ...  Perceptions of corruption  Year\n",
              "118  South Korea          East Asia  ...                   0.063283  2017\n",
              "118  South Korea          East Asia  ...                   0.051000  2018\n",
              "118  South Korea          East Asia  ...                   0.056000  2019\n",
              "118  South Korea          East Asia  ...                  -0.043404  2020\n",
              "118  South Korea          East Asia  ...                   0.727000  2021\n",
              "\n",
              "[5 rows x 9 columns]"
            ]
          },
          "metadata": {
            "tags": []
          },
          "execution_count": 11
        }
      ]
    },
    {
      "cell_type": "code",
      "metadata": {
        "colab": {
          "base_uri": "https://localhost:8080/"
        },
        "id": "EDY6pb86e5i6",
        "outputId": "af0a6bcb-41b3-436d-f035-9b6686bb77f7"
      },
      "source": [
        "# 연도별 전체 국가의 column별 평균을 mean20__에 저장\n",
        "\n",
        "mean2017=df2017.iloc[:,:-1].mean()\n",
        "mean2017\n",
        "\n",
        "mean2018=df2018.iloc[:,:-1].mean()\n",
        "mean2018\n",
        "\n",
        "mean2019=df2019.iloc[:,:-1].mean()\n",
        "mean2019\n",
        "\n",
        "mean2020=df2020.iloc[:,:-1].mean()\n",
        "mean2020\n",
        "\n",
        "mean2021=df2021.iloc[:,:-1].mean()\n",
        "mean2021"
      ],
      "execution_count": 13,
      "outputs": [
        {
          "output_type": "execute_result",
          "data": {
            "text/plain": [
              "Score                           5.562350\n",
              "GDP per capita                  0.985329\n",
              "Healthy life expectancy         0.527126\n",
              "Freedom to make life choices    0.793993\n",
              "Generosity                     -0.019308\n",
              "Perceptions of corruption       0.725643\n",
              "dtype: float64"
            ]
          },
          "metadata": {
            "tags": []
          },
          "execution_count": 13
        }
      ]
    },
    {
      "cell_type": "code",
      "metadata": {
        "colab": {
          "base_uri": "https://localhost:8080/",
          "height": 194
        },
        "id": "kHVq166px5r7",
        "outputId": "3fb5d544-6e2d-4ccd-d839-24abbf8c9423"
      },
      "source": [
        "# 연도별 전체 국가의 column별 평균을 df_mean이라는 DataFrame으로 병합\n",
        "\n",
        "df_mean=pd.DataFrame(data=[mean2017, mean2018, mean2019, mean2020, mean2021])\n",
        "df_mean['Year']=[2017, 2018, 2019, 2020, 2021]\n",
        "df_mean"
      ],
      "execution_count": 15,
      "outputs": [
        {
          "output_type": "execute_result",
          "data": {
            "text/html": [
              "<div>\n",
              "<style scoped>\n",
              "    .dataframe tbody tr th:only-of-type {\n",
              "        vertical-align: middle;\n",
              "    }\n",
              "\n",
              "    .dataframe tbody tr th {\n",
              "        vertical-align: top;\n",
              "    }\n",
              "\n",
              "    .dataframe thead th {\n",
              "        text-align: right;\n",
              "    }\n",
              "</style>\n",
              "<table border=\"1\" class=\"dataframe\">\n",
              "  <thead>\n",
              "    <tr style=\"text-align: right;\">\n",
              "      <th></th>\n",
              "      <th>Score</th>\n",
              "      <th>GDP per capita</th>\n",
              "      <th>Healthy life expectancy</th>\n",
              "      <th>Freedom to make life choices</th>\n",
              "      <th>Generosity</th>\n",
              "      <th>Perceptions of corruption</th>\n",
              "      <th>Year</th>\n",
              "    </tr>\n",
              "  </thead>\n",
              "  <tbody>\n",
              "    <tr>\n",
              "      <th>0</th>\n",
              "      <td>5.413126</td>\n",
              "      <td>1.005134</td>\n",
              "      <td>0.568586</td>\n",
              "      <td>0.416165</td>\n",
              "      <td>0.243110</td>\n",
              "      <td>0.122225</td>\n",
              "      <td>2017</td>\n",
              "    </tr>\n",
              "    <tr>\n",
              "      <th>1</th>\n",
              "      <td>5.442455</td>\n",
              "      <td>0.912294</td>\n",
              "      <td>0.616189</td>\n",
              "      <td>0.461629</td>\n",
              "      <td>0.177580</td>\n",
              "      <td>0.112106</td>\n",
              "      <td>2018</td>\n",
              "    </tr>\n",
              "    <tr>\n",
              "      <th>2</th>\n",
              "      <td>5.486741</td>\n",
              "      <td>0.932098</td>\n",
              "      <td>0.749392</td>\n",
              "      <td>0.398147</td>\n",
              "      <td>0.180203</td>\n",
              "      <td>0.110042</td>\n",
              "      <td>2019</td>\n",
              "    </tr>\n",
              "    <tr>\n",
              "      <th>3</th>\n",
              "      <td>5.538580</td>\n",
              "      <td>5.437659</td>\n",
              "      <td>0.816179</td>\n",
              "      <td>0.649455</td>\n",
              "      <td>0.788641</td>\n",
              "      <td>-0.019410</td>\n",
              "      <td>2020</td>\n",
              "    </tr>\n",
              "    <tr>\n",
              "      <th>4</th>\n",
              "      <td>5.562350</td>\n",
              "      <td>0.985329</td>\n",
              "      <td>0.527126</td>\n",
              "      <td>0.793993</td>\n",
              "      <td>-0.019308</td>\n",
              "      <td>0.725643</td>\n",
              "      <td>2021</td>\n",
              "    </tr>\n",
              "  </tbody>\n",
              "</table>\n",
              "</div>"
            ],
            "text/plain": [
              "      Score  GDP per capita  ...  Perceptions of corruption  Year\n",
              "0  5.413126        1.005134  ...                   0.122225  2017\n",
              "1  5.442455        0.912294  ...                   0.112106  2018\n",
              "2  5.486741        0.932098  ...                   0.110042  2019\n",
              "3  5.538580        5.437659  ...                  -0.019410  2020\n",
              "4  5.562350        0.985329  ...                   0.725643  2021\n",
              "\n",
              "[5 rows x 7 columns]"
            ]
          },
          "metadata": {
            "tags": []
          },
          "execution_count": 15
        }
      ]
    },
    {
      "cell_type": "code",
      "metadata": {
        "colab": {
          "base_uri": "https://localhost:8080/",
          "height": 985
        },
        "id": "Mx5CESuIWQ2u",
        "outputId": "04c2b937-809a-487b-c772-a89ba61eed9d"
      },
      "source": [
        "labels=[2017,2018,2019,2020,2021]\n",
        "# [0.5, 1.0, 1.5, 2.0, 2.5, 3.0, 3.5, 4.0, 4.5, 5.0, 5.5, 6.0]\n",
        "\n",
        "ax=df_mean.drop('Year', axis=1).plot.barh(rot=0)\n",
        "ax.set_yticklabels(labels)\n",
        "ax.set_yticklabels(ax.get_yticklabels(), fontsize=10)\n",
        "ax.axvline(0, color='gray', linewidth=.5)\n",
        "fig = plt.gcf()\n",
        "fig.set_size_inches(6,8)\n",
        "plt.title('Average of each element by year in all countries', fontsize=15)\n",
        "\n",
        "ax=df_Korea.drop('Year', axis=1).plot.barh(rot=0)\n",
        "ax.set_yticklabels(labels)\n",
        "ax.set_yticklabels(ax.get_yticklabels(), fontsize=10)\n",
        "ax.axvline(0, color='gray', linewidth=.5)\n",
        "fig = plt.gcf()\n",
        "fig.set_size_inches(6,8)\n",
        "plt.title('Each element by year in Korea', fontsize=15)\n",
        "\n",
        "# ax=df_Korea.drop('Year', axis=1).plot.barh(rot=0)\n",
        "\n",
        "plt.show()\n"
      ],
      "execution_count": 16,
      "outputs": [
        {
          "output_type": "display_data",
          "data": {
            "image/png": "[encoded data removed]",
            "text/plain": [
              "<Figure size 432x576 with 1 Axes>"
            ]
          },
          "metadata": {
            "tags": [],
            "needs_background": "light"
          }
        },
        {
          "output_type": "display_data",
          "data": {
            "image/png": "[encoded data removed]",
            "text/plain": [
              "<Figure size 432x576 with 1 Axes>"
            ]
          },
          "metadata": {
            "tags": [],
            "needs_background": "light"
          }
        }
      ]
    },
    {
      "cell_type": "code",
      "metadata": {
        "colab": {
          "base_uri": "https://localhost:8080/",
          "height": 214
        },
        "id": "6svgoNl-oKpd",
        "outputId": "966b5c1c-e36d-4502-b99b-165dcbc6df00"
      },
      "source": [
        "# df_Korea=df_Korea.drop(['Year'], axis=1)\n",
        "df_Korea=df_Korea.drop(['Regional indicator'], axis=1)\n",
        "df_Korea=df_Korea.drop(['Country'], axis=1)\n",
        "df_Korea"
      ],
      "execution_count": null,
      "outputs": [
        {
          "output_type": "execute_result",
          "data": {
            "text/html": [
              "<div>\n",
              "<style scoped>\n",
              "    .dataframe tbody tr th:only-of-type {\n",
              "        vertical-align: middle;\n",
              "    }\n",
              "\n",
              "    .dataframe tbody tr th {\n",
              "        vertical-align: top;\n",
              "    }\n",
              "\n",
              "    .dataframe thead th {\n",
              "        text-align: right;\n",
              "    }\n",
              "</style>\n",
              "<table border=\"1\" class=\"dataframe\">\n",
              "  <thead>\n",
              "    <tr style=\"text-align: right;\">\n",
              "      <th></th>\n",
              "      <th>Score</th>\n",
              "      <th>GDP per capita</th>\n",
              "      <th>Healthy life expectancy</th>\n",
              "      <th>Freedom to make life choices</th>\n",
              "      <th>Generosity</th>\n",
              "      <th>Perceptions of corruption</th>\n",
              "      <th>Year</th>\n",
              "    </tr>\n",
              "  </thead>\n",
              "  <tbody>\n",
              "    <tr>\n",
              "      <th>118</th>\n",
              "      <td>5.8380</td>\n",
              "      <td>1.401678</td>\n",
              "      <td>0.900214</td>\n",
              "      <td>0.257922</td>\n",
              "      <td>0.206674</td>\n",
              "      <td>0.063283</td>\n",
              "      <td>2017</td>\n",
              "    </tr>\n",
              "    <tr>\n",
              "      <th>118</th>\n",
              "      <td>5.8750</td>\n",
              "      <td>1.266000</td>\n",
              "      <td>0.955000</td>\n",
              "      <td>0.244000</td>\n",
              "      <td>0.175000</td>\n",
              "      <td>0.051000</td>\n",
              "      <td>2018</td>\n",
              "    </tr>\n",
              "    <tr>\n",
              "      <th>118</th>\n",
              "      <td>5.8950</td>\n",
              "      <td>1.301000</td>\n",
              "      <td>1.036000</td>\n",
              "      <td>0.159000</td>\n",
              "      <td>0.175000</td>\n",
              "      <td>0.056000</td>\n",
              "      <td>2019</td>\n",
              "    </tr>\n",
              "    <tr>\n",
              "      <th>118</th>\n",
              "      <td>5.8724</td>\n",
              "      <td>5.785993</td>\n",
              "      <td>0.799387</td>\n",
              "      <td>0.736027</td>\n",
              "      <td>0.612965</td>\n",
              "      <td>-0.043404</td>\n",
              "      <td>2020</td>\n",
              "    </tr>\n",
              "    <tr>\n",
              "      <th>118</th>\n",
              "      <td>5.8450</td>\n",
              "      <td>1.403000</td>\n",
              "      <td>0.801000</td>\n",
              "      <td>0.672000</td>\n",
              "      <td>-0.083000</td>\n",
              "      <td>0.727000</td>\n",
              "      <td>2021</td>\n",
              "    </tr>\n",
              "  </tbody>\n",
              "</table>\n",
              "</div>"
            ],
            "text/plain": [
              "      Score  GDP per capita  ...  Perceptions of corruption  Year\n",
              "118  5.8380        1.401678  ...                   0.063283  2017\n",
              "118  5.8750        1.266000  ...                   0.051000  2018\n",
              "118  5.8950        1.301000  ...                   0.056000  2019\n",
              "118  5.8724        5.785993  ...                  -0.043404  2020\n",
              "118  5.8450        1.403000  ...                   0.727000  2021\n",
              "\n",
              "[5 rows x 7 columns]"
            ]
          },
          "metadata": {
            "tags": []
          },
          "execution_count": 18
        }
      ]
    },
    {
      "cell_type": "code",
      "metadata": {
        "colab": {
          "base_uri": "https://localhost:8080/"
        },
        "id": "7QKxbCvVvYuv",
        "outputId": "ce0e744c-cbd3-4086-ad4b-0cf2f51caefb"
      },
      "source": [
        "col_list=['Score', 'GDP per capita', 'Healthy life expectancy', 'Freedom to make life choices', 'Generosity', 'Perceptions of corruption']\n",
        "col_list"
      ],
      "execution_count": null,
      "outputs": [
        {
          "output_type": "execute_result",
          "data": {
            "text/plain": [
              "['Score',\n",
              " 'GDP per capita',\n",
              " 'Healthy life expectancy',\n",
              " 'Freedom to make life choices',\n",
              " 'Generosity',\n",
              " 'Perceptions of corruption']"
            ]
          },
          "metadata": {
            "tags": []
          },
          "execution_count": 19
        }
      ]
    },
    {
      "cell_type": "code",
      "metadata": {
        "colab": {
          "base_uri": "https://localhost:8080/"
        },
        "id": "rWAbruzk1lL2",
        "outputId": "961cae90-c122-4696-c55a-4a5af2fb7e17"
      },
      "source": [
        "# diff: df_Korea의 각 항목 값과 df_mean의 차이\n",
        "\n",
        "diff=(df_Korea.iloc[:,:-1].values)-(df_mean.iloc[:, :-1].values)\n",
        "diff"
      ],
      "execution_count": null,
      "outputs": [
        {
          "output_type": "execute_result",
          "data": {
            "text/plain": [
              "array([[ 0.42487395,  0.39654461,  0.33162846, -0.15824325, -0.03643608,\n",
              "        -0.05894255],\n",
              "       [ 0.43254545,  0.35370629,  0.33881119, -0.21762937, -0.00258042,\n",
              "        -0.06110563],\n",
              "       [ 0.40825874,  0.3689021 ,  0.28660839, -0.23914685, -0.0052028 ,\n",
              "        -0.05404196],\n",
              "       [ 0.33381939,  0.34833449, -0.01679135,  0.08657259, -0.17567542,\n",
              "        -0.02399403],\n",
              "       [ 0.28265035,  0.41767133,  0.27387413, -0.12199301, -0.06369231,\n",
              "         0.00135664]])"
            ]
          },
          "metadata": {
            "tags": []
          },
          "execution_count": 20
        }
      ]
    },
    {
      "cell_type": "code",
      "metadata": {
        "colab": {
          "base_uri": "https://localhost:8080/",
          "height": 214
        },
        "id": "19mNqPIk1y78",
        "outputId": "6f129e2f-be7e-4909-bf4e-bbd6c8a4ce5b"
      },
      "source": [
        "# diff에 대한 DataFrame 만들기\n",
        "\n",
        "df_diff=pd.DataFrame(data=diff, index=[2017, 2018,2019, 2020, 2021], columns=col_list)\n",
        "#df_diff['Year']=[2017,2018,2019,2020,2021]\n",
        "df_diff"
      ],
      "execution_count": null,
      "outputs": [
        {
          "output_type": "execute_result",
          "data": {
            "text/html": [
              "<div>\n",
              "<style scoped>\n",
              "    .dataframe tbody tr th:only-of-type {\n",
              "        vertical-align: middle;\n",
              "    }\n",
              "\n",
              "    .dataframe tbody tr th {\n",
              "        vertical-align: top;\n",
              "    }\n",
              "\n",
              "    .dataframe thead th {\n",
              "        text-align: right;\n",
              "    }\n",
              "</style>\n",
              "<table border=\"1\" class=\"dataframe\">\n",
              "  <thead>\n",
              "    <tr style=\"text-align: right;\">\n",
              "      <th></th>\n",
              "      <th>Score</th>\n",
              "      <th>GDP per capita</th>\n",
              "      <th>Healthy life expectancy</th>\n",
              "      <th>Freedom to make life choices</th>\n",
              "      <th>Generosity</th>\n",
              "      <th>Perceptions of corruption</th>\n",
              "    </tr>\n",
              "  </thead>\n",
              "  <tbody>\n",
              "    <tr>\n",
              "      <th>2017</th>\n",
              "      <td>0.424874</td>\n",
              "      <td>0.396545</td>\n",
              "      <td>0.331628</td>\n",
              "      <td>-0.158243</td>\n",
              "      <td>-0.036436</td>\n",
              "      <td>-0.058943</td>\n",
              "    </tr>\n",
              "    <tr>\n",
              "      <th>2018</th>\n",
              "      <td>0.432545</td>\n",
              "      <td>0.353706</td>\n",
              "      <td>0.338811</td>\n",
              "      <td>-0.217629</td>\n",
              "      <td>-0.002580</td>\n",
              "      <td>-0.061106</td>\n",
              "    </tr>\n",
              "    <tr>\n",
              "      <th>2019</th>\n",
              "      <td>0.408259</td>\n",
              "      <td>0.368902</td>\n",
              "      <td>0.286608</td>\n",
              "      <td>-0.239147</td>\n",
              "      <td>-0.005203</td>\n",
              "      <td>-0.054042</td>\n",
              "    </tr>\n",
              "    <tr>\n",
              "      <th>2020</th>\n",
              "      <td>0.333819</td>\n",
              "      <td>0.348334</td>\n",
              "      <td>-0.016791</td>\n",
              "      <td>0.086573</td>\n",
              "      <td>-0.175675</td>\n",
              "      <td>-0.023994</td>\n",
              "    </tr>\n",
              "    <tr>\n",
              "      <th>2021</th>\n",
              "      <td>0.282650</td>\n",
              "      <td>0.417671</td>\n",
              "      <td>0.273874</td>\n",
              "      <td>-0.121993</td>\n",
              "      <td>-0.063692</td>\n",
              "      <td>0.001357</td>\n",
              "    </tr>\n",
              "  </tbody>\n",
              "</table>\n",
              "</div>"
            ],
            "text/plain": [
              "         Score  GDP per capita  ...  Generosity  Perceptions of corruption\n",
              "2017  0.424874        0.396545  ...   -0.036436                  -0.058943\n",
              "2018  0.432545        0.353706  ...   -0.002580                  -0.061106\n",
              "2019  0.408259        0.368902  ...   -0.005203                  -0.054042\n",
              "2020  0.333819        0.348334  ...   -0.175675                  -0.023994\n",
              "2021  0.282650        0.417671  ...   -0.063692                   0.001357\n",
              "\n",
              "[5 rows x 6 columns]"
            ]
          },
          "metadata": {
            "tags": []
          },
          "execution_count": 21
        }
      ]
    },
    {
      "cell_type": "code",
      "metadata": {
        "colab": {
          "base_uri": "https://localhost:8080/",
          "height": 516
        },
        "id": "sdDHl7lg4KAv",
        "outputId": "c48ba46a-0c64-4421-aee8-a9b81f8b137d"
      },
      "source": [
        "# df_diff: df_Korea의 각 항목 값과 df_mean의 차이\n",
        "# df_diff: 한국과 전세계 각 요소의 연간 평균 차이\n",
        "\n",
        "ax=df_diff.plot.barh(rot=0)\n",
        "ax.set_yticklabels(labels)\n",
        "ax.set_yticklabels(ax.get_yticklabels(), fontsize=10)\n",
        "ax.axvline(0, color='gray', linewidth=.5)\n",
        "fig = plt.gcf()\n",
        "fig.set_size_inches(6,8)\n",
        "plt.title('All Country and Korea difference of elements each year ', fontsize=13)"
      ],
      "execution_count": null,
      "outputs": [
        {
          "output_type": "execute_result",
          "data": {
            "text/plain": [
              "Text(0.5, 1.0, 'All Country and Korea difference of elements each year ')"
            ]
          },
          "metadata": {
            "tags": []
          },
          "execution_count": 27
        },
        {
          "output_type": "display_data",
          "data": {
            "image/png": "[encoded data removed]",
            "text/plain": [
              "<Figure size 432x576 with 1 Axes>"
            ]
          },
          "metadata": {
            "tags": [],
            "needs_background": "light"
          }
        }
      ]
    },
    {
      "cell_type": "code",
      "metadata": {
        "colab": {
          "base_uri": "https://localhost:8080/",
          "height": 538
        },
        "id": "-Zbjv2l_3Iob",
        "outputId": "5907baba-b4bb-4bf0-c42c-74de3771eeec"
      },
      "source": [
        "# 연도에 따른 각 요소별 한국-전세계 차이에 대한 scatter 분포\n",
        "\n",
        "sns.catplot(data=df_diff)\n",
        "plt.xticks(rotation='vertical')\n",
        "plt.title('All Country and Korea difference of elements each year ', fontsize=13)"
      ],
      "execution_count": null,
      "outputs": [
        {
          "output_type": "execute_result",
          "data": {
            "text/plain": [
              "Text(0.5, 1.0, 'All Country and Korea difference of elements each year ')"
            ]
          },
          "metadata": {
            "tags": []
          },
          "execution_count": 28
        },
        {
          "output_type": "display_data",
          "data": {
            "image/png": "[encoded data removed]",
            "text/plain": [
              "<Figure size 360x360 with 1 Axes>"
            ]
          },
          "metadata": {
            "tags": [],
            "needs_background": "light"
          }
        }
      ]
    }
  ]
}