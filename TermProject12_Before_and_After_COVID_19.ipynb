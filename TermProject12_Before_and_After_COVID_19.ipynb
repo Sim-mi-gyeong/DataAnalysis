{
  "nbformat": 4,
  "nbformat_minor": 0,
  "metadata": {
    "colab": {
      "name": "TermProject12-Before and After COVID-19.ipynb",
      "provenance": [],
      "collapsed_sections": [],
      "authorship_tag": "ABX9TyMGeYUT+mJmJnpZhFbVXW/0",
      "include_colab_link": true
    },
    "kernelspec": {
      "name": "python3",
      "display_name": "Python 3"
    },
    "language_info": {
      "name": "python"
    }
  },
  "cells": [
    {
      "cell_type": "markdown",
      "metadata": {
        "id": "view-in-github",
        "colab_type": "text"
      },
      "source": [
        "<a href=\"https://colab.research.google.com/github/Sim-mi-gyeong/DataAnalysis/blob/main/TermProject12_Before_and_After_COVID_19.ipynb\" target=\"_parent\"><img src=\"https://colab.research.google.com/assets/colab-badge.svg\" alt=\"Open In Colab\"/></a>"
      ]
    },
    {
      "cell_type": "code",
      "metadata": {
        "id": "jWgmrHuA65bx"
      },
      "source": [
        "# 2020년 전후 (코로나로 인해) 전체 국가에서 증가/감소한 요소가 존재하는가?/Happiness Score에 변화가 있는가?\n",
        "# 특히, 동아시아 국가의 2020년 전후 Happiness Score의 변화는 다른 국가들에 비해 어떠한가?"
      ],
      "execution_count": 1,
      "outputs": []
    },
    {
      "cell_type": "code",
      "metadata": {
        "id": "kvpgg1eaLtIN"
      },
      "source": [
        "import numpy as np\n",
        "import pandas as pd\n",
        "import seaborn as sns\n",
        "import matplotlib.pyplot as plt\n",
        "import warnings\n",
        "warnings.filterwarnings(\"ignore\")"
      ],
      "execution_count": 2,
      "outputs": []
    },
    {
      "cell_type": "code",
      "metadata": {
        "colab": {
          "base_uri": "https://localhost:8080/"
        },
        "id": "-1Nan1s8L8i7",
        "outputId": "9bc23a70-a88d-442e-90ed-467552bd5c8f"
      },
      "source": [
        "from google.colab import drive\n",
        "drive.mount('/content/drive')"
      ],
      "execution_count": 3,
      "outputs": [
        {
          "output_type": "stream",
          "text": [
            "Mounted at /content/drive\n"
          ],
          "name": "stdout"
        }
      ]
    },
    {
      "cell_type": "code",
      "metadata": {
        "id": "TZ4Ko2sFL97k"
      },
      "source": [
        "df2017=pd.read_csv('/content/drive/MyDrive/dataset/2017.csv')\n",
        "df2018=pd.read_csv('/content/drive/MyDrive/dataset/2018.csv')\n",
        "df2019=pd.read_csv('/content/drive/MyDrive/dataset/2019.csv')\n",
        "df2020=pd.read_csv('/content/drive/MyDrive/dataset/2020.csv')\n",
        "df2021=pd.read_csv('/content/drive/MyDrive/dataset/2021.csv')"
      ],
      "execution_count": 4,
      "outputs": []
    },
    {
      "cell_type": "code",
      "metadata": {
        "id": "KKrSic_1MEMk"
      },
      "source": [
        "df2018['Perceptions of corruption']=df2018['Perceptions of corruption'].fillna(df2018['Perceptions of corruption'].mean())"
      ],
      "execution_count": 5,
      "outputs": []
    },
    {
      "cell_type": "code",
      "metadata": {
        "colab": {
          "base_uri": "https://localhost:8080/",
          "height": 660
        },
        "id": "IuK2cf9tNYOy",
        "outputId": "3e26bd3d-a459-4868-da46-af43acbe34a3"
      },
      "source": [
        "df2020"
      ],
      "execution_count": 6,
      "outputs": [
        {
          "output_type": "execute_result",
          "data": {
            "text/html": [
              "<div>\n",
              "<style scoped>\n",
              "    .dataframe tbody tr th:only-of-type {\n",
              "        vertical-align: middle;\n",
              "    }\n",
              "\n",
              "    .dataframe tbody tr th {\n",
              "        vertical-align: top;\n",
              "    }\n",
              "\n",
              "    .dataframe thead th {\n",
              "        text-align: right;\n",
              "    }\n",
              "</style>\n",
              "<table border=\"1\" class=\"dataframe\">\n",
              "  <thead>\n",
              "    <tr style=\"text-align: right;\">\n",
              "      <th></th>\n",
              "      <th>Country</th>\n",
              "      <th>Regional indicator</th>\n",
              "      <th>Score</th>\n",
              "      <th>GDP per capita</th>\n",
              "      <th>Healthy life expectancy</th>\n",
              "      <th>Freedom to make life choices</th>\n",
              "      <th>Generosity</th>\n",
              "      <th>Perceptions of corruption</th>\n",
              "    </tr>\n",
              "  </thead>\n",
              "  <tbody>\n",
              "    <tr>\n",
              "      <th>0</th>\n",
              "      <td>Afghanistan</td>\n",
              "      <td>South Asia</td>\n",
              "      <td>2.5669</td>\n",
              "      <td>2.505530</td>\n",
              "      <td>0.470367</td>\n",
              "      <td>0.525900</td>\n",
              "      <td>0.396573</td>\n",
              "      <td>-0.096429</td>\n",
              "    </tr>\n",
              "    <tr>\n",
              "      <th>1</th>\n",
              "      <td>Albania</td>\n",
              "      <td>Central and Eastern Europe</td>\n",
              "      <td>4.8827</td>\n",
              "      <td>4.772713</td>\n",
              "      <td>0.671070</td>\n",
              "      <td>0.687081</td>\n",
              "      <td>0.781994</td>\n",
              "      <td>-0.042309</td>\n",
              "    </tr>\n",
              "    <tr>\n",
              "      <th>2</th>\n",
              "      <td>Algeria</td>\n",
              "      <td>Middle East and North Africa</td>\n",
              "      <td>5.0051</td>\n",
              "      <td>4.918397</td>\n",
              "      <td>0.803385</td>\n",
              "      <td>0.659052</td>\n",
              "      <td>0.466611</td>\n",
              "      <td>-0.121105</td>\n",
              "    </tr>\n",
              "    <tr>\n",
              "      <th>3</th>\n",
              "      <td>Argentina</td>\n",
              "      <td>Latin America and Caribbean</td>\n",
              "      <td>5.9747</td>\n",
              "      <td>5.869954</td>\n",
              "      <td>0.900568</td>\n",
              "      <td>0.688038</td>\n",
              "      <td>0.831132</td>\n",
              "      <td>-0.194914</td>\n",
              "    </tr>\n",
              "    <tr>\n",
              "      <th>4</th>\n",
              "      <td>Armenia</td>\n",
              "      <td>Commonwealth of Independent States</td>\n",
              "      <td>4.6768</td>\n",
              "      <td>4.561953</td>\n",
              "      <td>0.757479</td>\n",
              "      <td>0.667507</td>\n",
              "      <td>0.712018</td>\n",
              "      <td>-0.138780</td>\n",
              "    </tr>\n",
              "    <tr>\n",
              "      <th>...</th>\n",
              "      <td>...</td>\n",
              "      <td>...</td>\n",
              "      <td>...</td>\n",
              "      <td>...</td>\n",
              "      <td>...</td>\n",
              "      <td>...</td>\n",
              "      <td>...</td>\n",
              "      <td>...</td>\n",
              "    </tr>\n",
              "    <tr>\n",
              "      <th>138</th>\n",
              "      <td>Venezuela</td>\n",
              "      <td>Latin America and Caribbean</td>\n",
              "      <td>5.0532</td>\n",
              "      <td>4.927210</td>\n",
              "      <td>0.890408</td>\n",
              "      <td>0.665053</td>\n",
              "      <td>0.623278</td>\n",
              "      <td>-0.169091</td>\n",
              "    </tr>\n",
              "    <tr>\n",
              "      <th>139</th>\n",
              "      <td>Vietnam</td>\n",
              "      <td>Southeast Asia</td>\n",
              "      <td>5.3535</td>\n",
              "      <td>5.287251</td>\n",
              "      <td>0.849987</td>\n",
              "      <td>0.679527</td>\n",
              "      <td>0.939593</td>\n",
              "      <td>-0.094533</td>\n",
              "    </tr>\n",
              "    <tr>\n",
              "      <th>140</th>\n",
              "      <td>Yemen</td>\n",
              "      <td>Middle East and North Africa</td>\n",
              "      <td>3.5274</td>\n",
              "      <td>3.421250</td>\n",
              "      <td>0.817981</td>\n",
              "      <td>0.567273</td>\n",
              "      <td>0.599920</td>\n",
              "      <td>-0.157735</td>\n",
              "    </tr>\n",
              "    <tr>\n",
              "      <th>141</th>\n",
              "      <td>Zambia</td>\n",
              "      <td>Sub-Saharan Africa</td>\n",
              "      <td>3.7594</td>\n",
              "      <td>3.640474</td>\n",
              "      <td>0.698824</td>\n",
              "      <td>0.552994</td>\n",
              "      <td>0.806500</td>\n",
              "      <td>0.078037</td>\n",
              "    </tr>\n",
              "    <tr>\n",
              "      <th>142</th>\n",
              "      <td>Zimbabwe</td>\n",
              "      <td>Sub-Saharan Africa</td>\n",
              "      <td>3.2992</td>\n",
              "      <td>3.184198</td>\n",
              "      <td>0.763093</td>\n",
              "      <td>0.556173</td>\n",
              "      <td>0.711458</td>\n",
              "      <td>-0.072064</td>\n",
              "    </tr>\n",
              "  </tbody>\n",
              "</table>\n",
              "<p>143 rows × 8 columns</p>\n",
              "</div>"
            ],
            "text/plain": [
              "         Country  ... Perceptions of corruption\n",
              "0    Afghanistan  ...                 -0.096429\n",
              "1        Albania  ...                 -0.042309\n",
              "2        Algeria  ...                 -0.121105\n",
              "3      Argentina  ...                 -0.194914\n",
              "4        Armenia  ...                 -0.138780\n",
              "..           ...  ...                       ...\n",
              "138    Venezuela  ...                 -0.169091\n",
              "139      Vietnam  ...                 -0.094533\n",
              "140        Yemen  ...                 -0.157735\n",
              "141       Zambia  ...                  0.078037\n",
              "142     Zimbabwe  ...                 -0.072064\n",
              "\n",
              "[143 rows x 8 columns]"
            ]
          },
          "metadata": {
            "tags": []
          },
          "execution_count": 6
        }
      ]
    },
    {
      "cell_type": "code",
      "metadata": {
        "id": "HUFmqaN8MHSX"
      },
      "source": [
        "col_list=['Score', 'GDP per capita', 'Healthy life expectancy', 'Freedom to make life choices', 'Generosity', 'Perceptions of corruption']\n",
        "\n",
        "mean2017=df2017[col_list].mean()\n",
        "mean2018=df2018[col_list].mean()\n",
        "mean2019=df2019[col_list].mean()\n",
        "mean2020=df2020[col_list].mean()\n",
        "mean2021=df2021[col_list].mean()\n",
        "\n",
        "# happy20_top10 = df2020.groupby('Country')['Score'].max().sort_values(ascending=False).head(10).reset_index()\n",
        "# df2020.columns_top10 = ['Country','Score']"
      ],
      "execution_count": 7,
      "outputs": []
    },
    {
      "cell_type": "code",
      "metadata": {
        "colab": {
          "base_uri": "https://localhost:8080/",
          "height": 660
        },
        "id": "oquIMhdAMZeA",
        "outputId": "e7fc616f-b384-4e97-80aa-8455881f43c6"
      },
      "source": [
        "df2021"
      ],
      "execution_count": 8,
      "outputs": [
        {
          "output_type": "execute_result",
          "data": {
            "text/html": [
              "<div>\n",
              "<style scoped>\n",
              "    .dataframe tbody tr th:only-of-type {\n",
              "        vertical-align: middle;\n",
              "    }\n",
              "\n",
              "    .dataframe tbody tr th {\n",
              "        vertical-align: top;\n",
              "    }\n",
              "\n",
              "    .dataframe thead th {\n",
              "        text-align: right;\n",
              "    }\n",
              "</style>\n",
              "<table border=\"1\" class=\"dataframe\">\n",
              "  <thead>\n",
              "    <tr style=\"text-align: right;\">\n",
              "      <th></th>\n",
              "      <th>Country</th>\n",
              "      <th>Regional indicator</th>\n",
              "      <th>Score</th>\n",
              "      <th>GDP per capita</th>\n",
              "      <th>Healthy life expectancy</th>\n",
              "      <th>Freedom to make life choices</th>\n",
              "      <th>Generosity</th>\n",
              "      <th>Perceptions of corruption</th>\n",
              "    </tr>\n",
              "  </thead>\n",
              "  <tbody>\n",
              "    <tr>\n",
              "      <th>0</th>\n",
              "      <td>Afghanistan</td>\n",
              "      <td>South Asia</td>\n",
              "      <td>2.523</td>\n",
              "      <td>0.370</td>\n",
              "      <td>0.126</td>\n",
              "      <td>0.382</td>\n",
              "      <td>-0.102</td>\n",
              "      <td>0.924</td>\n",
              "    </tr>\n",
              "    <tr>\n",
              "      <th>1</th>\n",
              "      <td>Albania</td>\n",
              "      <td>Central and Eastern Europe</td>\n",
              "      <td>5.117</td>\n",
              "      <td>1.008</td>\n",
              "      <td>0.646</td>\n",
              "      <td>0.785</td>\n",
              "      <td>-0.030</td>\n",
              "      <td>0.901</td>\n",
              "    </tr>\n",
              "    <tr>\n",
              "      <th>2</th>\n",
              "      <td>Algeria</td>\n",
              "      <td>Middle East and North Africa</td>\n",
              "      <td>4.887</td>\n",
              "      <td>0.946</td>\n",
              "      <td>0.552</td>\n",
              "      <td>0.480</td>\n",
              "      <td>-0.067</td>\n",
              "      <td>0.752</td>\n",
              "    </tr>\n",
              "    <tr>\n",
              "      <th>3</th>\n",
              "      <td>Argentina</td>\n",
              "      <td>Latin America and Caribbean</td>\n",
              "      <td>5.929</td>\n",
              "      <td>1.162</td>\n",
              "      <td>0.646</td>\n",
              "      <td>0.828</td>\n",
              "      <td>-0.182</td>\n",
              "      <td>0.834</td>\n",
              "    </tr>\n",
              "    <tr>\n",
              "      <th>4</th>\n",
              "      <td>Armenia</td>\n",
              "      <td>Commonwealth of Independent States</td>\n",
              "      <td>5.283</td>\n",
              "      <td>0.996</td>\n",
              "      <td>0.585</td>\n",
              "      <td>0.825</td>\n",
              "      <td>-0.168</td>\n",
              "      <td>0.629</td>\n",
              "    </tr>\n",
              "    <tr>\n",
              "      <th>...</th>\n",
              "      <td>...</td>\n",
              "      <td>...</td>\n",
              "      <td>...</td>\n",
              "      <td>...</td>\n",
              "      <td>...</td>\n",
              "      <td>...</td>\n",
              "      <td>...</td>\n",
              "      <td>...</td>\n",
              "    </tr>\n",
              "    <tr>\n",
              "      <th>138</th>\n",
              "      <td>Venezuela</td>\n",
              "      <td>Latin America and Caribbean</td>\n",
              "      <td>4.892</td>\n",
              "      <td>0.852</td>\n",
              "      <td>0.574</td>\n",
              "      <td>0.615</td>\n",
              "      <td>-0.169</td>\n",
              "      <td>0.827</td>\n",
              "    </tr>\n",
              "    <tr>\n",
              "      <th>139</th>\n",
              "      <td>Vietnam</td>\n",
              "      <td>Southeast Asia</td>\n",
              "      <td>5.411</td>\n",
              "      <td>0.817</td>\n",
              "      <td>0.616</td>\n",
              "      <td>0.940</td>\n",
              "      <td>-0.098</td>\n",
              "      <td>0.796</td>\n",
              "    </tr>\n",
              "    <tr>\n",
              "      <th>140</th>\n",
              "      <td>Yemen</td>\n",
              "      <td>Middle East and North Africa</td>\n",
              "      <td>3.658</td>\n",
              "      <td>0.329</td>\n",
              "      <td>0.272</td>\n",
              "      <td>0.602</td>\n",
              "      <td>-0.147</td>\n",
              "      <td>0.800</td>\n",
              "    </tr>\n",
              "    <tr>\n",
              "      <th>141</th>\n",
              "      <td>Zambia</td>\n",
              "      <td>Sub-Saharan Africa</td>\n",
              "      <td>4.073</td>\n",
              "      <td>0.528</td>\n",
              "      <td>0.231</td>\n",
              "      <td>0.782</td>\n",
              "      <td>0.061</td>\n",
              "      <td>0.823</td>\n",
              "    </tr>\n",
              "    <tr>\n",
              "      <th>142</th>\n",
              "      <td>Zimbabwe</td>\n",
              "      <td>Sub-Saharan Africa</td>\n",
              "      <td>3.145</td>\n",
              "      <td>0.457</td>\n",
              "      <td>0.243</td>\n",
              "      <td>0.677</td>\n",
              "      <td>-0.047</td>\n",
              "      <td>0.821</td>\n",
              "    </tr>\n",
              "  </tbody>\n",
              "</table>\n",
              "<p>143 rows × 8 columns</p>\n",
              "</div>"
            ],
            "text/plain": [
              "         Country  ... Perceptions of corruption\n",
              "0    Afghanistan  ...                     0.924\n",
              "1        Albania  ...                     0.901\n",
              "2        Algeria  ...                     0.752\n",
              "3      Argentina  ...                     0.834\n",
              "4        Armenia  ...                     0.629\n",
              "..           ...  ...                       ...\n",
              "138    Venezuela  ...                     0.827\n",
              "139      Vietnam  ...                     0.796\n",
              "140        Yemen  ...                     0.800\n",
              "141       Zambia  ...                     0.823\n",
              "142     Zimbabwe  ...                     0.821\n",
              "\n",
              "[143 rows x 8 columns]"
            ]
          },
          "metadata": {
            "tags": []
          },
          "execution_count": 8
        }
      ]
    },
    {
      "cell_type": "code",
      "metadata": {
        "colab": {
          "base_uri": "https://localhost:8080/"
        },
        "id": "b2YHejrTMarr",
        "outputId": "5dc6d120-277a-4174-9538-c3ae2165c482"
      },
      "source": [
        "mean2020"
      ],
      "execution_count": 9,
      "outputs": [
        {
          "output_type": "execute_result",
          "data": {
            "text/plain": [
              "Score                           5.538580\n",
              "GDP per capita                  5.437659\n",
              "Healthy life expectancy         0.816179\n",
              "Freedom to make life choices    0.649455\n",
              "Generosity                      0.788641\n",
              "Perceptions of corruption      -0.019410\n",
              "dtype: float64"
            ]
          },
          "metadata": {
            "tags": []
          },
          "execution_count": 9
        }
      ]
    },
    {
      "cell_type": "code",
      "metadata": {
        "colab": {
          "base_uri": "https://localhost:8080/",
          "height": 231
        },
        "id": "wzwe_NdhOuDc",
        "outputId": "205093a9-929d-4163-c8f0-0e2b683d753d"
      },
      "source": [
        "# 연도별 전체 국가의 각 요소별 평균\n",
        "\n",
        "df_mean=pd.DataFrame(data=[mean2017, mean2018, mean2019, mean2020, mean2021], index=[2017,2018,2019,2020,2021])\n",
        "df_mean"
      ],
      "execution_count": 10,
      "outputs": [
        {
          "output_type": "execute_result",
          "data": {
            "text/html": [
              "<div>\n",
              "<style scoped>\n",
              "    .dataframe tbody tr th:only-of-type {\n",
              "        vertical-align: middle;\n",
              "    }\n",
              "\n",
              "    .dataframe tbody tr th {\n",
              "        vertical-align: top;\n",
              "    }\n",
              "\n",
              "    .dataframe thead th {\n",
              "        text-align: right;\n",
              "    }\n",
              "</style>\n",
              "<table border=\"1\" class=\"dataframe\">\n",
              "  <thead>\n",
              "    <tr style=\"text-align: right;\">\n",
              "      <th></th>\n",
              "      <th>Score</th>\n",
              "      <th>GDP per capita</th>\n",
              "      <th>Healthy life expectancy</th>\n",
              "      <th>Freedom to make life choices</th>\n",
              "      <th>Generosity</th>\n",
              "      <th>Perceptions of corruption</th>\n",
              "    </tr>\n",
              "  </thead>\n",
              "  <tbody>\n",
              "    <tr>\n",
              "      <th>2017</th>\n",
              "      <td>5.413126</td>\n",
              "      <td>1.005134</td>\n",
              "      <td>0.568586</td>\n",
              "      <td>0.416165</td>\n",
              "      <td>0.243110</td>\n",
              "      <td>0.122225</td>\n",
              "    </tr>\n",
              "    <tr>\n",
              "      <th>2018</th>\n",
              "      <td>5.442455</td>\n",
              "      <td>0.912294</td>\n",
              "      <td>0.616189</td>\n",
              "      <td>0.461629</td>\n",
              "      <td>0.177580</td>\n",
              "      <td>0.112106</td>\n",
              "    </tr>\n",
              "    <tr>\n",
              "      <th>2019</th>\n",
              "      <td>5.486741</td>\n",
              "      <td>0.932098</td>\n",
              "      <td>0.749392</td>\n",
              "      <td>0.398147</td>\n",
              "      <td>0.180203</td>\n",
              "      <td>0.110042</td>\n",
              "    </tr>\n",
              "    <tr>\n",
              "      <th>2020</th>\n",
              "      <td>5.538580</td>\n",
              "      <td>5.437659</td>\n",
              "      <td>0.816179</td>\n",
              "      <td>0.649455</td>\n",
              "      <td>0.788641</td>\n",
              "      <td>-0.019410</td>\n",
              "    </tr>\n",
              "    <tr>\n",
              "      <th>2021</th>\n",
              "      <td>5.562350</td>\n",
              "      <td>0.985329</td>\n",
              "      <td>0.527126</td>\n",
              "      <td>0.793993</td>\n",
              "      <td>-0.019308</td>\n",
              "      <td>0.725643</td>\n",
              "    </tr>\n",
              "  </tbody>\n",
              "</table>\n",
              "</div>"
            ],
            "text/plain": [
              "         Score  GDP per capita  ...  Generosity  Perceptions of corruption\n",
              "2017  5.413126        1.005134  ...    0.243110                   0.122225\n",
              "2018  5.442455        0.912294  ...    0.177580                   0.112106\n",
              "2019  5.486741        0.932098  ...    0.180203                   0.110042\n",
              "2020  5.538580        5.437659  ...    0.788641                  -0.019410\n",
              "2021  5.562350        0.985329  ...   -0.019308                   0.725643\n",
              "\n",
              "[5 rows x 6 columns]"
            ]
          },
          "metadata": {
            "tags": []
          },
          "execution_count": 10
        }
      ]
    },
    {
      "cell_type": "code",
      "metadata": {
        "colab": {
          "base_uri": "https://localhost:8080/"
        },
        "id": "NdZ2WPWJO3ST",
        "outputId": "429537be-2d29-42ba-db46-4cac171c0fe4"
      },
      "source": [
        "# 2017~2019년도(COVID-19 전) 전체 국가의 각 요소별 평균\n",
        "\n",
        "mean1719=df_mean[col_list].iloc[:3].mean()\n",
        "mean1719"
      ],
      "execution_count": 11,
      "outputs": [
        {
          "output_type": "execute_result",
          "data": {
            "text/plain": [
              "Score                           5.447441\n",
              "GDP per capita                  0.949842\n",
              "Healthy life expectancy         0.644722\n",
              "Freedom to make life choices    0.425314\n",
              "Generosity                      0.200298\n",
              "Perceptions of corruption       0.114791\n",
              "dtype: float64"
            ]
          },
          "metadata": {
            "tags": []
          },
          "execution_count": 11
        }
      ]
    },
    {
      "cell_type": "code",
      "metadata": {
        "colab": {
          "base_uri": "https://localhost:8080/"
        },
        "id": "PuLMODxBU1vI",
        "outputId": "f8e4ae57-b2b4-4446-b2a9-0a0f1ba0eddb"
      },
      "source": [
        "# 2020~2021년도(COVID-19 후) 전체 국가의 각 요소별 평균\n",
        "\n",
        "mean20_21=df_mean[col_list].iloc[4:].mean()\n",
        "mean20_21"
      ],
      "execution_count": 17,
      "outputs": [
        {
          "output_type": "execute_result",
          "data": {
            "text/plain": [
              "Score                           5.562350\n",
              "GDP per capita                  0.985329\n",
              "Healthy life expectancy         0.527126\n",
              "Freedom to make life choices    0.793993\n",
              "Generosity                     -0.019308\n",
              "Perceptions of corruption       0.725643\n",
              "dtype: float64"
            ]
          },
          "metadata": {
            "tags": []
          },
          "execution_count": 17
        }
      ]
    },
    {
      "cell_type": "code",
      "metadata": {
        "colab": {
          "base_uri": "https://localhost:8080/",
          "height": 227
        },
        "id": "LcGX-Y-AVYJW",
        "outputId": "ca0760d3-a10e-4db2-fcfe-1b323a5156dc"
      },
      "source": [
        "# COVID-19 전과 후의 각 요소별 평균 차이(변화량)\n",
        "\n",
        "mean_diff=pd.DataFrame(data=mean2021-mean1719)\n",
        "mean_diff"
      ],
      "execution_count": 19,
      "outputs": [
        {
          "output_type": "execute_result",
          "data": {
            "text/html": [
              "<div>\n",
              "<style scoped>\n",
              "    .dataframe tbody tr th:only-of-type {\n",
              "        vertical-align: middle;\n",
              "    }\n",
              "\n",
              "    .dataframe tbody tr th {\n",
              "        vertical-align: top;\n",
              "    }\n",
              "\n",
              "    .dataframe thead th {\n",
              "        text-align: right;\n",
              "    }\n",
              "</style>\n",
              "<table border=\"1\" class=\"dataframe\">\n",
              "  <thead>\n",
              "    <tr style=\"text-align: right;\">\n",
              "      <th></th>\n",
              "      <th>0</th>\n",
              "    </tr>\n",
              "  </thead>\n",
              "  <tbody>\n",
              "    <tr>\n",
              "      <th>Score</th>\n",
              "      <td>0.114909</td>\n",
              "    </tr>\n",
              "    <tr>\n",
              "      <th>GDP per capita</th>\n",
              "      <td>0.035487</td>\n",
              "    </tr>\n",
              "    <tr>\n",
              "      <th>Healthy life expectancy</th>\n",
              "      <td>-0.117596</td>\n",
              "    </tr>\n",
              "    <tr>\n",
              "      <th>Freedom to make life choices</th>\n",
              "      <td>0.368679</td>\n",
              "    </tr>\n",
              "    <tr>\n",
              "      <th>Generosity</th>\n",
              "      <td>-0.219606</td>\n",
              "    </tr>\n",
              "    <tr>\n",
              "      <th>Perceptions of corruption</th>\n",
              "      <td>0.610852</td>\n",
              "    </tr>\n",
              "  </tbody>\n",
              "</table>\n",
              "</div>"
            ],
            "text/plain": [
              "                                     0\n",
              "Score                         0.114909\n",
              "GDP per capita                0.035487\n",
              "Healthy life expectancy      -0.117596\n",
              "Freedom to make life choices  0.368679\n",
              "Generosity                   -0.219606\n",
              "Perceptions of corruption     0.610852"
            ]
          },
          "metadata": {
            "tags": []
          },
          "execution_count": 19
        }
      ]
    },
    {
      "cell_type": "code",
      "metadata": {
        "colab": {
          "base_uri": "https://localhost:8080/"
        },
        "id": "O0L8hTcI2pOJ",
        "outputId": "bb7b8d86-1077-4d03-bd6f-30eaa6dd7b8e"
      },
      "source": [
        "mean2021.tolist()"
      ],
      "execution_count": 22,
      "outputs": [
        {
          "output_type": "execute_result",
          "data": {
            "text/plain": [
              "[5.562349650349651,\n",
              " 0.9853286713286714,\n",
              " 0.5271258741258742,\n",
              " 0.793993006993007,\n",
              " -0.019307692307692303,\n",
              " 0.7256433566433566]"
            ]
          },
          "metadata": {
            "tags": []
          },
          "execution_count": 22
        }
      ]
    },
    {
      "cell_type": "code",
      "metadata": {
        "colab": {
          "base_uri": "https://localhost:8080/"
        },
        "id": "sEcCtvdv3k4P",
        "outputId": "17e54b92-6166-40f8-dbb0-74667c711beb"
      },
      "source": [
        "# 평균에 대한 계산을 한 요소의 이름\n",
        "\n",
        "col_list"
      ],
      "execution_count": 24,
      "outputs": [
        {
          "output_type": "execute_result",
          "data": {
            "text/plain": [
              "['Score',\n",
              " 'GDP per capita',\n",
              " 'Healthy life expectancy',\n",
              " 'Freedom to make life choices',\n",
              " 'Generosity',\n",
              " 'Perceptions of corruption']"
            ]
          },
          "metadata": {
            "tags": []
          },
          "execution_count": 24
        }
      ]
    },
    {
      "cell_type": "code",
      "metadata": {
        "colab": {
          "base_uri": "https://localhost:8080/",
          "height": 418
        },
        "id": "sfyST9cB2sLW",
        "outputId": "e1803e83-f017-4fa3-ef65-44f17aebddea"
      },
      "source": [
        "fig, ax=plt.subplots()\n",
        "\n",
        "width = 0.35\n",
        "index=np.arange(len(col_list))\n",
        "\n",
        "p1=ax.bar(index-width/2, mean1719.tolist(), width, label='17-19', color='orange')\n",
        "p2=ax.bar(index+width/2, mean2021.tolist(), width, label='20-21', color='skyblue')\n",
        "ax.set_xticks(index)\n",
        "ax.set_xticklabels(col_list)\n",
        "plt.xticks(rotation='vertical')\n",
        "\n",
        "ax.legend()\n",
        "\n",
        "# 2017~2019 평균 data 값 분포와 2020~2021 평균 data 값(요소별 평균)의 분포"
      ],
      "execution_count": 25,
      "outputs": [
        {
          "output_type": "execute_result",
          "data": {
            "text/plain": [
              "<matplotlib.legend.Legend at 0x7f9f2ba47150>"
            ]
          },
          "metadata": {
            "tags": []
          },
          "execution_count": 25
        },
        {
          "output_type": "display_data",
          "data": {
            "image/png": "[encoded data removed]",
            "text/plain": [
              "<Figure size 432x288 with 1 Axes>"
            ]
          },
          "metadata": {
            "tags": [],
            "needs_background": "light"
          }
        }
      ]
    },
    {
      "cell_type": "code",
      "metadata": {
        "colab": {
          "base_uri": "https://localhost:8080/",
          "height": 418
        },
        "id": "Yw3vZVKQdHaX",
        "outputId": "dfd04999-e1db-444d-c649-f86d754c1ae8"
      },
      "source": [
        "fig = plt.figure(figsize=(6,4))\n",
        "\n",
        "plt.plot(mean_diff, color='skyblue')\n",
        "plt.xticks(rotation='vertical')"
      ],
      "execution_count": 26,
      "outputs": [
        {
          "output_type": "execute_result",
          "data": {
            "text/plain": [
              "([0, 1, 2, 3, 4, 5], <a list of 6 Text major ticklabel objects>)"
            ]
          },
          "metadata": {
            "tags": []
          },
          "execution_count": 26
        },
        {
          "output_type": "display_data",
          "data": {
            "image/png": "[encoded data removed]",
            "text/plain": [
              "<Figure size 432x288 with 1 Axes>"
            ]
          },
          "metadata": {
            "tags": [],
            "needs_background": "light"
          }
        }
      ]
    },
    {
      "cell_type": "code",
      "metadata": {
        "colab": {
          "base_uri": "https://localhost:8080/",
          "height": 417
        },
        "id": "PEdyEYmTLj3o",
        "outputId": "dc2a9b34-6bfa-4b83-9cc8-7fda26113950"
      },
      "source": [
        "fig, ax=plt.subplots()\n",
        "\n",
        "mean_diff=mean2021-mean1719\n",
        "# 2021-1719 이므로 양수:2021이 더 큰 값, 음수:2021이 더 작은 값\n",
        "ax.bar(index, mean_diff.tolist(), label='diffence', facecolor='tan')\n",
        "ax.set_title('17-19 & 20-21 Difference')\n",
        "ax.set_xticks(index)\n",
        "ax.set_xticklabels(col_list)\n",
        "\n",
        "plt.xticks(rotation='vertical')\n",
        "plt.grid()\n",
        "plt.legend()\n",
        "plt.show()\n",
        "\n",
        "# Happiness Score가 오히려 2021 시기에 증가\n",
        "# -> 코로나와 같은 세계적 재해가 행복 지수에 영향을 주지 않았음을 확인 가능"
      ],
      "execution_count": 27,
      "outputs": [
        {
          "output_type": "display_data",
          "data": {
            "image/png": "[encoded data removed]",
            "text/plain": [
              "<Figure size 432x288 with 1 Axes>"
            ]
          },
          "metadata": {
            "tags": [],
            "needs_background": "light"
          }
        }
      ]
    },
    {
      "cell_type": "code",
      "metadata": {
        "colab": {
          "base_uri": "https://localhost:8080/",
          "height": 364
        },
        "id": "5Y0zgaD1V0wT",
        "outputId": "00e6c1ee-f7b2-40d1-b277-dcdd5cd64515"
      },
      "source": [
        "# East_Asia 국가에 해당하는 row 출력\n",
        "East_Asia2017=df2017[df2017['Regional indicator']=='East Asia']\n",
        "East_Asia2017\n",
        "\n",
        "East_Asia2018=df2018[df2018['Regional indicator']=='East Asia']\n",
        "East_Asia2018\n",
        "\n",
        "East_Asia2019=df2017[df2019['Regional indicator']=='East Asia']\n",
        "East_Asia2019\n",
        "\n",
        "East_Asia2020=df2020[df2020['Regional indicator']=='East Asia']\n",
        "East_Asia2020\n",
        "\n",
        "East_Asia2021=df2021[df2021['Regional indicator']=='East Asia']\n",
        "East_Asia2021"
      ],
      "execution_count": 62,
      "outputs": [
        {
          "output_type": "execute_result",
          "data": {
            "text/html": [
              "<div>\n",
              "<style scoped>\n",
              "    .dataframe tbody tr th:only-of-type {\n",
              "        vertical-align: middle;\n",
              "    }\n",
              "\n",
              "    .dataframe tbody tr th {\n",
              "        vertical-align: top;\n",
              "    }\n",
              "\n",
              "    .dataframe thead th {\n",
              "        text-align: right;\n",
              "    }\n",
              "</style>\n",
              "<table border=\"1\" class=\"dataframe\">\n",
              "  <thead>\n",
              "    <tr style=\"text-align: right;\">\n",
              "      <th></th>\n",
              "      <th>Country</th>\n",
              "      <th>Regional indicator</th>\n",
              "      <th>Score</th>\n",
              "      <th>GDP per capita</th>\n",
              "      <th>Healthy life expectancy</th>\n",
              "      <th>Freedom to make life choices</th>\n",
              "      <th>Generosity</th>\n",
              "      <th>Perceptions of corruption</th>\n",
              "    </tr>\n",
              "  </thead>\n",
              "  <tbody>\n",
              "    <tr>\n",
              "      <th>25</th>\n",
              "      <td>China</td>\n",
              "      <td>East Asia</td>\n",
              "      <td>5.339</td>\n",
              "      <td>1.061</td>\n",
              "      <td>0.665</td>\n",
              "      <td>0.904</td>\n",
              "      <td>-0.146</td>\n",
              "      <td>0.755</td>\n",
              "    </tr>\n",
              "    <tr>\n",
              "      <th>50</th>\n",
              "      <td>Hong Kong S.A.R. of China</td>\n",
              "      <td>East Asia</td>\n",
              "      <td>5.477</td>\n",
              "      <td>1.525</td>\n",
              "      <td>0.893</td>\n",
              "      <td>0.717</td>\n",
              "      <td>0.067</td>\n",
              "      <td>0.403</td>\n",
              "    </tr>\n",
              "    <tr>\n",
              "      <th>62</th>\n",
              "      <td>Japan</td>\n",
              "      <td>East Asia</td>\n",
              "      <td>5.940</td>\n",
              "      <td>1.389</td>\n",
              "      <td>0.838</td>\n",
              "      <td>0.796</td>\n",
              "      <td>-0.258</td>\n",
              "      <td>0.638</td>\n",
              "    </tr>\n",
              "    <tr>\n",
              "      <th>85</th>\n",
              "      <td>Mongolia</td>\n",
              "      <td>East Asia</td>\n",
              "      <td>5.677</td>\n",
              "      <td>0.966</td>\n",
              "      <td>0.442</td>\n",
              "      <td>0.708</td>\n",
              "      <td>0.116</td>\n",
              "      <td>0.856</td>\n",
              "    </tr>\n",
              "    <tr>\n",
              "      <th>118</th>\n",
              "      <td>South Korea</td>\n",
              "      <td>East Asia</td>\n",
              "      <td>5.845</td>\n",
              "      <td>1.403</td>\n",
              "      <td>0.801</td>\n",
              "      <td>0.672</td>\n",
              "      <td>-0.083</td>\n",
              "      <td>0.727</td>\n",
              "    </tr>\n",
              "    <tr>\n",
              "      <th>123</th>\n",
              "      <td>Taiwan</td>\n",
              "      <td>East Asia</td>\n",
              "      <td>6.584</td>\n",
              "      <td>1.480</td>\n",
              "      <td>0.665</td>\n",
              "      <td>0.784</td>\n",
              "      <td>-0.070</td>\n",
              "      <td>0.721</td>\n",
              "    </tr>\n",
              "  </tbody>\n",
              "</table>\n",
              "</div>"
            ],
            "text/plain": [
              "                       Country  ... Perceptions of corruption\n",
              "25                       China  ...                     0.755\n",
              "50   Hong Kong S.A.R. of China  ...                     0.403\n",
              "62                       Japan  ...                     0.638\n",
              "85                    Mongolia  ...                     0.856\n",
              "118                South Korea  ...                     0.727\n",
              "123                     Taiwan  ...                     0.721\n",
              "\n",
              "[6 rows x 8 columns]"
            ]
          },
          "metadata": {
            "tags": []
          },
          "execution_count": 62
        }
      ]
    },
    {
      "cell_type": "code",
      "metadata": {
        "colab": {
          "base_uri": "https://localhost:8080/",
          "height": 364
        },
        "id": "5TDiJX5octG6",
        "outputId": "7dec8d10-8199-42de-de24-0a484825cc60"
      },
      "source": [
        "East_Asia2017"
      ],
      "execution_count": 63,
      "outputs": [
        {
          "output_type": "execute_result",
          "data": {
            "text/html": [
              "<div>\n",
              "<style scoped>\n",
              "    .dataframe tbody tr th:only-of-type {\n",
              "        vertical-align: middle;\n",
              "    }\n",
              "\n",
              "    .dataframe tbody tr th {\n",
              "        vertical-align: top;\n",
              "    }\n",
              "\n",
              "    .dataframe thead th {\n",
              "        text-align: right;\n",
              "    }\n",
              "</style>\n",
              "<table border=\"1\" class=\"dataframe\">\n",
              "  <thead>\n",
              "    <tr style=\"text-align: right;\">\n",
              "      <th></th>\n",
              "      <th>Country</th>\n",
              "      <th>Regional indicator</th>\n",
              "      <th>Score</th>\n",
              "      <th>GDP per capita</th>\n",
              "      <th>Healthy life expectancy</th>\n",
              "      <th>Freedom to make life choices</th>\n",
              "      <th>Generosity</th>\n",
              "      <th>Perceptions of corruption</th>\n",
              "    </tr>\n",
              "  </thead>\n",
              "  <tbody>\n",
              "    <tr>\n",
              "      <th>25</th>\n",
              "      <td>China</td>\n",
              "      <td>East Asia</td>\n",
              "      <td>5.273</td>\n",
              "      <td>1.081166</td>\n",
              "      <td>0.741416</td>\n",
              "      <td>0.472788</td>\n",
              "      <td>0.028807</td>\n",
              "      <td>0.022794</td>\n",
              "    </tr>\n",
              "    <tr>\n",
              "      <th>50</th>\n",
              "      <td>Hong Kong S.A.R., China</td>\n",
              "      <td>East Asia</td>\n",
              "      <td>5.472</td>\n",
              "      <td>1.551675</td>\n",
              "      <td>0.943062</td>\n",
              "      <td>0.490969</td>\n",
              "      <td>0.374466</td>\n",
              "      <td>0.293934</td>\n",
              "    </tr>\n",
              "    <tr>\n",
              "      <th>62</th>\n",
              "      <td>Japan</td>\n",
              "      <td>East Asia</td>\n",
              "      <td>5.920</td>\n",
              "      <td>1.416915</td>\n",
              "      <td>0.913476</td>\n",
              "      <td>0.505626</td>\n",
              "      <td>0.120573</td>\n",
              "      <td>0.163761</td>\n",
              "    </tr>\n",
              "    <tr>\n",
              "      <th>85</th>\n",
              "      <td>Mongolia</td>\n",
              "      <td>East Asia</td>\n",
              "      <td>4.955</td>\n",
              "      <td>1.027236</td>\n",
              "      <td>0.557783</td>\n",
              "      <td>0.394144</td>\n",
              "      <td>0.338464</td>\n",
              "      <td>0.032902</td>\n",
              "    </tr>\n",
              "    <tr>\n",
              "      <th>118</th>\n",
              "      <td>South Korea</td>\n",
              "      <td>East Asia</td>\n",
              "      <td>5.838</td>\n",
              "      <td>1.401678</td>\n",
              "      <td>0.900214</td>\n",
              "      <td>0.257922</td>\n",
              "      <td>0.206674</td>\n",
              "      <td>0.063283</td>\n",
              "    </tr>\n",
              "    <tr>\n",
              "      <th>123</th>\n",
              "      <td>Taiwan</td>\n",
              "      <td>East Asia</td>\n",
              "      <td>6.422</td>\n",
              "      <td>1.433627</td>\n",
              "      <td>0.793984</td>\n",
              "      <td>0.361467</td>\n",
              "      <td>0.258360</td>\n",
              "      <td>0.063829</td>\n",
              "    </tr>\n",
              "  </tbody>\n",
              "</table>\n",
              "</div>"
            ],
            "text/plain": [
              "                     Country  ... Perceptions of corruption\n",
              "25                     China  ...                  0.022794\n",
              "50   Hong Kong S.A.R., China  ...                  0.293934\n",
              "62                     Japan  ...                  0.163761\n",
              "85                  Mongolia  ...                  0.032902\n",
              "118              South Korea  ...                  0.063283\n",
              "123                   Taiwan  ...                  0.063829\n",
              "\n",
              "[6 rows x 8 columns]"
            ]
          },
          "metadata": {
            "tags": []
          },
          "execution_count": 63
        }
      ]
    },
    {
      "cell_type": "code",
      "metadata": {
        "colab": {
          "base_uri": "https://localhost:8080/",
          "height": 364
        },
        "id": "3IzpUhILc4Uf",
        "outputId": "64bdff18-1006-417a-c1c0-f67297d9edbb"
      },
      "source": [
        "East_Asia2018"
      ],
      "execution_count": 64,
      "outputs": [
        {
          "output_type": "execute_result",
          "data": {
            "text/html": [
              "<div>\n",
              "<style scoped>\n",
              "    .dataframe tbody tr th:only-of-type {\n",
              "        vertical-align: middle;\n",
              "    }\n",
              "\n",
              "    .dataframe tbody tr th {\n",
              "        vertical-align: top;\n",
              "    }\n",
              "\n",
              "    .dataframe thead th {\n",
              "        text-align: right;\n",
              "    }\n",
              "</style>\n",
              "<table border=\"1\" class=\"dataframe\">\n",
              "  <thead>\n",
              "    <tr style=\"text-align: right;\">\n",
              "      <th></th>\n",
              "      <th>Country</th>\n",
              "      <th>Regional indicator</th>\n",
              "      <th>Score</th>\n",
              "      <th>GDP per capita</th>\n",
              "      <th>Healthy life expectancy</th>\n",
              "      <th>Freedom to make life choices</th>\n",
              "      <th>Generosity</th>\n",
              "      <th>Perceptions of corruption</th>\n",
              "    </tr>\n",
              "  </thead>\n",
              "  <tbody>\n",
              "    <tr>\n",
              "      <th>25</th>\n",
              "      <td>China</td>\n",
              "      <td>East Asia</td>\n",
              "      <td>5.246</td>\n",
              "      <td>0.989</td>\n",
              "      <td>0.799</td>\n",
              "      <td>0.597</td>\n",
              "      <td>0.029</td>\n",
              "      <td>0.103</td>\n",
              "    </tr>\n",
              "    <tr>\n",
              "      <th>50</th>\n",
              "      <td>Hong Kong S.A.R., China</td>\n",
              "      <td>East Asia</td>\n",
              "      <td>5.430</td>\n",
              "      <td>1.405</td>\n",
              "      <td>1.030</td>\n",
              "      <td>0.524</td>\n",
              "      <td>0.246</td>\n",
              "      <td>0.291</td>\n",
              "    </tr>\n",
              "    <tr>\n",
              "      <th>62</th>\n",
              "      <td>Japan</td>\n",
              "      <td>East Asia</td>\n",
              "      <td>5.915</td>\n",
              "      <td>1.294</td>\n",
              "      <td>0.988</td>\n",
              "      <td>0.553</td>\n",
              "      <td>0.079</td>\n",
              "      <td>0.150</td>\n",
              "    </tr>\n",
              "    <tr>\n",
              "      <th>85</th>\n",
              "      <td>Mongolia</td>\n",
              "      <td>East Asia</td>\n",
              "      <td>5.125</td>\n",
              "      <td>0.914</td>\n",
              "      <td>0.575</td>\n",
              "      <td>0.395</td>\n",
              "      <td>0.253</td>\n",
              "      <td>0.032</td>\n",
              "    </tr>\n",
              "    <tr>\n",
              "      <th>118</th>\n",
              "      <td>South Korea</td>\n",
              "      <td>East Asia</td>\n",
              "      <td>5.875</td>\n",
              "      <td>1.266</td>\n",
              "      <td>0.955</td>\n",
              "      <td>0.244</td>\n",
              "      <td>0.175</td>\n",
              "      <td>0.051</td>\n",
              "    </tr>\n",
              "    <tr>\n",
              "      <th>123</th>\n",
              "      <td>Taiwan</td>\n",
              "      <td>East Asia</td>\n",
              "      <td>6.441</td>\n",
              "      <td>1.365</td>\n",
              "      <td>0.857</td>\n",
              "      <td>0.418</td>\n",
              "      <td>0.151</td>\n",
              "      <td>0.078</td>\n",
              "    </tr>\n",
              "  </tbody>\n",
              "</table>\n",
              "</div>"
            ],
            "text/plain": [
              "                     Country  ... Perceptions of corruption\n",
              "25                     China  ...                     0.103\n",
              "50   Hong Kong S.A.R., China  ...                     0.291\n",
              "62                     Japan  ...                     0.150\n",
              "85                  Mongolia  ...                     0.032\n",
              "118              South Korea  ...                     0.051\n",
              "123                   Taiwan  ...                     0.078\n",
              "\n",
              "[6 rows x 8 columns]"
            ]
          },
          "metadata": {
            "tags": []
          },
          "execution_count": 64
        }
      ]
    },
    {
      "cell_type": "code",
      "metadata": {
        "colab": {
          "base_uri": "https://localhost:8080/",
          "height": 364
        },
        "id": "KAHeoHMyc_2d",
        "outputId": "9e02b38c-11a3-4882-af1b-61710ab430d9"
      },
      "source": [
        "East_Asia2019"
      ],
      "execution_count": 65,
      "outputs": [
        {
          "output_type": "execute_result",
          "data": {
            "text/html": [
              "<div>\n",
              "<style scoped>\n",
              "    .dataframe tbody tr th:only-of-type {\n",
              "        vertical-align: middle;\n",
              "    }\n",
              "\n",
              "    .dataframe tbody tr th {\n",
              "        vertical-align: top;\n",
              "    }\n",
              "\n",
              "    .dataframe thead th {\n",
              "        text-align: right;\n",
              "    }\n",
              "</style>\n",
              "<table border=\"1\" class=\"dataframe\">\n",
              "  <thead>\n",
              "    <tr style=\"text-align: right;\">\n",
              "      <th></th>\n",
              "      <th>Country</th>\n",
              "      <th>Regional indicator</th>\n",
              "      <th>Score</th>\n",
              "      <th>GDP per capita</th>\n",
              "      <th>Healthy life expectancy</th>\n",
              "      <th>Freedom to make life choices</th>\n",
              "      <th>Generosity</th>\n",
              "      <th>Perceptions of corruption</th>\n",
              "    </tr>\n",
              "  </thead>\n",
              "  <tbody>\n",
              "    <tr>\n",
              "      <th>25</th>\n",
              "      <td>China</td>\n",
              "      <td>East Asia</td>\n",
              "      <td>5.273</td>\n",
              "      <td>1.081166</td>\n",
              "      <td>0.741416</td>\n",
              "      <td>0.472788</td>\n",
              "      <td>0.028807</td>\n",
              "      <td>0.022794</td>\n",
              "    </tr>\n",
              "    <tr>\n",
              "      <th>50</th>\n",
              "      <td>Hong Kong S.A.R., China</td>\n",
              "      <td>East Asia</td>\n",
              "      <td>5.472</td>\n",
              "      <td>1.551675</td>\n",
              "      <td>0.943062</td>\n",
              "      <td>0.490969</td>\n",
              "      <td>0.374466</td>\n",
              "      <td>0.293934</td>\n",
              "    </tr>\n",
              "    <tr>\n",
              "      <th>62</th>\n",
              "      <td>Japan</td>\n",
              "      <td>East Asia</td>\n",
              "      <td>5.920</td>\n",
              "      <td>1.416915</td>\n",
              "      <td>0.913476</td>\n",
              "      <td>0.505626</td>\n",
              "      <td>0.120573</td>\n",
              "      <td>0.163761</td>\n",
              "    </tr>\n",
              "    <tr>\n",
              "      <th>85</th>\n",
              "      <td>Mongolia</td>\n",
              "      <td>East Asia</td>\n",
              "      <td>4.955</td>\n",
              "      <td>1.027236</td>\n",
              "      <td>0.557783</td>\n",
              "      <td>0.394144</td>\n",
              "      <td>0.338464</td>\n",
              "      <td>0.032902</td>\n",
              "    </tr>\n",
              "    <tr>\n",
              "      <th>118</th>\n",
              "      <td>South Korea</td>\n",
              "      <td>East Asia</td>\n",
              "      <td>5.838</td>\n",
              "      <td>1.401678</td>\n",
              "      <td>0.900214</td>\n",
              "      <td>0.257922</td>\n",
              "      <td>0.206674</td>\n",
              "      <td>0.063283</td>\n",
              "    </tr>\n",
              "    <tr>\n",
              "      <th>123</th>\n",
              "      <td>Taiwan</td>\n",
              "      <td>East Asia</td>\n",
              "      <td>6.422</td>\n",
              "      <td>1.433627</td>\n",
              "      <td>0.793984</td>\n",
              "      <td>0.361467</td>\n",
              "      <td>0.258360</td>\n",
              "      <td>0.063829</td>\n",
              "    </tr>\n",
              "  </tbody>\n",
              "</table>\n",
              "</div>"
            ],
            "text/plain": [
              "                     Country  ... Perceptions of corruption\n",
              "25                     China  ...                  0.022794\n",
              "50   Hong Kong S.A.R., China  ...                  0.293934\n",
              "62                     Japan  ...                  0.163761\n",
              "85                  Mongolia  ...                  0.032902\n",
              "118              South Korea  ...                  0.063283\n",
              "123                   Taiwan  ...                  0.063829\n",
              "\n",
              "[6 rows x 8 columns]"
            ]
          },
          "metadata": {
            "tags": []
          },
          "execution_count": 65
        }
      ]
    },
    {
      "cell_type": "code",
      "metadata": {
        "colab": {
          "base_uri": "https://localhost:8080/",
          "height": 364
        },
        "id": "nZSTiUOgdCU4",
        "outputId": "c0f016ac-2f60-45a7-eb65-91a7ade69986"
      },
      "source": [
        "East_Asia2020"
      ],
      "execution_count": 66,
      "outputs": [
        {
          "output_type": "execute_result",
          "data": {
            "text/html": [
              "<div>\n",
              "<style scoped>\n",
              "    .dataframe tbody tr th:only-of-type {\n",
              "        vertical-align: middle;\n",
              "    }\n",
              "\n",
              "    .dataframe tbody tr th {\n",
              "        vertical-align: top;\n",
              "    }\n",
              "\n",
              "    .dataframe thead th {\n",
              "        text-align: right;\n",
              "    }\n",
              "</style>\n",
              "<table border=\"1\" class=\"dataframe\">\n",
              "  <thead>\n",
              "    <tr style=\"text-align: right;\">\n",
              "      <th></th>\n",
              "      <th>Country</th>\n",
              "      <th>Regional indicator</th>\n",
              "      <th>Score</th>\n",
              "      <th>GDP per capita</th>\n",
              "      <th>Healthy life expectancy</th>\n",
              "      <th>Freedom to make life choices</th>\n",
              "      <th>Generosity</th>\n",
              "      <th>Perceptions of corruption</th>\n",
              "    </tr>\n",
              "  </thead>\n",
              "  <tbody>\n",
              "    <tr>\n",
              "      <th>25</th>\n",
              "      <td>China</td>\n",
              "      <td>East Asia</td>\n",
              "      <td>5.1239</td>\n",
              "      <td>5.073133</td>\n",
              "      <td>0.798761</td>\n",
              "      <td>0.692892</td>\n",
              "      <td>0.898518</td>\n",
              "      <td>-0.181426</td>\n",
              "    </tr>\n",
              "    <tr>\n",
              "      <th>50</th>\n",
              "      <td>Hong Kong S.A.R. of China</td>\n",
              "      <td>East Asia</td>\n",
              "      <td>5.5104</td>\n",
              "      <td>5.420203</td>\n",
              "      <td>0.845969</td>\n",
              "      <td>0.767717</td>\n",
              "      <td>0.779834</td>\n",
              "      <td>0.134980</td>\n",
              "    </tr>\n",
              "    <tr>\n",
              "      <th>62</th>\n",
              "      <td>Japan</td>\n",
              "      <td>East Asia</td>\n",
              "      <td>5.8708</td>\n",
              "      <td>5.789672</td>\n",
              "      <td>0.883546</td>\n",
              "      <td>0.750010</td>\n",
              "      <td>0.809961</td>\n",
              "      <td>-0.246910</td>\n",
              "    </tr>\n",
              "    <tr>\n",
              "      <th>85</th>\n",
              "      <td>Mongolia</td>\n",
              "      <td>East Asia</td>\n",
              "      <td>5.4562</td>\n",
              "      <td>5.377186</td>\n",
              "      <td>0.937142</td>\n",
              "      <td>0.623045</td>\n",
              "      <td>0.693351</td>\n",
              "      <td>0.098094</td>\n",
              "    </tr>\n",
              "    <tr>\n",
              "      <th>118</th>\n",
              "      <td>South Korea</td>\n",
              "      <td>East Asia</td>\n",
              "      <td>5.8724</td>\n",
              "      <td>5.785993</td>\n",
              "      <td>0.799387</td>\n",
              "      <td>0.736027</td>\n",
              "      <td>0.612965</td>\n",
              "      <td>-0.043404</td>\n",
              "    </tr>\n",
              "    <tr>\n",
              "      <th>123</th>\n",
              "      <td>Taiwan</td>\n",
              "      <td>East Asia</td>\n",
              "      <td>6.4554</td>\n",
              "      <td>6.378686</td>\n",
              "      <td>0.894309</td>\n",
              "      <td>0.696000</td>\n",
              "      <td>0.771530</td>\n",
              "      <td>-0.073199</td>\n",
              "    </tr>\n",
              "  </tbody>\n",
              "</table>\n",
              "</div>"
            ],
            "text/plain": [
              "                       Country  ... Perceptions of corruption\n",
              "25                       China  ...                 -0.181426\n",
              "50   Hong Kong S.A.R. of China  ...                  0.134980\n",
              "62                       Japan  ...                 -0.246910\n",
              "85                    Mongolia  ...                  0.098094\n",
              "118                South Korea  ...                 -0.043404\n",
              "123                     Taiwan  ...                 -0.073199\n",
              "\n",
              "[6 rows x 8 columns]"
            ]
          },
          "metadata": {
            "tags": []
          },
          "execution_count": 66
        }
      ]
    },
    {
      "cell_type": "code",
      "metadata": {
        "colab": {
          "base_uri": "https://localhost:8080/"
        },
        "id": "S_ePJcITZtjT",
        "outputId": "ab743d06-4665-49b5-a0a6-108aeb6a99ed"
      },
      "source": [
        "# 동아시아 지역에 속하는 국가의 수=6\n",
        "\n",
        "num_East_Asia=len(East_Asia2017)\n",
        "num_East_Asia"
      ],
      "execution_count": 67,
      "outputs": [
        {
          "output_type": "execute_result",
          "data": {
            "text/plain": [
              "6"
            ]
          },
          "metadata": {
            "tags": []
          },
          "execution_count": 67
        }
      ]
    },
    {
      "cell_type": "code",
      "metadata": {
        "id": "Uvq2vKihQNZO"
      },
      "source": [
        "# 각 연도별 동아시아 국가의 Happiness Score 평균\n",
        "\n",
        "East_Asia2017_mean=East_Asia2017['Score'].mean()\n",
        "East_Asia2018_mean=East_Asia2018['Score'].mean()\n",
        "East_Asia2019_mean=East_Asia2019['Score'].mean()\n",
        "\n",
        "East_Asia2020_mean=East_Asia2020['Score'].mean()\n",
        "East_Asia2021_mean=East_Asia2021['Score'].mean()"
      ],
      "execution_count": 70,
      "outputs": []
    },
    {
      "cell_type": "code",
      "metadata": {
        "colab": {
          "base_uri": "https://localhost:8080/"
        },
        "id": "ECS0YLZ5QnCb",
        "outputId": "2397df5d-adf6-4263-b0e0-f258d142fe91"
      },
      "source": [
        "# 동아시아 국가의 Happiness Score 평균의  2017~2019년과 2020~2021년에 대한 평균 \n",
        "\n",
        "East_Asia_mean_1719=np.mean([East_Asia2017_mean, East_Asia2018_mean, East_Asia2019_mean])\n",
        "East_Asia_mean_2021=np.mean([East_Asia2020_mean, East_Asia2021_mean])\n",
        "\n",
        "print(\"East_Asia_mean_1719: \", East_Asia_mean_1719)\n",
        "print(\"East_Asia_mean_2021: \", East_Asia_mean_2021)"
      ],
      "execution_count": 74,
      "outputs": [
        {
          "output_type": "stream",
          "text": [
            "East_Asia_mean_1719:  5.655111070777779\n",
            "East_Asia_mean_2021:  5.762591641083333\n"
          ],
          "name": "stdout"
        }
      ]
    },
    {
      "cell_type": "code",
      "metadata": {
        "colab": {
          "base_uri": "https://localhost:8080/",
          "height": 336
        },
        "id": "40ka9XbdRY5W",
        "outputId": "66b8b018-725f-45ff-82ad-974ea51fbf43"
      },
      "source": [
        "fig, ax=plt.subplots(figsize=(8,5))\n",
        "\n",
        "ax.bar(['2017-2019', '2020-2021'], [East_Asia_mean_1719, East_Asia_mean_2021], width=0.6, color='tan')\n",
        "ax.set_yticks(([0.5, 1.0, 1.5, 2.0, 2.5, 3.0, 3.5, 4.0, 4.5, 5.0, 5.5, 6.0]))\n",
        "ax.axhline(East_Asia_mean_1719, color='red', linewidth=1.5)\n",
        "ax.set_title(\"East_Asia's Happiness Score gap Before and after COVID-19\")\n",
        "\n",
        "plt.grid()\n",
        "plt.show()\n",
        "\n",
        "# 동아시아 국가에 한정되어서도, 2017~2019년에 비해 2020~2021년에 오히려 Happiness Score가 증가했음을 알 수 있음\n",
        "\n",
        "# gap만큼의 수치를 그래프에 표시하는 방법!!!!"
      ],
      "execution_count": 110,
      "outputs": [
        {
          "output_type": "display_data",
          "data": {
            "image/png": "[encoded data removed]",
            "text/plain": [
              "<Figure size 576x360 with 1 Axes>"
            ]
          },
          "metadata": {
            "tags": [],
            "needs_background": "light"
          }
        }
      ]
    },
    {
      "cell_type": "code",
      "metadata": {
        "colab": {
          "base_uri": "https://localhost:8080/"
        },
        "id": "gUjzblDGP1hf",
        "outputId": "b18a29de-2a01-4837-a9cc-198692187425"
      },
      "source": [
        "# 2020년 전후 전체 국가와 동아시아 국가에 대한 Happiness Score 증감 크기\n",
        "\n",
        "All_country_diff=mean_diff.loc['Score']\n",
        "East_Asia_diff=(East_Asia_mean_2021)-(East_Asia_mean_1719)\n",
        "Score_Difference=(East_Asia_diff)-(All_country_diff)\n",
        "print(\"All_country_diff Score: \", All_country_diff)\n",
        "print(\"East_Asia_diff Score: \", East_Asia_diff)\n",
        "print(\"Score Difference: \", Score_Difference)"
      ],
      "execution_count": 149,
      "outputs": [
        {
          "output_type": "stream",
          "text": [
            "All_country_diff Score:  0.11490909224475665\n",
            "East_Asia_diff Score:  0.10748057030555369\n",
            "Score Difference:  -0.007428521939202959\n"
          ],
          "name": "stdout"
        }
      ]
    },
    {
      "cell_type": "code",
      "metadata": {
        "colab": {
          "base_uri": "https://localhost:8080/",
          "height": 776
        },
        "id": "4v7ySoJHdF1D",
        "outputId": "804704a8-cd4c-4156-b89a-bc455f6cffdf"
      },
      "source": [
        "fig, ax=plt.subplots(figsize=(9,6))\n",
        "plt.grid()\n",
        "ax.bar(['All_country', 'East_Asia'], [All_country_diff, East_Asia_diff], width=0.6, color='tan')\n",
        "# ax.set_yticks(([0.5, 1.0, 1.5, 2.0, 2.5, 3.0, 3.5, 4.0, 4.5, 5.0, 5.5, 6.0]))\n",
        "# ax.set_yticks([0.03, 0.06, 0.09, 0.12, 0.15])\n",
        "ax.set_title(\"All_country & East_Asia Happiness Score gap Before and after COVID-19\")\n",
        "ax.set_yticks(np.arange(0.01, 0.13, 0.01))\n",
        "ax.set_xticks([1, 2], labels=['All_country', 'East_Asia'])\n",
        "# ax.set_yticks(np.arange(0.01, 0.15))\n",
        "ax.axhline(East_Asia_mean_1719, color='red', linewidth=1.5)\n",
        "# ax.set_title(\"All_country & East_Asia Happiness Score gap Before and after COVID-19\")\n",
        "\n",
        "plt.show()\n",
        "\n",
        "# # 2020년 전후 전체 국가와 동아시아 국가에 대한 Happiness Score 증감 크기\n",
        "# -> 동아시아 국가에서 Happiness Score에 대한 큰 변화가 없음을 알 수 있다."
      ],
      "execution_count": 201,
      "outputs": [
        {
          "output_type": "error",
          "ename": "TypeError",
          "evalue": "ignored",
          "traceback": [
            "\u001b[0;31m---------------------------------------------------------------------------\u001b[0m",
            "\u001b[0;31mTypeError\u001b[0m                                 Traceback (most recent call last)",
            "\u001b[0;32m<ipython-input-201-f0409fb4c18a>\u001b[0m in \u001b[0;36m<module>\u001b[0;34m()\u001b[0m\n\u001b[1;32m      6\u001b[0m \u001b[0max\u001b[0m\u001b[0;34m.\u001b[0m\u001b[0mset_title\u001b[0m\u001b[0;34m(\u001b[0m\u001b[0;34m\"All_country & East_Asia Happiness Score gap Before and after COVID-19\"\u001b[0m\u001b[0;34m)\u001b[0m\u001b[0;34m\u001b[0m\u001b[0;34m\u001b[0m\u001b[0m\n\u001b[1;32m      7\u001b[0m \u001b[0max\u001b[0m\u001b[0;34m.\u001b[0m\u001b[0mset_yticks\u001b[0m\u001b[0;34m(\u001b[0m\u001b[0mnp\u001b[0m\u001b[0;34m.\u001b[0m\u001b[0marange\u001b[0m\u001b[0;34m(\u001b[0m\u001b[0;36m0.01\u001b[0m\u001b[0;34m,\u001b[0m \u001b[0;36m0.13\u001b[0m\u001b[0;34m,\u001b[0m \u001b[0;36m0.01\u001b[0m\u001b[0;34m)\u001b[0m\u001b[0;34m)\u001b[0m\u001b[0;34m\u001b[0m\u001b[0;34m\u001b[0m\u001b[0m\n\u001b[0;32m----> 8\u001b[0;31m \u001b[0max\u001b[0m\u001b[0;34m.\u001b[0m\u001b[0mset_xticks\u001b[0m\u001b[0;34m(\u001b[0m\u001b[0;34m[\u001b[0m\u001b[0;36m1\u001b[0m\u001b[0;34m,\u001b[0m \u001b[0;36m2\u001b[0m\u001b[0;34m]\u001b[0m\u001b[0;34m,\u001b[0m \u001b[0mlabels\u001b[0m\u001b[0;34m=\u001b[0m\u001b[0;34m[\u001b[0m\u001b[0;34m'All_country'\u001b[0m\u001b[0;34m,\u001b[0m \u001b[0;34m'East_Asia'\u001b[0m\u001b[0;34m]\u001b[0m\u001b[0;34m)\u001b[0m\u001b[0;34m\u001b[0m\u001b[0;34m\u001b[0m\u001b[0m\n\u001b[0m\u001b[1;32m      9\u001b[0m \u001b[0;31m# ax.set_yticks(np.arange(0.01, 0.15))\u001b[0m\u001b[0;34m\u001b[0m\u001b[0;34m\u001b[0m\u001b[0;34m\u001b[0m\u001b[0m\n\u001b[1;32m     10\u001b[0m \u001b[0max\u001b[0m\u001b[0;34m.\u001b[0m\u001b[0maxhline\u001b[0m\u001b[0;34m(\u001b[0m\u001b[0mEast_Asia_mean_1719\u001b[0m\u001b[0;34m,\u001b[0m \u001b[0mcolor\u001b[0m\u001b[0;34m=\u001b[0m\u001b[0;34m'red'\u001b[0m\u001b[0;34m,\u001b[0m \u001b[0mlinewidth\u001b[0m\u001b[0;34m=\u001b[0m\u001b[0;36m1.5\u001b[0m\u001b[0;34m)\u001b[0m\u001b[0;34m\u001b[0m\u001b[0;34m\u001b[0m\u001b[0m\n",
            "\u001b[0;32m/usr/local/lib/python3.7/dist-packages/matplotlib/cbook/deprecation.py\u001b[0m in \u001b[0;36mwrapper\u001b[0;34m(*args, **kwargs)\u001b[0m\n\u001b[1;32m    391\u001b[0m     \u001b[0;34m@\u001b[0m\u001b[0mfunctools\u001b[0m\u001b[0;34m.\u001b[0m\u001b[0mwraps\u001b[0m\u001b[0;34m(\u001b[0m\u001b[0mfunc\u001b[0m\u001b[0;34m)\u001b[0m\u001b[0;34m\u001b[0m\u001b[0;34m\u001b[0m\u001b[0m\n\u001b[1;32m    392\u001b[0m     \u001b[0;32mdef\u001b[0m \u001b[0mwrapper\u001b[0m\u001b[0;34m(\u001b[0m\u001b[0;34m*\u001b[0m\u001b[0margs\u001b[0m\u001b[0;34m,\u001b[0m \u001b[0;34m**\u001b[0m\u001b[0mkwargs\u001b[0m\u001b[0;34m)\u001b[0m\u001b[0;34m:\u001b[0m\u001b[0;34m\u001b[0m\u001b[0;34m\u001b[0m\u001b[0m\n\u001b[0;32m--> 393\u001b[0;31m         \u001b[0mbound\u001b[0m \u001b[0;34m=\u001b[0m \u001b[0msignature\u001b[0m\u001b[0;34m.\u001b[0m\u001b[0mbind\u001b[0m\u001b[0;34m(\u001b[0m\u001b[0;34m*\u001b[0m\u001b[0margs\u001b[0m\u001b[0;34m,\u001b[0m \u001b[0;34m**\u001b[0m\u001b[0mkwargs\u001b[0m\u001b[0;34m)\u001b[0m\u001b[0;34m\u001b[0m\u001b[0;34m\u001b[0m\u001b[0m\n\u001b[0m\u001b[1;32m    394\u001b[0m         \u001b[0;32mif\u001b[0m \u001b[0mname\u001b[0m \u001b[0;32min\u001b[0m \u001b[0mbound\u001b[0m\u001b[0;34m.\u001b[0m\u001b[0marguments\u001b[0m \u001b[0;32mand\u001b[0m \u001b[0mname\u001b[0m \u001b[0;32mnot\u001b[0m \u001b[0;32min\u001b[0m \u001b[0mkwargs\u001b[0m\u001b[0;34m:\u001b[0m\u001b[0;34m\u001b[0m\u001b[0;34m\u001b[0m\u001b[0m\n\u001b[1;32m    395\u001b[0m             warn_deprecated(\n",
            "\u001b[0;32m/usr/lib/python3.7/inspect.py\u001b[0m in \u001b[0;36mbind\u001b[0;34m(*args, **kwargs)\u001b[0m\n\u001b[1;32m   3013\u001b[0m         \u001b[0;32mif\u001b[0m \u001b[0mthe\u001b[0m \u001b[0mpassed\u001b[0m \u001b[0marguments\u001b[0m \u001b[0mcan\u001b[0m \u001b[0;32mnot\u001b[0m \u001b[0mbe\u001b[0m \u001b[0mbound\u001b[0m\u001b[0;34m.\u001b[0m\u001b[0;34m\u001b[0m\u001b[0;34m\u001b[0m\u001b[0m\n\u001b[1;32m   3014\u001b[0m         \"\"\"\n\u001b[0;32m-> 3015\u001b[0;31m         \u001b[0;32mreturn\u001b[0m \u001b[0margs\u001b[0m\u001b[0;34m[\u001b[0m\u001b[0;36m0\u001b[0m\u001b[0;34m]\u001b[0m\u001b[0;34m.\u001b[0m\u001b[0m_bind\u001b[0m\u001b[0;34m(\u001b[0m\u001b[0margs\u001b[0m\u001b[0;34m[\u001b[0m\u001b[0;36m1\u001b[0m\u001b[0;34m:\u001b[0m\u001b[0;34m]\u001b[0m\u001b[0;34m,\u001b[0m \u001b[0mkwargs\u001b[0m\u001b[0;34m)\u001b[0m\u001b[0;34m\u001b[0m\u001b[0;34m\u001b[0m\u001b[0m\n\u001b[0m\u001b[1;32m   3016\u001b[0m \u001b[0;34m\u001b[0m\u001b[0m\n\u001b[1;32m   3017\u001b[0m     \u001b[0;32mdef\u001b[0m \u001b[0mbind_partial\u001b[0m\u001b[0;34m(\u001b[0m\u001b[0;34m*\u001b[0m\u001b[0margs\u001b[0m\u001b[0;34m,\u001b[0m \u001b[0;34m**\u001b[0m\u001b[0mkwargs\u001b[0m\u001b[0;34m)\u001b[0m\u001b[0;34m:\u001b[0m\u001b[0;34m\u001b[0m\u001b[0;34m\u001b[0m\u001b[0m\n",
            "\u001b[0;32m/usr/lib/python3.7/inspect.py\u001b[0m in \u001b[0;36m_bind\u001b[0;34m(self, args, kwargs, partial)\u001b[0m\n\u001b[1;32m   3004\u001b[0m                 raise TypeError(\n\u001b[1;32m   3005\u001b[0m                     'got an unexpected keyword argument {arg!r}'.format(\n\u001b[0;32m-> 3006\u001b[0;31m                         arg=next(iter(kwargs))))\n\u001b[0m\u001b[1;32m   3007\u001b[0m \u001b[0;34m\u001b[0m\u001b[0m\n\u001b[1;32m   3008\u001b[0m         \u001b[0;32mreturn\u001b[0m \u001b[0mself\u001b[0m\u001b[0;34m.\u001b[0m\u001b[0m_bound_arguments_cls\u001b[0m\u001b[0;34m(\u001b[0m\u001b[0mself\u001b[0m\u001b[0;34m,\u001b[0m \u001b[0marguments\u001b[0m\u001b[0;34m)\u001b[0m\u001b[0;34m\u001b[0m\u001b[0;34m\u001b[0m\u001b[0m\n",
            "\u001b[0;31mTypeError\u001b[0m: got an unexpected keyword argument 'labels'"
          ]
        },
        {
          "output_type": "display_data",
          "data": {
            "image/png": "[encoded data removed]",
            "text/plain": [
              "<Figure size 648x432 with 1 Axes>"
            ]
          },
          "metadata": {
            "tags": [],
            "needs_background": "light"
          }
        }
      ]
    },
    {
      "cell_type": "code",
      "metadata": {
        "id": "ykxm61I0g4I4"
      },
      "source": [
        ""
      ],
      "execution_count": null,
      "outputs": []
    }
  ]
}