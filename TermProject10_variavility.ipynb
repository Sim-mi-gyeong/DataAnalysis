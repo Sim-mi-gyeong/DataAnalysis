{
  "nbformat": 4,
  "nbformat_minor": 0,
  "metadata": {
    "colab": {
      "name": "TermProject10-variavility.ipynb",
      "provenance": [],
      "collapsed_sections": [],
      "authorship_tag": "ABX9TyNZU88JLQQVMjr0iCibVXDn",
      "include_colab_link": true
    },
    "kernelspec": {
      "display_name": "Python 3",
      "name": "python3"
    },
    "language_info": {
      "name": "python"
    }
  },
  "cells": [
    {
      "cell_type": "markdown",
      "metadata": {
        "id": "view-in-github",
        "colab_type": "text"
      },
      "source": [
        "<a href=\"https://colab.research.google.com/github/Sim-mi-gyeong/DataAnalysis/blob/main/TermProject10_variavility.ipynb\" target=\"_parent\"><img src=\"https://colab.research.google.com/assets/colab-badge.svg\" alt=\"Open In Colab\"/></a>"
      ]
    },
    {
      "cell_type": "code",
      "metadata": {
        "id": "XLNfu92XND9a"
      },
      "source": [
        "import numpy as np\n",
        "import pandas as pd\n",
        "import seaborn as sns\n",
        "import matplotlib.pyplot as plt\n",
        "import plotly.graph_objs as go\n",
        "\n",
        "import warnings\n",
        "warnings.filterwarnings(\"ignore\")"
      ],
      "execution_count": null,
      "outputs": []
    },
    {
      "cell_type": "code",
      "metadata": {
        "colab": {
          "background_save": true,
          "base_uri": "https://localhost:8080/"
        },
        "id": "L2c9nteXNHHb",
        "outputId": "b2d02ede-bdce-40b4-e21b-5a0da51c685a"
      },
      "source": [
        "from google.colab import drive\n",
        "drive.mount('/content/drive')"
      ],
      "execution_count": null,
      "outputs": [
        {
          "output_type": "stream",
          "text": [
            "Mounted at /content/drive\n"
          ],
          "name": "stdout"
        }
      ]
    },
    {
      "cell_type": "code",
      "metadata": {
        "id": "HHr-EJIyNJ68"
      },
      "source": [
        "# 각각의 csv파일을 불러와 df20__ 값에 저장\n",
        "df2017=pd.read_csv('/content/drive/MyDrive/dataset/2017.csv')\n",
        "df2018=pd.read_csv('/content/drive/MyDrive/dataset/2018.csv')\n",
        "df2019=pd.read_csv('/content/drive/MyDrive/dataset/2019.csv')\n",
        "df2020=pd.read_csv('/content/drive/MyDrive/dataset/2020.csv')\n",
        "df2021=pd.read_csv('/content/drive/MyDrive/dataset/2021.csv')"
      ],
      "execution_count": 4,
      "outputs": []
    },
    {
      "cell_type": "code",
      "metadata": {
        "colab": {
          "base_uri": "https://localhost:8080/"
        },
        "id": "92e7n2FTNnEY",
        "outputId": "43b4f9c1-9186-4696-e2c6-22c6268196b3"
      },
      "source": [
        "# 각 csv 파일에 대한 DataFrame에서 결측값 확인\n",
        "df2017.isnull().sum()"
      ],
      "execution_count": 5,
      "outputs": [
        {
          "output_type": "execute_result",
          "data": {
            "text/plain": [
              "Country                         0\n",
              "Regional indicator              0\n",
              "Score                           0\n",
              "GDP per capita                  0\n",
              "Healthy life expectancy         0\n",
              "Freedom to make life choices    0\n",
              "Generosity                      0\n",
              "Perceptions of corruption       0\n",
              "dtype: int64"
            ]
          },
          "metadata": {
            "tags": []
          },
          "execution_count": 5
        }
      ]
    },
    {
      "cell_type": "code",
      "metadata": {
        "colab": {
          "base_uri": "https://localhost:8080/"
        },
        "id": "frDy_Fn3ODrv",
        "outputId": "74ef0b63-4415-495a-96a7-081dcf90d94e"
      },
      "source": [
        "df2018.isnull().sum()"
      ],
      "execution_count": 6,
      "outputs": [
        {
          "output_type": "execute_result",
          "data": {
            "text/plain": [
              "Country                         0\n",
              "Regional indicator              0\n",
              "Score                           0\n",
              "GDP per capita                  0\n",
              "Healthy life expectancy         0\n",
              "Freedom to make life choices    0\n",
              "Generosity                      0\n",
              "Perceptions of corruption       1\n",
              "dtype: int64"
            ]
          },
          "metadata": {
            "tags": []
          },
          "execution_count": 6
        }
      ]
    },
    {
      "cell_type": "code",
      "metadata": {
        "id": "MN0b0troOT6M"
      },
      "source": [
        "# 2018년 데이터 중 결측값을 해당 column의 평균값으로 대체\n",
        "df2018['Perceptions of corruption']=df2018['Perceptions of corruption'].fillna(df2018['Perceptions of corruption'].mean())"
      ],
      "execution_count": 7,
      "outputs": []
    },
    {
      "cell_type": "code",
      "metadata": {
        "colab": {
          "base_uri": "https://localhost:8080/"
        },
        "id": "u08gnlruOl6E",
        "outputId": "3b00493c-d1a1-43ee-fe8d-a7c3bc159b73"
      },
      "source": [
        "df2018.isnull().sum()"
      ],
      "execution_count": 8,
      "outputs": [
        {
          "output_type": "execute_result",
          "data": {
            "text/plain": [
              "Country                         0\n",
              "Regional indicator              0\n",
              "Score                           0\n",
              "GDP per capita                  0\n",
              "Healthy life expectancy         0\n",
              "Freedom to make life choices    0\n",
              "Generosity                      0\n",
              "Perceptions of corruption       0\n",
              "dtype: int64"
            ]
          },
          "metadata": {
            "tags": []
          },
          "execution_count": 8
        }
      ]
    },
    {
      "cell_type": "code",
      "metadata": {
        "colab": {
          "base_uri": "https://localhost:8080/"
        },
        "id": "UX7oayqTOGJP",
        "outputId": "5fc05aa3-b249-4100-eb30-46bab3625ada"
      },
      "source": [
        "df2019.isnull().sum()"
      ],
      "execution_count": 9,
      "outputs": [
        {
          "output_type": "execute_result",
          "data": {
            "text/plain": [
              "Country                         0\n",
              "Regional indicator              0\n",
              "Score                           0\n",
              "GDP per capita                  0\n",
              "Healthy life expectancy         0\n",
              "Freedom to make life choices    0\n",
              "Generosity                      0\n",
              "Perceptions of corruption       0\n",
              "dtype: int64"
            ]
          },
          "metadata": {
            "tags": []
          },
          "execution_count": 9
        }
      ]
    },
    {
      "cell_type": "code",
      "metadata": {
        "colab": {
          "base_uri": "https://localhost:8080/"
        },
        "id": "_r4RnGM4OIjr",
        "outputId": "37bd15ce-b239-44d8-f1c7-e5a8cdff84dc"
      },
      "source": [
        "df2020.isnull().sum()"
      ],
      "execution_count": 10,
      "outputs": [
        {
          "output_type": "execute_result",
          "data": {
            "text/plain": [
              "Country                         0\n",
              "Regional indicator              0\n",
              "Score                           0\n",
              "GDP per capita                  0\n",
              "Healthy life expectancy         0\n",
              "Freedom to make life choices    0\n",
              "Generosity                      0\n",
              "Perceptions of corruption       0\n",
              "dtype: int64"
            ]
          },
          "metadata": {
            "tags": []
          },
          "execution_count": 10
        }
      ]
    },
    {
      "cell_type": "code",
      "metadata": {
        "colab": {
          "base_uri": "https://localhost:8080/"
        },
        "id": "7bekw9b0OKzq",
        "outputId": "f656fb7c-e97b-47d8-8d9f-fec2d2fc2032"
      },
      "source": [
        "df2021.isnull().sum()"
      ],
      "execution_count": 11,
      "outputs": [
        {
          "output_type": "execute_result",
          "data": {
            "text/plain": [
              "Country                         0\n",
              "Regional indicator              0\n",
              "Score                           0\n",
              "GDP per capita                  0\n",
              "Healthy life expectancy         0\n",
              "Freedom to make life choices    0\n",
              "Generosity                      0\n",
              "Perceptions of corruption       0\n",
              "dtype: int64"
            ]
          },
          "metadata": {
            "tags": []
          },
          "execution_count": 11
        }
      ]
    },
    {
      "cell_type": "code",
      "metadata": {
        "colab": {
          "base_uri": "https://localhost:8080/",
          "height": 656
        },
        "id": "dpaM9PQzOPF2",
        "outputId": "828f05f2-9018-42fb-b2f6-ab9a4b4d0e1e"
      },
      "source": [
        "# 각 연도별 DataFrame에 해당 연도에 따른 Year Column 추가\n",
        "df2017['Year']=2017\n",
        "df2018['Year']=2018\n",
        "df2019['Year']=2019\n",
        "df2020['Year']=2020\n",
        "df2021['Year']=2021\n",
        "\n",
        "# 5개년 DataFrame 병합\n",
        "df=df2017.append([df2018, df2019, df2020, df2021])\n",
        "df"
      ],
      "execution_count": 12,
      "outputs": [
        {
          "output_type": "execute_result",
          "data": {
            "text/html": [
              "<div>\n",
              "<style scoped>\n",
              "    .dataframe tbody tr th:only-of-type {\n",
              "        vertical-align: middle;\n",
              "    }\n",
              "\n",
              "    .dataframe tbody tr th {\n",
              "        vertical-align: top;\n",
              "    }\n",
              "\n",
              "    .dataframe thead th {\n",
              "        text-align: right;\n",
              "    }\n",
              "</style>\n",
              "<table border=\"1\" class=\"dataframe\">\n",
              "  <thead>\n",
              "    <tr style=\"text-align: right;\">\n",
              "      <th></th>\n",
              "      <th>Country</th>\n",
              "      <th>Regional indicator</th>\n",
              "      <th>Score</th>\n",
              "      <th>GDP per capita</th>\n",
              "      <th>Healthy life expectancy</th>\n",
              "      <th>Freedom to make life choices</th>\n",
              "      <th>Generosity</th>\n",
              "      <th>Perceptions of corruption</th>\n",
              "      <th>Year</th>\n",
              "    </tr>\n",
              "  </thead>\n",
              "  <tbody>\n",
              "    <tr>\n",
              "      <th>0</th>\n",
              "      <td>Afghanistan</td>\n",
              "      <td>South Asia</td>\n",
              "      <td>3.794</td>\n",
              "      <td>0.401477</td>\n",
              "      <td>0.180747</td>\n",
              "      <td>0.106180</td>\n",
              "      <td>0.311871</td>\n",
              "      <td>0.061158</td>\n",
              "      <td>2017</td>\n",
              "    </tr>\n",
              "    <tr>\n",
              "      <th>1</th>\n",
              "      <td>Albania</td>\n",
              "      <td>Central and Eastern Europe</td>\n",
              "      <td>4.644</td>\n",
              "      <td>0.996193</td>\n",
              "      <td>0.731160</td>\n",
              "      <td>0.381499</td>\n",
              "      <td>0.201313</td>\n",
              "      <td>0.039864</td>\n",
              "      <td>2017</td>\n",
              "    </tr>\n",
              "    <tr>\n",
              "      <th>2</th>\n",
              "      <td>Algeria</td>\n",
              "      <td>Middle East and North Africa</td>\n",
              "      <td>5.872</td>\n",
              "      <td>1.091864</td>\n",
              "      <td>0.617585</td>\n",
              "      <td>0.233336</td>\n",
              "      <td>0.069437</td>\n",
              "      <td>0.146096</td>\n",
              "      <td>2017</td>\n",
              "    </tr>\n",
              "    <tr>\n",
              "      <th>3</th>\n",
              "      <td>Argentina</td>\n",
              "      <td>Latin America and Caribbean</td>\n",
              "      <td>6.599</td>\n",
              "      <td>1.185295</td>\n",
              "      <td>0.695137</td>\n",
              "      <td>0.494519</td>\n",
              "      <td>0.109457</td>\n",
              "      <td>0.059740</td>\n",
              "      <td>2017</td>\n",
              "    </tr>\n",
              "    <tr>\n",
              "      <th>4</th>\n",
              "      <td>Armenia</td>\n",
              "      <td>Commonwealth of Independent States</td>\n",
              "      <td>4.376</td>\n",
              "      <td>0.900597</td>\n",
              "      <td>0.637524</td>\n",
              "      <td>0.198303</td>\n",
              "      <td>0.083488</td>\n",
              "      <td>0.026674</td>\n",
              "      <td>2017</td>\n",
              "    </tr>\n",
              "    <tr>\n",
              "      <th>...</th>\n",
              "      <td>...</td>\n",
              "      <td>...</td>\n",
              "      <td>...</td>\n",
              "      <td>...</td>\n",
              "      <td>...</td>\n",
              "      <td>...</td>\n",
              "      <td>...</td>\n",
              "      <td>...</td>\n",
              "      <td>...</td>\n",
              "    </tr>\n",
              "    <tr>\n",
              "      <th>138</th>\n",
              "      <td>Venezuela</td>\n",
              "      <td>Latin America and Caribbean</td>\n",
              "      <td>4.892</td>\n",
              "      <td>0.852000</td>\n",
              "      <td>0.574000</td>\n",
              "      <td>0.615000</td>\n",
              "      <td>-0.169000</td>\n",
              "      <td>0.827000</td>\n",
              "      <td>2021</td>\n",
              "    </tr>\n",
              "    <tr>\n",
              "      <th>139</th>\n",
              "      <td>Vietnam</td>\n",
              "      <td>Southeast Asia</td>\n",
              "      <td>5.411</td>\n",
              "      <td>0.817000</td>\n",
              "      <td>0.616000</td>\n",
              "      <td>0.940000</td>\n",
              "      <td>-0.098000</td>\n",
              "      <td>0.796000</td>\n",
              "      <td>2021</td>\n",
              "    </tr>\n",
              "    <tr>\n",
              "      <th>140</th>\n",
              "      <td>Yemen</td>\n",
              "      <td>Middle East and North Africa</td>\n",
              "      <td>3.658</td>\n",
              "      <td>0.329000</td>\n",
              "      <td>0.272000</td>\n",
              "      <td>0.602000</td>\n",
              "      <td>-0.147000</td>\n",
              "      <td>0.800000</td>\n",
              "      <td>2021</td>\n",
              "    </tr>\n",
              "    <tr>\n",
              "      <th>141</th>\n",
              "      <td>Zambia</td>\n",
              "      <td>Sub-Saharan Africa</td>\n",
              "      <td>4.073</td>\n",
              "      <td>0.528000</td>\n",
              "      <td>0.231000</td>\n",
              "      <td>0.782000</td>\n",
              "      <td>0.061000</td>\n",
              "      <td>0.823000</td>\n",
              "      <td>2021</td>\n",
              "    </tr>\n",
              "    <tr>\n",
              "      <th>142</th>\n",
              "      <td>Zimbabwe</td>\n",
              "      <td>Sub-Saharan Africa</td>\n",
              "      <td>3.145</td>\n",
              "      <td>0.457000</td>\n",
              "      <td>0.243000</td>\n",
              "      <td>0.677000</td>\n",
              "      <td>-0.047000</td>\n",
              "      <td>0.821000</td>\n",
              "      <td>2021</td>\n",
              "    </tr>\n",
              "  </tbody>\n",
              "</table>\n",
              "<p>715 rows × 9 columns</p>\n",
              "</div>"
            ],
            "text/plain": [
              "         Country  ...  Year\n",
              "0    Afghanistan  ...  2017\n",
              "1        Albania  ...  2017\n",
              "2        Algeria  ...  2017\n",
              "3      Argentina  ...  2017\n",
              "4        Armenia  ...  2017\n",
              "..           ...  ...   ...\n",
              "138    Venezuela  ...  2021\n",
              "139      Vietnam  ...  2021\n",
              "140        Yemen  ...  2021\n",
              "141       Zambia  ...  2021\n",
              "142     Zimbabwe  ...  2021\n",
              "\n",
              "[715 rows x 9 columns]"
            ]
          },
          "metadata": {
            "tags": []
          },
          "execution_count": 12
        }
      ]
    },
    {
      "cell_type": "code",
      "metadata": {
        "id": "NWNa2UGrPT-L"
      },
      "source": [
        "# 각 국가들의 연도별 Happiness Score를 df20__에 저장\n",
        "\n",
        "df2017_score=df[df['Year']==2017]['Score']\n",
        "df2018_score=df[df['Year']==2018]['Score']\n",
        "df2019_score=df[df['Year']==2019]['Score']\n",
        "df2020_score=df[df['Year']==2020]['Score']\n",
        "df2021_score=df[df['Year']==2021]['Score']"
      ],
      "execution_count": 13,
      "outputs": []
    },
    {
      "cell_type": "code",
      "metadata": {
        "id": "iQ_KFQWMQMus"
      },
      "source": [
        "# df20__에 저장한 각 국가들의 연도별 Happiness Score를 DataFrame으로 변환\n",
        "df2017_score=pd.DataFrame(df2017_score)\n",
        "df2017_score.rename(columns={'Score':2017},inplace = True)\n",
        "\n",
        "df2018_score=pd.DataFrame(df2018_score)\n",
        "df2018_score.rename(columns={'Score':2018},inplace = True)\n",
        "\n",
        "df2019_score=pd.DataFrame(df2019_score)\n",
        "df2019_score.rename(columns={'Score':2019},inplace = True)\n",
        "\n",
        "df2020_score=pd.DataFrame(df2020_score)\n",
        "df2020_score.rename(columns={'Score':2020},inplace = True)\n",
        "\n",
        "df2021_score=pd.DataFrame(df2021_score)\n",
        "df2021_score.rename(columns={'Score':2021},inplace = True)"
      ],
      "execution_count": 14,
      "outputs": []
    },
    {
      "cell_type": "code",
      "metadata": {
        "colab": {
          "base_uri": "https://localhost:8080/",
          "height": 399
        },
        "id": "6mDum4uiQoCV",
        "outputId": "e58c0a6a-fa9c-4658-9faa-23680a1aabdc"
      },
      "source": [
        "# 연도별 Happiness Score의 DataFrame을 df_score로 병합\n",
        "df_score=pd.concat([df2017_score, df2018_score, df2019_score, df2020_score, df2021_score], axis=1)\n",
        "df_score"
      ],
      "execution_count": 15,
      "outputs": [
        {
          "output_type": "execute_result",
          "data": {
            "text/html": [
              "<div>\n",
              "<style scoped>\n",
              "    .dataframe tbody tr th:only-of-type {\n",
              "        vertical-align: middle;\n",
              "    }\n",
              "\n",
              "    .dataframe tbody tr th {\n",
              "        vertical-align: top;\n",
              "    }\n",
              "\n",
              "    .dataframe thead th {\n",
              "        text-align: right;\n",
              "    }\n",
              "</style>\n",
              "<table border=\"1\" class=\"dataframe\">\n",
              "  <thead>\n",
              "    <tr style=\"text-align: right;\">\n",
              "      <th></th>\n",
              "      <th>2017</th>\n",
              "      <th>2018</th>\n",
              "      <th>2019</th>\n",
              "      <th>2020</th>\n",
              "      <th>2021</th>\n",
              "    </tr>\n",
              "  </thead>\n",
              "  <tbody>\n",
              "    <tr>\n",
              "      <th>0</th>\n",
              "      <td>3.794</td>\n",
              "      <td>3.632</td>\n",
              "      <td>3.203</td>\n",
              "      <td>2.5669</td>\n",
              "      <td>2.523</td>\n",
              "    </tr>\n",
              "    <tr>\n",
              "      <th>1</th>\n",
              "      <td>4.644</td>\n",
              "      <td>4.586</td>\n",
              "      <td>4.719</td>\n",
              "      <td>4.8827</td>\n",
              "      <td>5.117</td>\n",
              "    </tr>\n",
              "    <tr>\n",
              "      <th>2</th>\n",
              "      <td>5.872</td>\n",
              "      <td>5.295</td>\n",
              "      <td>5.211</td>\n",
              "      <td>5.0051</td>\n",
              "      <td>4.887</td>\n",
              "    </tr>\n",
              "    <tr>\n",
              "      <th>3</th>\n",
              "      <td>6.599</td>\n",
              "      <td>6.388</td>\n",
              "      <td>6.086</td>\n",
              "      <td>5.9747</td>\n",
              "      <td>5.929</td>\n",
              "    </tr>\n",
              "    <tr>\n",
              "      <th>4</th>\n",
              "      <td>4.376</td>\n",
              "      <td>4.321</td>\n",
              "      <td>4.559</td>\n",
              "      <td>4.6768</td>\n",
              "      <td>5.283</td>\n",
              "    </tr>\n",
              "    <tr>\n",
              "      <th>...</th>\n",
              "      <td>...</td>\n",
              "      <td>...</td>\n",
              "      <td>...</td>\n",
              "      <td>...</td>\n",
              "      <td>...</td>\n",
              "    </tr>\n",
              "    <tr>\n",
              "      <th>138</th>\n",
              "      <td>5.250</td>\n",
              "      <td>4.806</td>\n",
              "      <td>4.707</td>\n",
              "      <td>5.0532</td>\n",
              "      <td>4.892</td>\n",
              "    </tr>\n",
              "    <tr>\n",
              "      <th>139</th>\n",
              "      <td>5.074</td>\n",
              "      <td>5.103</td>\n",
              "      <td>5.175</td>\n",
              "      <td>5.3535</td>\n",
              "      <td>5.411</td>\n",
              "    </tr>\n",
              "    <tr>\n",
              "      <th>140</th>\n",
              "      <td>3.593</td>\n",
              "      <td>3.355</td>\n",
              "      <td>3.380</td>\n",
              "      <td>3.5274</td>\n",
              "      <td>3.658</td>\n",
              "    </tr>\n",
              "    <tr>\n",
              "      <th>141</th>\n",
              "      <td>4.514</td>\n",
              "      <td>4.377</td>\n",
              "      <td>4.107</td>\n",
              "      <td>3.7594</td>\n",
              "      <td>4.073</td>\n",
              "    </tr>\n",
              "    <tr>\n",
              "      <th>142</th>\n",
              "      <td>3.875</td>\n",
              "      <td>3.692</td>\n",
              "      <td>3.663</td>\n",
              "      <td>3.2992</td>\n",
              "      <td>3.145</td>\n",
              "    </tr>\n",
              "  </tbody>\n",
              "</table>\n",
              "<p>143 rows × 5 columns</p>\n",
              "</div>"
            ],
            "text/plain": [
              "      2017   2018   2019    2020   2021\n",
              "0    3.794  3.632  3.203  2.5669  2.523\n",
              "1    4.644  4.586  4.719  4.8827  5.117\n",
              "2    5.872  5.295  5.211  5.0051  4.887\n",
              "3    6.599  6.388  6.086  5.9747  5.929\n",
              "4    4.376  4.321  4.559  4.6768  5.283\n",
              "..     ...    ...    ...     ...    ...\n",
              "138  5.250  4.806  4.707  5.0532  4.892\n",
              "139  5.074  5.103  5.175  5.3535  5.411\n",
              "140  3.593  3.355  3.380  3.5274  3.658\n",
              "141  4.514  4.377  4.107  3.7594  4.073\n",
              "142  3.875  3.692  3.663  3.2992  3.145\n",
              "\n",
              "[143 rows x 5 columns]"
            ]
          },
          "metadata": {
            "tags": []
          },
          "execution_count": 15
        }
      ]
    },
    {
      "cell_type": "code",
      "metadata": {
        "colab": {
          "base_uri": "https://localhost:8080/",
          "height": 399
        },
        "id": "CinicwyXeZVf",
        "outputId": "b8967f65-b728-4aef-d89d-a0063cb5157d"
      },
      "source": [
        "# df_score에 Country coulmn 추가\n",
        "\n",
        "df_score['Country']=df2017['Country']\n",
        "df_score"
      ],
      "execution_count": 16,
      "outputs": [
        {
          "output_type": "execute_result",
          "data": {
            "text/html": [
              "<div>\n",
              "<style scoped>\n",
              "    .dataframe tbody tr th:only-of-type {\n",
              "        vertical-align: middle;\n",
              "    }\n",
              "\n",
              "    .dataframe tbody tr th {\n",
              "        vertical-align: top;\n",
              "    }\n",
              "\n",
              "    .dataframe thead th {\n",
              "        text-align: right;\n",
              "    }\n",
              "</style>\n",
              "<table border=\"1\" class=\"dataframe\">\n",
              "  <thead>\n",
              "    <tr style=\"text-align: right;\">\n",
              "      <th></th>\n",
              "      <th>2017</th>\n",
              "      <th>2018</th>\n",
              "      <th>2019</th>\n",
              "      <th>2020</th>\n",
              "      <th>2021</th>\n",
              "      <th>Country</th>\n",
              "    </tr>\n",
              "  </thead>\n",
              "  <tbody>\n",
              "    <tr>\n",
              "      <th>0</th>\n",
              "      <td>3.794</td>\n",
              "      <td>3.632</td>\n",
              "      <td>3.203</td>\n",
              "      <td>2.5669</td>\n",
              "      <td>2.523</td>\n",
              "      <td>Afghanistan</td>\n",
              "    </tr>\n",
              "    <tr>\n",
              "      <th>1</th>\n",
              "      <td>4.644</td>\n",
              "      <td>4.586</td>\n",
              "      <td>4.719</td>\n",
              "      <td>4.8827</td>\n",
              "      <td>5.117</td>\n",
              "      <td>Albania</td>\n",
              "    </tr>\n",
              "    <tr>\n",
              "      <th>2</th>\n",
              "      <td>5.872</td>\n",
              "      <td>5.295</td>\n",
              "      <td>5.211</td>\n",
              "      <td>5.0051</td>\n",
              "      <td>4.887</td>\n",
              "      <td>Algeria</td>\n",
              "    </tr>\n",
              "    <tr>\n",
              "      <th>3</th>\n",
              "      <td>6.599</td>\n",
              "      <td>6.388</td>\n",
              "      <td>6.086</td>\n",
              "      <td>5.9747</td>\n",
              "      <td>5.929</td>\n",
              "      <td>Argentina</td>\n",
              "    </tr>\n",
              "    <tr>\n",
              "      <th>4</th>\n",
              "      <td>4.376</td>\n",
              "      <td>4.321</td>\n",
              "      <td>4.559</td>\n",
              "      <td>4.6768</td>\n",
              "      <td>5.283</td>\n",
              "      <td>Armenia</td>\n",
              "    </tr>\n",
              "    <tr>\n",
              "      <th>...</th>\n",
              "      <td>...</td>\n",
              "      <td>...</td>\n",
              "      <td>...</td>\n",
              "      <td>...</td>\n",
              "      <td>...</td>\n",
              "      <td>...</td>\n",
              "    </tr>\n",
              "    <tr>\n",
              "      <th>138</th>\n",
              "      <td>5.250</td>\n",
              "      <td>4.806</td>\n",
              "      <td>4.707</td>\n",
              "      <td>5.0532</td>\n",
              "      <td>4.892</td>\n",
              "      <td>Venezuela</td>\n",
              "    </tr>\n",
              "    <tr>\n",
              "      <th>139</th>\n",
              "      <td>5.074</td>\n",
              "      <td>5.103</td>\n",
              "      <td>5.175</td>\n",
              "      <td>5.3535</td>\n",
              "      <td>5.411</td>\n",
              "      <td>Vietnam</td>\n",
              "    </tr>\n",
              "    <tr>\n",
              "      <th>140</th>\n",
              "      <td>3.593</td>\n",
              "      <td>3.355</td>\n",
              "      <td>3.380</td>\n",
              "      <td>3.5274</td>\n",
              "      <td>3.658</td>\n",
              "      <td>Yemen</td>\n",
              "    </tr>\n",
              "    <tr>\n",
              "      <th>141</th>\n",
              "      <td>4.514</td>\n",
              "      <td>4.377</td>\n",
              "      <td>4.107</td>\n",
              "      <td>3.7594</td>\n",
              "      <td>4.073</td>\n",
              "      <td>Zambia</td>\n",
              "    </tr>\n",
              "    <tr>\n",
              "      <th>142</th>\n",
              "      <td>3.875</td>\n",
              "      <td>3.692</td>\n",
              "      <td>3.663</td>\n",
              "      <td>3.2992</td>\n",
              "      <td>3.145</td>\n",
              "      <td>Zimbabwe</td>\n",
              "    </tr>\n",
              "  </tbody>\n",
              "</table>\n",
              "<p>143 rows × 6 columns</p>\n",
              "</div>"
            ],
            "text/plain": [
              "      2017   2018   2019    2020   2021      Country\n",
              "0    3.794  3.632  3.203  2.5669  2.523  Afghanistan\n",
              "1    4.644  4.586  4.719  4.8827  5.117      Albania\n",
              "2    5.872  5.295  5.211  5.0051  4.887      Algeria\n",
              "3    6.599  6.388  6.086  5.9747  5.929    Argentina\n",
              "4    4.376  4.321  4.559  4.6768  5.283      Armenia\n",
              "..     ...    ...    ...     ...    ...          ...\n",
              "138  5.250  4.806  4.707  5.0532  4.892    Venezuela\n",
              "139  5.074  5.103  5.175  5.3535  5.411      Vietnam\n",
              "140  3.593  3.355  3.380  3.5274  3.658        Yemen\n",
              "141  4.514  4.377  4.107  3.7594  4.073       Zambia\n",
              "142  3.875  3.692  3.663  3.2992  3.145     Zimbabwe\n",
              "\n",
              "[143 rows x 6 columns]"
            ]
          },
          "metadata": {
            "tags": []
          },
          "execution_count": 16
        }
      ]
    },
    {
      "cell_type": "code",
      "metadata": {
        "colab": {
          "base_uri": "https://localhost:8080/",
          "height": 399
        },
        "id": "GwwCJ5C4mVNq",
        "outputId": "3e06ae96-02f7-4353-b6f8-7433ee06f318"
      },
      "source": [
        "# std=각 국가들의 연도별 Happiness Score의 표준편차 -> 변동성의 척도\n",
        "# df_score에 std column 추가\n",
        "\n",
        "df_score['std']=df_score.iloc[:,:-1].std(axis=1)\n",
        "df_score"
      ],
      "execution_count": 17,
      "outputs": [
        {
          "output_type": "execute_result",
          "data": {
            "text/html": [
              "<div>\n",
              "<style scoped>\n",
              "    .dataframe tbody tr th:only-of-type {\n",
              "        vertical-align: middle;\n",
              "    }\n",
              "\n",
              "    .dataframe tbody tr th {\n",
              "        vertical-align: top;\n",
              "    }\n",
              "\n",
              "    .dataframe thead th {\n",
              "        text-align: right;\n",
              "    }\n",
              "</style>\n",
              "<table border=\"1\" class=\"dataframe\">\n",
              "  <thead>\n",
              "    <tr style=\"text-align: right;\">\n",
              "      <th></th>\n",
              "      <th>2017</th>\n",
              "      <th>2018</th>\n",
              "      <th>2019</th>\n",
              "      <th>2020</th>\n",
              "      <th>2021</th>\n",
              "      <th>Country</th>\n",
              "      <th>std</th>\n",
              "    </tr>\n",
              "  </thead>\n",
              "  <tbody>\n",
              "    <tr>\n",
              "      <th>0</th>\n",
              "      <td>3.794</td>\n",
              "      <td>3.632</td>\n",
              "      <td>3.203</td>\n",
              "      <td>2.5669</td>\n",
              "      <td>2.523</td>\n",
              "      <td>Afghanistan</td>\n",
              "      <td>0.587965</td>\n",
              "    </tr>\n",
              "    <tr>\n",
              "      <th>1</th>\n",
              "      <td>4.644</td>\n",
              "      <td>4.586</td>\n",
              "      <td>4.719</td>\n",
              "      <td>4.8827</td>\n",
              "      <td>5.117</td>\n",
              "      <td>Albania</td>\n",
              "      <td>0.214182</td>\n",
              "    </tr>\n",
              "    <tr>\n",
              "      <th>2</th>\n",
              "      <td>5.872</td>\n",
              "      <td>5.295</td>\n",
              "      <td>5.211</td>\n",
              "      <td>5.0051</td>\n",
              "      <td>4.887</td>\n",
              "      <td>Algeria</td>\n",
              "      <td>0.381476</td>\n",
              "    </tr>\n",
              "    <tr>\n",
              "      <th>3</th>\n",
              "      <td>6.599</td>\n",
              "      <td>6.388</td>\n",
              "      <td>6.086</td>\n",
              "      <td>5.9747</td>\n",
              "      <td>5.929</td>\n",
              "      <td>Argentina</td>\n",
              "      <td>0.287938</td>\n",
              "    </tr>\n",
              "    <tr>\n",
              "      <th>4</th>\n",
              "      <td>4.376</td>\n",
              "      <td>4.321</td>\n",
              "      <td>4.559</td>\n",
              "      <td>4.6768</td>\n",
              "      <td>5.283</td>\n",
              "      <td>Armenia</td>\n",
              "      <td>0.384958</td>\n",
              "    </tr>\n",
              "    <tr>\n",
              "      <th>...</th>\n",
              "      <td>...</td>\n",
              "      <td>...</td>\n",
              "      <td>...</td>\n",
              "      <td>...</td>\n",
              "      <td>...</td>\n",
              "      <td>...</td>\n",
              "      <td>...</td>\n",
              "    </tr>\n",
              "    <tr>\n",
              "      <th>138</th>\n",
              "      <td>5.250</td>\n",
              "      <td>4.806</td>\n",
              "      <td>4.707</td>\n",
              "      <td>5.0532</td>\n",
              "      <td>4.892</td>\n",
              "      <td>Venezuela</td>\n",
              "      <td>0.214155</td>\n",
              "    </tr>\n",
              "    <tr>\n",
              "      <th>139</th>\n",
              "      <td>5.074</td>\n",
              "      <td>5.103</td>\n",
              "      <td>5.175</td>\n",
              "      <td>5.3535</td>\n",
              "      <td>5.411</td>\n",
              "      <td>Vietnam</td>\n",
              "      <td>0.151062</td>\n",
              "    </tr>\n",
              "    <tr>\n",
              "      <th>140</th>\n",
              "      <td>3.593</td>\n",
              "      <td>3.355</td>\n",
              "      <td>3.380</td>\n",
              "      <td>3.5274</td>\n",
              "      <td>3.658</td>\n",
              "      <td>Yemen</td>\n",
              "      <td>0.132054</td>\n",
              "    </tr>\n",
              "    <tr>\n",
              "      <th>141</th>\n",
              "      <td>4.514</td>\n",
              "      <td>4.377</td>\n",
              "      <td>4.107</td>\n",
              "      <td>3.7594</td>\n",
              "      <td>4.073</td>\n",
              "      <td>Zambia</td>\n",
              "      <td>0.292865</td>\n",
              "    </tr>\n",
              "    <tr>\n",
              "      <th>142</th>\n",
              "      <td>3.875</td>\n",
              "      <td>3.692</td>\n",
              "      <td>3.663</td>\n",
              "      <td>3.2992</td>\n",
              "      <td>3.145</td>\n",
              "      <td>Zimbabwe</td>\n",
              "      <td>0.301801</td>\n",
              "    </tr>\n",
              "  </tbody>\n",
              "</table>\n",
              "<p>143 rows × 7 columns</p>\n",
              "</div>"
            ],
            "text/plain": [
              "      2017   2018   2019    2020   2021      Country       std\n",
              "0    3.794  3.632  3.203  2.5669  2.523  Afghanistan  0.587965\n",
              "1    4.644  4.586  4.719  4.8827  5.117      Albania  0.214182\n",
              "2    5.872  5.295  5.211  5.0051  4.887      Algeria  0.381476\n",
              "3    6.599  6.388  6.086  5.9747  5.929    Argentina  0.287938\n",
              "4    4.376  4.321  4.559  4.6768  5.283      Armenia  0.384958\n",
              "..     ...    ...    ...     ...    ...          ...       ...\n",
              "138  5.250  4.806  4.707  5.0532  4.892    Venezuela  0.214155\n",
              "139  5.074  5.103  5.175  5.3535  5.411      Vietnam  0.151062\n",
              "140  3.593  3.355  3.380  3.5274  3.658        Yemen  0.132054\n",
              "141  4.514  4.377  4.107  3.7594  4.073       Zambia  0.292865\n",
              "142  3.875  3.692  3.663  3.2992  3.145     Zimbabwe  0.301801\n",
              "\n",
              "[143 rows x 7 columns]"
            ]
          },
          "metadata": {
            "tags": []
          },
          "execution_count": 17
        }
      ]
    },
    {
      "cell_type": "code",
      "metadata": {
        "colab": {
          "base_uri": "https://localhost:8080/",
          "height": 399
        },
        "id": "OzEtKTNHnX1r",
        "outputId": "8cec1947-bd8d-4e06-e0e7-042321218922"
      },
      "source": [
        "# 각 연도별 Score의 표준편차가 클수록 연도에 따른 Score의 변동성이 크다고 정의\n",
        "# 각 연도별 Score의 표준편차에 대한 내림차순(변동성이 큰 순서로) DataFrame 정렬\n",
        "\n",
        "df_score=df_score.sort_values(by='std', ascending=False)\n",
        "df_score"
      ],
      "execution_count": 18,
      "outputs": [
        {
          "output_type": "execute_result",
          "data": {
            "text/html": [
              "<div>\n",
              "<style scoped>\n",
              "    .dataframe tbody tr th:only-of-type {\n",
              "        vertical-align: middle;\n",
              "    }\n",
              "\n",
              "    .dataframe tbody tr th {\n",
              "        vertical-align: top;\n",
              "    }\n",
              "\n",
              "    .dataframe thead th {\n",
              "        text-align: right;\n",
              "    }\n",
              "</style>\n",
              "<table border=\"1\" class=\"dataframe\">\n",
              "  <thead>\n",
              "    <tr style=\"text-align: right;\">\n",
              "      <th></th>\n",
              "      <th>2017</th>\n",
              "      <th>2018</th>\n",
              "      <th>2019</th>\n",
              "      <th>2020</th>\n",
              "      <th>2021</th>\n",
              "      <th>Country</th>\n",
              "      <th>std</th>\n",
              "    </tr>\n",
              "  </thead>\n",
              "  <tbody>\n",
              "    <tr>\n",
              "      <th>12</th>\n",
              "      <td>3.657</td>\n",
              "      <td>4.141</td>\n",
              "      <td>4.883</td>\n",
              "      <td>5.2160</td>\n",
              "      <td>5.045</td>\n",
              "      <td>Benin</td>\n",
              "      <td>0.662727</td>\n",
              "    </tr>\n",
              "    <tr>\n",
              "      <th>47</th>\n",
              "      <td>3.507</td>\n",
              "      <td>3.964</td>\n",
              "      <td>4.534</td>\n",
              "      <td>4.9493</td>\n",
              "      <td>4.984</td>\n",
              "      <td>Guinea</td>\n",
              "      <td>0.641780</td>\n",
              "    </tr>\n",
              "    <tr>\n",
              "      <th>0</th>\n",
              "      <td>3.794</td>\n",
              "      <td>3.632</td>\n",
              "      <td>3.203</td>\n",
              "      <td>2.5669</td>\n",
              "      <td>2.523</td>\n",
              "      <td>Afghanistan</td>\n",
              "      <td>0.587965</td>\n",
              "    </tr>\n",
              "    <tr>\n",
              "      <th>72</th>\n",
              "      <td>3.533</td>\n",
              "      <td>3.495</td>\n",
              "      <td>3.975</td>\n",
              "      <td>4.5579</td>\n",
              "      <td>4.625</td>\n",
              "      <td>Liberia</td>\n",
              "      <td>0.540533</td>\n",
              "    </tr>\n",
              "    <tr>\n",
              "      <th>19</th>\n",
              "      <td>2.905</td>\n",
              "      <td>2.905</td>\n",
              "      <td>3.775</td>\n",
              "      <td>3.7753</td>\n",
              "      <td>3.775</td>\n",
              "      <td>Burundi</td>\n",
              "      <td>0.476573</td>\n",
              "    </tr>\n",
              "    <tr>\n",
              "      <th>...</th>\n",
              "      <td>...</td>\n",
              "      <td>...</td>\n",
              "      <td>...</td>\n",
              "      <td>...</td>\n",
              "      <td>...</td>\n",
              "      <td>...</td>\n",
              "      <td>...</td>\n",
              "    </tr>\n",
              "    <tr>\n",
              "      <th>7</th>\n",
              "      <td>5.234</td>\n",
              "      <td>5.201</td>\n",
              "      <td>5.208</td>\n",
              "      <td>5.1648</td>\n",
              "      <td>5.171</td>\n",
              "      <td>Azerbaijan</td>\n",
              "      <td>0.028334</td>\n",
              "    </tr>\n",
              "    <tr>\n",
              "      <th>62</th>\n",
              "      <td>5.920</td>\n",
              "      <td>5.915</td>\n",
              "      <td>5.886</td>\n",
              "      <td>5.8708</td>\n",
              "      <td>5.940</td>\n",
              "      <td>Japan</td>\n",
              "      <td>0.027710</td>\n",
              "    </tr>\n",
              "    <tr>\n",
              "      <th>52</th>\n",
              "      <td>7.504</td>\n",
              "      <td>7.495</td>\n",
              "      <td>7.494</td>\n",
              "      <td>7.5045</td>\n",
              "      <td>7.554</td>\n",
              "      <td>Iceland</td>\n",
              "      <td>0.024914</td>\n",
              "    </tr>\n",
              "    <tr>\n",
              "      <th>118</th>\n",
              "      <td>5.838</td>\n",
              "      <td>5.875</td>\n",
              "      <td>5.895</td>\n",
              "      <td>5.8724</td>\n",
              "      <td>5.845</td>\n",
              "      <td>South Korea</td>\n",
              "      <td>0.023365</td>\n",
              "    </tr>\n",
              "    <tr>\n",
              "      <th>93</th>\n",
              "      <td>7.314</td>\n",
              "      <td>7.324</td>\n",
              "      <td>7.307</td>\n",
              "      <td>7.2996</td>\n",
              "      <td>7.277</td>\n",
              "      <td>New Zealand</td>\n",
              "      <td>0.017726</td>\n",
              "    </tr>\n",
              "  </tbody>\n",
              "</table>\n",
              "<p>143 rows × 7 columns</p>\n",
              "</div>"
            ],
            "text/plain": [
              "      2017   2018   2019    2020   2021      Country       std\n",
              "12   3.657  4.141  4.883  5.2160  5.045        Benin  0.662727\n",
              "47   3.507  3.964  4.534  4.9493  4.984       Guinea  0.641780\n",
              "0    3.794  3.632  3.203  2.5669  2.523  Afghanistan  0.587965\n",
              "72   3.533  3.495  3.975  4.5579  4.625      Liberia  0.540533\n",
              "19   2.905  2.905  3.775  3.7753  3.775      Burundi  0.476573\n",
              "..     ...    ...    ...     ...    ...          ...       ...\n",
              "7    5.234  5.201  5.208  5.1648  5.171   Azerbaijan  0.028334\n",
              "62   5.920  5.915  5.886  5.8708  5.940        Japan  0.027710\n",
              "52   7.504  7.495  7.494  7.5045  7.554      Iceland  0.024914\n",
              "118  5.838  5.875  5.895  5.8724  5.845  South Korea  0.023365\n",
              "93   7.314  7.324  7.307  7.2996  7.277  New Zealand  0.017726\n",
              "\n",
              "[143 rows x 7 columns]"
            ]
          },
          "metadata": {
            "tags": []
          },
          "execution_count": 18
        }
      ]
    },
    {
      "cell_type": "code",
      "metadata": {
        "colab": {
          "base_uri": "https://localhost:8080/",
          "height": 340
        },
        "id": "v8PpTQLSn-3F",
        "outputId": "5cbdb8ad-f5f8-4f12-ec54-e0c93a5fd767"
      },
      "source": [
        "# 연도별 Score의 변동성이 가장 큰 상위 10개 국가\n",
        "df_score.head(10)"
      ],
      "execution_count": 19,
      "outputs": [
        {
          "output_type": "execute_result",
          "data": {
            "text/html": [
              "<div>\n",
              "<style scoped>\n",
              "    .dataframe tbody tr th:only-of-type {\n",
              "        vertical-align: middle;\n",
              "    }\n",
              "\n",
              "    .dataframe tbody tr th {\n",
              "        vertical-align: top;\n",
              "    }\n",
              "\n",
              "    .dataframe thead th {\n",
              "        text-align: right;\n",
              "    }\n",
              "</style>\n",
              "<table border=\"1\" class=\"dataframe\">\n",
              "  <thead>\n",
              "    <tr style=\"text-align: right;\">\n",
              "      <th></th>\n",
              "      <th>2017</th>\n",
              "      <th>2018</th>\n",
              "      <th>2019</th>\n",
              "      <th>2020</th>\n",
              "      <th>2021</th>\n",
              "      <th>Country</th>\n",
              "      <th>std</th>\n",
              "    </tr>\n",
              "  </thead>\n",
              "  <tbody>\n",
              "    <tr>\n",
              "      <th>12</th>\n",
              "      <td>3.657</td>\n",
              "      <td>4.141</td>\n",
              "      <td>4.883</td>\n",
              "      <td>5.2160</td>\n",
              "      <td>5.045</td>\n",
              "      <td>Benin</td>\n",
              "      <td>0.662727</td>\n",
              "    </tr>\n",
              "    <tr>\n",
              "      <th>47</th>\n",
              "      <td>3.507</td>\n",
              "      <td>3.964</td>\n",
              "      <td>4.534</td>\n",
              "      <td>4.9493</td>\n",
              "      <td>4.984</td>\n",
              "      <td>Guinea</td>\n",
              "      <td>0.641780</td>\n",
              "    </tr>\n",
              "    <tr>\n",
              "      <th>0</th>\n",
              "      <td>3.794</td>\n",
              "      <td>3.632</td>\n",
              "      <td>3.203</td>\n",
              "      <td>2.5669</td>\n",
              "      <td>2.523</td>\n",
              "      <td>Afghanistan</td>\n",
              "      <td>0.587965</td>\n",
              "    </tr>\n",
              "    <tr>\n",
              "      <th>72</th>\n",
              "      <td>3.533</td>\n",
              "      <td>3.495</td>\n",
              "      <td>3.975</td>\n",
              "      <td>4.5579</td>\n",
              "      <td>4.625</td>\n",
              "      <td>Liberia</td>\n",
              "      <td>0.540533</td>\n",
              "    </tr>\n",
              "    <tr>\n",
              "      <th>19</th>\n",
              "      <td>2.905</td>\n",
              "      <td>2.905</td>\n",
              "      <td>3.775</td>\n",
              "      <td>3.7753</td>\n",
              "      <td>3.775</td>\n",
              "      <td>Burundi</td>\n",
              "      <td>0.476573</td>\n",
              "    </tr>\n",
              "    <tr>\n",
              "      <th>66</th>\n",
              "      <td>5.279</td>\n",
              "      <td>5.662</td>\n",
              "      <td>6.100</td>\n",
              "      <td>6.3252</td>\n",
              "      <td>6.372</td>\n",
              "      <td>Kosovo</td>\n",
              "      <td>0.467578</td>\n",
              "    </tr>\n",
              "    <tr>\n",
              "      <th>78</th>\n",
              "      <td>6.084</td>\n",
              "      <td>6.322</td>\n",
              "      <td>5.339</td>\n",
              "      <td>5.3843</td>\n",
              "      <td>5.384</td>\n",
              "      <td>Malaysia</td>\n",
              "      <td>0.464798</td>\n",
              "    </tr>\n",
              "    <tr>\n",
              "      <th>60</th>\n",
              "      <td>4.180</td>\n",
              "      <td>4.671</td>\n",
              "      <td>4.944</td>\n",
              "      <td>5.2333</td>\n",
              "      <td>5.306</td>\n",
              "      <td>Ivory Coast</td>\n",
              "      <td>0.459133</td>\n",
              "    </tr>\n",
              "    <tr>\n",
              "      <th>95</th>\n",
              "      <td>4.028</td>\n",
              "      <td>4.166</td>\n",
              "      <td>4.628</td>\n",
              "      <td>4.9096</td>\n",
              "      <td>5.074</td>\n",
              "      <td>Niger</td>\n",
              "      <td>0.455328</td>\n",
              "    </tr>\n",
              "    <tr>\n",
              "      <th>27</th>\n",
              "      <td>4.291</td>\n",
              "      <td>4.559</td>\n",
              "      <td>4.812</td>\n",
              "      <td>5.1944</td>\n",
              "      <td>5.342</td>\n",
              "      <td>Congo (Brazzaville)</td>\n",
              "      <td>0.435531</td>\n",
              "    </tr>\n",
              "  </tbody>\n",
              "</table>\n",
              "</div>"
            ],
            "text/plain": [
              "     2017   2018   2019    2020   2021              Country       std\n",
              "12  3.657  4.141  4.883  5.2160  5.045                Benin  0.662727\n",
              "47  3.507  3.964  4.534  4.9493  4.984               Guinea  0.641780\n",
              "0   3.794  3.632  3.203  2.5669  2.523          Afghanistan  0.587965\n",
              "72  3.533  3.495  3.975  4.5579  4.625              Liberia  0.540533\n",
              "19  2.905  2.905  3.775  3.7753  3.775              Burundi  0.476573\n",
              "66  5.279  5.662  6.100  6.3252  6.372               Kosovo  0.467578\n",
              "78  6.084  6.322  5.339  5.3843  5.384             Malaysia  0.464798\n",
              "60  4.180  4.671  4.944  5.2333  5.306          Ivory Coast  0.459133\n",
              "95  4.028  4.166  4.628  4.9096  5.074                Niger  0.455328\n",
              "27  4.291  4.559  4.812  5.1944  5.342  Congo (Brazzaville)  0.435531"
            ]
          },
          "metadata": {
            "tags": []
          },
          "execution_count": 19
        }
      ]
    },
    {
      "cell_type": "code",
      "metadata": {
        "colab": {
          "base_uri": "https://localhost:8080/",
          "height": 340
        },
        "id": "C6pFmpRoTavq",
        "outputId": "1bd832e8-bae5-4e70-c17a-286cad8ab92c"
      },
      "source": [
        "# 연도별 Score의 변동성이 작은 하위 10개 국가\n",
        "df_score.tail(10)"
      ],
      "execution_count": 20,
      "outputs": [
        {
          "output_type": "execute_result",
          "data": {
            "text/html": [
              "<div>\n",
              "<style scoped>\n",
              "    .dataframe tbody tr th:only-of-type {\n",
              "        vertical-align: middle;\n",
              "    }\n",
              "\n",
              "    .dataframe tbody tr th {\n",
              "        vertical-align: top;\n",
              "    }\n",
              "\n",
              "    .dataframe thead th {\n",
              "        text-align: right;\n",
              "    }\n",
              "</style>\n",
              "<table border=\"1\" class=\"dataframe\">\n",
              "  <thead>\n",
              "    <tr style=\"text-align: right;\">\n",
              "      <th></th>\n",
              "      <th>2017</th>\n",
              "      <th>2018</th>\n",
              "      <th>2019</th>\n",
              "      <th>2020</th>\n",
              "      <th>2021</th>\n",
              "      <th>Country</th>\n",
              "      <th>std</th>\n",
              "    </tr>\n",
              "  </thead>\n",
              "  <tbody>\n",
              "    <tr>\n",
              "      <th>11</th>\n",
              "      <td>6.891</td>\n",
              "      <td>6.927</td>\n",
              "      <td>6.923</td>\n",
              "      <td>6.8635</td>\n",
              "      <td>6.834</td>\n",
              "      <td>Belgium</td>\n",
              "      <td>0.039594</td>\n",
              "    </tr>\n",
              "    <tr>\n",
              "      <th>67</th>\n",
              "      <td>6.105</td>\n",
              "      <td>6.083</td>\n",
              "      <td>6.021</td>\n",
              "      <td>6.1021</td>\n",
              "      <td>6.106</td>\n",
              "      <td>Kuwait</td>\n",
              "      <td>0.036128</td>\n",
              "    </tr>\n",
              "    <tr>\n",
              "      <th>50</th>\n",
              "      <td>5.472</td>\n",
              "      <td>5.430</td>\n",
              "      <td>5.430</td>\n",
              "      <td>5.5104</td>\n",
              "      <td>5.477</td>\n",
              "      <td>Hong Kong S.A.R., China</td>\n",
              "      <td>0.034271</td>\n",
              "    </tr>\n",
              "    <tr>\n",
              "      <th>121</th>\n",
              "      <td>7.284</td>\n",
              "      <td>7.314</td>\n",
              "      <td>7.343</td>\n",
              "      <td>7.3535</td>\n",
              "      <td>7.363</td>\n",
              "      <td>Sweden</td>\n",
              "      <td>0.032292</td>\n",
              "    </tr>\n",
              "    <tr>\n",
              "      <th>46</th>\n",
              "      <td>6.454</td>\n",
              "      <td>6.382</td>\n",
              "      <td>6.436</td>\n",
              "      <td>6.3989</td>\n",
              "      <td>6.435</td>\n",
              "      <td>Guatemala</td>\n",
              "      <td>0.029662</td>\n",
              "    </tr>\n",
              "    <tr>\n",
              "      <th>7</th>\n",
              "      <td>5.234</td>\n",
              "      <td>5.201</td>\n",
              "      <td>5.208</td>\n",
              "      <td>5.1648</td>\n",
              "      <td>5.171</td>\n",
              "      <td>Azerbaijan</td>\n",
              "      <td>0.028334</td>\n",
              "    </tr>\n",
              "    <tr>\n",
              "      <th>62</th>\n",
              "      <td>5.920</td>\n",
              "      <td>5.915</td>\n",
              "      <td>5.886</td>\n",
              "      <td>5.8708</td>\n",
              "      <td>5.940</td>\n",
              "      <td>Japan</td>\n",
              "      <td>0.027710</td>\n",
              "    </tr>\n",
              "    <tr>\n",
              "      <th>52</th>\n",
              "      <td>7.504</td>\n",
              "      <td>7.495</td>\n",
              "      <td>7.494</td>\n",
              "      <td>7.5045</td>\n",
              "      <td>7.554</td>\n",
              "      <td>Iceland</td>\n",
              "      <td>0.024914</td>\n",
              "    </tr>\n",
              "    <tr>\n",
              "      <th>118</th>\n",
              "      <td>5.838</td>\n",
              "      <td>5.875</td>\n",
              "      <td>5.895</td>\n",
              "      <td>5.8724</td>\n",
              "      <td>5.845</td>\n",
              "      <td>South Korea</td>\n",
              "      <td>0.023365</td>\n",
              "    </tr>\n",
              "    <tr>\n",
              "      <th>93</th>\n",
              "      <td>7.314</td>\n",
              "      <td>7.324</td>\n",
              "      <td>7.307</td>\n",
              "      <td>7.2996</td>\n",
              "      <td>7.277</td>\n",
              "      <td>New Zealand</td>\n",
              "      <td>0.017726</td>\n",
              "    </tr>\n",
              "  </tbody>\n",
              "</table>\n",
              "</div>"
            ],
            "text/plain": [
              "      2017   2018   2019    2020   2021                  Country       std\n",
              "11   6.891  6.927  6.923  6.8635  6.834                  Belgium  0.039594\n",
              "67   6.105  6.083  6.021  6.1021  6.106                   Kuwait  0.036128\n",
              "50   5.472  5.430  5.430  5.5104  5.477  Hong Kong S.A.R., China  0.034271\n",
              "121  7.284  7.314  7.343  7.3535  7.363                   Sweden  0.032292\n",
              "46   6.454  6.382  6.436  6.3989  6.435                Guatemala  0.029662\n",
              "7    5.234  5.201  5.208  5.1648  5.171               Azerbaijan  0.028334\n",
              "62   5.920  5.915  5.886  5.8708  5.940                    Japan  0.027710\n",
              "52   7.504  7.495  7.494  7.5045  7.554                  Iceland  0.024914\n",
              "118  5.838  5.875  5.895  5.8724  5.845              South Korea  0.023365\n",
              "93   7.314  7.324  7.307  7.2996  7.277              New Zealand  0.017726"
            ]
          },
          "metadata": {
            "tags": []
          },
          "execution_count": 20
        }
      ]
    },
    {
      "cell_type": "code",
      "metadata": {
        "colab": {
          "base_uri": "https://localhost:8080/",
          "height": 816
        },
        "id": "CjdE3q48pcly",
        "outputId": "9874d268-ea3d-4bf7-f42d-77e341d4a5d3"
      },
      "source": [
        "# 연도별 Score의 변동성이 가장 큰 상위 10개 국가의 이름을 list로 변환\n",
        "top_labels=df_score['Country'].head(10).tolist()\n",
        "\n",
        "# 연도별 Score의 변동성이 가장 큰 상위 10개 국가의 각 연도별 Score를 가로 막대그래프로 그리기\n",
        "\n",
        "top_variavility=df_score.iloc[:,:-1].head(10)\n",
        "ax=top_variavility.plot.barh(rot=0)\n",
        "ax.set_yticklabels(top_labels)\n",
        "ax.set_yticklabels(ax.get_yticklabels(), fontsize=20)\n",
        "fig = plt.gcf()\n",
        "fig.set_size_inches(20,25)\n",
        "plt.title(\"Top variavility of Happiness Score Country\", fontsize=35)"
      ],
      "execution_count": 30,
      "outputs": [
        {
          "output_type": "execute_result",
          "data": {
            "text/plain": [
              "Text(0.5, 1.0, 'Top variavility of Happiness Score Country')"
            ]
          },
          "metadata": {
            "tags": []
          },
          "execution_count": 30
        },
        {
          "output_type": "display_data",
          "data": {
            "image/png": "[encoded data removed]",
            "text/plain": [
              "<Figure size 1440x1800 with 1 Axes>"
            ]
          },
          "metadata": {
            "tags": [],
            "needs_background": "light"
          }
        }
      ]
    },
    {
      "cell_type": "code",
      "metadata": {
        "colab": {
          "base_uri": "https://localhost:8080/",
          "height": 789
        },
        "id": "nv9bTj4iSbmW",
        "outputId": "294135ac-e07c-4ed7-8ffc-6dc11a7e5388"
      },
      "source": [
        "# 변동성이 작은 국가들 10개에 대한 plot도 제시해 폭의 크기 비교\n",
        "\n",
        "# 연도별 Score의 변동성이 작은 하위 10개 국가의 이름을 list로 변환\n",
        "bottom_labels=df_score['Country'].tail(10).tolist()\n",
        "bottom_labels\n",
        "\n",
        "bottom_variavility=df_score.iloc[:,:-1].tail(10)\n",
        "ax=bottom_variavility.plot.barh(rot=0)\n",
        "ax.set_yticklabels(bottom_labels)\n",
        "ax.set_yticklabels(ax.get_yticklabels(), fontsize=20)\n",
        "fig = plt.gcf()\n",
        "fig.set_size_inches(20,25)\n",
        "plt.title(\"Bottom variavility of Happiness Score Country\", fontsize=35)\n",
        "\n",
        "# 위의 상위 변동 국가들에 비해 연도별 막대그래프의 차이가 매우 작은 것을 확인 가능"
      ],
      "execution_count": 29,
      "outputs": [
        {
          "output_type": "execute_result",
          "data": {
            "text/plain": [
              "Text(0.5, 1.0, 'Bottom variavility of Happiness Score Country')"
            ]
          },
          "metadata": {
            "tags": []
          },
          "execution_count": 29
        },
        {
          "output_type": "display_data",
          "data": {
            "image/png": "[encoded data removed]",
            "text/plain": [
              "<Figure size 1440x1800 with 1 Axes>"
            ]
          },
          "metadata": {
            "tags": [],
            "needs_background": "light"
          }
        }
      ]
    }
  ]
}